{
 "cells": [
  {
   "cell_type": "markdown",
   "metadata": {},
   "source": [
    "### some standard imports\n",
    "\n"
   ]
  },
  {
   "cell_type": "code",
   "execution_count": 2,
   "metadata": {},
   "outputs": [],
   "source": [
    "import pandas as pd\n",
    "import plotly.express as px\n",
    "import plotly.graph_objects as go\n",
    "\n",
    "import wbdata\n",
    "import pandas as pd\n",
    "import datetime\n",
    "import os\n"
   ]
  },
  {
   "cell_type": "code",
   "execution_count": 7,
   "metadata": {},
   "outputs": [
    {
     "name": "stdout",
     "output_type": "stream",
     "text": [
      "GDP data loaded from ../../_data/gdp_data/top_25_economies_gdp_1989_2024.csv\n"
     ]
    }
   ],
   "source": [
    "#  load actual gdp data \n",
    "\n",
    "def get_gdp_data():\n",
    "    # Define the date range (past 35 years)\n",
    "    start_date = datetime.datetime(1989, 1, 1)\n",
    "    end_date = datetime.datetime(2024, 1, 1)\n",
    "\n",
    "    # Define the top 25 economies by ISO country codes (based on search results)\n",
    "    countries = [\n",
    "        'US', 'CN', 'JP', 'DE', 'IN', 'GB', 'FR', 'BR', 'IT', 'CA',\n",
    "        'KR', 'RU', 'AU', 'ES', 'MX', 'ID', 'NL', 'SA', 'TR', 'CH',\n",
    "        'TW', 'PL', 'SE', 'TH', 'BE'\n",
    "    ]\n",
    "\n",
    "    # Define the GDP indicator (current US$)\n",
    "    indicator = {'NY.GDP.MKTP.CD': 'GDP (current US$)'}\n",
    "\n",
    "    # Retrieve GDP data from the World Bank API\n",
    "    df = wbdata.get_dataframe(indicator, country=countries, date=(start_date, end_date), \n",
    "                            #   convert_date=False\n",
    "                            )\n",
    "\n",
    "    # Reshape the data for better readability\n",
    "    df = df.reset_index()\n",
    "    df_pivot = df.pivot(index='date', columns='country', values='GDP (current US$)')\n",
    "\n",
    "    return df_pivot\n",
    "\n",
    "\n",
    "\n",
    "output_folder = os.path.join('..', '..', \"_data\", \"gdp_data\")\n",
    "if not os.path.exists(output_folder):\n",
    "    os.makedirs(output_folder)\n",
    "\n",
    "# Save the GDP data to a CSV file in the created subfolder\n",
    "output_file = os.path.join(output_folder, \"top_25_economies_gdp_1989_2024.csv\")\n",
    "if os.path.exists(output_file):\n",
    "    gdp_df = pd.read_csv(output_file)\n",
    "    print(f\"GDP data loaded from {output_file}\")\n",
    "else:\n",
    "    gdp_df = get_gdp_data()\n",
    "    gdp_df.to_csv(output_file)\n",
    "    print(f\"GDP data saved to {output_file}\")\n"
   ]
  },
  {
   "cell_type": "markdown",
   "metadata": {},
   "source": [
    "### plot the actual chart\n"
   ]
  },
  {
   "cell_type": "code",
   "execution_count": 8,
   "metadata": {},
   "outputs": [
    {
     "data": {
      "application/vnd.plotly.v1+json": {
       "config": {
        "plotlyServerURL": "https://plot.ly"
       },
       "data": [
        {
         "alignmentgroup": "True",
         "hovertemplate": "Country=%{x}<br>date=1989<br>GDP (Trillions USD)=%{y}<extra></extra>",
         "legendgroup": "Australia",
         "marker": {
          "color": "#636efa",
          "pattern": {
           "shape": ""
          }
         },
         "name": "Australia",
         "offsetgroup": "Australia",
         "orientation": "v",
         "showlegend": true,
         "textposition": "auto",
         "type": "bar",
         "x": [
          "Australia"
         ],
         "xaxis": "x",
         "y": [
          299875906679.217
         ],
         "yaxis": "y"
        },
        {
         "alignmentgroup": "True",
         "hovertemplate": "Country=%{x}<br>date=1989<br>GDP (Trillions USD)=%{y}<extra></extra>",
         "legendgroup": "Belgium",
         "marker": {
          "color": "#EF553B",
          "pattern": {
           "shape": ""
          }
         },
         "name": "Belgium",
         "offsetgroup": "Belgium",
         "orientation": "v",
         "showlegend": true,
         "textposition": "auto",
         "type": "bar",
         "x": [
          "Belgium"
         ],
         "xaxis": "x",
         "y": [
          164221056511.057
         ],
         "yaxis": "y"
        },
        {
         "alignmentgroup": "True",
         "hovertemplate": "Country=%{x}<br>date=1989<br>GDP (Trillions USD)=%{y}<extra></extra>",
         "legendgroup": "Brazil",
         "marker": {
          "color": "#00cc96",
          "pattern": {
           "shape": ""
          }
         },
         "name": "Brazil",
         "offsetgroup": "Brazil",
         "orientation": "v",
         "showlegend": true,
         "textposition": "auto",
         "type": "bar",
         "x": [
          "Brazil"
         ],
         "xaxis": "x",
         "y": [
          412990820287.42
         ],
         "yaxis": "y"
        },
        {
         "alignmentgroup": "True",
         "hovertemplate": "Country=%{x}<br>date=1989<br>GDP (Trillions USD)=%{y}<extra></extra>",
         "legendgroup": "Canada",
         "marker": {
          "color": "#ab63fa",
          "pattern": {
           "shape": ""
          }
         },
         "name": "Canada",
         "offsetgroup": "Canada",
         "orientation": "v",
         "showlegend": true,
         "textposition": "auto",
         "type": "bar",
         "x": [
          "Canada"
         ],
         "xaxis": "x",
         "y": [
          567211993243.243
         ],
         "yaxis": "y"
        },
        {
         "alignmentgroup": "True",
         "hovertemplate": "Country=%{x}<br>date=1989<br>GDP (Trillions USD)=%{y}<extra></extra>",
         "legendgroup": "China",
         "marker": {
          "color": "#FFA15A",
          "pattern": {
           "shape": ""
          }
         },
         "name": "China",
         "offsetgroup": "China",
         "orientation": "v",
         "showlegend": true,
         "textposition": "auto",
         "type": "bar",
         "x": [
          "China"
         ],
         "xaxis": "x",
         "y": [
          347768051311.741
         ],
         "yaxis": "y"
        },
        {
         "alignmentgroup": "True",
         "hovertemplate": "Country=%{x}<br>date=1989<br>GDP (Trillions USD)=%{y}<extra></extra>",
         "legendgroup": "France",
         "marker": {
          "color": "#19d3f3",
          "pattern": {
           "shape": ""
          }
         },
         "name": "France",
         "offsetgroup": "France",
         "orientation": "v",
         "showlegend": true,
         "textposition": "auto",
         "type": "bar",
         "x": [
          "France"
         ],
         "xaxis": "x",
         "y": [
          1016742237302.08
         ],
         "yaxis": "y"
        },
        {
         "alignmentgroup": "True",
         "hovertemplate": "Country=%{x}<br>date=1989<br>GDP (Trillions USD)=%{y}<extra></extra>",
         "legendgroup": "Germany",
         "marker": {
          "color": "#FF6692",
          "pattern": {
           "shape": ""
          }
         },
         "name": "Germany",
         "offsetgroup": "Germany",
         "orientation": "v",
         "showlegend": true,
         "textposition": "auto",
         "type": "bar",
         "x": [
          "Germany"
         ],
         "xaxis": "x",
         "y": [
          1404092925205.45
         ],
         "yaxis": "y"
        },
        {
         "alignmentgroup": "True",
         "hovertemplate": "Country=%{x}<br>date=1989<br>GDP (Trillions USD)=%{y}<extra></extra>",
         "legendgroup": "India",
         "marker": {
          "color": "#B6E880",
          "pattern": {
           "shape": ""
          }
         },
         "name": "India",
         "offsetgroup": "India",
         "orientation": "v",
         "showlegend": true,
         "textposition": "auto",
         "type": "bar",
         "x": [
          "India"
         ],
         "xaxis": "x",
         "y": [
          296042052944.66
         ],
         "yaxis": "y"
        },
        {
         "alignmentgroup": "True",
         "hovertemplate": "Country=%{x}<br>date=1989<br>GDP (Trillions USD)=%{y}<extra></extra>",
         "legendgroup": "Indonesia",
         "marker": {
          "color": "#FF97FF",
          "pattern": {
           "shape": ""
          }
         },
         "name": "Indonesia",
         "offsetgroup": "Indonesia",
         "orientation": "v",
         "showlegend": true,
         "textposition": "auto",
         "type": "bar",
         "x": [
          "Indonesia"
         ],
         "xaxis": "x",
         "y": [
          94451427876.6628
         ],
         "yaxis": "y"
        },
        {
         "alignmentgroup": "True",
         "hovertemplate": "Country=%{x}<br>date=1989<br>GDP (Trillions USD)=%{y}<extra></extra>",
         "legendgroup": "Italy",
         "marker": {
          "color": "#FECB52",
          "pattern": {
           "shape": ""
          }
         },
         "name": "Italy",
         "offsetgroup": "Italy",
         "orientation": "v",
         "showlegend": true,
         "textposition": "auto",
         "type": "bar",
         "x": [
          "Italy"
         ],
         "xaxis": "x",
         "y": [
          930801709003.669
         ],
         "yaxis": "y"
        },
        {
         "alignmentgroup": "True",
         "hovertemplate": "Country=%{x}<br>date=1989<br>GDP (Trillions USD)=%{y}<extra></extra>",
         "legendgroup": "Japan",
         "marker": {
          "color": "#636efa",
          "pattern": {
           "shape": ""
          }
         },
         "name": "Japan",
         "offsetgroup": "Japan",
         "orientation": "v",
         "showlegend": true,
         "textposition": "auto",
         "type": "bar",
         "x": [
          "Japan"
         ],
         "xaxis": "x",
         "y": [
          3109455047823.93
         ],
         "yaxis": "y"
        },
        {
         "alignmentgroup": "True",
         "hovertemplate": "Country=%{x}<br>date=1989<br>GDP (Trillions USD)=%{y}<extra></extra>",
         "legendgroup": "Korea, Rep.",
         "marker": {
          "color": "#EF553B",
          "pattern": {
           "shape": ""
          }
         },
         "name": "Korea, Rep.",
         "offsetgroup": "Korea, Rep.",
         "orientation": "v",
         "showlegend": true,
         "textposition": "auto",
         "type": "bar",
         "x": [
          "Korea, Rep."
         ],
         "xaxis": "x",
         "y": [
          246928837311.406
         ],
         "yaxis": "y"
        },
        {
         "alignmentgroup": "True",
         "hovertemplate": "Country=%{x}<br>date=1989<br>GDP (Trillions USD)=%{y}<extra></extra>",
         "legendgroup": "Mexico",
         "marker": {
          "color": "#00cc96",
          "pattern": {
           "shape": ""
          }
         },
         "name": "Mexico",
         "offsetgroup": "Mexico",
         "orientation": "v",
         "showlegend": true,
         "textposition": "auto",
         "type": "bar",
         "x": [
          "Mexico"
         ],
         "xaxis": "x",
         "y": [
          221403098266.77
         ],
         "yaxis": "y"
        },
        {
         "alignmentgroup": "True",
         "hovertemplate": "Country=%{x}<br>date=1989<br>GDP (Trillions USD)=%{y}<extra></extra>",
         "legendgroup": "Netherlands",
         "marker": {
          "color": "#ab63fa",
          "pattern": {
           "shape": ""
          }
         },
         "name": "Netherlands",
         "offsetgroup": "Netherlands",
         "orientation": "v",
         "showlegend": true,
         "textposition": "auto",
         "type": "bar",
         "x": [
          "Netherlands"
         ],
         "xaxis": "x",
         "y": [
          258716904291.801
         ],
         "yaxis": "y"
        },
        {
         "alignmentgroup": "True",
         "hovertemplate": "Country=%{x}<br>date=1989<br>GDP (Trillions USD)=%{y}<extra></extra>",
         "legendgroup": "Poland",
         "marker": {
          "color": "#FFA15A",
          "pattern": {
           "shape": ""
          }
         },
         "name": "Poland",
         "offsetgroup": "Poland",
         "orientation": "v",
         "showlegend": true,
         "textposition": "auto",
         "type": "bar",
         "x": [
          "Poland"
         ],
         "xaxis": "x",
         "y": [
          null
         ],
         "yaxis": "y"
        },
        {
         "alignmentgroup": "True",
         "hovertemplate": "Country=%{x}<br>date=1989<br>GDP (Trillions USD)=%{y}<extra></extra>",
         "legendgroup": "Russian Federation",
         "marker": {
          "color": "#19d3f3",
          "pattern": {
           "shape": ""
          }
         },
         "name": "Russian Federation",
         "offsetgroup": "Russian Federation",
         "orientation": "v",
         "showlegend": true,
         "textposition": "auto",
         "type": "bar",
         "x": [
          "Russian Federation"
         ],
         "xaxis": "x",
         "y": [
          506631299734.748
         ],
         "yaxis": "y"
        },
        {
         "alignmentgroup": "True",
         "hovertemplate": "Country=%{x}<br>date=1989<br>GDP (Trillions USD)=%{y}<extra></extra>",
         "legendgroup": "Saudi Arabia",
         "marker": {
          "color": "#FF6692",
          "pattern": {
           "shape": ""
          }
         },
         "name": "Saudi Arabia",
         "offsetgroup": "Saudi Arabia",
         "orientation": "v",
         "showlegend": true,
         "textposition": "auto",
         "type": "bar",
         "x": [
          "Saudi Arabia"
         ],
         "xaxis": "x",
         "y": [
          95344459279.0387
         ],
         "yaxis": "y"
        },
        {
         "alignmentgroup": "True",
         "hovertemplate": "Country=%{x}<br>date=1989<br>GDP (Trillions USD)=%{y}<extra></extra>",
         "legendgroup": "Spain",
         "marker": {
          "color": "#B6E880",
          "pattern": {
           "shape": ""
          }
         },
         "name": "Spain",
         "offsetgroup": "Spain",
         "orientation": "v",
         "showlegend": true,
         "textposition": "auto",
         "type": "bar",
         "x": [
          "Spain"
         ],
         "xaxis": "x",
         "y": [
          414460794096.978
         ],
         "yaxis": "y"
        },
        {
         "alignmentgroup": "True",
         "hovertemplate": "Country=%{x}<br>date=1989<br>GDP (Trillions USD)=%{y}<extra></extra>",
         "legendgroup": "Sweden",
         "marker": {
          "color": "#FF97FF",
          "pattern": {
           "shape": ""
          }
         },
         "name": "Sweden",
         "offsetgroup": "Sweden",
         "orientation": "v",
         "showlegend": true,
         "textposition": "auto",
         "type": "bar",
         "x": [
          "Sweden"
         ],
         "xaxis": "x",
         "y": [
          217634838449.487
         ],
         "yaxis": "y"
        },
        {
         "alignmentgroup": "True",
         "hovertemplate": "Country=%{x}<br>date=1989<br>GDP (Trillions USD)=%{y}<extra></extra>",
         "legendgroup": "Switzerland",
         "marker": {
          "color": "#FECB52",
          "pattern": {
           "shape": ""
          }
         },
         "name": "Switzerland",
         "offsetgroup": "Switzerland",
         "orientation": "v",
         "showlegend": true,
         "textposition": "auto",
         "type": "bar",
         "x": [
          "Switzerland"
         ],
         "xaxis": "x",
         "y": [
          208105846934.409
         ],
         "yaxis": "y"
        },
        {
         "alignmentgroup": "True",
         "hovertemplate": "Country=%{x}<br>date=1989<br>GDP (Trillions USD)=%{y}<extra></extra>",
         "legendgroup": "Thailand",
         "marker": {
          "color": "#636efa",
          "pattern": {
           "shape": ""
          }
         },
         "name": "Thailand",
         "offsetgroup": "Thailand",
         "orientation": "v",
         "showlegend": true,
         "textposition": "auto",
         "type": "bar",
         "x": [
          "Thailand"
         ],
         "xaxis": "x",
         "y": [
          72250748099.9762
         ],
         "yaxis": "y"
        },
        {
         "alignmentgroup": "True",
         "hovertemplate": "Country=%{x}<br>date=1989<br>GDP (Trillions USD)=%{y}<extra></extra>",
         "legendgroup": "Turkiye",
         "marker": {
          "color": "#EF553B",
          "pattern": {
           "shape": ""
          }
         },
         "name": "Turkiye",
         "offsetgroup": "Turkiye",
         "orientation": "v",
         "showlegend": true,
         "textposition": "auto",
         "type": "bar",
         "x": [
          "Turkiye"
         ],
         "xaxis": "x",
         "y": [
          107127191328.935
         ],
         "yaxis": "y"
        },
        {
         "alignmentgroup": "True",
         "hovertemplate": "Country=%{x}<br>date=1989<br>GDP (Trillions USD)=%{y}<extra></extra>",
         "legendgroup": "United Kingdom",
         "marker": {
          "color": "#00cc96",
          "pattern": {
           "shape": ""
          }
         },
         "name": "United Kingdom",
         "offsetgroup": "United Kingdom",
         "orientation": "v",
         "showlegend": true,
         "textposition": "auto",
         "type": "bar",
         "x": [
          "United Kingdom"
         ],
         "xaxis": "x",
         "y": [
          926884816753.927
         ],
         "yaxis": "y"
        },
        {
         "alignmentgroup": "True",
         "hovertemplate": "Country=%{x}<br>date=1989<br>GDP (Trillions USD)=%{y}<extra></extra>",
         "legendgroup": "United States",
         "marker": {
          "color": "#ab63fa",
          "pattern": {
           "shape": ""
          }
         },
         "name": "United States",
         "offsetgroup": "United States",
         "orientation": "v",
         "showlegend": true,
         "textposition": "auto",
         "type": "bar",
         "x": [
          "United States"
         ],
         "xaxis": "x",
         "y": [
          5641580000000
         ],
         "yaxis": "y"
        }
       ],
       "frames": [
        {
         "data": [
          {
           "alignmentgroup": "True",
           "hovertemplate": "Country=%{x}<br>date=1989<br>GDP (Trillions USD)=%{y}<extra></extra>",
           "legendgroup": "Australia",
           "marker": {
            "color": "#636efa",
            "pattern": {
             "shape": ""
            }
           },
           "name": "Australia",
           "offsetgroup": "Australia",
           "orientation": "v",
           "showlegend": true,
           "textposition": "auto",
           "type": "bar",
           "x": [
            "Australia"
           ],
           "xaxis": "x",
           "y": [
            299875906679.217
           ],
           "yaxis": "y"
          },
          {
           "alignmentgroup": "True",
           "hovertemplate": "Country=%{x}<br>date=1989<br>GDP (Trillions USD)=%{y}<extra></extra>",
           "legendgroup": "Belgium",
           "marker": {
            "color": "#EF553B",
            "pattern": {
             "shape": ""
            }
           },
           "name": "Belgium",
           "offsetgroup": "Belgium",
           "orientation": "v",
           "showlegend": true,
           "textposition": "auto",
           "type": "bar",
           "x": [
            "Belgium"
           ],
           "xaxis": "x",
           "y": [
            164221056511.057
           ],
           "yaxis": "y"
          },
          {
           "alignmentgroup": "True",
           "hovertemplate": "Country=%{x}<br>date=1989<br>GDP (Trillions USD)=%{y}<extra></extra>",
           "legendgroup": "Brazil",
           "marker": {
            "color": "#00cc96",
            "pattern": {
             "shape": ""
            }
           },
           "name": "Brazil",
           "offsetgroup": "Brazil",
           "orientation": "v",
           "showlegend": true,
           "textposition": "auto",
           "type": "bar",
           "x": [
            "Brazil"
           ],
           "xaxis": "x",
           "y": [
            412990820287.42
           ],
           "yaxis": "y"
          },
          {
           "alignmentgroup": "True",
           "hovertemplate": "Country=%{x}<br>date=1989<br>GDP (Trillions USD)=%{y}<extra></extra>",
           "legendgroup": "Canada",
           "marker": {
            "color": "#ab63fa",
            "pattern": {
             "shape": ""
            }
           },
           "name": "Canada",
           "offsetgroup": "Canada",
           "orientation": "v",
           "showlegend": true,
           "textposition": "auto",
           "type": "bar",
           "x": [
            "Canada"
           ],
           "xaxis": "x",
           "y": [
            567211993243.243
           ],
           "yaxis": "y"
          },
          {
           "alignmentgroup": "True",
           "hovertemplate": "Country=%{x}<br>date=1989<br>GDP (Trillions USD)=%{y}<extra></extra>",
           "legendgroup": "China",
           "marker": {
            "color": "#FFA15A",
            "pattern": {
             "shape": ""
            }
           },
           "name": "China",
           "offsetgroup": "China",
           "orientation": "v",
           "showlegend": true,
           "textposition": "auto",
           "type": "bar",
           "x": [
            "China"
           ],
           "xaxis": "x",
           "y": [
            347768051311.741
           ],
           "yaxis": "y"
          },
          {
           "alignmentgroup": "True",
           "hovertemplate": "Country=%{x}<br>date=1989<br>GDP (Trillions USD)=%{y}<extra></extra>",
           "legendgroup": "France",
           "marker": {
            "color": "#19d3f3",
            "pattern": {
             "shape": ""
            }
           },
           "name": "France",
           "offsetgroup": "France",
           "orientation": "v",
           "showlegend": true,
           "textposition": "auto",
           "type": "bar",
           "x": [
            "France"
           ],
           "xaxis": "x",
           "y": [
            1016742237302.08
           ],
           "yaxis": "y"
          },
          {
           "alignmentgroup": "True",
           "hovertemplate": "Country=%{x}<br>date=1989<br>GDP (Trillions USD)=%{y}<extra></extra>",
           "legendgroup": "Germany",
           "marker": {
            "color": "#FF6692",
            "pattern": {
             "shape": ""
            }
           },
           "name": "Germany",
           "offsetgroup": "Germany",
           "orientation": "v",
           "showlegend": true,
           "textposition": "auto",
           "type": "bar",
           "x": [
            "Germany"
           ],
           "xaxis": "x",
           "y": [
            1404092925205.45
           ],
           "yaxis": "y"
          },
          {
           "alignmentgroup": "True",
           "hovertemplate": "Country=%{x}<br>date=1989<br>GDP (Trillions USD)=%{y}<extra></extra>",
           "legendgroup": "India",
           "marker": {
            "color": "#B6E880",
            "pattern": {
             "shape": ""
            }
           },
           "name": "India",
           "offsetgroup": "India",
           "orientation": "v",
           "showlegend": true,
           "textposition": "auto",
           "type": "bar",
           "x": [
            "India"
           ],
           "xaxis": "x",
           "y": [
            296042052944.66
           ],
           "yaxis": "y"
          },
          {
           "alignmentgroup": "True",
           "hovertemplate": "Country=%{x}<br>date=1989<br>GDP (Trillions USD)=%{y}<extra></extra>",
           "legendgroup": "Indonesia",
           "marker": {
            "color": "#FF97FF",
            "pattern": {
             "shape": ""
            }
           },
           "name": "Indonesia",
           "offsetgroup": "Indonesia",
           "orientation": "v",
           "showlegend": true,
           "textposition": "auto",
           "type": "bar",
           "x": [
            "Indonesia"
           ],
           "xaxis": "x",
           "y": [
            94451427876.6628
           ],
           "yaxis": "y"
          },
          {
           "alignmentgroup": "True",
           "hovertemplate": "Country=%{x}<br>date=1989<br>GDP (Trillions USD)=%{y}<extra></extra>",
           "legendgroup": "Italy",
           "marker": {
            "color": "#FECB52",
            "pattern": {
             "shape": ""
            }
           },
           "name": "Italy",
           "offsetgroup": "Italy",
           "orientation": "v",
           "showlegend": true,
           "textposition": "auto",
           "type": "bar",
           "x": [
            "Italy"
           ],
           "xaxis": "x",
           "y": [
            930801709003.669
           ],
           "yaxis": "y"
          },
          {
           "alignmentgroup": "True",
           "hovertemplate": "Country=%{x}<br>date=1989<br>GDP (Trillions USD)=%{y}<extra></extra>",
           "legendgroup": "Japan",
           "marker": {
            "color": "#636efa",
            "pattern": {
             "shape": ""
            }
           },
           "name": "Japan",
           "offsetgroup": "Japan",
           "orientation": "v",
           "showlegend": true,
           "textposition": "auto",
           "type": "bar",
           "x": [
            "Japan"
           ],
           "xaxis": "x",
           "y": [
            3109455047823.93
           ],
           "yaxis": "y"
          },
          {
           "alignmentgroup": "True",
           "hovertemplate": "Country=%{x}<br>date=1989<br>GDP (Trillions USD)=%{y}<extra></extra>",
           "legendgroup": "Korea, Rep.",
           "marker": {
            "color": "#EF553B",
            "pattern": {
             "shape": ""
            }
           },
           "name": "Korea, Rep.",
           "offsetgroup": "Korea, Rep.",
           "orientation": "v",
           "showlegend": true,
           "textposition": "auto",
           "type": "bar",
           "x": [
            "Korea, Rep."
           ],
           "xaxis": "x",
           "y": [
            246928837311.406
           ],
           "yaxis": "y"
          },
          {
           "alignmentgroup": "True",
           "hovertemplate": "Country=%{x}<br>date=1989<br>GDP (Trillions USD)=%{y}<extra></extra>",
           "legendgroup": "Mexico",
           "marker": {
            "color": "#00cc96",
            "pattern": {
             "shape": ""
            }
           },
           "name": "Mexico",
           "offsetgroup": "Mexico",
           "orientation": "v",
           "showlegend": true,
           "textposition": "auto",
           "type": "bar",
           "x": [
            "Mexico"
           ],
           "xaxis": "x",
           "y": [
            221403098266.77
           ],
           "yaxis": "y"
          },
          {
           "alignmentgroup": "True",
           "hovertemplate": "Country=%{x}<br>date=1989<br>GDP (Trillions USD)=%{y}<extra></extra>",
           "legendgroup": "Netherlands",
           "marker": {
            "color": "#ab63fa",
            "pattern": {
             "shape": ""
            }
           },
           "name": "Netherlands",
           "offsetgroup": "Netherlands",
           "orientation": "v",
           "showlegend": true,
           "textposition": "auto",
           "type": "bar",
           "x": [
            "Netherlands"
           ],
           "xaxis": "x",
           "y": [
            258716904291.801
           ],
           "yaxis": "y"
          },
          {
           "alignmentgroup": "True",
           "hovertemplate": "Country=%{x}<br>date=1989<br>GDP (Trillions USD)=%{y}<extra></extra>",
           "legendgroup": "Poland",
           "marker": {
            "color": "#FFA15A",
            "pattern": {
             "shape": ""
            }
           },
           "name": "Poland",
           "offsetgroup": "Poland",
           "orientation": "v",
           "showlegend": true,
           "textposition": "auto",
           "type": "bar",
           "x": [
            "Poland"
           ],
           "xaxis": "x",
           "y": [
            null
           ],
           "yaxis": "y"
          },
          {
           "alignmentgroup": "True",
           "hovertemplate": "Country=%{x}<br>date=1989<br>GDP (Trillions USD)=%{y}<extra></extra>",
           "legendgroup": "Russian Federation",
           "marker": {
            "color": "#19d3f3",
            "pattern": {
             "shape": ""
            }
           },
           "name": "Russian Federation",
           "offsetgroup": "Russian Federation",
           "orientation": "v",
           "showlegend": true,
           "textposition": "auto",
           "type": "bar",
           "x": [
            "Russian Federation"
           ],
           "xaxis": "x",
           "y": [
            506631299734.748
           ],
           "yaxis": "y"
          },
          {
           "alignmentgroup": "True",
           "hovertemplate": "Country=%{x}<br>date=1989<br>GDP (Trillions USD)=%{y}<extra></extra>",
           "legendgroup": "Saudi Arabia",
           "marker": {
            "color": "#FF6692",
            "pattern": {
             "shape": ""
            }
           },
           "name": "Saudi Arabia",
           "offsetgroup": "Saudi Arabia",
           "orientation": "v",
           "showlegend": true,
           "textposition": "auto",
           "type": "bar",
           "x": [
            "Saudi Arabia"
           ],
           "xaxis": "x",
           "y": [
            95344459279.0387
           ],
           "yaxis": "y"
          },
          {
           "alignmentgroup": "True",
           "hovertemplate": "Country=%{x}<br>date=1989<br>GDP (Trillions USD)=%{y}<extra></extra>",
           "legendgroup": "Spain",
           "marker": {
            "color": "#B6E880",
            "pattern": {
             "shape": ""
            }
           },
           "name": "Spain",
           "offsetgroup": "Spain",
           "orientation": "v",
           "showlegend": true,
           "textposition": "auto",
           "type": "bar",
           "x": [
            "Spain"
           ],
           "xaxis": "x",
           "y": [
            414460794096.978
           ],
           "yaxis": "y"
          },
          {
           "alignmentgroup": "True",
           "hovertemplate": "Country=%{x}<br>date=1989<br>GDP (Trillions USD)=%{y}<extra></extra>",
           "legendgroup": "Sweden",
           "marker": {
            "color": "#FF97FF",
            "pattern": {
             "shape": ""
            }
           },
           "name": "Sweden",
           "offsetgroup": "Sweden",
           "orientation": "v",
           "showlegend": true,
           "textposition": "auto",
           "type": "bar",
           "x": [
            "Sweden"
           ],
           "xaxis": "x",
           "y": [
            217634838449.487
           ],
           "yaxis": "y"
          },
          {
           "alignmentgroup": "True",
           "hovertemplate": "Country=%{x}<br>date=1989<br>GDP (Trillions USD)=%{y}<extra></extra>",
           "legendgroup": "Switzerland",
           "marker": {
            "color": "#FECB52",
            "pattern": {
             "shape": ""
            }
           },
           "name": "Switzerland",
           "offsetgroup": "Switzerland",
           "orientation": "v",
           "showlegend": true,
           "textposition": "auto",
           "type": "bar",
           "x": [
            "Switzerland"
           ],
           "xaxis": "x",
           "y": [
            208105846934.409
           ],
           "yaxis": "y"
          },
          {
           "alignmentgroup": "True",
           "hovertemplate": "Country=%{x}<br>date=1989<br>GDP (Trillions USD)=%{y}<extra></extra>",
           "legendgroup": "Thailand",
           "marker": {
            "color": "#636efa",
            "pattern": {
             "shape": ""
            }
           },
           "name": "Thailand",
           "offsetgroup": "Thailand",
           "orientation": "v",
           "showlegend": true,
           "textposition": "auto",
           "type": "bar",
           "x": [
            "Thailand"
           ],
           "xaxis": "x",
           "y": [
            72250748099.9762
           ],
           "yaxis": "y"
          },
          {
           "alignmentgroup": "True",
           "hovertemplate": "Country=%{x}<br>date=1989<br>GDP (Trillions USD)=%{y}<extra></extra>",
           "legendgroup": "Turkiye",
           "marker": {
            "color": "#EF553B",
            "pattern": {
             "shape": ""
            }
           },
           "name": "Turkiye",
           "offsetgroup": "Turkiye",
           "orientation": "v",
           "showlegend": true,
           "textposition": "auto",
           "type": "bar",
           "x": [
            "Turkiye"
           ],
           "xaxis": "x",
           "y": [
            107127191328.935
           ],
           "yaxis": "y"
          },
          {
           "alignmentgroup": "True",
           "hovertemplate": "Country=%{x}<br>date=1989<br>GDP (Trillions USD)=%{y}<extra></extra>",
           "legendgroup": "United Kingdom",
           "marker": {
            "color": "#00cc96",
            "pattern": {
             "shape": ""
            }
           },
           "name": "United Kingdom",
           "offsetgroup": "United Kingdom",
           "orientation": "v",
           "showlegend": true,
           "textposition": "auto",
           "type": "bar",
           "x": [
            "United Kingdom"
           ],
           "xaxis": "x",
           "y": [
            926884816753.927
           ],
           "yaxis": "y"
          },
          {
           "alignmentgroup": "True",
           "hovertemplate": "Country=%{x}<br>date=1989<br>GDP (Trillions USD)=%{y}<extra></extra>",
           "legendgroup": "United States",
           "marker": {
            "color": "#ab63fa",
            "pattern": {
             "shape": ""
            }
           },
           "name": "United States",
           "offsetgroup": "United States",
           "orientation": "v",
           "showlegend": true,
           "textposition": "auto",
           "type": "bar",
           "x": [
            "United States"
           ],
           "xaxis": "x",
           "y": [
            5641580000000
           ],
           "yaxis": "y"
          }
         ],
         "name": "1989"
        },
        {
         "data": [
          {
           "alignmentgroup": "True",
           "hovertemplate": "Country=%{x}<br>date=1990<br>GDP (Trillions USD)=%{y}<extra></extra>",
           "legendgroup": "Australia",
           "marker": {
            "color": "#636efa",
            "pattern": {
             "shape": ""
            }
           },
           "name": "Australia",
           "offsetgroup": "Australia",
           "orientation": "v",
           "showlegend": true,
           "textposition": "auto",
           "type": "bar",
           "x": [
            "Australia"
           ],
           "xaxis": "x",
           "y": [
            311426665219.971
           ],
           "yaxis": "y"
          },
          {
           "alignmentgroup": "True",
           "hovertemplate": "Country=%{x}<br>date=1990<br>GDP (Trillions USD)=%{y}<extra></extra>",
           "legendgroup": "Belgium",
           "marker": {
            "color": "#EF553B",
            "pattern": {
             "shape": ""
            }
           },
           "name": "Belgium",
           "offsetgroup": "Belgium",
           "orientation": "v",
           "showlegend": true,
           "textposition": "auto",
           "type": "bar",
           "x": [
            "Belgium"
           ],
           "xaxis": "x",
           "y": [
            205331747947.851
           ],
           "yaxis": "y"
          },
          {
           "alignmentgroup": "True",
           "hovertemplate": "Country=%{x}<br>date=1990<br>GDP (Trillions USD)=%{y}<extra></extra>",
           "legendgroup": "Brazil",
           "marker": {
            "color": "#00cc96",
            "pattern": {
             "shape": ""
            }
           },
           "name": "Brazil",
           "offsetgroup": "Brazil",
           "orientation": "v",
           "showlegend": true,
           "textposition": "auto",
           "type": "bar",
           "x": [
            "Brazil"
           ],
           "xaxis": "x",
           "y": [
            464989098144.854
           ],
           "yaxis": "y"
          },
          {
           "alignmentgroup": "True",
           "hovertemplate": "Country=%{x}<br>date=1990<br>GDP (Trillions USD)=%{y}<extra></extra>",
           "legendgroup": "Canada",
           "marker": {
            "color": "#ab63fa",
            "pattern": {
             "shape": ""
            }
           },
           "name": "Canada",
           "offsetgroup": "Canada",
           "orientation": "v",
           "showlegend": true,
           "textposition": "auto",
           "type": "bar",
           "x": [
            "Canada"
           ],
           "xaxis": "x",
           "y": [
            596075591360.987
           ],
           "yaxis": "y"
          },
          {
           "alignmentgroup": "True",
           "hovertemplate": "Country=%{x}<br>date=1990<br>GDP (Trillions USD)=%{y}<extra></extra>",
           "legendgroup": "China",
           "marker": {
            "color": "#FFA15A",
            "pattern": {
             "shape": ""
            }
           },
           "name": "China",
           "offsetgroup": "China",
           "orientation": "v",
           "showlegend": true,
           "textposition": "auto",
           "type": "bar",
           "x": [
            "China"
           ],
           "xaxis": "x",
           "y": [
            360857912565.966
           ],
           "yaxis": "y"
          },
          {
           "alignmentgroup": "True",
           "hovertemplate": "Country=%{x}<br>date=1990<br>GDP (Trillions USD)=%{y}<extra></extra>",
           "legendgroup": "France",
           "marker": {
            "color": "#19d3f3",
            "pattern": {
             "shape": ""
            }
           },
           "name": "France",
           "offsetgroup": "France",
           "orientation": "v",
           "showlegend": true,
           "textposition": "auto",
           "type": "bar",
           "x": [
            "France"
           ],
           "xaxis": "x",
           "y": [
            1257649439826.53
           ],
           "yaxis": "y"
          },
          {
           "alignmentgroup": "True",
           "hovertemplate": "Country=%{x}<br>date=1990<br>GDP (Trillions USD)=%{y}<extra></extra>",
           "legendgroup": "Germany",
           "marker": {
            "color": "#FF6692",
            "pattern": {
             "shape": ""
            }
           },
           "name": "Germany",
           "offsetgroup": "Germany",
           "orientation": "v",
           "showlegend": true,
           "textposition": "auto",
           "type": "bar",
           "x": [
            "Germany"
           ],
           "xaxis": "x",
           "y": [
            1778162195860.07
           ],
           "yaxis": "y"
          },
          {
           "alignmentgroup": "True",
           "hovertemplate": "Country=%{x}<br>date=1990<br>GDP (Trillions USD)=%{y}<extra></extra>",
           "legendgroup": "India",
           "marker": {
            "color": "#B6E880",
            "pattern": {
             "shape": ""
            }
           },
           "name": "India",
           "offsetgroup": "India",
           "orientation": "v",
           "showlegend": true,
           "textposition": "auto",
           "type": "bar",
           "x": [
            "India"
           ],
           "xaxis": "x",
           "y": [
            320979026420.035
           ],
           "yaxis": "y"
          },
          {
           "alignmentgroup": "True",
           "hovertemplate": "Country=%{x}<br>date=1990<br>GDP (Trillions USD)=%{y}<extra></extra>",
           "legendgroup": "Indonesia",
           "marker": {
            "color": "#FF97FF",
            "pattern": {
             "shape": ""
            }
           },
           "name": "Indonesia",
           "offsetgroup": "Indonesia",
           "orientation": "v",
           "showlegend": true,
           "textposition": "auto",
           "type": "bar",
           "x": [
            "Indonesia"
           ],
           "xaxis": "x",
           "y": [
            106140727333.636
           ],
           "yaxis": "y"
          },
          {
           "alignmentgroup": "True",
           "hovertemplate": "Country=%{x}<br>date=1990<br>GDP (Trillions USD)=%{y}<extra></extra>",
           "legendgroup": "Italy",
           "marker": {
            "color": "#FECB52",
            "pattern": {
             "shape": ""
            }
           },
           "name": "Italy",
           "offsetgroup": "Italy",
           "orientation": "v",
           "showlegend": true,
           "textposition": "auto",
           "type": "bar",
           "x": [
            "Italy"
           ],
           "xaxis": "x",
           "y": [
            1183945130898.51
           ],
           "yaxis": "y"
          },
          {
           "alignmentgroup": "True",
           "hovertemplate": "Country=%{x}<br>date=1990<br>GDP (Trillions USD)=%{y}<extra></extra>",
           "legendgroup": "Japan",
           "marker": {
            "color": "#636efa",
            "pattern": {
             "shape": ""
            }
           },
           "name": "Japan",
           "offsetgroup": "Japan",
           "orientation": "v",
           "showlegend": true,
           "textposition": "auto",
           "type": "bar",
           "x": [
            "Japan"
           ],
           "xaxis": "x",
           "y": [
            3185904656663.85
           ],
           "yaxis": "y"
          },
          {
           "alignmentgroup": "True",
           "hovertemplate": "Country=%{x}<br>date=1990<br>GDP (Trillions USD)=%{y}<extra></extra>",
           "legendgroup": "Korea, Rep.",
           "marker": {
            "color": "#EF553B",
            "pattern": {
             "shape": ""
            }
           },
           "name": "Korea, Rep.",
           "offsetgroup": "Korea, Rep.",
           "orientation": "v",
           "showlegend": true,
           "textposition": "auto",
           "type": "bar",
           "x": [
            "Korea, Rep."
           ],
           "xaxis": "x",
           "y": [
            283365844161.092
           ],
           "yaxis": "y"
          },
          {
           "alignmentgroup": "True",
           "hovertemplate": "Country=%{x}<br>date=1990<br>GDP (Trillions USD)=%{y}<extra></extra>",
           "legendgroup": "Mexico",
           "marker": {
            "color": "#00cc96",
            "pattern": {
             "shape": ""
            }
           },
           "name": "Mexico",
           "offsetgroup": "Mexico",
           "orientation": "v",
           "showlegend": true,
           "textposition": "auto",
           "type": "bar",
           "x": [
            "Mexico"
           ],
           "xaxis": "x",
           "y": [
            261253675692.838
           ],
           "yaxis": "y"
          },
          {
           "alignmentgroup": "True",
           "hovertemplate": "Country=%{x}<br>date=1990<br>GDP (Trillions USD)=%{y}<extra></extra>",
           "legendgroup": "Netherlands",
           "marker": {
            "color": "#ab63fa",
            "pattern": {
             "shape": ""
            }
           },
           "name": "Netherlands",
           "offsetgroup": "Netherlands",
           "orientation": "v",
           "showlegend": true,
           "textposition": "auto",
           "type": "bar",
           "x": [
            "Netherlands"
           ],
           "xaxis": "x",
           "y": [
            318799003993.707
           ],
           "yaxis": "y"
          },
          {
           "alignmentgroup": "True",
           "hovertemplate": "Country=%{x}<br>date=1990<br>GDP (Trillions USD)=%{y}<extra></extra>",
           "legendgroup": "Poland",
           "marker": {
            "color": "#FFA15A",
            "pattern": {
             "shape": ""
            }
           },
           "name": "Poland",
           "offsetgroup": "Poland",
           "orientation": "v",
           "showlegend": true,
           "textposition": "auto",
           "type": "bar",
           "x": [
            "Poland"
           ],
           "xaxis": "x",
           "y": [
            65977748210.5263
           ],
           "yaxis": "y"
          },
          {
           "alignmentgroup": "True",
           "hovertemplate": "Country=%{x}<br>date=1990<br>GDP (Trillions USD)=%{y}<extra></extra>",
           "legendgroup": "Russian Federation",
           "marker": {
            "color": "#19d3f3",
            "pattern": {
             "shape": ""
            }
           },
           "name": "Russian Federation",
           "offsetgroup": "Russian Federation",
           "orientation": "v",
           "showlegend": true,
           "textposition": "auto",
           "type": "bar",
           "x": [
            "Russian Federation"
           ],
           "xaxis": "x",
           "y": [
            517014446227.929
           ],
           "yaxis": "y"
          },
          {
           "alignmentgroup": "True",
           "hovertemplate": "Country=%{x}<br>date=1990<br>GDP (Trillions USD)=%{y}<extra></extra>",
           "legendgroup": "Saudi Arabia",
           "marker": {
            "color": "#FF6692",
            "pattern": {
             "shape": ""
            }
           },
           "name": "Saudi Arabia",
           "offsetgroup": "Saudi Arabia",
           "orientation": "v",
           "showlegend": true,
           "textposition": "auto",
           "type": "bar",
           "x": [
            "Saudi Arabia"
           ],
           "xaxis": "x",
           "y": [
            117630173564.753
           ],
           "yaxis": "y"
          },
          {
           "alignmentgroup": "True",
           "hovertemplate": "Country=%{x}<br>date=1990<br>GDP (Trillions USD)=%{y}<extra></extra>",
           "legendgroup": "Spain",
           "marker": {
            "color": "#B6E880",
            "pattern": {
             "shape": ""
            }
           },
           "name": "Spain",
           "offsetgroup": "Spain",
           "orientation": "v",
           "showlegend": true,
           "textposition": "auto",
           "type": "bar",
           "x": [
            "Spain"
           ],
           "xaxis": "x",
           "y": [
            536175326477.31
           ],
           "yaxis": "y"
          },
          {
           "alignmentgroup": "True",
           "hovertemplate": "Country=%{x}<br>date=1990<br>GDP (Trillions USD)=%{y}<extra></extra>",
           "legendgroup": "Sweden",
           "marker": {
            "color": "#FF97FF",
            "pattern": {
             "shape": ""
            }
           },
           "name": "Sweden",
           "offsetgroup": "Sweden",
           "orientation": "v",
           "showlegend": true,
           "textposition": "auto",
           "type": "bar",
           "x": [
            "Sweden"
           ],
           "xaxis": "x",
           "y": [
            261469578630.804
           ],
           "yaxis": "y"
          },
          {
           "alignmentgroup": "True",
           "hovertemplate": "Country=%{x}<br>date=1990<br>GDP (Trillions USD)=%{y}<extra></extra>",
           "legendgroup": "Switzerland",
           "marker": {
            "color": "#FECB52",
            "pattern": {
             "shape": ""
            }
           },
           "name": "Switzerland",
           "offsetgroup": "Switzerland",
           "orientation": "v",
           "showlegend": true,
           "textposition": "auto",
           "type": "bar",
           "x": [
            "Switzerland"
           ],
           "xaxis": "x",
           "y": [
            265763573999.424
           ],
           "yaxis": "y"
          },
          {
           "alignmentgroup": "True",
           "hovertemplate": "Country=%{x}<br>date=1990<br>GDP (Trillions USD)=%{y}<extra></extra>",
           "legendgroup": "Thailand",
           "marker": {
            "color": "#636efa",
            "pattern": {
             "shape": ""
            }
           },
           "name": "Thailand",
           "offsetgroup": "Thailand",
           "orientation": "v",
           "showlegend": true,
           "textposition": "auto",
           "type": "bar",
           "x": [
            "Thailand"
           ],
           "xaxis": "x",
           "y": [
            85343190719.0107
           ],
           "yaxis": "y"
          },
          {
           "alignmentgroup": "True",
           "hovertemplate": "Country=%{x}<br>date=1990<br>GDP (Trillions USD)=%{y}<extra></extra>",
           "legendgroup": "Turkiye",
           "marker": {
            "color": "#EF553B",
            "pattern": {
             "shape": ""
            }
           },
           "name": "Turkiye",
           "offsetgroup": "Turkiye",
           "orientation": "v",
           "showlegend": true,
           "textposition": "auto",
           "type": "bar",
           "x": [
            "Turkiye"
           ],
           "xaxis": "x",
           "y": [
            150655500191.644
           ],
           "yaxis": "y"
          },
          {
           "alignmentgroup": "True",
           "hovertemplate": "Country=%{x}<br>date=1990<br>GDP (Trillions USD)=%{y}<extra></extra>",
           "legendgroup": "United Kingdom",
           "marker": {
            "color": "#00cc96",
            "pattern": {
             "shape": ""
            }
           },
           "name": "United Kingdom",
           "offsetgroup": "United Kingdom",
           "orientation": "v",
           "showlegend": true,
           "textposition": "auto",
           "type": "bar",
           "x": [
            "United Kingdom"
           ],
           "xaxis": "x",
           "y": [
            1093169389204.55
           ],
           "yaxis": "y"
          },
          {
           "alignmentgroup": "True",
           "hovertemplate": "Country=%{x}<br>date=1990<br>GDP (Trillions USD)=%{y}<extra></extra>",
           "legendgroup": "United States",
           "marker": {
            "color": "#ab63fa",
            "pattern": {
             "shape": ""
            }
           },
           "name": "United States",
           "offsetgroup": "United States",
           "orientation": "v",
           "showlegend": true,
           "textposition": "auto",
           "type": "bar",
           "x": [
            "United States"
           ],
           "xaxis": "x",
           "y": [
            5963144000000
           ],
           "yaxis": "y"
          }
         ],
         "name": "1990"
        },
        {
         "data": [
          {
           "alignmentgroup": "True",
           "hovertemplate": "Country=%{x}<br>date=1991<br>GDP (Trillions USD)=%{y}<extra></extra>",
           "legendgroup": "Australia",
           "marker": {
            "color": "#636efa",
            "pattern": {
             "shape": ""
            }
           },
           "name": "Australia",
           "offsetgroup": "Australia",
           "orientation": "v",
           "showlegend": true,
           "textposition": "auto",
           "type": "bar",
           "x": [
            "Australia"
           ],
           "xaxis": "x",
           "y": [
            325975319455.531
           ],
           "yaxis": "y"
          },
          {
           "alignmentgroup": "True",
           "hovertemplate": "Country=%{x}<br>date=1991<br>GDP (Trillions USD)=%{y}<extra></extra>",
           "legendgroup": "Belgium",
           "marker": {
            "color": "#EF553B",
            "pattern": {
             "shape": ""
            }
           },
           "name": "Belgium",
           "offsetgroup": "Belgium",
           "orientation": "v",
           "showlegend": true,
           "textposition": "auto",
           "type": "bar",
           "x": [
            "Belgium"
           ],
           "xaxis": "x",
           "y": [
            210510999409.333
           ],
           "yaxis": "y"
          },
          {
           "alignmentgroup": "True",
           "hovertemplate": "Country=%{x}<br>date=1991<br>GDP (Trillions USD)=%{y}<extra></extra>",
           "legendgroup": "Brazil",
           "marker": {
            "color": "#00cc96",
            "pattern": {
             "shape": ""
            }
           },
           "name": "Brazil",
           "offsetgroup": "Brazil",
           "orientation": "v",
           "showlegend": true,
           "textposition": "auto",
           "type": "bar",
           "x": [
            "Brazil"
           ],
           "xaxis": "x",
           "y": [
            342534090909.091
           ],
           "yaxis": "y"
          },
          {
           "alignmentgroup": "True",
           "hovertemplate": "Country=%{x}<br>date=1991<br>GDP (Trillions USD)=%{y}<extra></extra>",
           "legendgroup": "Canada",
           "marker": {
            "color": "#ab63fa",
            "pattern": {
             "shape": ""
            }
           },
           "name": "Canada",
           "offsetgroup": "Canada",
           "orientation": "v",
           "showlegend": true,
           "textposition": "auto",
           "type": "bar",
           "x": [
            "Canada"
           ],
           "xaxis": "x",
           "y": [
            612527712315.615
           ],
           "yaxis": "y"
          },
          {
           "alignmentgroup": "True",
           "hovertemplate": "Country=%{x}<br>date=1991<br>GDP (Trillions USD)=%{y}<extra></extra>",
           "legendgroup": "China",
           "marker": {
            "color": "#FFA15A",
            "pattern": {
             "shape": ""
            }
           },
           "name": "China",
           "offsetgroup": "China",
           "orientation": "v",
           "showlegend": true,
           "textposition": "auto",
           "type": "bar",
           "x": [
            "China"
           ],
           "xaxis": "x",
           "y": [
            383373318083.624
           ],
           "yaxis": "y"
          },
          {
           "alignmentgroup": "True",
           "hovertemplate": "Country=%{x}<br>date=1991<br>GDP (Trillions USD)=%{y}<extra></extra>",
           "legendgroup": "France",
           "marker": {
            "color": "#19d3f3",
            "pattern": {
             "shape": ""
            }
           },
           "name": "France",
           "offsetgroup": "France",
           "orientation": "v",
           "showlegend": true,
           "textposition": "auto",
           "type": "bar",
           "x": [
            "France"
           ],
           "xaxis": "x",
           "y": [
            1258961748633.88
           ],
           "yaxis": "y"
          },
          {
           "alignmentgroup": "True",
           "hovertemplate": "Country=%{x}<br>date=1991<br>GDP (Trillions USD)=%{y}<extra></extra>",
           "legendgroup": "Germany",
           "marker": {
            "color": "#FF6692",
            "pattern": {
             "shape": ""
            }
           },
           "name": "Germany",
           "offsetgroup": "Germany",
           "orientation": "v",
           "showlegend": true,
           "textposition": "auto",
           "type": "bar",
           "x": [
            "Germany"
           ],
           "xaxis": "x",
           "y": [
            1875792575132.59
           ],
           "yaxis": "y"
          },
          {
           "alignmentgroup": "True",
           "hovertemplate": "Country=%{x}<br>date=1991<br>GDP (Trillions USD)=%{y}<extra></extra>",
           "legendgroup": "India",
           "marker": {
            "color": "#B6E880",
            "pattern": {
             "shape": ""
            }
           },
           "name": "India",
           "offsetgroup": "India",
           "orientation": "v",
           "showlegend": true,
           "textposition": "auto",
           "type": "bar",
           "x": [
            "India"
           ],
           "xaxis": "x",
           "y": [
            270105341879.226
           ],
           "yaxis": "y"
          },
          {
           "alignmentgroup": "True",
           "hovertemplate": "Country=%{x}<br>date=1991<br>GDP (Trillions USD)=%{y}<extra></extra>",
           "legendgroup": "Indonesia",
           "marker": {
            "color": "#FF97FF",
            "pattern": {
             "shape": ""
            }
           },
           "name": "Indonesia",
           "offsetgroup": "Indonesia",
           "orientation": "v",
           "showlegend": true,
           "textposition": "auto",
           "type": "bar",
           "x": [
            "Indonesia"
           ],
           "xaxis": "x",
           "y": [
            116621996217.133
           ],
           "yaxis": "y"
          },
          {
           "alignmentgroup": "True",
           "hovertemplate": "Country=%{x}<br>date=1991<br>GDP (Trillions USD)=%{y}<extra></extra>",
           "legendgroup": "Italy",
           "marker": {
            "color": "#FECB52",
            "pattern": {
             "shape": ""
            }
           },
           "name": "Italy",
           "offsetgroup": "Italy",
           "orientation": "v",
           "showlegend": true,
           "textposition": "auto",
           "type": "bar",
           "x": [
            "Italy"
           ],
           "xaxis": "x",
           "y": [
            1249092439519.28
           ],
           "yaxis": "y"
          },
          {
           "alignmentgroup": "True",
           "hovertemplate": "Country=%{x}<br>date=1991<br>GDP (Trillions USD)=%{y}<extra></extra>",
           "legendgroup": "Japan",
           "marker": {
            "color": "#636efa",
            "pattern": {
             "shape": ""
            }
           },
           "name": "Japan",
           "offsetgroup": "Japan",
           "orientation": "v",
           "showlegend": true,
           "textposition": "auto",
           "type": "bar",
           "x": [
            "Japan"
           ],
           "xaxis": "x",
           "y": [
            3648065760648.88
           ],
           "yaxis": "y"
          },
          {
           "alignmentgroup": "True",
           "hovertemplate": "Country=%{x}<br>date=1991<br>GDP (Trillions USD)=%{y}<extra></extra>",
           "legendgroup": "Korea, Rep.",
           "marker": {
            "color": "#EF553B",
            "pattern": {
             "shape": ""
            }
           },
           "name": "Korea, Rep.",
           "offsetgroup": "Korea, Rep.",
           "orientation": "v",
           "showlegend": true,
           "textposition": "auto",
           "type": "bar",
           "x": [
            "Korea, Rep."
           ],
           "xaxis": "x",
           "y": [
            330647042837.334
           ],
           "yaxis": "y"
          },
          {
           "alignmentgroup": "True",
           "hovertemplate": "Country=%{x}<br>date=1991<br>GDP (Trillions USD)=%{y}<extra></extra>",
           "legendgroup": "Mexico",
           "marker": {
            "color": "#00cc96",
            "pattern": {
             "shape": ""
            }
           },
           "name": "Mexico",
           "offsetgroup": "Mexico",
           "orientation": "v",
           "showlegend": true,
           "textposition": "auto",
           "type": "bar",
           "x": [
            "Mexico"
           ],
           "xaxis": "x",
           "y": [
            313139656145.745
           ],
           "yaxis": "y"
          },
          {
           "alignmentgroup": "True",
           "hovertemplate": "Country=%{x}<br>date=1991<br>GDP (Trillions USD)=%{y}<extra></extra>",
           "legendgroup": "Netherlands",
           "marker": {
            "color": "#ab63fa",
            "pattern": {
             "shape": ""
            }
           },
           "name": "Netherlands",
           "offsetgroup": "Netherlands",
           "orientation": "v",
           "showlegend": true,
           "textposition": "auto",
           "type": "bar",
           "x": [
            "Netherlands"
           ],
           "xaxis": "x",
           "y": [
            327982316124.47
           ],
           "yaxis": "y"
          },
          {
           "alignmentgroup": "True",
           "hovertemplate": "Country=%{x}<br>date=1991<br>GDP (Trillions USD)=%{y}<extra></extra>",
           "legendgroup": "Poland",
           "marker": {
            "color": "#FFA15A",
            "pattern": {
             "shape": ""
            }
           },
           "name": "Poland",
           "offsetgroup": "Poland",
           "orientation": "v",
           "showlegend": true,
           "textposition": "auto",
           "type": "bar",
           "x": [
            "Poland"
           ],
           "xaxis": "x",
           "y": [
            85500935934.9901
           ],
           "yaxis": "y"
          },
          {
           "alignmentgroup": "True",
           "hovertemplate": "Country=%{x}<br>date=1991<br>GDP (Trillions USD)=%{y}<extra></extra>",
           "legendgroup": "Russian Federation",
           "marker": {
            "color": "#19d3f3",
            "pattern": {
             "shape": ""
            }
           },
           "name": "Russian Federation",
           "offsetgroup": "Russian Federation",
           "orientation": "v",
           "showlegend": true,
           "textposition": "auto",
           "type": "bar",
           "x": [
            "Russian Federation"
           ],
           "xaxis": "x",
           "y": [
            517962962962.963
           ],
           "yaxis": "y"
          },
          {
           "alignmentgroup": "True",
           "hovertemplate": "Country=%{x}<br>date=1991<br>GDP (Trillions USD)=%{y}<extra></extra>",
           "legendgroup": "Saudi Arabia",
           "marker": {
            "color": "#FF6692",
            "pattern": {
             "shape": ""
            }
           },
           "name": "Saudi Arabia",
           "offsetgroup": "Saudi Arabia",
           "orientation": "v",
           "showlegend": true,
           "textposition": "auto",
           "type": "bar",
           "x": [
            "Saudi Arabia"
           ],
           "xaxis": "x",
           "y": [
            132223230974.633
           ],
           "yaxis": "y"
          },
          {
           "alignmentgroup": "True",
           "hovertemplate": "Country=%{x}<br>date=1991<br>GDP (Trillions USD)=%{y}<extra></extra>",
           "legendgroup": "Spain",
           "marker": {
            "color": "#B6E880",
            "pattern": {
             "shape": ""
            }
           },
           "name": "Spain",
           "offsetgroup": "Spain",
           "orientation": "v",
           "showlegend": true,
           "textposition": "auto",
           "type": "bar",
           "x": [
            "Spain"
           ],
           "xaxis": "x",
           "y": [
            576753902321.857
           ],
           "yaxis": "y"
          },
          {
           "alignmentgroup": "True",
           "hovertemplate": "Country=%{x}<br>date=1991<br>GDP (Trillions USD)=%{y}<extra></extra>",
           "legendgroup": "Sweden",
           "marker": {
            "color": "#FF97FF",
            "pattern": {
             "shape": ""
            }
           },
           "name": "Sweden",
           "offsetgroup": "Sweden",
           "orientation": "v",
           "showlegend": true,
           "textposition": "auto",
           "type": "bar",
           "x": [
            "Sweden"
           ],
           "xaxis": "x",
           "y": [
            273834608019.843
           ],
           "yaxis": "y"
          },
          {
           "alignmentgroup": "True",
           "hovertemplate": "Country=%{x}<br>date=1991<br>GDP (Trillions USD)=%{y}<extra></extra>",
           "legendgroup": "Switzerland",
           "marker": {
            "color": "#FECB52",
            "pattern": {
             "shape": ""
            }
           },
           "name": "Switzerland",
           "offsetgroup": "Switzerland",
           "orientation": "v",
           "showlegend": true,
           "textposition": "auto",
           "type": "bar",
           "x": [
            "Switzerland"
           ],
           "xaxis": "x",
           "y": [
            268901693863.319
           ],
           "yaxis": "y"
          },
          {
           "alignmentgroup": "True",
           "hovertemplate": "Country=%{x}<br>date=1991<br>GDP (Trillions USD)=%{y}<extra></extra>",
           "legendgroup": "Thailand",
           "marker": {
            "color": "#636efa",
            "pattern": {
             "shape": ""
            }
           },
           "name": "Thailand",
           "offsetgroup": "Thailand",
           "orientation": "v",
           "showlegend": true,
           "textposition": "auto",
           "type": "bar",
           "x": [
            "Thailand"
           ],
           "xaxis": "x",
           "y": [
            98234714971.0612
           ],
           "yaxis": "y"
          },
          {
           "alignmentgroup": "True",
           "hovertemplate": "Country=%{x}<br>date=1991<br>GDP (Trillions USD)=%{y}<extra></extra>",
           "legendgroup": "Turkiye",
           "marker": {
            "color": "#EF553B",
            "pattern": {
             "shape": ""
            }
           },
           "name": "Turkiye",
           "offsetgroup": "Turkiye",
           "orientation": "v",
           "showlegend": true,
           "textposition": "auto",
           "type": "bar",
           "x": [
            "Turkiye"
           ],
           "xaxis": "x",
           "y": [
            151034731543.624
           ],
           "yaxis": "y"
          },
          {
           "alignmentgroup": "True",
           "hovertemplate": "Country=%{x}<br>date=1991<br>GDP (Trillions USD)=%{y}<extra></extra>",
           "legendgroup": "United Kingdom",
           "marker": {
            "color": "#00cc96",
            "pattern": {
             "shape": ""
            }
           },
           "name": "United Kingdom",
           "offsetgroup": "United Kingdom",
           "orientation": "v",
           "showlegend": true,
           "textposition": "auto",
           "type": "bar",
           "x": [
            "United Kingdom"
           ],
           "xaxis": "x",
           "y": [
            1142797178130.51
           ],
           "yaxis": "y"
          },
          {
           "alignmentgroup": "True",
           "hovertemplate": "Country=%{x}<br>date=1991<br>GDP (Trillions USD)=%{y}<extra></extra>",
           "legendgroup": "United States",
           "marker": {
            "color": "#ab63fa",
            "pattern": {
             "shape": ""
            }
           },
           "name": "United States",
           "offsetgroup": "United States",
           "orientation": "v",
           "showlegend": true,
           "textposition": "auto",
           "type": "bar",
           "x": [
            "United States"
           ],
           "xaxis": "x",
           "y": [
            6158129000000
           ],
           "yaxis": "y"
          }
         ],
         "name": "1991"
        },
        {
         "data": [
          {
           "alignmentgroup": "True",
           "hovertemplate": "Country=%{x}<br>date=1992<br>GDP (Trillions USD)=%{y}<extra></extra>",
           "legendgroup": "Australia",
           "marker": {
            "color": "#636efa",
            "pattern": {
             "shape": ""
            }
           },
           "name": "Australia",
           "offsetgroup": "Australia",
           "orientation": "v",
           "showlegend": true,
           "textposition": "auto",
           "type": "bar",
           "x": [
            "Australia"
           ],
           "xaxis": "x",
           "y": [
            325525379566.838
           ],
           "yaxis": "y"
          },
          {
           "alignmentgroup": "True",
           "hovertemplate": "Country=%{x}<br>date=1992<br>GDP (Trillions USD)=%{y}<extra></extra>",
           "legendgroup": "Belgium",
           "marker": {
            "color": "#EF553B",
            "pattern": {
             "shape": ""
            }
           },
           "name": "Belgium",
           "offsetgroup": "Belgium",
           "orientation": "v",
           "showlegend": true,
           "textposition": "auto",
           "type": "bar",
           "x": [
            "Belgium"
           ],
           "xaxis": "x",
           "y": [
            234781652446.675
           ],
           "yaxis": "y"
          },
          {
           "alignmentgroup": "True",
           "hovertemplate": "Country=%{x}<br>date=1992<br>GDP (Trillions USD)=%{y}<extra></extra>",
           "legendgroup": "Brazil",
           "marker": {
            "color": "#00cc96",
            "pattern": {
             "shape": ""
            }
           },
           "name": "Brazil",
           "offsetgroup": "Brazil",
           "orientation": "v",
           "showlegend": true,
           "textposition": "auto",
           "type": "bar",
           "x": [
            "Brazil"
           ],
           "xaxis": "x",
           "y": [
            328191909882.232
           ],
           "yaxis": "y"
          },
          {
           "alignmentgroup": "True",
           "hovertemplate": "Country=%{x}<br>date=1992<br>GDP (Trillions USD)=%{y}<extra></extra>",
           "legendgroup": "Canada",
           "marker": {
            "color": "#ab63fa",
            "pattern": {
             "shape": ""
            }
           },
           "name": "Canada",
           "offsetgroup": "Canada",
           "orientation": "v",
           "showlegend": true,
           "textposition": "auto",
           "type": "bar",
           "x": [
            "Canada"
           ],
           "xaxis": "x",
           "y": [
            594387358318.855
           ],
           "yaxis": "y"
          },
          {
           "alignmentgroup": "True",
           "hovertemplate": "Country=%{x}<br>date=1992<br>GDP (Trillions USD)=%{y}<extra></extra>",
           "legendgroup": "China",
           "marker": {
            "color": "#FFA15A",
            "pattern": {
             "shape": ""
            }
           },
           "name": "China",
           "offsetgroup": "China",
           "orientation": "v",
           "showlegend": true,
           "textposition": "auto",
           "type": "bar",
           "x": [
            "China"
           ],
           "xaxis": "x",
           "y": [
            426915712715.856
           ],
           "yaxis": "y"
          },
          {
           "alignmentgroup": "True",
           "hovertemplate": "Country=%{x}<br>date=1992<br>GDP (Trillions USD)=%{y}<extra></extra>",
           "legendgroup": "France",
           "marker": {
            "color": "#19d3f3",
            "pattern": {
             "shape": ""
            }
           },
           "name": "France",
           "offsetgroup": "France",
           "orientation": "v",
           "showlegend": true,
           "textposition": "auto",
           "type": "bar",
           "x": [
            "France"
           ],
           "xaxis": "x",
           "y": [
            1389663073110.28
           ],
           "yaxis": "y"
          },
          {
           "alignmentgroup": "True",
           "hovertemplate": "Country=%{x}<br>date=1992<br>GDP (Trillions USD)=%{y}<extra></extra>",
           "legendgroup": "Germany",
           "marker": {
            "color": "#FF6692",
            "pattern": {
             "shape": ""
            }
           },
           "name": "Germany",
           "offsetgroup": "Germany",
           "orientation": "v",
           "showlegend": true,
           "textposition": "auto",
           "type": "bar",
           "x": [
            "Germany"
           ],
           "xaxis": "x",
           "y": [
            2141377582968.07
           ],
           "yaxis": "y"
          },
          {
           "alignmentgroup": "True",
           "hovertemplate": "Country=%{x}<br>date=1992<br>GDP (Trillions USD)=%{y}<extra></extra>",
           "legendgroup": "India",
           "marker": {
            "color": "#B6E880",
            "pattern": {
             "shape": ""
            }
           },
           "name": "India",
           "offsetgroup": "India",
           "orientation": "v",
           "showlegend": true,
           "textposition": "auto",
           "type": "bar",
           "x": [
            "India"
           ],
           "xaxis": "x",
           "y": [
            288208070278.013
           ],
           "yaxis": "y"
          },
          {
           "alignmentgroup": "True",
           "hovertemplate": "Country=%{x}<br>date=1992<br>GDP (Trillions USD)=%{y}<extra></extra>",
           "legendgroup": "Indonesia",
           "marker": {
            "color": "#FF97FF",
            "pattern": {
             "shape": ""
            }
           },
           "name": "Indonesia",
           "offsetgroup": "Indonesia",
           "orientation": "v",
           "showlegend": true,
           "textposition": "auto",
           "type": "bar",
           "x": [
            "Indonesia"
           ],
           "xaxis": "x",
           "y": [
            128026966579.964
           ],
           "yaxis": "y"
          },
          {
           "alignmentgroup": "True",
           "hovertemplate": "Country=%{x}<br>date=1992<br>GDP (Trillions USD)=%{y}<extra></extra>",
           "legendgroup": "Italy",
           "marker": {
            "color": "#FECB52",
            "pattern": {
             "shape": ""
            }
           },
           "name": "Italy",
           "offsetgroup": "Italy",
           "orientation": "v",
           "showlegend": true,
           "textposition": "auto",
           "type": "bar",
           "x": [
            "Italy"
           ],
           "xaxis": "x",
           "y": [
            1323204350353.5
           ],
           "yaxis": "y"
          },
          {
           "alignmentgroup": "True",
           "hovertemplate": "Country=%{x}<br>date=1992<br>GDP (Trillions USD)=%{y}<extra></extra>",
           "legendgroup": "Japan",
           "marker": {
            "color": "#636efa",
            "pattern": {
             "shape": ""
            }
           },
           "name": "Japan",
           "offsetgroup": "Japan",
           "orientation": "v",
           "showlegend": true,
           "textposition": "auto",
           "type": "bar",
           "x": [
            "Japan"
           ],
           "xaxis": "x",
           "y": [
            3980702922117.66
           ],
           "yaxis": "y"
          },
          {
           "alignmentgroup": "True",
           "hovertemplate": "Country=%{x}<br>date=1992<br>GDP (Trillions USD)=%{y}<extra></extra>",
           "legendgroup": "Korea, Rep.",
           "marker": {
            "color": "#EF553B",
            "pattern": {
             "shape": ""
            }
           },
           "name": "Korea, Rep.",
           "offsetgroup": "Korea, Rep.",
           "orientation": "v",
           "showlegend": true,
           "textposition": "auto",
           "type": "bar",
           "x": [
            "Korea, Rep."
           ],
           "xaxis": "x",
           "y": [
            355524903068.056
           ],
           "yaxis": "y"
          },
          {
           "alignmentgroup": "True",
           "hovertemplate": "Country=%{x}<br>date=1992<br>GDP (Trillions USD)=%{y}<extra></extra>",
           "legendgroup": "Mexico",
           "marker": {
            "color": "#00cc96",
            "pattern": {
             "shape": ""
            }
           },
           "name": "Mexico",
           "offsetgroup": "Mexico",
           "orientation": "v",
           "showlegend": true,
           "textposition": "auto",
           "type": "bar",
           "x": [
            "Mexico"
           ],
           "xaxis": "x",
           "y": [
            363157832923.734
           ],
           "yaxis": "y"
          },
          {
           "alignmentgroup": "True",
           "hovertemplate": "Country=%{x}<br>date=1992<br>GDP (Trillions USD)=%{y}<extra></extra>",
           "legendgroup": "Netherlands",
           "marker": {
            "color": "#ab63fa",
            "pattern": {
             "shape": ""
            }
           },
           "name": "Netherlands",
           "offsetgroup": "Netherlands",
           "orientation": "v",
           "showlegend": true,
           "textposition": "auto",
           "type": "bar",
           "x": [
            "Netherlands"
           ],
           "xaxis": "x",
           "y": [
            363497050125.313
           ],
           "yaxis": "y"
          },
          {
           "alignmentgroup": "True",
           "hovertemplate": "Country=%{x}<br>date=1992<br>GDP (Trillions USD)=%{y}<extra></extra>",
           "legendgroup": "Poland",
           "marker": {
            "color": "#FFA15A",
            "pattern": {
             "shape": ""
            }
           },
           "name": "Poland",
           "offsetgroup": "Poland",
           "orientation": "v",
           "showlegend": true,
           "textposition": "auto",
           "type": "bar",
           "x": [
            "Poland"
           ],
           "xaxis": "x",
           "y": [
            94337050693.2727
           ],
           "yaxis": "y"
          },
          {
           "alignmentgroup": "True",
           "hovertemplate": "Country=%{x}<br>date=1992<br>GDP (Trillions USD)=%{y}<extra></extra>",
           "legendgroup": "Russian Federation",
           "marker": {
            "color": "#19d3f3",
            "pattern": {
             "shape": ""
            }
           },
           "name": "Russian Federation",
           "offsetgroup": "Russian Federation",
           "orientation": "v",
           "showlegend": true,
           "textposition": "auto",
           "type": "bar",
           "x": [
            "Russian Federation"
           ],
           "xaxis": "x",
           "y": [
            460290556900.726
           ],
           "yaxis": "y"
          },
          {
           "alignmentgroup": "True",
           "hovertemplate": "Country=%{x}<br>date=1992<br>GDP (Trillions USD)=%{y}<extra></extra>",
           "legendgroup": "Saudi Arabia",
           "marker": {
            "color": "#FF6692",
            "pattern": {
             "shape": ""
            }
           },
           "name": "Saudi Arabia",
           "offsetgroup": "Saudi Arabia",
           "orientation": "v",
           "showlegend": true,
           "textposition": "auto",
           "type": "bar",
           "x": [
            "Saudi Arabia"
           ],
           "xaxis": "x",
           "y": [
            137087850467.29
           ],
           "yaxis": "y"
          },
          {
           "alignmentgroup": "True",
           "hovertemplate": "Country=%{x}<br>date=1992<br>GDP (Trillions USD)=%{y}<extra></extra>",
           "legendgroup": "Spain",
           "marker": {
            "color": "#B6E880",
            "pattern": {
             "shape": ""
            }
           },
           "name": "Spain",
           "offsetgroup": "Spain",
           "orientation": "v",
           "showlegend": true,
           "textposition": "auto",
           "type": "bar",
           "x": [
            "Spain"
           ],
           "xaxis": "x",
           "y": [
            630465353486.104
           ],
           "yaxis": "y"
          },
          {
           "alignmentgroup": "True",
           "hovertemplate": "Country=%{x}<br>date=1992<br>GDP (Trillions USD)=%{y}<extra></extra>",
           "legendgroup": "Sweden",
           "marker": {
            "color": "#FF97FF",
            "pattern": {
             "shape": ""
            }
           },
           "name": "Sweden",
           "offsetgroup": "Sweden",
           "orientation": "v",
           "showlegend": true,
           "textposition": "auto",
           "type": "bar",
           "x": [
            "Sweden"
           ],
           "xaxis": "x",
           "y": [
            283912173666.678
           ],
           "yaxis": "y"
          },
          {
           "alignmentgroup": "True",
           "hovertemplate": "Country=%{x}<br>date=1992<br>GDP (Trillions USD)=%{y}<extra></extra>",
           "legendgroup": "Switzerland",
           "marker": {
            "color": "#FECB52",
            "pattern": {
             "shape": ""
            }
           },
           "name": "Switzerland",
           "offsetgroup": "Switzerland",
           "orientation": "v",
           "showlegend": true,
           "textposition": "auto",
           "type": "bar",
           "x": [
            "Switzerland"
           ],
           "xaxis": "x",
           "y": [
            279921425828.474
           ],
           "yaxis": "y"
          },
          {
           "alignmentgroup": "True",
           "hovertemplate": "Country=%{x}<br>date=1992<br>GDP (Trillions USD)=%{y}<extra></extra>",
           "legendgroup": "Thailand",
           "marker": {
            "color": "#636efa",
            "pattern": {
             "shape": ""
            }
           },
           "name": "Thailand",
           "offsetgroup": "Thailand",
           "orientation": "v",
           "showlegend": true,
           "textposition": "auto",
           "type": "bar",
           "x": [
            "Thailand"
           ],
           "xaxis": "x",
           "y": [
            111452746517.655
           ],
           "yaxis": "y"
          },
          {
           "alignmentgroup": "True",
           "hovertemplate": "Country=%{x}<br>date=1992<br>GDP (Trillions USD)=%{y}<extra></extra>",
           "legendgroup": "Turkiye",
           "marker": {
            "color": "#EF553B",
            "pattern": {
             "shape": ""
            }
           },
           "name": "Turkiye",
           "offsetgroup": "Turkiye",
           "orientation": "v",
           "showlegend": true,
           "textposition": "auto",
           "type": "bar",
           "x": [
            "Turkiye"
           ],
           "xaxis": "x",
           "y": [
            159104772991.851
           ],
           "yaxis": "y"
          },
          {
           "alignmentgroup": "True",
           "hovertemplate": "Country=%{x}<br>date=1992<br>GDP (Trillions USD)=%{y}<extra></extra>",
           "legendgroup": "United Kingdom",
           "marker": {
            "color": "#00cc96",
            "pattern": {
             "shape": ""
            }
           },
           "name": "United Kingdom",
           "offsetgroup": "United Kingdom",
           "orientation": "v",
           "showlegend": true,
           "textposition": "auto",
           "type": "bar",
           "x": [
            "United Kingdom"
           ],
           "xaxis": "x",
           "y": [
            1179659529659.53
           ],
           "yaxis": "y"
          },
          {
           "alignmentgroup": "True",
           "hovertemplate": "Country=%{x}<br>date=1992<br>GDP (Trillions USD)=%{y}<extra></extra>",
           "legendgroup": "United States",
           "marker": {
            "color": "#ab63fa",
            "pattern": {
             "shape": ""
            }
           },
           "name": "United States",
           "offsetgroup": "United States",
           "orientation": "v",
           "showlegend": true,
           "textposition": "auto",
           "type": "bar",
           "x": [
            "United States"
           ],
           "xaxis": "x",
           "y": [
            6520327000000
           ],
           "yaxis": "y"
          }
         ],
         "name": "1992"
        },
        {
         "data": [
          {
           "alignmentgroup": "True",
           "hovertemplate": "Country=%{x}<br>date=1993<br>GDP (Trillions USD)=%{y}<extra></extra>",
           "legendgroup": "Australia",
           "marker": {
            "color": "#636efa",
            "pattern": {
             "shape": ""
            }
           },
           "name": "Australia",
           "offsetgroup": "Australia",
           "orientation": "v",
           "showlegend": true,
           "textposition": "auto",
           "type": "bar",
           "x": [
            "Australia"
           ],
           "xaxis": "x",
           "y": [
            312133923552.558
           ],
           "yaxis": "y"
          },
          {
           "alignmentgroup": "True",
           "hovertemplate": "Country=%{x}<br>date=1993<br>GDP (Trillions USD)=%{y}<extra></extra>",
           "legendgroup": "Belgium",
           "marker": {
            "color": "#EF553B",
            "pattern": {
             "shape": ""
            }
           },
           "name": "Belgium",
           "offsetgroup": "Belgium",
           "orientation": "v",
           "showlegend": true,
           "textposition": "auto",
           "type": "bar",
           "x": [
            "Belgium"
           ],
           "xaxis": "x",
           "y": [
            224721795708.955
           ],
           "yaxis": "y"
          },
          {
           "alignmentgroup": "True",
           "hovertemplate": "Country=%{x}<br>date=1993<br>GDP (Trillions USD)=%{y}<extra></extra>",
           "legendgroup": "Brazil",
           "marker": {
            "color": "#00cc96",
            "pattern": {
             "shape": ""
            }
           },
           "name": "Brazil",
           "offsetgroup": "Brazil",
           "orientation": "v",
           "showlegend": true,
           "textposition": "auto",
           "type": "bar",
           "x": [
            "Brazil"
           ],
           "xaxis": "x",
           "y": [
            368292034380.96
           ],
           "yaxis": "y"
          },
          {
           "alignmentgroup": "True",
           "hovertemplate": "Country=%{x}<br>date=1993<br>GDP (Trillions USD)=%{y}<extra></extra>",
           "legendgroup": "Canada",
           "marker": {
            "color": "#ab63fa",
            "pattern": {
             "shape": ""
            }
           },
           "name": "Canada",
           "offsetgroup": "Canada",
           "orientation": "v",
           "showlegend": true,
           "textposition": "auto",
           "type": "bar",
           "x": [
            "Canada"
           ],
           "xaxis": "x",
           "y": [
            579053561739.4
           ],
           "yaxis": "y"
          },
          {
           "alignmentgroup": "True",
           "hovertemplate": "Country=%{x}<br>date=1993<br>GDP (Trillions USD)=%{y}<extra></extra>",
           "legendgroup": "China",
           "marker": {
            "color": "#FFA15A",
            "pattern": {
             "shape": ""
            }
           },
           "name": "China",
           "offsetgroup": "China",
           "orientation": "v",
           "showlegend": true,
           "textposition": "auto",
           "type": "bar",
           "x": [
            "China"
           ],
           "xaxis": "x",
           "y": [
            444731282435.515
           ],
           "yaxis": "y"
          },
          {
           "alignmentgroup": "True",
           "hovertemplate": "Country=%{x}<br>date=1993<br>GDP (Trillions USD)=%{y}<extra></extra>",
           "legendgroup": "France",
           "marker": {
            "color": "#19d3f3",
            "pattern": {
             "shape": ""
            }
           },
           "name": "France",
           "offsetgroup": "France",
           "orientation": "v",
           "showlegend": true,
           "textposition": "auto",
           "type": "bar",
           "x": [
            "France"
           ],
           "xaxis": "x",
           "y": [
            1314383368079.69
           ],
           "yaxis": "y"
          },
          {
           "alignmentgroup": "True",
           "hovertemplate": "Country=%{x}<br>date=1993<br>GDP (Trillions USD)=%{y}<extra></extra>",
           "legendgroup": "Germany",
           "marker": {
            "color": "#FF6692",
            "pattern": {
             "shape": ""
            }
           },
           "name": "Germany",
           "offsetgroup": "Germany",
           "orientation": "v",
           "showlegend": true,
           "textposition": "auto",
           "type": "bar",
           "x": [
            "Germany"
           ],
           "xaxis": "x",
           "y": [
            2078954217437.6
           ],
           "yaxis": "y"
          },
          {
           "alignmentgroup": "True",
           "hovertemplate": "Country=%{x}<br>date=1993<br>GDP (Trillions USD)=%{y}<extra></extra>",
           "legendgroup": "India",
           "marker": {
            "color": "#B6E880",
            "pattern": {
             "shape": ""
            }
           },
           "name": "India",
           "offsetgroup": "India",
           "orientation": "v",
           "showlegend": true,
           "textposition": "auto",
           "type": "bar",
           "x": [
            "India"
           ],
           "xaxis": "x",
           "y": [
            279295648982.529
           ],
           "yaxis": "y"
          },
          {
           "alignmentgroup": "True",
           "hovertemplate": "Country=%{x}<br>date=1993<br>GDP (Trillions USD)=%{y}<extra></extra>",
           "legendgroup": "Indonesia",
           "marker": {
            "color": "#FF97FF",
            "pattern": {
             "shape": ""
            }
           },
           "name": "Indonesia",
           "offsetgroup": "Indonesia",
           "orientation": "v",
           "showlegend": true,
           "textposition": "auto",
           "type": "bar",
           "x": [
            "Indonesia"
           ],
           "xaxis": "x",
           "y": [
            158006700301.533
           ],
           "yaxis": "y"
          },
          {
           "alignmentgroup": "True",
           "hovertemplate": "Country=%{x}<br>date=1993<br>GDP (Trillions USD)=%{y}<extra></extra>",
           "legendgroup": "Italy",
           "marker": {
            "color": "#FECB52",
            "pattern": {
             "shape": ""
            }
           },
           "name": "Italy",
           "offsetgroup": "Italy",
           "orientation": "v",
           "showlegend": true,
           "textposition": "auto",
           "type": "bar",
           "x": [
            "Italy"
           ],
           "xaxis": "x",
           "y": [
            1067412587670.73
           ],
           "yaxis": "y"
          },
          {
           "alignmentgroup": "True",
           "hovertemplate": "Country=%{x}<br>date=1993<br>GDP (Trillions USD)=%{y}<extra></extra>",
           "legendgroup": "Japan",
           "marker": {
            "color": "#636efa",
            "pattern": {
             "shape": ""
            }
           },
           "name": "Japan",
           "offsetgroup": "Japan",
           "orientation": "v",
           "showlegend": true,
           "textposition": "auto",
           "type": "bar",
           "x": [
            "Japan"
           ],
           "xaxis": "x",
           "y": [
            4536940479038.25
           ],
           "yaxis": "y"
          },
          {
           "alignmentgroup": "True",
           "hovertemplate": "Country=%{x}<br>date=1993<br>GDP (Trillions USD)=%{y}<extra></extra>",
           "legendgroup": "Korea, Rep.",
           "marker": {
            "color": "#EF553B",
            "pattern": {
             "shape": ""
            }
           },
           "name": "Korea, Rep.",
           "offsetgroup": "Korea, Rep.",
           "orientation": "v",
           "showlegend": true,
           "textposition": "auto",
           "type": "bar",
           "x": [
            "Korea, Rep."
           ],
           "xaxis": "x",
           "y": [
            392665710525.411
           ],
           "yaxis": "y"
          },
          {
           "alignmentgroup": "True",
           "hovertemplate": "Country=%{x}<br>date=1993<br>GDP (Trillions USD)=%{y}<extra></extra>",
           "legendgroup": "Mexico",
           "marker": {
            "color": "#00cc96",
            "pattern": {
             "shape": ""
            }
           },
           "name": "Mexico",
           "offsetgroup": "Mexico",
           "orientation": "v",
           "showlegend": true,
           "textposition": "auto",
           "type": "bar",
           "x": [
            "Mexico"
           ],
           "xaxis": "x",
           "y": [
            530160763983.506
           ],
           "yaxis": "y"
          },
          {
           "alignmentgroup": "True",
           "hovertemplate": "Country=%{x}<br>date=1993<br>GDP (Trillions USD)=%{y}<extra></extra>",
           "legendgroup": "Netherlands",
           "marker": {
            "color": "#ab63fa",
            "pattern": {
             "shape": ""
            }
           },
           "name": "Netherlands",
           "offsetgroup": "Netherlands",
           "orientation": "v",
           "showlegend": true,
           "textposition": "auto",
           "type": "bar",
           "x": [
            "Netherlands"
           ],
           "xaxis": "x",
           "y": [
            354070495965.828
           ],
           "yaxis": "y"
          },
          {
           "alignmentgroup": "True",
           "hovertemplate": "Country=%{x}<br>date=1993<br>GDP (Trillions USD)=%{y}<extra></extra>",
           "legendgroup": "Poland",
           "marker": {
            "color": "#FFA15A",
            "pattern": {
             "shape": ""
            }
           },
           "name": "Poland",
           "offsetgroup": "Poland",
           "orientation": "v",
           "showlegend": true,
           "textposition": "auto",
           "type": "bar",
           "x": [
            "Poland"
           ],
           "xaxis": "x",
           "y": [
            96043157272.862
           ],
           "yaxis": "y"
          },
          {
           "alignmentgroup": "True",
           "hovertemplate": "Country=%{x}<br>date=1993<br>GDP (Trillions USD)=%{y}<extra></extra>",
           "legendgroup": "Russian Federation",
           "marker": {
            "color": "#19d3f3",
            "pattern": {
             "shape": ""
            }
           },
           "name": "Russian Federation",
           "offsetgroup": "Russian Federation",
           "orientation": "v",
           "showlegend": true,
           "textposition": "auto",
           "type": "bar",
           "x": [
            "Russian Federation"
           ],
           "xaxis": "x",
           "y": [
            435083713850.837
           ],
           "yaxis": "y"
          },
          {
           "alignmentgroup": "True",
           "hovertemplate": "Country=%{x}<br>date=1993<br>GDP (Trillions USD)=%{y}<extra></extra>",
           "legendgroup": "Saudi Arabia",
           "marker": {
            "color": "#FF6692",
            "pattern": {
             "shape": ""
            }
           },
           "name": "Saudi Arabia",
           "offsetgroup": "Saudi Arabia",
           "orientation": "v",
           "showlegend": true,
           "textposition": "auto",
           "type": "bar",
           "x": [
            "Saudi Arabia"
           ],
           "xaxis": "x",
           "y": [
            132967957276.368
           ],
           "yaxis": "y"
          },
          {
           "alignmentgroup": "True",
           "hovertemplate": "Country=%{x}<br>date=1993<br>GDP (Trillions USD)=%{y}<extra></extra>",
           "legendgroup": "Spain",
           "marker": {
            "color": "#B6E880",
            "pattern": {
             "shape": ""
            }
           },
           "name": "Spain",
           "offsetgroup": "Spain",
           "orientation": "v",
           "showlegend": true,
           "textposition": "auto",
           "type": "bar",
           "x": [
            "Spain"
           ],
           "xaxis": "x",
           "y": [
            524700572623.872
           ],
           "yaxis": "y"
          },
          {
           "alignmentgroup": "True",
           "hovertemplate": "Country=%{x}<br>date=1993<br>GDP (Trillions USD)=%{y}<extra></extra>",
           "legendgroup": "Sweden",
           "marker": {
            "color": "#FF97FF",
            "pattern": {
             "shape": ""
            }
           },
           "name": "Sweden",
           "offsetgroup": "Sweden",
           "orientation": "v",
           "showlegend": true,
           "textposition": "auto",
           "type": "bar",
           "x": [
            "Sweden"
           ],
           "xaxis": "x",
           "y": [
            212647043708.405
           ],
           "yaxis": "y"
          },
          {
           "alignmentgroup": "True",
           "hovertemplate": "Country=%{x}<br>date=1993<br>GDP (Trillions USD)=%{y}<extra></extra>",
           "legendgroup": "Switzerland",
           "marker": {
            "color": "#FECB52",
            "pattern": {
             "shape": ""
            }
           },
           "name": "Switzerland",
           "offsetgroup": "Switzerland",
           "orientation": "v",
           "showlegend": true,
           "textposition": "auto",
           "type": "bar",
           "x": [
            "Switzerland"
           ],
           "xaxis": "x",
           "y": [
            272237527070.926
           ],
           "yaxis": "y"
          },
          {
           "alignmentgroup": "True",
           "hovertemplate": "Country=%{x}<br>date=1993<br>GDP (Trillions USD)=%{y}<extra></extra>",
           "legendgroup": "Thailand",
           "marker": {
            "color": "#636efa",
            "pattern": {
             "shape": ""
            }
           },
           "name": "Thailand",
           "offsetgroup": "Thailand",
           "orientation": "v",
           "showlegend": true,
           "textposition": "auto",
           "type": "bar",
           "x": [
            "Thailand"
           ],
           "xaxis": "x",
           "y": [
            128889262951.157
           ],
           "yaxis": "y"
          },
          {
           "alignmentgroup": "True",
           "hovertemplate": "Country=%{x}<br>date=1993<br>GDP (Trillions USD)=%{y}<extra></extra>",
           "legendgroup": "Turkiye",
           "marker": {
            "color": "#EF553B",
            "pattern": {
             "shape": ""
            }
           },
           "name": "Turkiye",
           "offsetgroup": "Turkiye",
           "orientation": "v",
           "showlegend": true,
           "textposition": "auto",
           "type": "bar",
           "x": [
            "Turkiye"
           ],
           "xaxis": "x",
           "y": [
            180415757851.616
           ],
           "yaxis": "y"
          },
          {
           "alignmentgroup": "True",
           "hovertemplate": "Country=%{x}<br>date=1993<br>GDP (Trillions USD)=%{y}<extra></extra>",
           "legendgroup": "United Kingdom",
           "marker": {
            "color": "#00cc96",
            "pattern": {
             "shape": ""
            }
           },
           "name": "United Kingdom",
           "offsetgroup": "United Kingdom",
           "orientation": "v",
           "showlegend": true,
           "textposition": "auto",
           "type": "bar",
           "x": [
            "United Kingdom"
           ],
           "xaxis": "x",
           "y": [
            1061388722255.55
           ],
           "yaxis": "y"
          },
          {
           "alignmentgroup": "True",
           "hovertemplate": "Country=%{x}<br>date=1993<br>GDP (Trillions USD)=%{y}<extra></extra>",
           "legendgroup": "United States",
           "marker": {
            "color": "#ab63fa",
            "pattern": {
             "shape": ""
            }
           },
           "name": "United States",
           "offsetgroup": "United States",
           "orientation": "v",
           "showlegend": true,
           "textposition": "auto",
           "type": "bar",
           "x": [
            "United States"
           ],
           "xaxis": "x",
           "y": [
            6858559000000
           ],
           "yaxis": "y"
          }
         ],
         "name": "1993"
        },
        {
         "data": [
          {
           "alignmentgroup": "True",
           "hovertemplate": "Country=%{x}<br>date=1994<br>GDP (Trillions USD)=%{y}<extra></extra>",
           "legendgroup": "Australia",
           "marker": {
            "color": "#636efa",
            "pattern": {
             "shape": ""
            }
           },
           "name": "Australia",
           "offsetgroup": "Australia",
           "orientation": "v",
           "showlegend": true,
           "textposition": "auto",
           "type": "bar",
           "x": [
            "Australia"
           ],
           "xaxis": "x",
           "y": [
            322806641300.588
           ],
           "yaxis": "y"
          },
          {
           "alignmentgroup": "True",
           "hovertemplate": "Country=%{x}<br>date=1994<br>GDP (Trillions USD)=%{y}<extra></extra>",
           "legendgroup": "Belgium",
           "marker": {
            "color": "#EF553B",
            "pattern": {
             "shape": ""
            }
           },
           "name": "Belgium",
           "offsetgroup": "Belgium",
           "orientation": "v",
           "showlegend": true,
           "textposition": "auto",
           "type": "bar",
           "x": [
            "Belgium"
           ],
           "xaxis": "x",
           "y": [
            244884129491.198
           ],
           "yaxis": "y"
          },
          {
           "alignmentgroup": "True",
           "hovertemplate": "Country=%{x}<br>date=1994<br>GDP (Trillions USD)=%{y}<extra></extra>",
           "legendgroup": "Brazil",
           "marker": {
            "color": "#00cc96",
            "pattern": {
             "shape": ""
            }
           },
           "name": "Brazil",
           "offsetgroup": "Brazil",
           "orientation": "v",
           "showlegend": true,
           "textposition": "auto",
           "type": "bar",
           "x": [
            "Brazil"
           ],
           "xaxis": "x",
           "y": [
            525369467295.737
           ],
           "yaxis": "y"
          },
          {
           "alignmentgroup": "True",
           "hovertemplate": "Country=%{x}<br>date=1994<br>GDP (Trillions USD)=%{y}<extra></extra>",
           "legendgroup": "Canada",
           "marker": {
            "color": "#ab63fa",
            "pattern": {
             "shape": ""
            }
           },
           "name": "Canada",
           "offsetgroup": "Canada",
           "orientation": "v",
           "showlegend": true,
           "textposition": "auto",
           "type": "bar",
           "x": [
            "Canada"
           ],
           "xaxis": "x",
           "y": [
            579944346807.264
           ],
           "yaxis": "y"
          },
          {
           "alignmentgroup": "True",
           "hovertemplate": "Country=%{x}<br>date=1994<br>GDP (Trillions USD)=%{y}<extra></extra>",
           "legendgroup": "China",
           "marker": {
            "color": "#FFA15A",
            "pattern": {
             "shape": ""
            }
           },
           "name": "China",
           "offsetgroup": "China",
           "orientation": "v",
           "showlegend": true,
           "textposition": "auto",
           "type": "bar",
           "x": [
            "China"
           ],
           "xaxis": "x",
           "y": [
            564321854521.013
           ],
           "yaxis": "y"
          },
          {
           "alignmentgroup": "True",
           "hovertemplate": "Country=%{x}<br>date=1994<br>GDP (Trillions USD)=%{y}<extra></extra>",
           "legendgroup": "France",
           "marker": {
            "color": "#19d3f3",
            "pattern": {
             "shape": ""
            }
           },
           "name": "France",
           "offsetgroup": "France",
           "orientation": "v",
           "showlegend": true,
           "textposition": "auto",
           "type": "bar",
           "x": [
            "France"
           ],
           "xaxis": "x",
           "y": [
            1385822778827.98
           ],
           "yaxis": "y"
          },
          {
           "alignmentgroup": "True",
           "hovertemplate": "Country=%{x}<br>date=1994<br>GDP (Trillions USD)=%{y}<extra></extra>",
           "legendgroup": "Germany",
           "marker": {
            "color": "#FF6692",
            "pattern": {
             "shape": ""
            }
           },
           "name": "Germany",
           "offsetgroup": "Germany",
           "orientation": "v",
           "showlegend": true,
           "textposition": "auto",
           "type": "bar",
           "x": [
            "Germany"
           ],
           "xaxis": "x",
           "y": [
            2215282632276.73
           ],
           "yaxis": "y"
          },
          {
           "alignmentgroup": "True",
           "hovertemplate": "Country=%{x}<br>date=1994<br>GDP (Trillions USD)=%{y}<extra></extra>",
           "legendgroup": "India",
           "marker": {
            "color": "#B6E880",
            "pattern": {
             "shape": ""
            }
           },
           "name": "India",
           "offsetgroup": "India",
           "orientation": "v",
           "showlegend": true,
           "textposition": "auto",
           "type": "bar",
           "x": [
            "India"
           ],
           "xaxis": "x",
           "y": [
            327274843459.429
           ],
           "yaxis": "y"
          },
          {
           "alignmentgroup": "True",
           "hovertemplate": "Country=%{x}<br>date=1994<br>GDP (Trillions USD)=%{y}<extra></extra>",
           "legendgroup": "Indonesia",
           "marker": {
            "color": "#FF97FF",
            "pattern": {
             "shape": ""
            }
           },
           "name": "Indonesia",
           "offsetgroup": "Indonesia",
           "orientation": "v",
           "showlegend": true,
           "textposition": "auto",
           "type": "bar",
           "x": [
            "Indonesia"
           ],
           "xaxis": "x",
           "y": [
            176892143931.505
           ],
           "yaxis": "y"
          },
          {
           "alignmentgroup": "True",
           "hovertemplate": "Country=%{x}<br>date=1994<br>GDP (Trillions USD)=%{y}<extra></extra>",
           "legendgroup": "Italy",
           "marker": {
            "color": "#FECB52",
            "pattern": {
             "shape": ""
            }
           },
           "name": "Italy",
           "offsetgroup": "Italy",
           "orientation": "v",
           "showlegend": true,
           "textposition": "auto",
           "type": "bar",
           "x": [
            "Italy"
           ],
           "xaxis": "x",
           "y": [
            1101750159702.21
           ],
           "yaxis": "y"
          },
          {
           "alignmentgroup": "True",
           "hovertemplate": "Country=%{x}<br>date=1994<br>GDP (Trillions USD)=%{y}<extra></extra>",
           "legendgroup": "Japan",
           "marker": {
            "color": "#636efa",
            "pattern": {
             "shape": ""
            }
           },
           "name": "Japan",
           "offsetgroup": "Japan",
           "orientation": "v",
           "showlegend": true,
           "textposition": "auto",
           "type": "bar",
           "x": [
            "Japan"
           ],
           "xaxis": "x",
           "y": [
            4998797547740.97
           ],
           "yaxis": "y"
          },
          {
           "alignmentgroup": "True",
           "hovertemplate": "Country=%{x}<br>date=1994<br>GDP (Trillions USD)=%{y}<extra></extra>",
           "legendgroup": "Korea, Rep.",
           "marker": {
            "color": "#EF553B",
            "pattern": {
             "shape": ""
            }
           },
           "name": "Korea, Rep.",
           "offsetgroup": "Korea, Rep.",
           "orientation": "v",
           "showlegend": true,
           "textposition": "auto",
           "type": "bar",
           "x": [
            "Korea, Rep."
           ],
           "xaxis": "x",
           "y": [
            463619823515.164
           ],
           "yaxis": "y"
          },
          {
           "alignmentgroup": "True",
           "hovertemplate": "Country=%{x}<br>date=1994<br>GDP (Trillions USD)=%{y}<extra></extra>",
           "legendgroup": "Mexico",
           "marker": {
            "color": "#00cc96",
            "pattern": {
             "shape": ""
            }
           },
           "name": "Mexico",
           "offsetgroup": "Mexico",
           "orientation": "v",
           "showlegend": true,
           "textposition": "auto",
           "type": "bar",
           "x": [
            "Mexico"
           ],
           "xaxis": "x",
           "y": [
            553618247900.74
           ],
           "yaxis": "y"
          },
          {
           "alignmentgroup": "True",
           "hovertemplate": "Country=%{x}<br>date=1994<br>GDP (Trillions USD)=%{y}<extra></extra>",
           "legendgroup": "Netherlands",
           "marker": {
            "color": "#ab63fa",
            "pattern": {
             "shape": ""
            }
           },
           "name": "Netherlands",
           "offsetgroup": "Netherlands",
           "orientation": "v",
           "showlegend": true,
           "textposition": "auto",
           "type": "bar",
           "x": [
            "Netherlands"
           ],
           "xaxis": "x",
           "y": [
            379688232231.505
           ],
           "yaxis": "y"
          },
          {
           "alignmentgroup": "True",
           "hovertemplate": "Country=%{x}<br>date=1994<br>GDP (Trillions USD)=%{y}<extra></extra>",
           "legendgroup": "Poland",
           "marker": {
            "color": "#FFA15A",
            "pattern": {
             "shape": ""
            }
           },
           "name": "Poland",
           "offsetgroup": "Poland",
           "orientation": "v",
           "showlegend": true,
           "textposition": "auto",
           "type": "bar",
           "x": [
            "Poland"
           ],
           "xaxis": "x",
           "y": [
            110803635287.621
           ],
           "yaxis": "y"
          },
          {
           "alignmentgroup": "True",
           "hovertemplate": "Country=%{x}<br>date=1994<br>GDP (Trillions USD)=%{y}<extra></extra>",
           "legendgroup": "Russian Federation",
           "marker": {
            "color": "#19d3f3",
            "pattern": {
             "shape": ""
            }
           },
           "name": "Russian Federation",
           "offsetgroup": "Russian Federation",
           "orientation": "v",
           "showlegend": true,
           "textposition": "auto",
           "type": "bar",
           "x": [
            "Russian Federation"
           ],
           "xaxis": "x",
           "y": [
            395077301248.464
           ],
           "yaxis": "y"
          },
          {
           "alignmentgroup": "True",
           "hovertemplate": "Country=%{x}<br>date=1994<br>GDP (Trillions USD)=%{y}<extra></extra>",
           "legendgroup": "Saudi Arabia",
           "marker": {
            "color": "#FF6692",
            "pattern": {
             "shape": ""
            }
           },
           "name": "Saudi Arabia",
           "offsetgroup": "Saudi Arabia",
           "orientation": "v",
           "showlegend": true,
           "textposition": "auto",
           "type": "bar",
           "x": [
            "Saudi Arabia"
           ],
           "xaxis": "x",
           "y": [
            135174899866.489
           ],
           "yaxis": "y"
          },
          {
           "alignmentgroup": "True",
           "hovertemplate": "Country=%{x}<br>date=1994<br>GDP (Trillions USD)=%{y}<extra></extra>",
           "legendgroup": "Spain",
           "marker": {
            "color": "#B6E880",
            "pattern": {
             "shape": ""
            }
           },
           "name": "Spain",
           "offsetgroup": "Spain",
           "orientation": "v",
           "showlegend": true,
           "textposition": "auto",
           "type": "bar",
           "x": [
            "Spain"
           ],
           "xaxis": "x",
           "y": [
            530183651720.283
           ],
           "yaxis": "y"
          },
          {
           "alignmentgroup": "True",
           "hovertemplate": "Country=%{x}<br>date=1994<br>GDP (Trillions USD)=%{y}<extra></extra>",
           "legendgroup": "Sweden",
           "marker": {
            "color": "#FF97FF",
            "pattern": {
             "shape": ""
            }
           },
           "name": "Sweden",
           "offsetgroup": "Sweden",
           "orientation": "v",
           "showlegend": true,
           "textposition": "auto",
           "type": "bar",
           "x": [
            "Sweden"
           ],
           "xaxis": "x",
           "y": [
            228701658890.617
           ],
           "yaxis": "y"
          },
          {
           "alignmentgroup": "True",
           "hovertemplate": "Country=%{x}<br>date=1994<br>GDP (Trillions USD)=%{y}<extra></extra>",
           "legendgroup": "Switzerland",
           "marker": {
            "color": "#FECB52",
            "pattern": {
             "shape": ""
            }
           },
           "name": "Switzerland",
           "offsetgroup": "Switzerland",
           "orientation": "v",
           "showlegend": true,
           "textposition": "auto",
           "type": "bar",
           "x": [
            "Switzerland"
           ],
           "xaxis": "x",
           "y": [
            301375055202.164
           ],
           "yaxis": "y"
          },
          {
           "alignmentgroup": "True",
           "hovertemplate": "Country=%{x}<br>date=1994<br>GDP (Trillions USD)=%{y}<extra></extra>",
           "legendgroup": "Thailand",
           "marker": {
            "color": "#636efa",
            "pattern": {
             "shape": ""
            }
           },
           "name": "Thailand",
           "offsetgroup": "Thailand",
           "orientation": "v",
           "showlegend": true,
           "textposition": "auto",
           "type": "bar",
           "x": [
            "Thailand"
           ],
           "xaxis": "x",
           "y": [
            146683778959.101
           ],
           "yaxis": "y"
          },
          {
           "alignmentgroup": "True",
           "hovertemplate": "Country=%{x}<br>date=1994<br>GDP (Trillions USD)=%{y}<extra></extra>",
           "legendgroup": "Turkiye",
           "marker": {
            "color": "#EF553B",
            "pattern": {
             "shape": ""
            }
           },
           "name": "Turkiye",
           "offsetgroup": "Turkiye",
           "orientation": "v",
           "showlegend": true,
           "textposition": "auto",
           "type": "bar",
           "x": [
            "Turkiye"
           ],
           "xaxis": "x",
           "y": [
            130650447499.071
           ],
           "yaxis": "y"
          },
          {
           "alignmentgroup": "True",
           "hovertemplate": "Country=%{x}<br>date=1994<br>GDP (Trillions USD)=%{y}<extra></extra>",
           "legendgroup": "United Kingdom",
           "marker": {
            "color": "#00cc96",
            "pattern": {
             "shape": ""
            }
           },
           "name": "United Kingdom",
           "offsetgroup": "United Kingdom",
           "orientation": "v",
           "showlegend": true,
           "textposition": "auto",
           "type": "bar",
           "x": [
            "United Kingdom"
           ],
           "xaxis": "x",
           "y": [
            1140489745944.29
           ],
           "yaxis": "y"
          },
          {
           "alignmentgroup": "True",
           "hovertemplate": "Country=%{x}<br>date=1994<br>GDP (Trillions USD)=%{y}<extra></extra>",
           "legendgroup": "United States",
           "marker": {
            "color": "#ab63fa",
            "pattern": {
             "shape": ""
            }
           },
           "name": "United States",
           "offsetgroup": "United States",
           "orientation": "v",
           "showlegend": true,
           "textposition": "auto",
           "type": "bar",
           "x": [
            "United States"
           ],
           "xaxis": "x",
           "y": [
            7287236000000
           ],
           "yaxis": "y"
          }
         ],
         "name": "1994"
        },
        {
         "data": [
          {
           "alignmentgroup": "True",
           "hovertemplate": "Country=%{x}<br>date=1995<br>GDP (Trillions USD)=%{y}<extra></extra>",
           "legendgroup": "Australia",
           "marker": {
            "color": "#636efa",
            "pattern": {
             "shape": ""
            }
           },
           "name": "Australia",
           "offsetgroup": "Australia",
           "orientation": "v",
           "showlegend": true,
           "textposition": "auto",
           "type": "bar",
           "x": [
            "Australia"
           ],
           "xaxis": "x",
           "y": [
            368166023166.023
           ],
           "yaxis": "y"
          },
          {
           "alignmentgroup": "True",
           "hovertemplate": "Country=%{x}<br>date=1995<br>GDP (Trillions USD)=%{y}<extra></extra>",
           "legendgroup": "Belgium",
           "marker": {
            "color": "#EF553B",
            "pattern": {
             "shape": ""
            }
           },
           "name": "Belgium",
           "offsetgroup": "Belgium",
           "orientation": "v",
           "showlegend": true,
           "textposition": "auto",
           "type": "bar",
           "x": [
            "Belgium"
           ],
           "xaxis": "x",
           "y": [
            288025588396.278
           ],
           "yaxis": "y"
          },
          {
           "alignmentgroup": "True",
           "hovertemplate": "Country=%{x}<br>date=1995<br>GDP (Trillions USD)=%{y}<extra></extra>",
           "legendgroup": "Brazil",
           "marker": {
            "color": "#00cc96",
            "pattern": {
             "shape": ""
            }
           },
           "name": "Brazil",
           "offsetgroup": "Brazil",
           "orientation": "v",
           "showlegend": true,
           "textposition": "auto",
           "type": "bar",
           "x": [
            "Brazil"
           ],
           "xaxis": "x",
           "y": [
            769333050986.905
           ],
           "yaxis": "y"
          },
          {
           "alignmentgroup": "True",
           "hovertemplate": "Country=%{x}<br>date=1995<br>GDP (Trillions USD)=%{y}<extra></extra>",
           "legendgroup": "Canada",
           "marker": {
            "color": "#ab63fa",
            "pattern": {
             "shape": ""
            }
           },
           "name": "Canada",
           "offsetgroup": "Canada",
           "orientation": "v",
           "showlegend": true,
           "textposition": "auto",
           "type": "bar",
           "x": [
            "Canada"
           ],
           "xaxis": "x",
           "y": [
            605961090061.207
           ],
           "yaxis": "y"
          },
          {
           "alignmentgroup": "True",
           "hovertemplate": "Country=%{x}<br>date=1995<br>GDP (Trillions USD)=%{y}<extra></extra>",
           "legendgroup": "China",
           "marker": {
            "color": "#FFA15A",
            "pattern": {
             "shape": ""
            }
           },
           "name": "China",
           "offsetgroup": "China",
           "orientation": "v",
           "showlegend": true,
           "textposition": "auto",
           "type": "bar",
           "x": [
            "China"
           ],
           "xaxis": "x",
           "y": [
            734484834573.582
           ],
           "yaxis": "y"
          },
          {
           "alignmentgroup": "True",
           "hovertemplate": "Country=%{x}<br>date=1995<br>GDP (Trillions USD)=%{y}<extra></extra>",
           "legendgroup": "France",
           "marker": {
            "color": "#19d3f3",
            "pattern": {
             "shape": ""
            }
           },
           "name": "France",
           "offsetgroup": "France",
           "orientation": "v",
           "showlegend": true,
           "textposition": "auto",
           "type": "bar",
           "x": [
            "France"
           ],
           "xaxis": "x",
           "y": [
            1595219345511.89
           ],
           "yaxis": "y"
          },
          {
           "alignmentgroup": "True",
           "hovertemplate": "Country=%{x}<br>date=1995<br>GDP (Trillions USD)=%{y}<extra></extra>",
           "legendgroup": "Germany",
           "marker": {
            "color": "#FF6692",
            "pattern": {
             "shape": ""
            }
           },
           "name": "Germany",
           "offsetgroup": "Germany",
           "orientation": "v",
           "showlegend": true,
           "textposition": "auto",
           "type": "bar",
           "x": [
            "Germany"
           ],
           "xaxis": "x",
           "y": [
            2593053091306.13
           ],
           "yaxis": "y"
          },
          {
           "alignmentgroup": "True",
           "hovertemplate": "Country=%{x}<br>date=1995<br>GDP (Trillions USD)=%{y}<extra></extra>",
           "legendgroup": "India",
           "marker": {
            "color": "#B6E880",
            "pattern": {
             "shape": ""
            }
           },
           "name": "India",
           "offsetgroup": "India",
           "orientation": "v",
           "showlegend": true,
           "textposition": "auto",
           "type": "bar",
           "x": [
            "India"
           ],
           "xaxis": "x",
           "y": [
            360281909643.489
           ],
           "yaxis": "y"
          },
          {
           "alignmentgroup": "True",
           "hovertemplate": "Country=%{x}<br>date=1995<br>GDP (Trillions USD)=%{y}<extra></extra>",
           "legendgroup": "Indonesia",
           "marker": {
            "color": "#FF97FF",
            "pattern": {
             "shape": ""
            }
           },
           "name": "Indonesia",
           "offsetgroup": "Indonesia",
           "orientation": "v",
           "showlegend": true,
           "textposition": "auto",
           "type": "bar",
           "x": [
            "Indonesia"
           ],
           "xaxis": "x",
           "y": [
            202132028723.115
           ],
           "yaxis": "y"
          },
          {
           "alignmentgroup": "True",
           "hovertemplate": "Country=%{x}<br>date=1995<br>GDP (Trillions USD)=%{y}<extra></extra>",
           "legendgroup": "Italy",
           "marker": {
            "color": "#FECB52",
            "pattern": {
             "shape": ""
            }
           },
           "name": "Italy",
           "offsetgroup": "Italy",
           "orientation": "v",
           "showlegend": true,
           "textposition": "auto",
           "type": "bar",
           "x": [
            "Italy"
           ],
           "xaxis": "x",
           "y": [
            1177369428265.78
           ],
           "yaxis": "y"
          },
          {
           "alignmentgroup": "True",
           "hovertemplate": "Country=%{x}<br>date=1995<br>GDP (Trillions USD)=%{y}<extra></extra>",
           "legendgroup": "Japan",
           "marker": {
            "color": "#636efa",
            "pattern": {
             "shape": ""
            }
           },
           "name": "Japan",
           "offsetgroup": "Japan",
           "orientation": "v",
           "showlegend": true,
           "textposition": "auto",
           "type": "bar",
           "x": [
            "Japan"
           ],
           "xaxis": "x",
           "y": [
            5545563663889.7
           ],
           "yaxis": "y"
          },
          {
           "alignmentgroup": "True",
           "hovertemplate": "Country=%{x}<br>date=1995<br>GDP (Trillions USD)=%{y}<extra></extra>",
           "legendgroup": "Korea, Rep.",
           "marker": {
            "color": "#EF553B",
            "pattern": {
             "shape": ""
            }
           },
           "name": "Korea, Rep.",
           "offsetgroup": "Korea, Rep.",
           "orientation": "v",
           "showlegend": true,
           "textposition": "auto",
           "type": "bar",
           "x": [
            "Korea, Rep."
           ],
           "xaxis": "x",
           "y": [
            566581003128.204
           ],
           "yaxis": "y"
          },
          {
           "alignmentgroup": "True",
           "hovertemplate": "Country=%{x}<br>date=1995<br>GDP (Trillions USD)=%{y}<extra></extra>",
           "legendgroup": "Mexico",
           "marker": {
            "color": "#00cc96",
            "pattern": {
             "shape": ""
            }
           },
           "name": "Mexico",
           "offsetgroup": "Mexico",
           "orientation": "v",
           "showlegend": true,
           "textposition": "auto",
           "type": "bar",
           "x": [
            "Mexico"
           ],
           "xaxis": "x",
           "y": [
            380157469866.849
           ],
           "yaxis": "y"
          },
          {
           "alignmentgroup": "True",
           "hovertemplate": "Country=%{x}<br>date=1995<br>GDP (Trillions USD)=%{y}<extra></extra>",
           "legendgroup": "Netherlands",
           "marker": {
            "color": "#ab63fa",
            "pattern": {
             "shape": ""
            }
           },
           "name": "Netherlands",
           "offsetgroup": "Netherlands",
           "orientation": "v",
           "showlegend": true,
           "textposition": "auto",
           "type": "bar",
           "x": [
            "Netherlands"
           ],
           "xaxis": "x",
           "y": [
            452967334614.329
           ],
           "yaxis": "y"
          },
          {
           "alignmentgroup": "True",
           "hovertemplate": "Country=%{x}<br>date=1995<br>GDP (Trillions USD)=%{y}<extra></extra>",
           "legendgroup": "Poland",
           "marker": {
            "color": "#FFA15A",
            "pattern": {
             "shape": ""
            }
           },
           "name": "Poland",
           "offsetgroup": "Poland",
           "orientation": "v",
           "showlegend": true,
           "textposition": "auto",
           "type": "bar",
           "x": [
            "Poland"
           ],
           "xaxis": "x",
           "y": [
            142838527115.448
           ],
           "yaxis": "y"
          },
          {
           "alignmentgroup": "True",
           "hovertemplate": "Country=%{x}<br>date=1995<br>GDP (Trillions USD)=%{y}<extra></extra>",
           "legendgroup": "Russian Federation",
           "marker": {
            "color": "#19d3f3",
            "pattern": {
             "shape": ""
            }
           },
           "name": "Russian Federation",
           "offsetgroup": "Russian Federation",
           "orientation": "v",
           "showlegend": true,
           "textposition": "auto",
           "type": "bar",
           "x": [
            "Russian Federation"
           ],
           "xaxis": "x",
           "y": [
            395537185734.854
           ],
           "yaxis": "y"
          },
          {
           "alignmentgroup": "True",
           "hovertemplate": "Country=%{x}<br>date=1995<br>GDP (Trillions USD)=%{y}<extra></extra>",
           "legendgroup": "Saudi Arabia",
           "marker": {
            "color": "#FF6692",
            "pattern": {
             "shape": ""
            }
           },
           "name": "Saudi Arabia",
           "offsetgroup": "Saudi Arabia",
           "orientation": "v",
           "showlegend": true,
           "textposition": "auto",
           "type": "bar",
           "x": [
            "Saudi Arabia"
           ],
           "xaxis": "x",
           "y": [
            143343124165.554
           ],
           "yaxis": "y"
          },
          {
           "alignmentgroup": "True",
           "hovertemplate": "Country=%{x}<br>date=1995<br>GDP (Trillions USD)=%{y}<extra></extra>",
           "legendgroup": "Spain",
           "marker": {
            "color": "#B6E880",
            "pattern": {
             "shape": ""
            }
           },
           "name": "Spain",
           "offsetgroup": "Spain",
           "orientation": "v",
           "showlegend": true,
           "textposition": "auto",
           "type": "bar",
           "x": [
            "Spain"
           ],
           "xaxis": "x",
           "y": [
            614170002668.802
           ],
           "yaxis": "y"
          },
          {
           "alignmentgroup": "True",
           "hovertemplate": "Country=%{x}<br>date=1995<br>GDP (Trillions USD)=%{y}<extra></extra>",
           "legendgroup": "Sweden",
           "marker": {
            "color": "#FF97FF",
            "pattern": {
             "shape": ""
            }
           },
           "name": "Sweden",
           "offsetgroup": "Sweden",
           "orientation": "v",
           "showlegend": true,
           "textposition": "auto",
           "type": "bar",
           "x": [
            "Sweden"
           ],
           "xaxis": "x",
           "y": [
            267052836695.499
           ],
           "yaxis": "y"
          },
          {
           "alignmentgroup": "True",
           "hovertemplate": "Country=%{x}<br>date=1995<br>GDP (Trillions USD)=%{y}<extra></extra>",
           "legendgroup": "Switzerland",
           "marker": {
            "color": "#FECB52",
            "pattern": {
             "shape": ""
            }
           },
           "name": "Switzerland",
           "offsetgroup": "Switzerland",
           "orientation": "v",
           "showlegend": true,
           "textposition": "auto",
           "type": "bar",
           "x": [
            "Switzerland"
           ],
           "xaxis": "x",
           "y": [
            352835806342.495
           ],
           "yaxis": "y"
          },
          {
           "alignmentgroup": "True",
           "hovertemplate": "Country=%{x}<br>date=1995<br>GDP (Trillions USD)=%{y}<extra></extra>",
           "legendgroup": "Thailand",
           "marker": {
            "color": "#636efa",
            "pattern": {
             "shape": ""
            }
           },
           "name": "Thailand",
           "offsetgroup": "Thailand",
           "orientation": "v",
           "showlegend": true,
           "textposition": "auto",
           "type": "bar",
           "x": [
            "Thailand"
           ],
           "xaxis": "x",
           "y": [
            169278916592.843
           ],
           "yaxis": "y"
          },
          {
           "alignmentgroup": "True",
           "hovertemplate": "Country=%{x}<br>date=1995<br>GDP (Trillions USD)=%{y}<extra></extra>",
           "legendgroup": "Turkiye",
           "marker": {
            "color": "#EF553B",
            "pattern": {
             "shape": ""
            }
           },
           "name": "Turkiye",
           "offsetgroup": "Turkiye",
           "orientation": "v",
           "showlegend": true,
           "textposition": "auto",
           "type": "bar",
           "x": [
            "Turkiye"
           ],
           "xaxis": "x",
           "y": [
            169319579016.25
           ],
           "yaxis": "y"
          },
          {
           "alignmentgroup": "True",
           "hovertemplate": "Country=%{x}<br>date=1995<br>GDP (Trillions USD)=%{y}<extra></extra>",
           "legendgroup": "United Kingdom",
           "marker": {
            "color": "#00cc96",
            "pattern": {
             "shape": ""
            }
           },
           "name": "United Kingdom",
           "offsetgroup": "United Kingdom",
           "orientation": "v",
           "showlegend": true,
           "textposition": "auto",
           "type": "bar",
           "x": [
            "United Kingdom"
           ],
           "xaxis": "x",
           "y": [
            1344240176739.78
           ],
           "yaxis": "y"
          },
          {
           "alignmentgroup": "True",
           "hovertemplate": "Country=%{x}<br>date=1995<br>GDP (Trillions USD)=%{y}<extra></extra>",
           "legendgroup": "United States",
           "marker": {
            "color": "#ab63fa",
            "pattern": {
             "shape": ""
            }
           },
           "name": "United States",
           "offsetgroup": "United States",
           "orientation": "v",
           "showlegend": true,
           "textposition": "auto",
           "type": "bar",
           "x": [
            "United States"
           ],
           "xaxis": "x",
           "y": [
            7639749000000
           ],
           "yaxis": "y"
          }
         ],
         "name": "1995"
        },
        {
         "data": [
          {
           "alignmentgroup": "True",
           "hovertemplate": "Country=%{x}<br>date=1996<br>GDP (Trillions USD)=%{y}<extra></extra>",
           "legendgroup": "Australia",
           "marker": {
            "color": "#636efa",
            "pattern": {
             "shape": ""
            }
           },
           "name": "Australia",
           "offsetgroup": "Australia",
           "orientation": "v",
           "showlegend": true,
           "textposition": "auto",
           "type": "bar",
           "x": [
            "Australia"
           ],
           "xaxis": "x",
           "y": [
            401341880620.728
           ],
           "yaxis": "y"
          },
          {
           "alignmentgroup": "True",
           "hovertemplate": "Country=%{x}<br>date=1996<br>GDP (Trillions USD)=%{y}<extra></extra>",
           "legendgroup": "Belgium",
           "marker": {
            "color": "#EF553B",
            "pattern": {
             "shape": ""
            }
           },
           "name": "Belgium",
           "offsetgroup": "Belgium",
           "orientation": "v",
           "showlegend": true,
           "textposition": "auto",
           "type": "bar",
           "x": [
            "Belgium"
           ],
           "xaxis": "x",
           "y": [
            279201433224.756
           ],
           "yaxis": "y"
          },
          {
           "alignmentgroup": "True",
           "hovertemplate": "Country=%{x}<br>date=1996<br>GDP (Trillions USD)=%{y}<extra></extra>",
           "legendgroup": "Brazil",
           "marker": {
            "color": "#00cc96",
            "pattern": {
             "shape": ""
            }
           },
           "name": "Brazil",
           "offsetgroup": "Brazil",
           "orientation": "v",
           "showlegend": true,
           "textposition": "auto",
           "type": "bar",
           "x": [
            "Brazil"
           ],
           "xaxis": "x",
           "y": [
            850426432991.742
           ],
           "yaxis": "y"
          },
          {
           "alignmentgroup": "True",
           "hovertemplate": "Country=%{x}<br>date=1996<br>GDP (Trillions USD)=%{y}<extra></extra>",
           "legendgroup": "Canada",
           "marker": {
            "color": "#ab63fa",
            "pattern": {
             "shape": ""
            }
           },
           "name": "Canada",
           "offsetgroup": "Canada",
           "orientation": "v",
           "showlegend": true,
           "textposition": "auto",
           "type": "bar",
           "x": [
            "Canada"
           ],
           "xaxis": "x",
           "y": [
            630607994132.747
           ],
           "yaxis": "y"
          },
          {
           "alignmentgroup": "True",
           "hovertemplate": "Country=%{x}<br>date=1996<br>GDP (Trillions USD)=%{y}<extra></extra>",
           "legendgroup": "China",
           "marker": {
            "color": "#FFA15A",
            "pattern": {
             "shape": ""
            }
           },
           "name": "China",
           "offsetgroup": "China",
           "orientation": "v",
           "showlegend": true,
           "textposition": "auto",
           "type": "bar",
           "x": [
            "China"
           ],
           "xaxis": "x",
           "y": [
            863749314718.538
           ],
           "yaxis": "y"
          },
          {
           "alignmentgroup": "True",
           "hovertemplate": "Country=%{x}<br>date=1996<br>GDP (Trillions USD)=%{y}<extra></extra>",
           "legendgroup": "France",
           "marker": {
            "color": "#19d3f3",
            "pattern": {
             "shape": ""
            }
           },
           "name": "France",
           "offsetgroup": "France",
           "orientation": "v",
           "showlegend": true,
           "textposition": "auto",
           "type": "bar",
           "x": [
            "France"
           ],
           "xaxis": "x",
           "y": [
            1598889216566.23
           ],
           "yaxis": "y"
          },
          {
           "alignmentgroup": "True",
           "hovertemplate": "Country=%{x}<br>date=1996<br>GDP (Trillions USD)=%{y}<extra></extra>",
           "legendgroup": "Germany",
           "marker": {
            "color": "#FF6692",
            "pattern": {
             "shape": ""
            }
           },
           "name": "Germany",
           "offsetgroup": "Germany",
           "orientation": "v",
           "showlegend": true,
           "textposition": "auto",
           "type": "bar",
           "x": [
            "Germany"
           ],
           "xaxis": "x",
           "y": [
            2506576553158.31
           ],
           "yaxis": "y"
          },
          {
           "alignmentgroup": "True",
           "hovertemplate": "Country=%{x}<br>date=1996<br>GDP (Trillions USD)=%{y}<extra></extra>",
           "legendgroup": "India",
           "marker": {
            "color": "#B6E880",
            "pattern": {
             "shape": ""
            }
           },
           "name": "India",
           "offsetgroup": "India",
           "orientation": "v",
           "showlegend": true,
           "textposition": "auto",
           "type": "bar",
           "x": [
            "India"
           ],
           "xaxis": "x",
           "y": [
            392896866204.516
           ],
           "yaxis": "y"
          },
          {
           "alignmentgroup": "True",
           "hovertemplate": "Country=%{x}<br>date=1996<br>GDP (Trillions USD)=%{y}<extra></extra>",
           "legendgroup": "Indonesia",
           "marker": {
            "color": "#FF97FF",
            "pattern": {
             "shape": ""
            }
           },
           "name": "Indonesia",
           "offsetgroup": "Indonesia",
           "orientation": "v",
           "showlegend": true,
           "textposition": "auto",
           "type": "bar",
           "x": [
            "Indonesia"
           ],
           "xaxis": "x",
           "y": [
            227369679374.973
           ],
           "yaxis": "y"
          },
          {
           "alignmentgroup": "True",
           "hovertemplate": "Country=%{x}<br>date=1996<br>GDP (Trillions USD)=%{y}<extra></extra>",
           "legendgroup": "Italy",
           "marker": {
            "color": "#FECB52",
            "pattern": {
             "shape": ""
            }
           },
           "name": "Italy",
           "offsetgroup": "Italy",
           "orientation": "v",
           "showlegend": true,
           "textposition": "auto",
           "type": "bar",
           "x": [
            "Italy"
           ],
           "xaxis": "x",
           "y": [
            1314776508972.27
           ],
           "yaxis": "y"
          },
          {
           "alignmentgroup": "True",
           "hovertemplate": "Country=%{x}<br>date=1996<br>GDP (Trillions USD)=%{y}<extra></extra>",
           "legendgroup": "Japan",
           "marker": {
            "color": "#636efa",
            "pattern": {
             "shape": ""
            }
           },
           "name": "Japan",
           "offsetgroup": "Japan",
           "orientation": "v",
           "showlegend": true,
           "textposition": "auto",
           "type": "bar",
           "x": [
            "Japan"
           ],
           "xaxis": "x",
           "y": [
            4923391533851.63
           ],
           "yaxis": "y"
          },
          {
           "alignmentgroup": "True",
           "hovertemplate": "Country=%{x}<br>date=1996<br>GDP (Trillions USD)=%{y}<extra></extra>",
           "legendgroup": "Korea, Rep.",
           "marker": {
            "color": "#EF553B",
            "pattern": {
             "shape": ""
            }
           },
           "name": "Korea, Rep.",
           "offsetgroup": "Korea, Rep.",
           "orientation": "v",
           "showlegend": true,
           "textposition": "auto",
           "type": "bar",
           "x": [
            "Korea, Rep."
           ],
           "xaxis": "x",
           "y": [
            610167053824.007
           ],
           "yaxis": "y"
          },
          {
           "alignmentgroup": "True",
           "hovertemplate": "Country=%{x}<br>date=1996<br>GDP (Trillions USD)=%{y}<extra></extra>",
           "legendgroup": "Mexico",
           "marker": {
            "color": "#00cc96",
            "pattern": {
             "shape": ""
            }
           },
           "name": "Mexico",
           "offsetgroup": "Mexico",
           "orientation": "v",
           "showlegend": true,
           "textposition": "auto",
           "type": "bar",
           "x": [
            "Mexico"
           ],
           "xaxis": "x",
           "y": [
            432157945024.428
           ],
           "yaxis": "y"
          },
          {
           "alignmentgroup": "True",
           "hovertemplate": "Country=%{x}<br>date=1996<br>GDP (Trillions USD)=%{y}<extra></extra>",
           "legendgroup": "Netherlands",
           "marker": {
            "color": "#ab63fa",
            "pattern": {
             "shape": ""
            }
           },
           "name": "Netherlands",
           "offsetgroup": "Netherlands",
           "orientation": "v",
           "showlegend": true,
           "textposition": "auto",
           "type": "bar",
           "x": [
            "Netherlands"
           ],
           "xaxis": "x",
           "y": [
            451372549019.608
           ],
           "yaxis": "y"
          },
          {
           "alignmentgroup": "True",
           "hovertemplate": "Country=%{x}<br>date=1996<br>GDP (Trillions USD)=%{y}<extra></extra>",
           "legendgroup": "Poland",
           "marker": {
            "color": "#FFA15A",
            "pattern": {
             "shape": ""
            }
           },
           "name": "Poland",
           "offsetgroup": "Poland",
           "orientation": "v",
           "showlegend": true,
           "textposition": "auto",
           "type": "bar",
           "x": [
            "Poland"
           ],
           "xaxis": "x",
           "y": [
            160813026223.063
           ],
           "yaxis": "y"
          },
          {
           "alignmentgroup": "True",
           "hovertemplate": "Country=%{x}<br>date=1996<br>GDP (Trillions USD)=%{y}<extra></extra>",
           "legendgroup": "Russian Federation",
           "marker": {
            "color": "#19d3f3",
            "pattern": {
             "shape": ""
            }
           },
           "name": "Russian Federation",
           "offsetgroup": "Russian Federation",
           "orientation": "v",
           "showlegend": true,
           "textposition": "auto",
           "type": "bar",
           "x": [
            "Russian Federation"
           ],
           "xaxis": "x",
           "y": [
            391724890744.498
           ],
           "yaxis": "y"
          },
          {
           "alignmentgroup": "True",
           "hovertemplate": "Country=%{x}<br>date=1996<br>GDP (Trillions USD)=%{y}<extra></extra>",
           "legendgroup": "Saudi Arabia",
           "marker": {
            "color": "#FF6692",
            "pattern": {
             "shape": ""
            }
           },
           "name": "Saudi Arabia",
           "offsetgroup": "Saudi Arabia",
           "orientation": "v",
           "showlegend": true,
           "textposition": "auto",
           "type": "bar",
           "x": [
            "Saudi Arabia"
           ],
           "xaxis": "x",
           "y": [
            158662483311.081
           ],
           "yaxis": "y"
          },
          {
           "alignmentgroup": "True",
           "hovertemplate": "Country=%{x}<br>date=1996<br>GDP (Trillions USD)=%{y}<extra></extra>",
           "legendgroup": "Spain",
           "marker": {
            "color": "#B6E880",
            "pattern": {
             "shape": ""
            }
           },
           "name": "Spain",
           "offsetgroup": "Spain",
           "orientation": "v",
           "showlegend": true,
           "textposition": "auto",
           "type": "bar",
           "x": [
            "Spain"
           ],
           "xaxis": "x",
           "y": [
            642251412058.321
           ],
           "yaxis": "y"
          },
          {
           "alignmentgroup": "True",
           "hovertemplate": "Country=%{x}<br>date=1996<br>GDP (Trillions USD)=%{y}<extra></extra>",
           "legendgroup": "Sweden",
           "marker": {
            "color": "#FF97FF",
            "pattern": {
             "shape": ""
            }
           },
           "name": "Sweden",
           "offsetgroup": "Sweden",
           "orientation": "v",
           "showlegend": true,
           "textposition": "auto",
           "type": "bar",
           "x": [
            "Sweden"
           ],
           "xaxis": "x",
           "y": [
            291952430659.111
           ],
           "yaxis": "y"
          },
          {
           "alignmentgroup": "True",
           "hovertemplate": "Country=%{x}<br>date=1996<br>GDP (Trillions USD)=%{y}<extra></extra>",
           "legendgroup": "Switzerland",
           "marker": {
            "color": "#FECB52",
            "pattern": {
             "shape": ""
            }
           },
           "name": "Switzerland",
           "offsetgroup": "Switzerland",
           "orientation": "v",
           "showlegend": true,
           "textposition": "auto",
           "type": "bar",
           "x": [
            "Switzerland"
           ],
           "xaxis": "x",
           "y": [
            340103959546.926
           ],
           "yaxis": "y"
          },
          {
           "alignmentgroup": "True",
           "hovertemplate": "Country=%{x}<br>date=1996<br>GDP (Trillions USD)=%{y}<extra></extra>",
           "legendgroup": "Thailand",
           "marker": {
            "color": "#636efa",
            "pattern": {
             "shape": ""
            }
           },
           "name": "Thailand",
           "offsetgroup": "Thailand",
           "orientation": "v",
           "showlegend": true,
           "textposition": "auto",
           "type": "bar",
           "x": [
            "Thailand"
           ],
           "xaxis": "x",
           "y": [
            183035237429.281
           ],
           "yaxis": "y"
          },
          {
           "alignmentgroup": "True",
           "hovertemplate": "Country=%{x}<br>date=1996<br>GDP (Trillions USD)=%{y}<extra></extra>",
           "legendgroup": "Turkiye",
           "marker": {
            "color": "#EF553B",
            "pattern": {
             "shape": ""
            }
           },
           "name": "Turkiye",
           "offsetgroup": "Turkiye",
           "orientation": "v",
           "showlegend": true,
           "textposition": "auto",
           "type": "bar",
           "x": [
            "Turkiye"
           ],
           "xaxis": "x",
           "y": [
            181464408820.097
           ],
           "yaxis": "y"
          },
          {
           "alignmentgroup": "True",
           "hovertemplate": "Country=%{x}<br>date=1996<br>GDP (Trillions USD)=%{y}<extra></extra>",
           "legendgroup": "United Kingdom",
           "marker": {
            "color": "#00cc96",
            "pattern": {
             "shape": ""
            }
           },
           "name": "United Kingdom",
           "offsetgroup": "United Kingdom",
           "orientation": "v",
           "showlegend": true,
           "textposition": "auto",
           "type": "bar",
           "x": [
            "United Kingdom"
           ],
           "xaxis": "x",
           "y": [
            1419645865834.63
           ],
           "yaxis": "y"
          },
          {
           "alignmentgroup": "True",
           "hovertemplate": "Country=%{x}<br>date=1996<br>GDP (Trillions USD)=%{y}<extra></extra>",
           "legendgroup": "United States",
           "marker": {
            "color": "#ab63fa",
            "pattern": {
             "shape": ""
            }
           },
           "name": "United States",
           "offsetgroup": "United States",
           "orientation": "v",
           "showlegend": true,
           "textposition": "auto",
           "type": "bar",
           "x": [
            "United States"
           ],
           "xaxis": "x",
           "y": [
            8073122000000
           ],
           "yaxis": "y"
          }
         ],
         "name": "1996"
        },
        {
         "data": [
          {
           "alignmentgroup": "True",
           "hovertemplate": "Country=%{x}<br>date=1997<br>GDP (Trillions USD)=%{y}<extra></extra>",
           "legendgroup": "Australia",
           "marker": {
            "color": "#636efa",
            "pattern": {
             "shape": ""
            }
           },
           "name": "Australia",
           "offsetgroup": "Australia",
           "orientation": "v",
           "showlegend": true,
           "textposition": "auto",
           "type": "bar",
           "x": [
            "Australia"
           ],
           "xaxis": "x",
           "y": [
            435642611296.586
           ],
           "yaxis": "y"
          },
          {
           "alignmentgroup": "True",
           "hovertemplate": "Country=%{x}<br>date=1997<br>GDP (Trillions USD)=%{y}<extra></extra>",
           "legendgroup": "Belgium",
           "marker": {
            "color": "#EF553B",
            "pattern": {
             "shape": ""
            }
           },
           "name": "Belgium",
           "offsetgroup": "Belgium",
           "orientation": "v",
           "showlegend": true,
           "textposition": "auto",
           "type": "bar",
           "x": [
            "Belgium"
           ],
           "xaxis": "x",
           "y": [
            252708051420.839
           ],
           "yaxis": "y"
          },
          {
           "alignmentgroup": "True",
           "hovertemplate": "Country=%{x}<br>date=1997<br>GDP (Trillions USD)=%{y}<extra></extra>",
           "legendgroup": "Brazil",
           "marker": {
            "color": "#00cc96",
            "pattern": {
             "shape": ""
            }
           },
           "name": "Brazil",
           "offsetgroup": "Brazil",
           "orientation": "v",
           "showlegend": true,
           "textposition": "auto",
           "type": "bar",
           "x": [
            "Brazil"
           ],
           "xaxis": "x",
           "y": [
            883206179730.462
           ],
           "yaxis": "y"
          },
          {
           "alignmentgroup": "True",
           "hovertemplate": "Country=%{x}<br>date=1997<br>GDP (Trillions USD)=%{y}<extra></extra>",
           "legendgroup": "Canada",
           "marker": {
            "color": "#ab63fa",
            "pattern": {
             "shape": ""
            }
           },
           "name": "Canada",
           "offsetgroup": "Canada",
           "orientation": "v",
           "showlegend": true,
           "textposition": "auto",
           "type": "bar",
           "x": [
            "Canada"
           ],
           "xaxis": "x",
           "y": [
            654986999855.554
           ],
           "yaxis": "y"
          },
          {
           "alignmentgroup": "True",
           "hovertemplate": "Country=%{x}<br>date=1997<br>GDP (Trillions USD)=%{y}<extra></extra>",
           "legendgroup": "China",
           "marker": {
            "color": "#FFA15A",
            "pattern": {
             "shape": ""
            }
           },
           "name": "China",
           "offsetgroup": "China",
           "orientation": "v",
           "showlegend": true,
           "textposition": "auto",
           "type": "bar",
           "x": [
            "China"
           ],
           "xaxis": "x",
           "y": [
            961601980984.623
           ],
           "yaxis": "y"
          },
          {
           "alignmentgroup": "True",
           "hovertemplate": "Country=%{x}<br>date=1997<br>GDP (Trillions USD)=%{y}<extra></extra>",
           "legendgroup": "France",
           "marker": {
            "color": "#19d3f3",
            "pattern": {
             "shape": ""
            }
           },
           "name": "France",
           "offsetgroup": "France",
           "orientation": "v",
           "showlegend": true,
           "textposition": "auto",
           "type": "bar",
           "x": [
            "France"
           ],
           "xaxis": "x",
           "y": [
            1449392222971.45
           ],
           "yaxis": "y"
          },
          {
           "alignmentgroup": "True",
           "hovertemplate": "Country=%{x}<br>date=1997<br>GDP (Trillions USD)=%{y}<extra></extra>",
           "legendgroup": "Germany",
           "marker": {
            "color": "#FF6692",
            "pattern": {
             "shape": ""
            }
           },
           "name": "Germany",
           "offsetgroup": "Germany",
           "orientation": "v",
           "showlegend": true,
           "textposition": "auto",
           "type": "bar",
           "x": [
            "Germany"
           ],
           "xaxis": "x",
           "y": [
            2218790886532.82
           ],
           "yaxis": "y"
          },
          {
           "alignmentgroup": "True",
           "hovertemplate": "Country=%{x}<br>date=1997<br>GDP (Trillions USD)=%{y}<extra></extra>",
           "legendgroup": "India",
           "marker": {
            "color": "#B6E880",
            "pattern": {
             "shape": ""
            }
           },
           "name": "India",
           "offsetgroup": "India",
           "orientation": "v",
           "showlegend": true,
           "textposition": "auto",
           "type": "bar",
           "x": [
            "India"
           ],
           "xaxis": "x",
           "y": [
            415867563592.829
           ],
           "yaxis": "y"
          },
          {
           "alignmentgroup": "True",
           "hovertemplate": "Country=%{x}<br>date=1997<br>GDP (Trillions USD)=%{y}<extra></extra>",
           "legendgroup": "Indonesia",
           "marker": {
            "color": "#FF97FF",
            "pattern": {
             "shape": ""
            }
           },
           "name": "Indonesia",
           "offsetgroup": "Indonesia",
           "orientation": "v",
           "showlegend": true,
           "textposition": "auto",
           "type": "bar",
           "x": [
            "Indonesia"
           ],
           "xaxis": "x",
           "y": [
            215748998609.635
           ],
           "yaxis": "y"
          },
          {
           "alignmentgroup": "True",
           "hovertemplate": "Country=%{x}<br>date=1997<br>GDP (Trillions USD)=%{y}<extra></extra>",
           "legendgroup": "Italy",
           "marker": {
            "color": "#FECB52",
            "pattern": {
             "shape": ""
            }
           },
           "name": "Italy",
           "offsetgroup": "Italy",
           "orientation": "v",
           "showlegend": true,
           "textposition": "auto",
           "type": "bar",
           "x": [
            "Italy"
           ],
           "xaxis": "x",
           "y": [
            1244988176443.84
           ],
           "yaxis": "y"
          },
          {
           "alignmentgroup": "True",
           "hovertemplate": "Country=%{x}<br>date=1997<br>GDP (Trillions USD)=%{y}<extra></extra>",
           "legendgroup": "Japan",
           "marker": {
            "color": "#636efa",
            "pattern": {
             "shape": ""
            }
           },
           "name": "Japan",
           "offsetgroup": "Japan",
           "orientation": "v",
           "showlegend": true,
           "textposition": "auto",
           "type": "bar",
           "x": [
            "Japan"
           ],
           "xaxis": "x",
           "y": [
            4492448605638.94
           ],
           "yaxis": "y"
          },
          {
           "alignmentgroup": "True",
           "hovertemplate": "Country=%{x}<br>date=1997<br>GDP (Trillions USD)=%{y}<extra></extra>",
           "legendgroup": "Korea, Rep.",
           "marker": {
            "color": "#EF553B",
            "pattern": {
             "shape": ""
            }
           },
           "name": "Korea, Rep.",
           "offsetgroup": "Korea, Rep.",
           "orientation": "v",
           "showlegend": true,
           "textposition": "auto",
           "type": "bar",
           "x": [
            "Korea, Rep."
           ],
           "xaxis": "x",
           "y": [
            569755022973.035
           ],
           "yaxis": "y"
          },
          {
           "alignmentgroup": "True",
           "hovertemplate": "Country=%{x}<br>date=1997<br>GDP (Trillions USD)=%{y}<extra></extra>",
           "legendgroup": "Mexico",
           "marker": {
            "color": "#00cc96",
            "pattern": {
             "shape": ""
            }
           },
           "name": "Mexico",
           "offsetgroup": "Mexico",
           "orientation": "v",
           "showlegend": true,
           "textposition": "auto",
           "type": "bar",
           "x": [
            "Mexico"
           ],
           "xaxis": "x",
           "y": [
            523449530464.257
           ],
           "yaxis": "y"
          },
          {
           "alignmentgroup": "True",
           "hovertemplate": "Country=%{x}<br>date=1997<br>GDP (Trillions USD)=%{y}<extra></extra>",
           "legendgroup": "Netherlands",
           "marker": {
            "color": "#ab63fa",
            "pattern": {
             "shape": ""
            }
           },
           "name": "Netherlands",
           "offsetgroup": "Netherlands",
           "orientation": "v",
           "showlegend": true,
           "textposition": "auto",
           "type": "bar",
           "x": [
            "Netherlands"
           ],
           "xaxis": "x",
           "y": [
            417506211881.635
           ],
           "yaxis": "y"
          },
          {
           "alignmentgroup": "True",
           "hovertemplate": "Country=%{x}<br>date=1997<br>GDP (Trillions USD)=%{y}<extra></extra>",
           "legendgroup": "Poland",
           "marker": {
            "color": "#FFA15A",
            "pattern": {
             "shape": ""
            }
           },
           "name": "Poland",
           "offsetgroup": "Poland",
           "orientation": "v",
           "showlegend": true,
           "textposition": "auto",
           "type": "bar",
           "x": [
            "Poland"
           ],
           "xaxis": "x",
           "y": [
            159893964916.817
           ],
           "yaxis": "y"
          },
          {
           "alignmentgroup": "True",
           "hovertemplate": "Country=%{x}<br>date=1997<br>GDP (Trillions USD)=%{y}<extra></extra>",
           "legendgroup": "Russian Federation",
           "marker": {
            "color": "#19d3f3",
            "pattern": {
             "shape": ""
            }
           },
           "name": "Russian Federation",
           "offsetgroup": "Russian Federation",
           "orientation": "v",
           "showlegend": true,
           "textposition": "auto",
           "type": "bar",
           "x": [
            "Russian Federation"
           ],
           "xaxis": "x",
           "y": [
            404928954191.876
           ],
           "yaxis": "y"
          },
          {
           "alignmentgroup": "True",
           "hovertemplate": "Country=%{x}<br>date=1997<br>GDP (Trillions USD)=%{y}<extra></extra>",
           "legendgroup": "Saudi Arabia",
           "marker": {
            "color": "#FF6692",
            "pattern": {
             "shape": ""
            }
           },
           "name": "Saudi Arabia",
           "offsetgroup": "Saudi Arabia",
           "orientation": "v",
           "showlegend": true,
           "textposition": "auto",
           "type": "bar",
           "x": [
            "Saudi Arabia"
           ],
           "xaxis": "x",
           "y": [
            165963684913.218
           ],
           "yaxis": "y"
          },
          {
           "alignmentgroup": "True",
           "hovertemplate": "Country=%{x}<br>date=1997<br>GDP (Trillions USD)=%{y}<extra></extra>",
           "legendgroup": "Spain",
           "marker": {
            "color": "#B6E880",
            "pattern": {
             "shape": ""
            }
           },
           "name": "Spain",
           "offsetgroup": "Spain",
           "orientation": "v",
           "showlegend": true,
           "textposition": "auto",
           "type": "bar",
           "x": [
            "Spain"
           ],
           "xaxis": "x",
           "y": [
            589739772727.273
           ],
           "yaxis": "y"
          },
          {
           "alignmentgroup": "True",
           "hovertemplate": "Country=%{x}<br>date=1997<br>GDP (Trillions USD)=%{y}<extra></extra>",
           "legendgroup": "Sweden",
           "marker": {
            "color": "#FF97FF",
            "pattern": {
             "shape": ""
            }
           },
           "name": "Sweden",
           "offsetgroup": "Sweden",
           "orientation": "v",
           "showlegend": true,
           "textposition": "auto",
           "type": "bar",
           "x": [
            "Sweden"
           ],
           "xaxis": "x",
           "y": [
            268251974485.586
           ],
           "yaxis": "y"
          },
          {
           "alignmentgroup": "True",
           "hovertemplate": "Country=%{x}<br>date=1997<br>GDP (Trillions USD)=%{y}<extra></extra>",
           "legendgroup": "Switzerland",
           "marker": {
            "color": "#FECB52",
            "pattern": {
             "shape": ""
            }
           },
           "name": "Switzerland",
           "offsetgroup": "Switzerland",
           "orientation": "v",
           "showlegend": true,
           "textposition": "auto",
           "type": "bar",
           "x": [
            "Switzerland"
           ],
           "xaxis": "x",
           "y": [
            294788198856.198
           ],
           "yaxis": "y"
          },
          {
           "alignmentgroup": "True",
           "hovertemplate": "Country=%{x}<br>date=1997<br>GDP (Trillions USD)=%{y}<extra></extra>",
           "legendgroup": "Thailand",
           "marker": {
            "color": "#636efa",
            "pattern": {
             "shape": ""
            }
           },
           "name": "Thailand",
           "offsetgroup": "Thailand",
           "orientation": "v",
           "showlegend": true,
           "textposition": "auto",
           "type": "bar",
           "x": [
            "Thailand"
           ],
           "xaxis": "x",
           "y": [
            150180456565.728
           ],
           "yaxis": "y"
          },
          {
           "alignmentgroup": "True",
           "hovertemplate": "Country=%{x}<br>date=1997<br>GDP (Trillions USD)=%{y}<extra></extra>",
           "legendgroup": "Turkiye",
           "marker": {
            "color": "#EF553B",
            "pattern": {
             "shape": ""
            }
           },
           "name": "Turkiye",
           "offsetgroup": "Turkiye",
           "orientation": "v",
           "showlegend": true,
           "textposition": "auto",
           "type": "bar",
           "x": [
            "Turkiye"
           ],
           "xaxis": "x",
           "y": [
            189878399894.643
           ],
           "yaxis": "y"
          },
          {
           "alignmentgroup": "True",
           "hovertemplate": "Country=%{x}<br>date=1997<br>GDP (Trillions USD)=%{y}<extra></extra>",
           "legendgroup": "United Kingdom",
           "marker": {
            "color": "#00cc96",
            "pattern": {
             "shape": ""
            }
           },
           "name": "United Kingdom",
           "offsetgroup": "United Kingdom",
           "orientation": "v",
           "showlegend": true,
           "textposition": "auto",
           "type": "bar",
           "x": [
            "United Kingdom"
           ],
           "xaxis": "x",
           "y": [
            1560911918795.02
           ],
           "yaxis": "y"
          },
          {
           "alignmentgroup": "True",
           "hovertemplate": "Country=%{x}<br>date=1997<br>GDP (Trillions USD)=%{y}<extra></extra>",
           "legendgroup": "United States",
           "marker": {
            "color": "#ab63fa",
            "pattern": {
             "shape": ""
            }
           },
           "name": "United States",
           "offsetgroup": "United States",
           "orientation": "v",
           "showlegend": true,
           "textposition": "auto",
           "type": "bar",
           "x": [
            "United States"
           ],
           "xaxis": "x",
           "y": [
            8577552000000
           ],
           "yaxis": "y"
          }
         ],
         "name": "1997"
        },
        {
         "data": [
          {
           "alignmentgroup": "True",
           "hovertemplate": "Country=%{x}<br>date=1998<br>GDP (Trillions USD)=%{y}<extra></extra>",
           "legendgroup": "Australia",
           "marker": {
            "color": "#636efa",
            "pattern": {
             "shape": ""
            }
           },
           "name": "Australia",
           "offsetgroup": "Australia",
           "orientation": "v",
           "showlegend": true,
           "textposition": "auto",
           "type": "bar",
           "x": [
            "Australia"
           ],
           "xaxis": "x",
           "y": [
            399674421759.479
           ],
           "yaxis": "y"
          },
          {
           "alignmentgroup": "True",
           "hovertemplate": "Country=%{x}<br>date=1998<br>GDP (Trillions USD)=%{y}<extra></extra>",
           "legendgroup": "Belgium",
           "marker": {
            "color": "#EF553B",
            "pattern": {
             "shape": ""
            }
           },
           "name": "Belgium",
           "offsetgroup": "Belgium",
           "orientation": "v",
           "showlegend": true,
           "textposition": "auto",
           "type": "bar",
           "x": [
            "Belgium"
           ],
           "xaxis": "x",
           "y": [
            258528339631.029
           ],
           "yaxis": "y"
          },
          {
           "alignmentgroup": "True",
           "hovertemplate": "Country=%{x}<br>date=1998<br>GDP (Trillions USD)=%{y}<extra></extra>",
           "legendgroup": "Brazil",
           "marker": {
            "color": "#00cc96",
            "pattern": {
             "shape": ""
            }
           },
           "name": "Brazil",
           "offsetgroup": "Brazil",
           "orientation": "v",
           "showlegend": true,
           "textposition": "auto",
           "type": "bar",
           "x": [
            "Brazil"
           ],
           "xaxis": "x",
           "y": [
            863710759256.435
           ],
           "yaxis": "y"
          },
          {
           "alignmentgroup": "True",
           "hovertemplate": "Country=%{x}<br>date=1998<br>GDP (Trillions USD)=%{y}<extra></extra>",
           "legendgroup": "Canada",
           "marker": {
            "color": "#ab63fa",
            "pattern": {
             "shape": ""
            }
           },
           "name": "Canada",
           "offsetgroup": "Canada",
           "orientation": "v",
           "showlegend": true,
           "textposition": "auto",
           "type": "bar",
           "x": [
            "Canada"
           ],
           "xaxis": "x",
           "y": [
            634000000000
           ],
           "yaxis": "y"
          },
          {
           "alignmentgroup": "True",
           "hovertemplate": "Country=%{x}<br>date=1998<br>GDP (Trillions USD)=%{y}<extra></extra>",
           "legendgroup": "China",
           "marker": {
            "color": "#FFA15A",
            "pattern": {
             "shape": ""
            }
           },
           "name": "China",
           "offsetgroup": "China",
           "orientation": "v",
           "showlegend": true,
           "textposition": "auto",
           "type": "bar",
           "x": [
            "China"
           ],
           "xaxis": "x",
           "y": [
            1029060747620.65
           ],
           "yaxis": "y"
          },
          {
           "alignmentgroup": "True",
           "hovertemplate": "Country=%{x}<br>date=1998<br>GDP (Trillions USD)=%{y}<extra></extra>",
           "legendgroup": "France",
           "marker": {
            "color": "#19d3f3",
            "pattern": {
             "shape": ""
            }
           },
           "name": "France",
           "offsetgroup": "France",
           "orientation": "v",
           "showlegend": true,
           "textposition": "auto",
           "type": "bar",
           "x": [
            "France"
           ],
           "xaxis": "x",
           "y": [
            1496906382032.47
           ],
           "yaxis": "y"
          },
          {
           "alignmentgroup": "True",
           "hovertemplate": "Country=%{x}<br>date=1998<br>GDP (Trillions USD)=%{y}<extra></extra>",
           "legendgroup": "Germany",
           "marker": {
            "color": "#FF6692",
            "pattern": {
             "shape": ""
            }
           },
           "name": "Germany",
           "offsetgroup": "Germany",
           "orientation": "v",
           "showlegend": true,
           "textposition": "auto",
           "type": "bar",
           "x": [
            "Germany"
           ],
           "xaxis": "x",
           "y": [
            2247760364565.97
           ],
           "yaxis": "y"
          },
          {
           "alignmentgroup": "True",
           "hovertemplate": "Country=%{x}<br>date=1998<br>GDP (Trillions USD)=%{y}<extra></extra>",
           "legendgroup": "India",
           "marker": {
            "color": "#B6E880",
            "pattern": {
             "shape": ""
            }
           },
           "name": "India",
           "offsetgroup": "India",
           "orientation": "v",
           "showlegend": true,
           "textposition": "auto",
           "type": "bar",
           "x": [
            "India"
           ],
           "xaxis": "x",
           "y": [
            421351317224.941
           ],
           "yaxis": "y"
          },
          {
           "alignmentgroup": "True",
           "hovertemplate": "Country=%{x}<br>date=1998<br>GDP (Trillions USD)=%{y}<extra></extra>",
           "legendgroup": "Indonesia",
           "marker": {
            "color": "#FF97FF",
            "pattern": {
             "shape": ""
            }
           },
           "name": "Indonesia",
           "offsetgroup": "Indonesia",
           "orientation": "v",
           "showlegend": true,
           "textposition": "auto",
           "type": "bar",
           "x": [
            "Indonesia"
           ],
           "xaxis": "x",
           "y": [
            95445547872.715
           ],
           "yaxis": "y"
          },
          {
           "alignmentgroup": "True",
           "hovertemplate": "Country=%{x}<br>date=1998<br>GDP (Trillions USD)=%{y}<extra></extra>",
           "legendgroup": "Italy",
           "marker": {
            "color": "#FECB52",
            "pattern": {
             "shape": ""
            }
           },
           "name": "Italy",
           "offsetgroup": "Italy",
           "orientation": "v",
           "showlegend": true,
           "textposition": "auto",
           "type": "bar",
           "x": [
            "Italy"
           ],
           "xaxis": "x",
           "y": [
            1272729786996.77
           ],
           "yaxis": "y"
          },
          {
           "alignmentgroup": "True",
           "hovertemplate": "Country=%{x}<br>date=1998<br>GDP (Trillions USD)=%{y}<extra></extra>",
           "legendgroup": "Japan",
           "marker": {
            "color": "#636efa",
            "pattern": {
             "shape": ""
            }
           },
           "name": "Japan",
           "offsetgroup": "Japan",
           "orientation": "v",
           "showlegend": true,
           "textposition": "auto",
           "type": "bar",
           "x": [
            "Japan"
           ],
           "xaxis": "x",
           "y": [
            4098362709531.24
           ],
           "yaxis": "y"
          },
          {
           "alignmentgroup": "True",
           "hovertemplate": "Country=%{x}<br>date=1998<br>GDP (Trillions USD)=%{y}<extra></extra>",
           "legendgroup": "Korea, Rep.",
           "marker": {
            "color": "#EF553B",
            "pattern": {
             "shape": ""
            }
           },
           "name": "Korea, Rep.",
           "offsetgroup": "Korea, Rep.",
           "orientation": "v",
           "showlegend": true,
           "textposition": "auto",
           "type": "bar",
           "x": [
            "Korea, Rep."
           ],
           "xaxis": "x",
           "y": [
            383331833681.821
           ],
           "yaxis": "y"
          },
          {
           "alignmentgroup": "True",
           "hovertemplate": "Country=%{x}<br>date=1998<br>GDP (Trillions USD)=%{y}<extra></extra>",
           "legendgroup": "Mexico",
           "marker": {
            "color": "#00cc96",
            "pattern": {
             "shape": ""
            }
           },
           "name": "Mexico",
           "offsetgroup": "Mexico",
           "orientation": "v",
           "showlegend": true,
           "textposition": "auto",
           "type": "bar",
           "x": [
            "Mexico"
           ],
           "xaxis": "x",
           "y": [
            557461102630.658
           ],
           "yaxis": "y"
          },
          {
           "alignmentgroup": "True",
           "hovertemplate": "Country=%{x}<br>date=1998<br>GDP (Trillions USD)=%{y}<extra></extra>",
           "legendgroup": "Netherlands",
           "marker": {
            "color": "#ab63fa",
            "pattern": {
             "shape": ""
            }
           },
           "name": "Netherlands",
           "offsetgroup": "Netherlands",
           "orientation": "v",
           "showlegend": true,
           "textposition": "auto",
           "type": "bar",
           "x": [
            "Netherlands"
           ],
           "xaxis": "x",
           "y": [
            438612530548.767
           ],
           "yaxis": "y"
          },
          {
           "alignmentgroup": "True",
           "hovertemplate": "Country=%{x}<br>date=1998<br>GDP (Trillions USD)=%{y}<extra></extra>",
           "legendgroup": "Poland",
           "marker": {
            "color": "#FFA15A",
            "pattern": {
             "shape": ""
            }
           },
           "name": "Poland",
           "offsetgroup": "Poland",
           "orientation": "v",
           "showlegend": true,
           "textposition": "auto",
           "type": "bar",
           "x": [
            "Poland"
           ],
           "xaxis": "x",
           "y": [
            175282269666.801
           ],
           "yaxis": "y"
          },
          {
           "alignmentgroup": "True",
           "hovertemplate": "Country=%{x}<br>date=1998<br>GDP (Trillions USD)=%{y}<extra></extra>",
           "legendgroup": "Russian Federation",
           "marker": {
            "color": "#19d3f3",
            "pattern": {
             "shape": ""
            }
           },
           "name": "Russian Federation",
           "offsetgroup": "Russian Federation",
           "orientation": "v",
           "showlegend": true,
           "textposition": "auto",
           "type": "bar",
           "x": [
            "Russian Federation"
           ],
           "xaxis": "x",
           "y": [
            270955486862.442
           ],
           "yaxis": "y"
          },
          {
           "alignmentgroup": "True",
           "hovertemplate": "Country=%{x}<br>date=1998<br>GDP (Trillions USD)=%{y}<extra></extra>",
           "legendgroup": "Saudi Arabia",
           "marker": {
            "color": "#FF6692",
            "pattern": {
             "shape": ""
            }
           },
           "name": "Saudi Arabia",
           "offsetgroup": "Saudi Arabia",
           "orientation": "v",
           "showlegend": true,
           "textposition": "auto",
           "type": "bar",
           "x": [
            "Saudi Arabia"
           ],
           "xaxis": "x",
           "y": [
            146775466666.667
           ],
           "yaxis": "y"
          },
          {
           "alignmentgroup": "True",
           "hovertemplate": "Country=%{x}<br>date=1998<br>GDP (Trillions USD)=%{y}<extra></extra>",
           "legendgroup": "Spain",
           "marker": {
            "color": "#B6E880",
            "pattern": {
             "shape": ""
            }
           },
           "name": "Spain",
           "offsetgroup": "Spain",
           "orientation": "v",
           "showlegend": true,
           "textposition": "auto",
           "type": "bar",
           "x": [
            "Spain"
           ],
           "xaxis": "x",
           "y": [
            618731484575.12
           ],
           "yaxis": "y"
          },
          {
           "alignmentgroup": "True",
           "hovertemplate": "Country=%{x}<br>date=1998<br>GDP (Trillions USD)=%{y}<extra></extra>",
           "legendgroup": "Sweden",
           "marker": {
            "color": "#FF97FF",
            "pattern": {
             "shape": ""
            }
           },
           "name": "Sweden",
           "offsetgroup": "Sweden",
           "orientation": "v",
           "showlegend": true,
           "textposition": "auto",
           "type": "bar",
           "x": [
            "Sweden"
           ],
           "xaxis": "x",
           "y": [
            270889570937.999
           ],
           "yaxis": "y"
          },
          {
           "alignmentgroup": "True",
           "hovertemplate": "Country=%{x}<br>date=1998<br>GDP (Trillions USD)=%{y}<extra></extra>",
           "legendgroup": "Switzerland",
           "marker": {
            "color": "#FECB52",
            "pattern": {
             "shape": ""
            }
           },
           "name": "Switzerland",
           "offsetgroup": "Switzerland",
           "orientation": "v",
           "showlegend": true,
           "textposition": "auto",
           "type": "bar",
           "x": [
            "Switzerland"
           ],
           "xaxis": "x",
           "y": [
            303459014346.806
           ],
           "yaxis": "y"
          },
          {
           "alignmentgroup": "True",
           "hovertemplate": "Country=%{x}<br>date=1998<br>GDP (Trillions USD)=%{y}<extra></extra>",
           "legendgroup": "Thailand",
           "marker": {
            "color": "#636efa",
            "pattern": {
             "shape": ""
            }
           },
           "name": "Thailand",
           "offsetgroup": "Thailand",
           "orientation": "v",
           "showlegend": true,
           "textposition": "auto",
           "type": "bar",
           "x": [
            "Thailand"
           ],
           "xaxis": "x",
           "y": [
            113675596787.738
           ],
           "yaxis": "y"
          },
          {
           "alignmentgroup": "True",
           "hovertemplate": "Country=%{x}<br>date=1998<br>GDP (Trillions USD)=%{y}<extra></extra>",
           "legendgroup": "Turkiye",
           "marker": {
            "color": "#EF553B",
            "pattern": {
             "shape": ""
            }
           },
           "name": "Turkiye",
           "offsetgroup": "Turkiye",
           "orientation": "v",
           "showlegend": true,
           "textposition": "auto",
           "type": "bar",
           "x": [
            "Turkiye"
           ],
           "xaxis": "x",
           "y": [
            275941990764.18
           ],
           "yaxis": "y"
          },
          {
           "alignmentgroup": "True",
           "hovertemplate": "Country=%{x}<br>date=1998<br>GDP (Trillions USD)=%{y}<extra></extra>",
           "legendgroup": "United Kingdom",
           "marker": {
            "color": "#00cc96",
            "pattern": {
             "shape": ""
            }
           },
           "name": "United Kingdom",
           "offsetgroup": "United Kingdom",
           "orientation": "v",
           "showlegend": true,
           "textposition": "auto",
           "type": "bar",
           "x": [
            "United Kingdom"
           ],
           "xaxis": "x",
           "y": [
            1653694932096.72
           ],
           "yaxis": "y"
          },
          {
           "alignmentgroup": "True",
           "hovertemplate": "Country=%{x}<br>date=1998<br>GDP (Trillions USD)=%{y}<extra></extra>",
           "legendgroup": "United States",
           "marker": {
            "color": "#ab63fa",
            "pattern": {
             "shape": ""
            }
           },
           "name": "United States",
           "offsetgroup": "United States",
           "orientation": "v",
           "showlegend": true,
           "textposition": "auto",
           "type": "bar",
           "x": [
            "United States"
           ],
           "xaxis": "x",
           "y": [
            9062817000000
           ],
           "yaxis": "y"
          }
         ],
         "name": "1998"
        },
        {
         "data": [
          {
           "alignmentgroup": "True",
           "hovertemplate": "Country=%{x}<br>date=1999<br>GDP (Trillions USD)=%{y}<extra></extra>",
           "legendgroup": "Australia",
           "marker": {
            "color": "#636efa",
            "pattern": {
             "shape": ""
            }
           },
           "name": "Australia",
           "offsetgroup": "Australia",
           "orientation": "v",
           "showlegend": true,
           "textposition": "auto",
           "type": "bar",
           "x": [
            "Australia"
           ],
           "xaxis": "x",
           "y": [
            389652212056.649
           ],
           "yaxis": "y"
          },
          {
           "alignmentgroup": "True",
           "hovertemplate": "Country=%{x}<br>date=1999<br>GDP (Trillions USD)=%{y}<extra></extra>",
           "legendgroup": "Belgium",
           "marker": {
            "color": "#EF553B",
            "pattern": {
             "shape": ""
            }
           },
           "name": "Belgium",
           "offsetgroup": "Belgium",
           "orientation": "v",
           "showlegend": true,
           "textposition": "auto",
           "type": "bar",
           "x": [
            "Belgium"
           ],
           "xaxis": "x",
           "y": [
            258245733221.468
           ],
           "yaxis": "y"
          },
          {
           "alignmentgroup": "True",
           "hovertemplate": "Country=%{x}<br>date=1999<br>GDP (Trillions USD)=%{y}<extra></extra>",
           "legendgroup": "Brazil",
           "marker": {
            "color": "#00cc96",
            "pattern": {
             "shape": ""
            }
           },
           "name": "Brazil",
           "offsetgroup": "Brazil",
           "orientation": "v",
           "showlegend": true,
           "textposition": "auto",
           "type": "bar",
           "x": [
            "Brazil"
           ],
           "xaxis": "x",
           "y": [
            599642024319.531
           ],
           "yaxis": "y"
          },
          {
           "alignmentgroup": "True",
           "hovertemplate": "Country=%{x}<br>date=1999<br>GDP (Trillions USD)=%{y}<extra></extra>",
           "legendgroup": "Canada",
           "marker": {
            "color": "#ab63fa",
            "pattern": {
             "shape": ""
            }
           },
           "name": "Canada",
           "offsetgroup": "Canada",
           "orientation": "v",
           "showlegend": true,
           "textposition": "auto",
           "type": "bar",
           "x": [
            "Canada"
           ],
           "xaxis": "x",
           "y": [
            678412196271.118
           ],
           "yaxis": "y"
          },
          {
           "alignmentgroup": "True",
           "hovertemplate": "Country=%{x}<br>date=1999<br>GDP (Trillions USD)=%{y}<extra></extra>",
           "legendgroup": "China",
           "marker": {
            "color": "#FFA15A",
            "pattern": {
             "shape": ""
            }
           },
           "name": "China",
           "offsetgroup": "China",
           "orientation": "v",
           "showlegend": true,
           "textposition": "auto",
           "type": "bar",
           "x": [
            "China"
           ],
           "xaxis": "x",
           "y": [
            1094003874937.34
           ],
           "yaxis": "y"
          },
          {
           "alignmentgroup": "True",
           "hovertemplate": "Country=%{x}<br>date=1999<br>GDP (Trillions USD)=%{y}<extra></extra>",
           "legendgroup": "France",
           "marker": {
            "color": "#19d3f3",
            "pattern": {
             "shape": ""
            }
           },
           "name": "France",
           "offsetgroup": "France",
           "orientation": "v",
           "showlegend": true,
           "textposition": "auto",
           "type": "bar",
           "x": [
            "France"
           ],
           "xaxis": "x",
           "y": [
            1486915879701.93
           ],
           "yaxis": "y"
          },
          {
           "alignmentgroup": "True",
           "hovertemplate": "Country=%{x}<br>date=1999<br>GDP (Trillions USD)=%{y}<extra></extra>",
           "legendgroup": "Germany",
           "marker": {
            "color": "#FF6692",
            "pattern": {
             "shape": ""
            }
           },
           "name": "Germany",
           "offsetgroup": "Germany",
           "orientation": "v",
           "showlegend": true,
           "textposition": "auto",
           "type": "bar",
           "x": [
            "Germany"
           ],
           "xaxis": "x",
           "y": [
            2213873468586.88
           ],
           "yaxis": "y"
          },
          {
           "alignmentgroup": "True",
           "hovertemplate": "Country=%{x}<br>date=1999<br>GDP (Trillions USD)=%{y}<extra></extra>",
           "legendgroup": "India",
           "marker": {
            "color": "#B6E880",
            "pattern": {
             "shape": ""
            }
           },
           "name": "India",
           "offsetgroup": "India",
           "orientation": "v",
           "showlegend": true,
           "textposition": "auto",
           "type": "bar",
           "x": [
            "India"
           ],
           "xaxis": "x",
           "y": [
            458821052615.79
           ],
           "yaxis": "y"
          },
          {
           "alignmentgroup": "True",
           "hovertemplate": "Country=%{x}<br>date=1999<br>GDP (Trillions USD)=%{y}<extra></extra>",
           "legendgroup": "Indonesia",
           "marker": {
            "color": "#FF97FF",
            "pattern": {
             "shape": ""
            }
           },
           "name": "Indonesia",
           "offsetgroup": "Indonesia",
           "orientation": "v",
           "showlegend": true,
           "textposition": "auto",
           "type": "bar",
           "x": [
            "Indonesia"
           ],
           "xaxis": "x",
           "y": [
            140001351215.462
           ],
           "yaxis": "y"
          },
          {
           "alignmentgroup": "True",
           "hovertemplate": "Country=%{x}<br>date=1999<br>GDP (Trillions USD)=%{y}<extra></extra>",
           "legendgroup": "Italy",
           "marker": {
            "color": "#FECB52",
            "pattern": {
             "shape": ""
            }
           },
           "name": "Italy",
           "offsetgroup": "Italy",
           "orientation": "v",
           "showlegend": true,
           "textposition": "auto",
           "type": "bar",
           "x": [
            "Italy"
           ],
           "xaxis": "x",
           "y": [
            1255004736463.98
           ],
           "yaxis": "y"
          },
          {
           "alignmentgroup": "True",
           "hovertemplate": "Country=%{x}<br>date=1999<br>GDP (Trillions USD)=%{y}<extra></extra>",
           "legendgroup": "Japan",
           "marker": {
            "color": "#636efa",
            "pattern": {
             "shape": ""
            }
           },
           "name": "Japan",
           "offsetgroup": "Japan",
           "orientation": "v",
           "showlegend": true,
           "textposition": "auto",
           "type": "bar",
           "x": [
            "Japan"
           ],
           "xaxis": "x",
           "y": [
            4635982224063.88
           ],
           "yaxis": "y"
          },
          {
           "alignmentgroup": "True",
           "hovertemplate": "Country=%{x}<br>date=1999<br>GDP (Trillions USD)=%{y}<extra></extra>",
           "legendgroup": "Korea, Rep.",
           "marker": {
            "color": "#EF553B",
            "pattern": {
             "shape": ""
            }
           },
           "name": "Korea, Rep.",
           "offsetgroup": "Korea, Rep.",
           "orientation": "v",
           "showlegend": true,
           "textposition": "auto",
           "type": "bar",
           "x": [
            "Korea, Rep."
           ],
           "xaxis": "x",
           "y": [
            497514040642.262
           ],
           "yaxis": "y"
          },
          {
           "alignmentgroup": "True",
           "hovertemplate": "Country=%{x}<br>date=1999<br>GDP (Trillions USD)=%{y}<extra></extra>",
           "legendgroup": "Mexico",
           "marker": {
            "color": "#00cc96",
            "pattern": {
             "shape": ""
            }
           },
           "name": "Mexico",
           "offsetgroup": "Mexico",
           "orientation": "v",
           "showlegend": true,
           "textposition": "auto",
           "type": "bar",
           "x": [
            "Mexico"
           ],
           "xaxis": "x",
           "y": [
            631249359702.389
           ],
           "yaxis": "y"
          },
          {
           "alignmentgroup": "True",
           "hovertemplate": "Country=%{x}<br>date=1999<br>GDP (Trillions USD)=%{y}<extra></extra>",
           "legendgroup": "Netherlands",
           "marker": {
            "color": "#ab63fa",
            "pattern": {
             "shape": ""
            }
           },
           "name": "Netherlands",
           "offsetgroup": "Netherlands",
           "orientation": "v",
           "showlegend": true,
           "textposition": "auto",
           "type": "bar",
           "x": [
            "Netherlands"
           ],
           "xaxis": "x",
           "y": [
            447778514140.155
           ],
           "yaxis": "y"
          },
          {
           "alignmentgroup": "True",
           "hovertemplate": "Country=%{x}<br>date=1999<br>GDP (Trillions USD)=%{y}<extra></extra>",
           "legendgroup": "Poland",
           "marker": {
            "color": "#FFA15A",
            "pattern": {
             "shape": ""
            }
           },
           "name": "Poland",
           "offsetgroup": "Poland",
           "orientation": "v",
           "showlegend": true,
           "textposition": "auto",
           "type": "bar",
           "x": [
            "Poland"
           ],
           "xaxis": "x",
           "y": [
            170704452714.673
           ],
           "yaxis": "y"
          },
          {
           "alignmentgroup": "True",
           "hovertemplate": "Country=%{x}<br>date=1999<br>GDP (Trillions USD)=%{y}<extra></extra>",
           "legendgroup": "Russian Federation",
           "marker": {
            "color": "#19d3f3",
            "pattern": {
             "shape": ""
            }
           },
           "name": "Russian Federation",
           "offsetgroup": "Russian Federation",
           "orientation": "v",
           "showlegend": true,
           "textposition": "auto",
           "type": "bar",
           "x": [
            "Russian Federation"
           ],
           "xaxis": "x",
           "y": [
            195907128350.934
           ],
           "yaxis": "y"
          },
          {
           "alignmentgroup": "True",
           "hovertemplate": "Country=%{x}<br>date=1999<br>GDP (Trillions USD)=%{y}<extra></extra>",
           "legendgroup": "Saudi Arabia",
           "marker": {
            "color": "#FF6692",
            "pattern": {
             "shape": ""
            }
           },
           "name": "Saudi Arabia",
           "offsetgroup": "Saudi Arabia",
           "orientation": "v",
           "showlegend": true,
           "textposition": "auto",
           "type": "bar",
           "x": [
            "Saudi Arabia"
           ],
           "xaxis": "x",
           "y": [
            161717066666.667
           ],
           "yaxis": "y"
          },
          {
           "alignmentgroup": "True",
           "hovertemplate": "Country=%{x}<br>date=1999<br>GDP (Trillions USD)=%{y}<extra></extra>",
           "legendgroup": "Spain",
           "marker": {
            "color": "#B6E880",
            "pattern": {
             "shape": ""
            }
           },
           "name": "Spain",
           "offsetgroup": "Spain",
           "orientation": "v",
           "showlegend": true,
           "textposition": "auto",
           "type": "bar",
           "x": [
            "Spain"
           ],
           "xaxis": "x",
           "y": [
            634394904386.874
           ],
           "yaxis": "y"
          },
          {
           "alignmentgroup": "True",
           "hovertemplate": "Country=%{x}<br>date=1999<br>GDP (Trillions USD)=%{y}<extra></extra>",
           "legendgroup": "Sweden",
           "marker": {
            "color": "#FF97FF",
            "pattern": {
             "shape": ""
            }
           },
           "name": "Sweden",
           "offsetgroup": "Sweden",
           "orientation": "v",
           "showlegend": true,
           "textposition": "auto",
           "type": "bar",
           "x": [
            "Sweden"
           ],
           "xaxis": "x",
           "y": [
            274320415375.678
           ],
           "yaxis": "y"
          },
          {
           "alignmentgroup": "True",
           "hovertemplate": "Country=%{x}<br>date=1999<br>GDP (Trillions USD)=%{y}<extra></extra>",
           "legendgroup": "Switzerland",
           "marker": {
            "color": "#FECB52",
            "pattern": {
             "shape": ""
            }
           },
           "name": "Switzerland",
           "offsetgroup": "Switzerland",
           "orientation": "v",
           "showlegend": true,
           "textposition": "auto",
           "type": "bar",
           "x": [
            "Switzerland"
           ],
           "xaxis": "x",
           "y": [
            297873643323.126
           ],
           "yaxis": "y"
          },
          {
           "alignmentgroup": "True",
           "hovertemplate": "Country=%{x}<br>date=1999<br>GDP (Trillions USD)=%{y}<extra></extra>",
           "legendgroup": "Thailand",
           "marker": {
            "color": "#636efa",
            "pattern": {
             "shape": ""
            }
           },
           "name": "Thailand",
           "offsetgroup": "Thailand",
           "orientation": "v",
           "showlegend": true,
           "textposition": "auto",
           "type": "bar",
           "x": [
            "Thailand"
           ],
           "xaxis": "x",
           "y": [
            126669211778.94
           ],
           "yaxis": "y"
          },
          {
           "alignmentgroup": "True",
           "hovertemplate": "Country=%{x}<br>date=1999<br>GDP (Trillions USD)=%{y}<extra></extra>",
           "legendgroup": "Turkiye",
           "marker": {
            "color": "#EF553B",
            "pattern": {
             "shape": ""
            }
           },
           "name": "Turkiye",
           "offsetgroup": "Turkiye",
           "orientation": "v",
           "showlegend": true,
           "textposition": "auto",
           "type": "bar",
           "x": [
            "Turkiye"
           ],
           "xaxis": "x",
           "y": [
            256395932738.435
           ],
           "yaxis": "y"
          },
          {
           "alignmentgroup": "True",
           "hovertemplate": "Country=%{x}<br>date=1999<br>GDP (Trillions USD)=%{y}<extra></extra>",
           "legendgroup": "United Kingdom",
           "marker": {
            "color": "#00cc96",
            "pattern": {
             "shape": ""
            }
           },
           "name": "United Kingdom",
           "offsetgroup": "United Kingdom",
           "orientation": "v",
           "showlegend": true,
           "textposition": "auto",
           "type": "bar",
           "x": [
            "United Kingdom"
           ],
           "xaxis": "x",
           "y": [
            1687830448147.55
           ],
           "yaxis": "y"
          },
          {
           "alignmentgroup": "True",
           "hovertemplate": "Country=%{x}<br>date=1999<br>GDP (Trillions USD)=%{y}<extra></extra>",
           "legendgroup": "United States",
           "marker": {
            "color": "#ab63fa",
            "pattern": {
             "shape": ""
            }
           },
           "name": "United States",
           "offsetgroup": "United States",
           "orientation": "v",
           "showlegend": true,
           "textposition": "auto",
           "type": "bar",
           "x": [
            "United States"
           ],
           "xaxis": "x",
           "y": [
            9631172000000
           ],
           "yaxis": "y"
          }
         ],
         "name": "1999"
        },
        {
         "data": [
          {
           "alignmentgroup": "True",
           "hovertemplate": "Country=%{x}<br>date=2000<br>GDP (Trillions USD)=%{y}<extra></extra>",
           "legendgroup": "Australia",
           "marker": {
            "color": "#636efa",
            "pattern": {
             "shape": ""
            }
           },
           "name": "Australia",
           "offsetgroup": "Australia",
           "orientation": "v",
           "showlegend": true,
           "textposition": "auto",
           "type": "bar",
           "x": [
            "Australia"
           ],
           "xaxis": "x",
           "y": [
            416167815092.908
           ],
           "yaxis": "y"
          },
          {
           "alignmentgroup": "True",
           "hovertemplate": "Country=%{x}<br>date=2000<br>GDP (Trillions USD)=%{y}<extra></extra>",
           "legendgroup": "Belgium",
           "marker": {
            "color": "#EF553B",
            "pattern": {
             "shape": ""
            }
           },
           "name": "Belgium",
           "offsetgroup": "Belgium",
           "orientation": "v",
           "showlegend": true,
           "textposition": "auto",
           "type": "bar",
           "x": [
            "Belgium"
           ],
           "xaxis": "x",
           "y": [
            236792460312.471
           ],
           "yaxis": "y"
          },
          {
           "alignmentgroup": "True",
           "hovertemplate": "Country=%{x}<br>date=2000<br>GDP (Trillions USD)=%{y}<extra></extra>",
           "legendgroup": "Brazil",
           "marker": {
            "color": "#00cc96",
            "pattern": {
             "shape": ""
            }
           },
           "name": "Brazil",
           "offsetgroup": "Brazil",
           "orientation": "v",
           "showlegend": true,
           "textposition": "auto",
           "type": "bar",
           "x": [
            "Brazil"
           ],
           "xaxis": "x",
           "y": [
            655448231983.527
           ],
           "yaxis": "y"
          },
          {
           "alignmentgroup": "True",
           "hovertemplate": "Country=%{x}<br>date=2000<br>GDP (Trillions USD)=%{y}<extra></extra>",
           "legendgroup": "Canada",
           "marker": {
            "color": "#ab63fa",
            "pattern": {
             "shape": ""
            }
           },
           "name": "Canada",
           "offsetgroup": "Canada",
           "orientation": "v",
           "showlegend": true,
           "textposition": "auto",
           "type": "bar",
           "x": [
            "Canada"
           ],
           "xaxis": "x",
           "y": [
            744773415931.587
           ],
           "yaxis": "y"
          },
          {
           "alignmentgroup": "True",
           "hovertemplate": "Country=%{x}<br>date=2000<br>GDP (Trillions USD)=%{y}<extra></extra>",
           "legendgroup": "China",
           "marker": {
            "color": "#FFA15A",
            "pattern": {
             "shape": ""
            }
           },
           "name": "China",
           "offsetgroup": "China",
           "orientation": "v",
           "showlegend": true,
           "textposition": "auto",
           "type": "bar",
           "x": [
            "China"
           ],
           "xaxis": "x",
           "y": [
            1211331651866.09
           ],
           "yaxis": "y"
          },
          {
           "alignmentgroup": "True",
           "hovertemplate": "Country=%{x}<br>date=2000<br>GDP (Trillions USD)=%{y}<extra></extra>",
           "legendgroup": "France",
           "marker": {
            "color": "#19d3f3",
            "pattern": {
             "shape": ""
            }
           },
           "name": "France",
           "offsetgroup": "France",
           "orientation": "v",
           "showlegend": true,
           "textposition": "auto",
           "type": "bar",
           "x": [
            "France"
           ],
           "xaxis": "x",
           "y": [
            1360959069477.49
           ],
           "yaxis": "y"
          },
          {
           "alignmentgroup": "True",
           "hovertemplate": "Country=%{x}<br>date=2000<br>GDP (Trillions USD)=%{y}<extra></extra>",
           "legendgroup": "Germany",
           "marker": {
            "color": "#FF6692",
            "pattern": {
             "shape": ""
            }
           },
           "name": "Germany",
           "offsetgroup": "Germany",
           "orientation": "v",
           "showlegend": true,
           "textposition": "auto",
           "type": "bar",
           "x": [
            "Germany"
           ],
           "xaxis": "x",
           "y": [
            1966980701145.1
           ],
           "yaxis": "y"
          },
          {
           "alignmentgroup": "True",
           "hovertemplate": "Country=%{x}<br>date=2000<br>GDP (Trillions USD)=%{y}<extra></extra>",
           "legendgroup": "India",
           "marker": {
            "color": "#B6E880",
            "pattern": {
             "shape": ""
            }
           },
           "name": "India",
           "offsetgroup": "India",
           "orientation": "v",
           "showlegend": true,
           "textposition": "auto",
           "type": "bar",
           "x": [
            "India"
           ],
           "xaxis": "x",
           "y": [
            468395521654.458
           ],
           "yaxis": "y"
          },
          {
           "alignmentgroup": "True",
           "hovertemplate": "Country=%{x}<br>date=2000<br>GDP (Trillions USD)=%{y}<extra></extra>",
           "legendgroup": "Indonesia",
           "marker": {
            "color": "#FF97FF",
            "pattern": {
             "shape": ""
            }
           },
           "name": "Indonesia",
           "offsetgroup": "Indonesia",
           "orientation": "v",
           "showlegend": true,
           "textposition": "auto",
           "type": "bar",
           "x": [
            "Indonesia"
           ],
           "xaxis": "x",
           "y": [
            165021012077.81
           ],
           "yaxis": "y"
          },
          {
           "alignmentgroup": "True",
           "hovertemplate": "Country=%{x}<br>date=2000<br>GDP (Trillions USD)=%{y}<extra></extra>",
           "legendgroup": "Italy",
           "marker": {
            "color": "#FECB52",
            "pattern": {
             "shape": ""
            }
           },
           "name": "Italy",
           "offsetgroup": "Italy",
           "orientation": "v",
           "showlegend": true,
           "textposition": "auto",
           "type": "bar",
           "x": [
            "Italy"
           ],
           "xaxis": "x",
           "y": [
            1149661363439.38
           ],
           "yaxis": "y"
          },
          {
           "alignmentgroup": "True",
           "hovertemplate": "Country=%{x}<br>date=2000<br>GDP (Trillions USD)=%{y}<extra></extra>",
           "legendgroup": "Japan",
           "marker": {
            "color": "#636efa",
            "pattern": {
             "shape": ""
            }
           },
           "name": "Japan",
           "offsetgroup": "Japan",
           "orientation": "v",
           "showlegend": true,
           "textposition": "auto",
           "type": "bar",
           "x": [
            "Japan"
           ],
           "xaxis": "x",
           "y": [
            4968359075956.59
           ],
           "yaxis": "y"
          },
          {
           "alignmentgroup": "True",
           "hovertemplate": "Country=%{x}<br>date=2000<br>GDP (Trillions USD)=%{y}<extra></extra>",
           "legendgroup": "Korea, Rep.",
           "marker": {
            "color": "#EF553B",
            "pattern": {
             "shape": ""
            }
           },
           "name": "Korea, Rep.",
           "offsetgroup": "Korea, Rep.",
           "orientation": "v",
           "showlegend": true,
           "textposition": "auto",
           "type": "bar",
           "x": [
            "Korea, Rep."
           ],
           "xaxis": "x",
           "y": [
            576179387819.613
           ],
           "yaxis": "y"
          },
          {
           "alignmentgroup": "True",
           "hovertemplate": "Country=%{x}<br>date=2000<br>GDP (Trillions USD)=%{y}<extra></extra>",
           "legendgroup": "Mexico",
           "marker": {
            "color": "#00cc96",
            "pattern": {
             "shape": ""
            }
           },
           "name": "Mexico",
           "offsetgroup": "Mexico",
           "orientation": "v",
           "showlegend": true,
           "textposition": "auto",
           "type": "bar",
           "x": [
            "Mexico"
           ],
           "xaxis": "x",
           "y": [
            742061329643.37
           ],
           "yaxis": "y"
          },
          {
           "alignmentgroup": "True",
           "hovertemplate": "Country=%{x}<br>date=2000<br>GDP (Trillions USD)=%{y}<extra></extra>",
           "legendgroup": "Netherlands",
           "marker": {
            "color": "#ab63fa",
            "pattern": {
             "shape": ""
            }
           },
           "name": "Netherlands",
           "offsetgroup": "Netherlands",
           "orientation": "v",
           "showlegend": true,
           "textposition": "auto",
           "type": "bar",
           "x": [
            "Netherlands"
           ],
           "xaxis": "x",
           "y": [
            417649282153.726
           ],
           "yaxis": "y"
          },
          {
           "alignmentgroup": "True",
           "hovertemplate": "Country=%{x}<br>date=2000<br>GDP (Trillions USD)=%{y}<extra></extra>",
           "legendgroup": "Poland",
           "marker": {
            "color": "#FFA15A",
            "pattern": {
             "shape": ""
            }
           },
           "name": "Poland",
           "offsetgroup": "Poland",
           "orientation": "v",
           "showlegend": true,
           "textposition": "auto",
           "type": "bar",
           "x": [
            "Poland"
           ],
           "xaxis": "x",
           "y": [
            172953527033.013
           ],
           "yaxis": "y"
          },
          {
           "alignmentgroup": "True",
           "hovertemplate": "Country=%{x}<br>date=2000<br>GDP (Trillions USD)=%{y}<extra></extra>",
           "legendgroup": "Russian Federation",
           "marker": {
            "color": "#19d3f3",
            "pattern": {
             "shape": ""
            }
           },
           "name": "Russian Federation",
           "offsetgroup": "Russian Federation",
           "orientation": "v",
           "showlegend": true,
           "textposition": "auto",
           "type": "bar",
           "x": [
            "Russian Federation"
           ],
           "xaxis": "x",
           "y": [
            259710142196.943
           ],
           "yaxis": "y"
          },
          {
           "alignmentgroup": "True",
           "hovertemplate": "Country=%{x}<br>date=2000<br>GDP (Trillions USD)=%{y}<extra></extra>",
           "legendgroup": "Saudi Arabia",
           "marker": {
            "color": "#FF6692",
            "pattern": {
             "shape": ""
            }
           },
           "name": "Saudi Arabia",
           "offsetgroup": "Saudi Arabia",
           "orientation": "v",
           "showlegend": true,
           "textposition": "auto",
           "type": "bar",
           "x": [
            "Saudi Arabia"
           ],
           "xaxis": "x",
           "y": [
            189514933333.333
           ],
           "yaxis": "y"
          },
          {
           "alignmentgroup": "True",
           "hovertemplate": "Country=%{x}<br>date=2000<br>GDP (Trillions USD)=%{y}<extra></extra>",
           "legendgroup": "Spain",
           "marker": {
            "color": "#B6E880",
            "pattern": {
             "shape": ""
            }
           },
           "name": "Spain",
           "offsetgroup": "Spain",
           "orientation": "v",
           "showlegend": true,
           "textposition": "auto",
           "type": "bar",
           "x": [
            "Spain"
           ],
           "xaxis": "x",
           "y": [
            598102854756.08
           ],
           "yaxis": "y"
          },
          {
           "alignmentgroup": "True",
           "hovertemplate": "Country=%{x}<br>date=2000<br>GDP (Trillions USD)=%{y}<extra></extra>",
           "legendgroup": "Sweden",
           "marker": {
            "color": "#FF97FF",
            "pattern": {
             "shape": ""
            }
           },
           "name": "Sweden",
           "offsetgroup": "Sweden",
           "orientation": "v",
           "showlegend": true,
           "textposition": "auto",
           "type": "bar",
           "x": [
            "Sweden"
           ],
           "xaxis": "x",
           "y": [
            262905197441.662
           ],
           "yaxis": "y"
          },
          {
           "alignmentgroup": "True",
           "hovertemplate": "Country=%{x}<br>date=2000<br>GDP (Trillions USD)=%{y}<extra></extra>",
           "legendgroup": "Switzerland",
           "marker": {
            "color": "#FECB52",
            "pattern": {
             "shape": ""
            }
           },
           "name": "Switzerland",
           "offsetgroup": "Switzerland",
           "orientation": "v",
           "showlegend": true,
           "textposition": "auto",
           "type": "bar",
           "x": [
            "Switzerland"
           ],
           "xaxis": "x",
           "y": [
            279216033870.204
           ],
           "yaxis": "y"
          },
          {
           "alignmentgroup": "True",
           "hovertemplate": "Country=%{x}<br>date=2000<br>GDP (Trillions USD)=%{y}<extra></extra>",
           "legendgroup": "Thailand",
           "marker": {
            "color": "#636efa",
            "pattern": {
             "shape": ""
            }
           },
           "name": "Thailand",
           "offsetgroup": "Thailand",
           "orientation": "v",
           "showlegend": true,
           "textposition": "auto",
           "type": "bar",
           "x": [
            "Thailand"
           ],
           "xaxis": "x",
           "y": [
            126392224253.794
           ],
           "yaxis": "y"
          },
          {
           "alignmentgroup": "True",
           "hovertemplate": "Country=%{x}<br>date=2000<br>GDP (Trillions USD)=%{y}<extra></extra>",
           "legendgroup": "Turkiye",
           "marker": {
            "color": "#EF553B",
            "pattern": {
             "shape": ""
            }
           },
           "name": "Turkiye",
           "offsetgroup": "Turkiye",
           "orientation": "v",
           "showlegend": true,
           "textposition": "auto",
           "type": "bar",
           "x": [
            "Turkiye"
           ],
           "xaxis": "x",
           "y": [
            274294623164.043
           ],
           "yaxis": "y"
          },
          {
           "alignmentgroup": "True",
           "hovertemplate": "Country=%{x}<br>date=2000<br>GDP (Trillions USD)=%{y}<extra></extra>",
           "legendgroup": "United Kingdom",
           "marker": {
            "color": "#00cc96",
            "pattern": {
             "shape": ""
            }
           },
           "name": "United Kingdom",
           "offsetgroup": "United Kingdom",
           "orientation": "v",
           "showlegend": true,
           "textposition": "auto",
           "type": "bar",
           "x": [
            "United Kingdom"
           ],
           "xaxis": "x",
           "y": [
            1665534876683.31
           ],
           "yaxis": "y"
          },
          {
           "alignmentgroup": "True",
           "hovertemplate": "Country=%{x}<br>date=2000<br>GDP (Trillions USD)=%{y}<extra></extra>",
           "legendgroup": "United States",
           "marker": {
            "color": "#ab63fa",
            "pattern": {
             "shape": ""
            }
           },
           "name": "United States",
           "offsetgroup": "United States",
           "orientation": "v",
           "showlegend": true,
           "textposition": "auto",
           "type": "bar",
           "x": [
            "United States"
           ],
           "xaxis": "x",
           "y": [
            10250952000000
           ],
           "yaxis": "y"
          }
         ],
         "name": "2000"
        },
        {
         "data": [
          {
           "alignmentgroup": "True",
           "hovertemplate": "Country=%{x}<br>date=2001<br>GDP (Trillions USD)=%{y}<extra></extra>",
           "legendgroup": "Australia",
           "marker": {
            "color": "#636efa",
            "pattern": {
             "shape": ""
            }
           },
           "name": "Australia",
           "offsetgroup": "Australia",
           "orientation": "v",
           "showlegend": true,
           "textposition": "auto",
           "type": "bar",
           "x": [
            "Australia"
           ],
           "xaxis": "x",
           "y": [
            379629301675.108
           ],
           "yaxis": "y"
          },
          {
           "alignmentgroup": "True",
           "hovertemplate": "Country=%{x}<br>date=2001<br>GDP (Trillions USD)=%{y}<extra></extra>",
           "legendgroup": "Belgium",
           "marker": {
            "color": "#EF553B",
            "pattern": {
             "shape": ""
            }
           },
           "name": "Belgium",
           "offsetgroup": "Belgium",
           "orientation": "v",
           "showlegend": true,
           "textposition": "auto",
           "type": "bar",
           "x": [
            "Belgium"
           ],
           "xaxis": "x",
           "y": [
            236746141604.37
           ],
           "yaxis": "y"
          },
          {
           "alignmentgroup": "True",
           "hovertemplate": "Country=%{x}<br>date=2001<br>GDP (Trillions USD)=%{y}<extra></extra>",
           "legendgroup": "Brazil",
           "marker": {
            "color": "#00cc96",
            "pattern": {
             "shape": ""
            }
           },
           "name": "Brazil",
           "offsetgroup": "Brazil",
           "orientation": "v",
           "showlegend": true,
           "textposition": "auto",
           "type": "bar",
           "x": [
            "Brazil"
           ],
           "xaxis": "x",
           "y": [
            559983634798.981
           ],
           "yaxis": "y"
          },
          {
           "alignmentgroup": "True",
           "hovertemplate": "Country=%{x}<br>date=2001<br>GDP (Trillions USD)=%{y}<extra></extra>",
           "legendgroup": "Canada",
           "marker": {
            "color": "#ab63fa",
            "pattern": {
             "shape": ""
            }
           },
           "name": "Canada",
           "offsetgroup": "Canada",
           "orientation": "v",
           "showlegend": true,
           "textposition": "auto",
           "type": "bar",
           "x": [
            "Canada"
           ],
           "xaxis": "x",
           "y": [
            738981792355.372
           ],
           "yaxis": "y"
          },
          {
           "alignmentgroup": "True",
           "hovertemplate": "Country=%{x}<br>date=2001<br>GDP (Trillions USD)=%{y}<extra></extra>",
           "legendgroup": "China",
           "marker": {
            "color": "#FFA15A",
            "pattern": {
             "shape": ""
            }
           },
           "name": "China",
           "offsetgroup": "China",
           "orientation": "v",
           "showlegend": true,
           "textposition": "auto",
           "type": "bar",
           "x": [
            "China"
           ],
           "xaxis": "x",
           "y": [
            1339400897105.11
           ],
           "yaxis": "y"
          },
          {
           "alignmentgroup": "True",
           "hovertemplate": "Country=%{x}<br>date=2001<br>GDP (Trillions USD)=%{y}<extra></extra>",
           "legendgroup": "France",
           "marker": {
            "color": "#19d3f3",
            "pattern": {
             "shape": ""
            }
           },
           "name": "France",
           "offsetgroup": "France",
           "orientation": "v",
           "showlegend": true,
           "textposition": "auto",
           "type": "bar",
           "x": [
            "France"
           ],
           "xaxis": "x",
           "y": [
            1370376677298.86
           ],
           "yaxis": "y"
          },
          {
           "alignmentgroup": "True",
           "hovertemplate": "Country=%{x}<br>date=2001<br>GDP (Trillions USD)=%{y}<extra></extra>",
           "legendgroup": "Germany",
           "marker": {
            "color": "#FF6692",
            "pattern": {
             "shape": ""
            }
           },
           "name": "Germany",
           "offsetgroup": "Germany",
           "orientation": "v",
           "showlegend": true,
           "textposition": "auto",
           "type": "bar",
           "x": [
            "Germany"
           ],
           "xaxis": "x",
           "y": [
            1966381496641.73
           ],
           "yaxis": "y"
          },
          {
           "alignmentgroup": "True",
           "hovertemplate": "Country=%{x}<br>date=2001<br>GDP (Trillions USD)=%{y}<extra></extra>",
           "legendgroup": "India",
           "marker": {
            "color": "#B6E880",
            "pattern": {
             "shape": ""
            }
           },
           "name": "India",
           "offsetgroup": "India",
           "orientation": "v",
           "showlegend": true,
           "textposition": "auto",
           "type": "bar",
           "x": [
            "India"
           ],
           "xaxis": "x",
           "y": [
            485440139204.171
           ],
           "yaxis": "y"
          },
          {
           "alignmentgroup": "True",
           "hovertemplate": "Country=%{x}<br>date=2001<br>GDP (Trillions USD)=%{y}<extra></extra>",
           "legendgroup": "Indonesia",
           "marker": {
            "color": "#FF97FF",
            "pattern": {
             "shape": ""
            }
           },
           "name": "Indonesia",
           "offsetgroup": "Indonesia",
           "orientation": "v",
           "showlegend": true,
           "textposition": "auto",
           "type": "bar",
           "x": [
            "Indonesia"
           ],
           "xaxis": "x",
           "y": [
            160446947784.909
           ],
           "yaxis": "y"
          },
          {
           "alignmentgroup": "True",
           "hovertemplate": "Country=%{x}<br>date=2001<br>GDP (Trillions USD)=%{y}<extra></extra>",
           "legendgroup": "Italy",
           "marker": {
            "color": "#FECB52",
            "pattern": {
             "shape": ""
            }
           },
           "name": "Italy",
           "offsetgroup": "Italy",
           "orientation": "v",
           "showlegend": true,
           "textposition": "auto",
           "type": "bar",
           "x": [
            "Italy"
           ],
           "xaxis": "x",
           "y": [
            1172041488805.87
           ],
           "yaxis": "y"
          },
          {
           "alignmentgroup": "True",
           "hovertemplate": "Country=%{x}<br>date=2001<br>GDP (Trillions USD)=%{y}<extra></extra>",
           "legendgroup": "Japan",
           "marker": {
            "color": "#636efa",
            "pattern": {
             "shape": ""
            }
           },
           "name": "Japan",
           "offsetgroup": "Japan",
           "orientation": "v",
           "showlegend": true,
           "textposition": "auto",
           "type": "bar",
           "x": [
            "Japan"
           ],
           "xaxis": "x",
           "y": [
            4374711694090.87
           ],
           "yaxis": "y"
          },
          {
           "alignmentgroup": "True",
           "hovertemplate": "Country=%{x}<br>date=2001<br>GDP (Trillions USD)=%{y}<extra></extra>",
           "legendgroup": "Korea, Rep.",
           "marker": {
            "color": "#EF553B",
            "pattern": {
             "shape": ""
            }
           },
           "name": "Korea, Rep.",
           "offsetgroup": "Korea, Rep.",
           "orientation": "v",
           "showlegend": true,
           "textposition": "auto",
           "type": "bar",
           "x": [
            "Korea, Rep."
           ],
           "xaxis": "x",
           "y": [
            547656279894.587
           ],
           "yaxis": "y"
          },
          {
           "alignmentgroup": "True",
           "hovertemplate": "Country=%{x}<br>date=2001<br>GDP (Trillions USD)=%{y}<extra></extra>",
           "legendgroup": "Mexico",
           "marker": {
            "color": "#00cc96",
            "pattern": {
             "shape": ""
            }
           },
           "name": "Mexico",
           "offsetgroup": "Mexico",
           "orientation": "v",
           "showlegend": true,
           "textposition": "auto",
           "type": "bar",
           "x": [
            "Mexico"
           ],
           "xaxis": "x",
           "y": [
            796064590656.176
           ],
           "yaxis": "y"
          },
          {
           "alignmentgroup": "True",
           "hovertemplate": "Country=%{x}<br>date=2001<br>GDP (Trillions USD)=%{y}<extra></extra>",
           "legendgroup": "Netherlands",
           "marker": {
            "color": "#ab63fa",
            "pattern": {
             "shape": ""
            }
           },
           "name": "Netherlands",
           "offsetgroup": "Netherlands",
           "orientation": "v",
           "showlegend": true,
           "textposition": "auto",
           "type": "bar",
           "x": [
            "Netherlands"
           ],
           "xaxis": "x",
           "y": [
            432536219668.898
           ],
           "yaxis": "y"
          },
          {
           "alignmentgroup": "True",
           "hovertemplate": "Country=%{x}<br>date=2001<br>GDP (Trillions USD)=%{y}<extra></extra>",
           "legendgroup": "Poland",
           "marker": {
            "color": "#FFA15A",
            "pattern": {
             "shape": ""
            }
           },
           "name": "Poland",
           "offsetgroup": "Poland",
           "orientation": "v",
           "showlegend": true,
           "textposition": "auto",
           "type": "bar",
           "x": [
            "Poland"
           ],
           "xaxis": "x",
           "y": [
            191823200371.284
           ],
           "yaxis": "y"
          },
          {
           "alignmentgroup": "True",
           "hovertemplate": "Country=%{x}<br>date=2001<br>GDP (Trillions USD)=%{y}<extra></extra>",
           "legendgroup": "Russian Federation",
           "marker": {
            "color": "#19d3f3",
            "pattern": {
             "shape": ""
            }
           },
           "name": "Russian Federation",
           "offsetgroup": "Russian Federation",
           "orientation": "v",
           "showlegend": true,
           "textposition": "auto",
           "type": "bar",
           "x": [
            "Russian Federation"
           ],
           "xaxis": "x",
           "y": [
            306602070620.5
           ],
           "yaxis": "y"
          },
          {
           "alignmentgroup": "True",
           "hovertemplate": "Country=%{x}<br>date=2001<br>GDP (Trillions USD)=%{y}<extra></extra>",
           "legendgroup": "Saudi Arabia",
           "marker": {
            "color": "#FF6692",
            "pattern": {
             "shape": ""
            }
           },
           "name": "Saudi Arabia",
           "offsetgroup": "Saudi Arabia",
           "orientation": "v",
           "showlegend": true,
           "textposition": "auto",
           "type": "bar",
           "x": [
            "Saudi Arabia"
           ],
           "xaxis": "x",
           "y": [
            184137600000
           ],
           "yaxis": "y"
          },
          {
           "alignmentgroup": "True",
           "hovertemplate": "Country=%{x}<br>date=2001<br>GDP (Trillions USD)=%{y}<extra></extra>",
           "legendgroup": "Spain",
           "marker": {
            "color": "#B6E880",
            "pattern": {
             "shape": ""
            }
           },
           "name": "Spain",
           "offsetgroup": "Spain",
           "orientation": "v",
           "showlegend": true,
           "textposition": "auto",
           "type": "bar",
           "x": [
            "Spain"
           ],
           "xaxis": "x",
           "y": [
            627798682378.741
           ],
           "yaxis": "y"
          },
          {
           "alignmentgroup": "True",
           "hovertemplate": "Country=%{x}<br>date=2001<br>GDP (Trillions USD)=%{y}<extra></extra>",
           "legendgroup": "Sweden",
           "marker": {
            "color": "#FF97FF",
            "pattern": {
             "shape": ""
            }
           },
           "name": "Sweden",
           "offsetgroup": "Sweden",
           "orientation": "v",
           "showlegend": true,
           "textposition": "auto",
           "type": "bar",
           "x": [
            "Sweden"
           ],
           "xaxis": "x",
           "y": [
            242499249692.616
           ],
           "yaxis": "y"
          },
          {
           "alignmentgroup": "True",
           "hovertemplate": "Country=%{x}<br>date=2001<br>GDP (Trillions USD)=%{y}<extra></extra>",
           "legendgroup": "Switzerland",
           "marker": {
            "color": "#FECB52",
            "pattern": {
             "shape": ""
            }
           },
           "name": "Switzerland",
           "offsetgroup": "Switzerland",
           "orientation": "v",
           "showlegend": true,
           "textposition": "auto",
           "type": "bar",
           "x": [
            "Switzerland"
           ],
           "xaxis": "x",
           "y": [
            286582672434.226
           ],
           "yaxis": "y"
          },
          {
           "alignmentgroup": "True",
           "hovertemplate": "Country=%{x}<br>date=2001<br>GDP (Trillions USD)=%{y}<extra></extra>",
           "legendgroup": "Thailand",
           "marker": {
            "color": "#636efa",
            "pattern": {
             "shape": ""
            }
           },
           "name": "Thailand",
           "offsetgroup": "Thailand",
           "orientation": "v",
           "showlegend": true,
           "textposition": "auto",
           "type": "bar",
           "x": [
            "Thailand"
           ],
           "xaxis": "x",
           "y": [
            120296476180.402
           ],
           "yaxis": "y"
          },
          {
           "alignmentgroup": "True",
           "hovertemplate": "Country=%{x}<br>date=2001<br>GDP (Trillions USD)=%{y}<extra></extra>",
           "legendgroup": "Turkiye",
           "marker": {
            "color": "#EF553B",
            "pattern": {
             "shape": ""
            }
           },
           "name": "Turkiye",
           "offsetgroup": "Turkiye",
           "orientation": "v",
           "showlegend": true,
           "textposition": "auto",
           "type": "bar",
           "x": [
            "Turkiye"
           ],
           "xaxis": "x",
           "y": [
            201753123806.695
           ],
           "yaxis": "y"
          },
          {
           "alignmentgroup": "True",
           "hovertemplate": "Country=%{x}<br>date=2001<br>GDP (Trillions USD)=%{y}<extra></extra>",
           "legendgroup": "United Kingdom",
           "marker": {
            "color": "#00cc96",
            "pattern": {
             "shape": ""
            }
           },
           "name": "United Kingdom",
           "offsetgroup": "United Kingdom",
           "orientation": "v",
           "showlegend": true,
           "textposition": "auto",
           "type": "bar",
           "x": [
            "United Kingdom"
           ],
           "xaxis": "x",
           "y": [
            1649827263567.01
           ],
           "yaxis": "y"
          },
          {
           "alignmentgroup": "True",
           "hovertemplate": "Country=%{x}<br>date=2001<br>GDP (Trillions USD)=%{y}<extra></extra>",
           "legendgroup": "United States",
           "marker": {
            "color": "#ab63fa",
            "pattern": {
             "shape": ""
            }
           },
           "name": "United States",
           "offsetgroup": "United States",
           "orientation": "v",
           "showlegend": true,
           "textposition": "auto",
           "type": "bar",
           "x": [
            "United States"
           ],
           "xaxis": "x",
           "y": [
            10581929000000
           ],
           "yaxis": "y"
          }
         ],
         "name": "2001"
        },
        {
         "data": [
          {
           "alignmentgroup": "True",
           "hovertemplate": "Country=%{x}<br>date=2002<br>GDP (Trillions USD)=%{y}<extra></extra>",
           "legendgroup": "Australia",
           "marker": {
            "color": "#636efa",
            "pattern": {
             "shape": ""
            }
           },
           "name": "Australia",
           "offsetgroup": "Australia",
           "orientation": "v",
           "showlegend": true,
           "textposition": "auto",
           "type": "bar",
           "x": [
            "Australia"
           ],
           "xaxis": "x",
           "y": [
            395788696012.059
           ],
           "yaxis": "y"
          },
          {
           "alignmentgroup": "True",
           "hovertemplate": "Country=%{x}<br>date=2002<br>GDP (Trillions USD)=%{y}<extra></extra>",
           "legendgroup": "Belgium",
           "marker": {
            "color": "#EF553B",
            "pattern": {
             "shape": ""
            }
           },
           "name": "Belgium",
           "offsetgroup": "Belgium",
           "orientation": "v",
           "showlegend": true,
           "textposition": "auto",
           "type": "bar",
           "x": [
            "Belgium"
           ],
           "xaxis": "x",
           "y": [
            258383599375.177
           ],
           "yaxis": "y"
          },
          {
           "alignmentgroup": "True",
           "hovertemplate": "Country=%{x}<br>date=2002<br>GDP (Trillions USD)=%{y}<extra></extra>",
           "legendgroup": "Brazil",
           "marker": {
            "color": "#00cc96",
            "pattern": {
             "shape": ""
            }
           },
           "name": "Brazil",
           "offsetgroup": "Brazil",
           "orientation": "v",
           "showlegend": true,
           "textposition": "auto",
           "type": "bar",
           "x": [
            "Brazil"
           ],
           "xaxis": "x",
           "y": [
            509795273806.715
           ],
           "yaxis": "y"
          },
          {
           "alignmentgroup": "True",
           "hovertemplate": "Country=%{x}<br>date=2002<br>GDP (Trillions USD)=%{y}<extra></extra>",
           "legendgroup": "Canada",
           "marker": {
            "color": "#ab63fa",
            "pattern": {
             "shape": ""
            }
           },
           "name": "Canada",
           "offsetgroup": "Canada",
           "orientation": "v",
           "showlegend": true,
           "textposition": "auto",
           "type": "bar",
           "x": [
            "Canada"
           ],
           "xaxis": "x",
           "y": [
            760649334098.005
           ],
           "yaxis": "y"
          },
          {
           "alignmentgroup": "True",
           "hovertemplate": "Country=%{x}<br>date=2002<br>GDP (Trillions USD)=%{y}<extra></extra>",
           "legendgroup": "China",
           "marker": {
            "color": "#FFA15A",
            "pattern": {
             "shape": ""
            }
           },
           "name": "China",
           "offsetgroup": "China",
           "orientation": "v",
           "showlegend": true,
           "textposition": "auto",
           "type": "bar",
           "x": [
            "China"
           ],
           "xaxis": "x",
           "y": [
            1470557654799.95
           ],
           "yaxis": "y"
          },
          {
           "alignmentgroup": "True",
           "hovertemplate": "Country=%{x}<br>date=2002<br>GDP (Trillions USD)=%{y}<extra></extra>",
           "legendgroup": "France",
           "marker": {
            "color": "#19d3f3",
            "pattern": {
             "shape": ""
            }
           },
           "name": "France",
           "offsetgroup": "France",
           "orientation": "v",
           "showlegend": true,
           "textposition": "auto",
           "type": "bar",
           "x": [
            "France"
           ],
           "xaxis": "x",
           "y": [
            1492427756382.43
           ],
           "yaxis": "y"
          },
          {
           "alignmentgroup": "True",
           "hovertemplate": "Country=%{x}<br>date=2002<br>GDP (Trillions USD)=%{y}<extra></extra>",
           "legendgroup": "Germany",
           "marker": {
            "color": "#FF6692",
            "pattern": {
             "shape": ""
            }
           },
           "name": "Germany",
           "offsetgroup": "Germany",
           "orientation": "v",
           "showlegend": true,
           "textposition": "auto",
           "type": "bar",
           "x": [
            "Germany"
           ],
           "xaxis": "x",
           "y": [
            2102350798305.89
           ],
           "yaxis": "y"
          },
          {
           "alignmentgroup": "True",
           "hovertemplate": "Country=%{x}<br>date=2002<br>GDP (Trillions USD)=%{y}<extra></extra>",
           "legendgroup": "India",
           "marker": {
            "color": "#B6E880",
            "pattern": {
             "shape": ""
            }
           },
           "name": "India",
           "offsetgroup": "India",
           "orientation": "v",
           "showlegend": true,
           "textposition": "auto",
           "type": "bar",
           "x": [
            "India"
           ],
           "xaxis": "x",
           "y": [
            514939140318.756
           ],
           "yaxis": "y"
          },
          {
           "alignmentgroup": "True",
           "hovertemplate": "Country=%{x}<br>date=2002<br>GDP (Trillions USD)=%{y}<extra></extra>",
           "legendgroup": "Indonesia",
           "marker": {
            "color": "#FF97FF",
            "pattern": {
             "shape": ""
            }
           },
           "name": "Indonesia",
           "offsetgroup": "Indonesia",
           "orientation": "v",
           "showlegend": true,
           "textposition": "auto",
           "type": "bar",
           "x": [
            "Indonesia"
           ],
           "xaxis": "x",
           "y": [
            195660611165.183
           ],
           "yaxis": "y"
          },
          {
           "alignmentgroup": "True",
           "hovertemplate": "Country=%{x}<br>date=2002<br>GDP (Trillions USD)=%{y}<extra></extra>",
           "legendgroup": "Italy",
           "marker": {
            "color": "#FECB52",
            "pattern": {
             "shape": ""
            }
           },
           "name": "Italy",
           "offsetgroup": "Italy",
           "orientation": "v",
           "showlegend": true,
           "textposition": "auto",
           "type": "bar",
           "x": [
            "Italy"
           ],
           "xaxis": "x",
           "y": [
            1281746271196.04
           ],
           "yaxis": "y"
          },
          {
           "alignmentgroup": "True",
           "hovertemplate": "Country=%{x}<br>date=2002<br>GDP (Trillions USD)=%{y}<extra></extra>",
           "legendgroup": "Japan",
           "marker": {
            "color": "#636efa",
            "pattern": {
             "shape": ""
            }
           },
           "name": "Japan",
           "offsetgroup": "Japan",
           "orientation": "v",
           "showlegend": true,
           "textposition": "auto",
           "type": "bar",
           "x": [
            "Japan"
           ],
           "xaxis": "x",
           "y": [
            4182846045873.61
           ],
           "yaxis": "y"
          },
          {
           "alignmentgroup": "True",
           "hovertemplate": "Country=%{x}<br>date=2002<br>GDP (Trillions USD)=%{y}<extra></extra>",
           "legendgroup": "Korea, Rep.",
           "marker": {
            "color": "#EF553B",
            "pattern": {
             "shape": ""
            }
           },
           "name": "Korea, Rep.",
           "offsetgroup": "Korea, Rep.",
           "orientation": "v",
           "showlegend": true,
           "textposition": "auto",
           "type": "bar",
           "x": [
            "Korea, Rep."
           ],
           "xaxis": "x",
           "y": [
            627246933729.618
           ],
           "yaxis": "y"
          },
          {
           "alignmentgroup": "True",
           "hovertemplate": "Country=%{x}<br>date=2002<br>GDP (Trillions USD)=%{y}<extra></extra>",
           "legendgroup": "Mexico",
           "marker": {
            "color": "#00cc96",
            "pattern": {
             "shape": ""
            }
           },
           "name": "Mexico",
           "offsetgroup": "Mexico",
           "orientation": "v",
           "showlegend": true,
           "textposition": "auto",
           "type": "bar",
           "x": [
            "Mexico"
           ],
           "xaxis": "x",
           "y": [
            810666116505.478
           ],
           "yaxis": "y"
          },
          {
           "alignmentgroup": "True",
           "hovertemplate": "Country=%{x}<br>date=2002<br>GDP (Trillions USD)=%{y}<extra></extra>",
           "legendgroup": "Netherlands",
           "marker": {
            "color": "#ab63fa",
            "pattern": {
             "shape": ""
            }
           },
           "name": "Netherlands",
           "offsetgroup": "Netherlands",
           "orientation": "v",
           "showlegend": true,
           "textposition": "auto",
           "type": "bar",
           "x": [
            "Netherlands"
           ],
           "xaxis": "x",
           "y": [
            475529972122.746
           ],
           "yaxis": "y"
          },
          {
           "alignmentgroup": "True",
           "hovertemplate": "Country=%{x}<br>date=2002<br>GDP (Trillions USD)=%{y}<extra></extra>",
           "legendgroup": "Poland",
           "marker": {
            "color": "#FFA15A",
            "pattern": {
             "shape": ""
            }
           },
           "name": "Poland",
           "offsetgroup": "Poland",
           "orientation": "v",
           "showlegend": true,
           "textposition": "auto",
           "type": "bar",
           "x": [
            "Poland"
           ],
           "xaxis": "x",
           "y": [
            199694463255.567
           ],
           "yaxis": "y"
          },
          {
           "alignmentgroup": "True",
           "hovertemplate": "Country=%{x}<br>date=2002<br>GDP (Trillions USD)=%{y}<extra></extra>",
           "legendgroup": "Russian Federation",
           "marker": {
            "color": "#19d3f3",
            "pattern": {
             "shape": ""
            }
           },
           "name": "Russian Federation",
           "offsetgroup": "Russian Federation",
           "orientation": "v",
           "showlegend": true,
           "textposition": "auto",
           "type": "bar",
           "x": [
            "Russian Federation"
           ],
           "xaxis": "x",
           "y": [
            345470494417.863
           ],
           "yaxis": "y"
          },
          {
           "alignmentgroup": "True",
           "hovertemplate": "Country=%{x}<br>date=2002<br>GDP (Trillions USD)=%{y}<extra></extra>",
           "legendgroup": "Saudi Arabia",
           "marker": {
            "color": "#FF6692",
            "pattern": {
             "shape": ""
            }
           },
           "name": "Saudi Arabia",
           "offsetgroup": "Saudi Arabia",
           "orientation": "v",
           "showlegend": true,
           "textposition": "auto",
           "type": "bar",
           "x": [
            "Saudi Arabia"
           ],
           "xaxis": "x",
           "y": [
            189605866666.667
           ],
           "yaxis": "y"
          },
          {
           "alignmentgroup": "True",
           "hovertemplate": "Country=%{x}<br>date=2002<br>GDP (Trillions USD)=%{y}<extra></extra>",
           "legendgroup": "Spain",
           "marker": {
            "color": "#B6E880",
            "pattern": {
             "shape": ""
            }
           },
           "name": "Spain",
           "offsetgroup": "Spain",
           "orientation": "v",
           "showlegend": true,
           "textposition": "auto",
           "type": "bar",
           "x": [
            "Spain"
           ],
           "xaxis": "x",
           "y": [
            708938227243.923
           ],
           "yaxis": "y"
          },
          {
           "alignmentgroup": "True",
           "hovertemplate": "Country=%{x}<br>date=2002<br>GDP (Trillions USD)=%{y}<extra></extra>",
           "legendgroup": "Sweden",
           "marker": {
            "color": "#FF97FF",
            "pattern": {
             "shape": ""
            }
           },
           "name": "Sweden",
           "offsetgroup": "Sweden",
           "orientation": "v",
           "showlegend": true,
           "textposition": "auto",
           "type": "bar",
           "x": [
            "Sweden"
           ],
           "xaxis": "x",
           "y": [
            267373345246.531
           ],
           "yaxis": "y"
          },
          {
           "alignmentgroup": "True",
           "hovertemplate": "Country=%{x}<br>date=2002<br>GDP (Trillions USD)=%{y}<extra></extra>",
           "legendgroup": "Switzerland",
           "marker": {
            "color": "#FECB52",
            "pattern": {
             "shape": ""
            }
           },
           "name": "Switzerland",
           "offsetgroup": "Switzerland",
           "orientation": "v",
           "showlegend": true,
           "textposition": "auto",
           "type": "bar",
           "x": [
            "Switzerland"
           ],
           "xaxis": "x",
           "y": [
            309301422430.386
           ],
           "yaxis": "y"
          },
          {
           "alignmentgroup": "True",
           "hovertemplate": "Country=%{x}<br>date=2002<br>GDP (Trillions USD)=%{y}<extra></extra>",
           "legendgroup": "Thailand",
           "marker": {
            "color": "#636efa",
            "pattern": {
             "shape": ""
            }
           },
           "name": "Thailand",
           "offsetgroup": "Thailand",
           "orientation": "v",
           "showlegend": true,
           "textposition": "auto",
           "type": "bar",
           "x": [
            "Thailand"
           ],
           "xaxis": "x",
           "y": [
            134300904400.022
           ],
           "yaxis": "y"
          },
          {
           "alignmentgroup": "True",
           "hovertemplate": "Country=%{x}<br>date=2002<br>GDP (Trillions USD)=%{y}<extra></extra>",
           "legendgroup": "Turkiye",
           "marker": {
            "color": "#EF553B",
            "pattern": {
             "shape": ""
            }
           },
           "name": "Turkiye",
           "offsetgroup": "Turkiye",
           "orientation": "v",
           "showlegend": true,
           "textposition": "auto",
           "type": "bar",
           "x": [
            "Turkiye"
           ],
           "xaxis": "x",
           "y": [
            240249071871.106
           ],
           "yaxis": "y"
          },
          {
           "alignmentgroup": "True",
           "hovertemplate": "Country=%{x}<br>date=2002<br>GDP (Trillions USD)=%{y}<extra></extra>",
           "legendgroup": "United Kingdom",
           "marker": {
            "color": "#00cc96",
            "pattern": {
             "shape": ""
            }
           },
           "name": "United Kingdom",
           "offsetgroup": "United Kingdom",
           "orientation": "v",
           "showlegend": true,
           "textposition": "auto",
           "type": "bar",
           "x": [
            "United Kingdom"
           ],
           "xaxis": "x",
           "y": [
            1785729916067.15
           ],
           "yaxis": "y"
          },
          {
           "alignmentgroup": "True",
           "hovertemplate": "Country=%{x}<br>date=2002<br>GDP (Trillions USD)=%{y}<extra></extra>",
           "legendgroup": "United States",
           "marker": {
            "color": "#ab63fa",
            "pattern": {
             "shape": ""
            }
           },
           "name": "United States",
           "offsetgroup": "United States",
           "orientation": "v",
           "showlegend": true,
           "textposition": "auto",
           "type": "bar",
           "x": [
            "United States"
           ],
           "xaxis": "x",
           "y": [
            10929108000000
           ],
           "yaxis": "y"
          }
         ],
         "name": "2002"
        },
        {
         "data": [
          {
           "alignmentgroup": "True",
           "hovertemplate": "Country=%{x}<br>date=2003<br>GDP (Trillions USD)=%{y}<extra></extra>",
           "legendgroup": "Australia",
           "marker": {
            "color": "#636efa",
            "pattern": {
             "shape": ""
            }
           },
           "name": "Australia",
           "offsetgroup": "Australia",
           "orientation": "v",
           "showlegend": true,
           "textposition": "auto",
           "type": "bar",
           "x": [
            "Australia"
           ],
           "xaxis": "x",
           "y": [
            467739079790.332
           ],
           "yaxis": "y"
          },
          {
           "alignmentgroup": "True",
           "hovertemplate": "Country=%{x}<br>date=2003<br>GDP (Trillions USD)=%{y}<extra></extra>",
           "legendgroup": "Belgium",
           "marker": {
            "color": "#EF553B",
            "pattern": {
             "shape": ""
            }
           },
           "name": "Belgium",
           "offsetgroup": "Belgium",
           "orientation": "v",
           "showlegend": true,
           "textposition": "auto",
           "type": "bar",
           "x": [
            "Belgium"
           ],
           "xaxis": "x",
           "y": [
            318082528506.588
           ],
           "yaxis": "y"
          },
          {
           "alignmentgroup": "True",
           "hovertemplate": "Country=%{x}<br>date=2003<br>GDP (Trillions USD)=%{y}<extra></extra>",
           "legendgroup": "Brazil",
           "marker": {
            "color": "#00cc96",
            "pattern": {
             "shape": ""
            }
           },
           "name": "Brazil",
           "offsetgroup": "Brazil",
           "orientation": "v",
           "showlegend": true,
           "textposition": "auto",
           "type": "bar",
           "x": [
            "Brazil"
           ],
           "xaxis": "x",
           "y": [
            558233745651.874
           ],
           "yaxis": "y"
          },
          {
           "alignmentgroup": "True",
           "hovertemplate": "Country=%{x}<br>date=2003<br>GDP (Trillions USD)=%{y}<extra></extra>",
           "legendgroup": "Canada",
           "marker": {
            "color": "#ab63fa",
            "pattern": {
             "shape": ""
            }
           },
           "name": "Canada",
           "offsetgroup": "Canada",
           "orientation": "v",
           "showlegend": true,
           "textposition": "auto",
           "type": "bar",
           "x": [
            "Canada"
           ],
           "xaxis": "x",
           "y": [
            895540646634.787
           ],
           "yaxis": "y"
          },
          {
           "alignmentgroup": "True",
           "hovertemplate": "Country=%{x}<br>date=2003<br>GDP (Trillions USD)=%{y}<extra></extra>",
           "legendgroup": "China",
           "marker": {
            "color": "#FFA15A",
            "pattern": {
             "shape": ""
            }
           },
           "name": "China",
           "offsetgroup": "China",
           "orientation": "v",
           "showlegend": true,
           "textposition": "auto",
           "type": "bar",
           "x": [
            "China"
           ],
           "xaxis": "x",
           "y": [
            1660280543846.79
           ],
           "yaxis": "y"
          },
          {
           "alignmentgroup": "True",
           "hovertemplate": "Country=%{x}<br>date=2003<br>GDP (Trillions USD)=%{y}<extra></extra>",
           "legendgroup": "France",
           "marker": {
            "color": "#19d3f3",
            "pattern": {
             "shape": ""
            }
           },
           "name": "France",
           "offsetgroup": "France",
           "orientation": "v",
           "showlegend": true,
           "textposition": "auto",
           "type": "bar",
           "x": [
            "France"
           ],
           "xaxis": "x",
           "y": [
            1835095983049.09
           ],
           "yaxis": "y"
          },
          {
           "alignmentgroup": "True",
           "hovertemplate": "Country=%{x}<br>date=2003<br>GDP (Trillions USD)=%{y}<extra></extra>",
           "legendgroup": "Germany",
           "marker": {
            "color": "#FF6692",
            "pattern": {
             "shape": ""
            }
           },
           "name": "Germany",
           "offsetgroup": "Germany",
           "orientation": "v",
           "showlegend": true,
           "textposition": "auto",
           "type": "bar",
           "x": [
            "Germany"
           ],
           "xaxis": "x",
           "y": [
            2534715518349.01
           ],
           "yaxis": "y"
          },
          {
           "alignmentgroup": "True",
           "hovertemplate": "Country=%{x}<br>date=2003<br>GDP (Trillions USD)=%{y}<extra></extra>",
           "legendgroup": "India",
           "marker": {
            "color": "#B6E880",
            "pattern": {
             "shape": ""
            }
           },
           "name": "India",
           "offsetgroup": "India",
           "orientation": "v",
           "showlegend": true,
           "textposition": "auto",
           "type": "bar",
           "x": [
            "India"
           ],
           "xaxis": "x",
           "y": [
            607700687237.318
           ],
           "yaxis": "y"
          },
          {
           "alignmentgroup": "True",
           "hovertemplate": "Country=%{x}<br>date=2003<br>GDP (Trillions USD)=%{y}<extra></extra>",
           "legendgroup": "Indonesia",
           "marker": {
            "color": "#FF97FF",
            "pattern": {
             "shape": ""
            }
           },
           "name": "Indonesia",
           "offsetgroup": "Indonesia",
           "orientation": "v",
           "showlegend": true,
           "textposition": "auto",
           "type": "bar",
           "x": [
            "Indonesia"
           ],
           "xaxis": "x",
           "y": [
            234772463823.808
           ],
           "yaxis": "y"
          },
          {
           "alignmentgroup": "True",
           "hovertemplate": "Country=%{x}<br>date=2003<br>GDP (Trillions USD)=%{y}<extra></extra>",
           "legendgroup": "Italy",
           "marker": {
            "color": "#FECB52",
            "pattern": {
             "shape": ""
            }
           },
           "name": "Italy",
           "offsetgroup": "Italy",
           "orientation": "v",
           "showlegend": true,
           "textposition": "auto",
           "type": "bar",
           "x": [
            "Italy"
           ],
           "xaxis": "x",
           "y": [
            1582930016538.82
           ],
           "yaxis": "y"
          },
          {
           "alignmentgroup": "True",
           "hovertemplate": "Country=%{x}<br>date=2003<br>GDP (Trillions USD)=%{y}<extra></extra>",
           "legendgroup": "Japan",
           "marker": {
            "color": "#636efa",
            "pattern": {
             "shape": ""
            }
           },
           "name": "Japan",
           "offsetgroup": "Japan",
           "orientation": "v",
           "showlegend": true,
           "textposition": "auto",
           "type": "bar",
           "x": [
            "Japan"
           ],
           "xaxis": "x",
           "y": [
            4519561645253.53
           ],
           "yaxis": "y"
          },
          {
           "alignmentgroup": "True",
           "hovertemplate": "Country=%{x}<br>date=2003<br>GDP (Trillions USD)=%{y}<extra></extra>",
           "legendgroup": "Korea, Rep.",
           "marker": {
            "color": "#EF553B",
            "pattern": {
             "shape": ""
            }
           },
           "name": "Korea, Rep.",
           "offsetgroup": "Korea, Rep.",
           "orientation": "v",
           "showlegend": true,
           "textposition": "auto",
           "type": "bar",
           "x": [
            "Korea, Rep."
           ],
           "xaxis": "x",
           "y": [
            702714855193.904
           ],
           "yaxis": "y"
          },
          {
           "alignmentgroup": "True",
           "hovertemplate": "Country=%{x}<br>date=2003<br>GDP (Trillions USD)=%{y}<extra></extra>",
           "legendgroup": "Mexico",
           "marker": {
            "color": "#00cc96",
            "pattern": {
             "shape": ""
            }
           },
           "name": "Mexico",
           "offsetgroup": "Mexico",
           "orientation": "v",
           "showlegend": true,
           "textposition": "auto",
           "type": "bar",
           "x": [
            "Mexico"
           ],
           "xaxis": "x",
           "y": [
            765549967703.273
           ],
           "yaxis": "y"
          },
          {
           "alignmentgroup": "True",
           "hovertemplate": "Country=%{x}<br>date=2003<br>GDP (Trillions USD)=%{y}<extra></extra>",
           "legendgroup": "Netherlands",
           "marker": {
            "color": "#ab63fa",
            "pattern": {
             "shape": ""
            }
           },
           "name": "Netherlands",
           "offsetgroup": "Netherlands",
           "orientation": "v",
           "showlegend": true,
           "textposition": "auto",
           "type": "bar",
           "x": [
            "Netherlands"
           ],
           "xaxis": "x",
           "y": [
            582435617081.96
           ],
           "yaxis": "y"
          },
          {
           "alignmentgroup": "True",
           "hovertemplate": "Country=%{x}<br>date=2003<br>GDP (Trillions USD)=%{y}<extra></extra>",
           "legendgroup": "Poland",
           "marker": {
            "color": "#FFA15A",
            "pattern": {
             "shape": ""
            }
           },
           "name": "Poland",
           "offsetgroup": "Poland",
           "orientation": "v",
           "showlegend": true,
           "textposition": "auto",
           "type": "bar",
           "x": [
            "Poland"
           ],
           "xaxis": "x",
           "y": [
            218561225998.47
           ],
           "yaxis": "y"
          },
          {
           "alignmentgroup": "True",
           "hovertemplate": "Country=%{x}<br>date=2003<br>GDP (Trillions USD)=%{y}<extra></extra>",
           "legendgroup": "Russian Federation",
           "marker": {
            "color": "#19d3f3",
            "pattern": {
             "shape": ""
            }
           },
           "name": "Russian Federation",
           "offsetgroup": "Russian Federation",
           "orientation": "v",
           "showlegend": true,
           "textposition": "auto",
           "type": "bar",
           "x": [
            "Russian Federation"
           ],
           "xaxis": "x",
           "y": [
            430347420184.885
           ],
           "yaxis": "y"
          },
          {
           "alignmentgroup": "True",
           "hovertemplate": "Country=%{x}<br>date=2003<br>GDP (Trillions USD)=%{y}<extra></extra>",
           "legendgroup": "Saudi Arabia",
           "marker": {
            "color": "#FF6692",
            "pattern": {
             "shape": ""
            }
           },
           "name": "Saudi Arabia",
           "offsetgroup": "Saudi Arabia",
           "orientation": "v",
           "showlegend": true,
           "textposition": "auto",
           "type": "bar",
           "x": [
            "Saudi Arabia"
           ],
           "xaxis": "x",
           "y": [
            215807733333.333
           ],
           "yaxis": "y"
          },
          {
           "alignmentgroup": "True",
           "hovertemplate": "Country=%{x}<br>date=2003<br>GDP (Trillions USD)=%{y}<extra></extra>",
           "legendgroup": "Spain",
           "marker": {
            "color": "#B6E880",
            "pattern": {
             "shape": ""
            }
           },
           "name": "Spain",
           "offsetgroup": "Spain",
           "orientation": "v",
           "showlegend": true,
           "textposition": "auto",
           "type": "bar",
           "x": [
            "Spain"
           ],
           "xaxis": "x",
           "y": [
            907963217057.645
           ],
           "yaxis": "y"
          },
          {
           "alignmentgroup": "True",
           "hovertemplate": "Country=%{x}<br>date=2003<br>GDP (Trillions USD)=%{y}<extra></extra>",
           "legendgroup": "Sweden",
           "marker": {
            "color": "#FF97FF",
            "pattern": {
             "shape": ""
            }
           },
           "name": "Sweden",
           "offsetgroup": "Sweden",
           "orientation": "v",
           "showlegend": true,
           "textposition": "auto",
           "type": "bar",
           "x": [
            "Sweden"
           ],
           "xaxis": "x",
           "y": [
            334074051172.972
           ],
           "yaxis": "y"
          },
          {
           "alignmentgroup": "True",
           "hovertemplate": "Country=%{x}<br>date=2003<br>GDP (Trillions USD)=%{y}<extra></extra>",
           "legendgroup": "Switzerland",
           "marker": {
            "color": "#FECB52",
            "pattern": {
             "shape": ""
            }
           },
           "name": "Switzerland",
           "offsetgroup": "Switzerland",
           "orientation": "v",
           "showlegend": true,
           "textposition": "auto",
           "type": "bar",
           "x": [
            "Switzerland"
           ],
           "xaxis": "x",
           "y": [
            362075086507.76
           ],
           "yaxis": "y"
          },
          {
           "alignmentgroup": "True",
           "hovertemplate": "Country=%{x}<br>date=2003<br>GDP (Trillions USD)=%{y}<extra></extra>",
           "legendgroup": "Thailand",
           "marker": {
            "color": "#636efa",
            "pattern": {
             "shape": ""
            }
           },
           "name": "Thailand",
           "offsetgroup": "Thailand",
           "orientation": "v",
           "showlegend": true,
           "textposition": "auto",
           "type": "bar",
           "x": [
            "Thailand"
           ],
           "xaxis": "x",
           "y": [
            152280615245.887
           ],
           "yaxis": "y"
          },
          {
           "alignmentgroup": "True",
           "hovertemplate": "Country=%{x}<br>date=2003<br>GDP (Trillions USD)=%{y}<extra></extra>",
           "legendgroup": "Turkiye",
           "marker": {
            "color": "#EF553B",
            "pattern": {
             "shape": ""
            }
           },
           "name": "Turkiye",
           "offsetgroup": "Turkiye",
           "orientation": "v",
           "showlegend": true,
           "textposition": "auto",
           "type": "bar",
           "x": [
            "Turkiye"
           ],
           "xaxis": "x",
           "y": [
            314595572145.767
           ],
           "yaxis": "y"
          },
          {
           "alignmentgroup": "True",
           "hovertemplate": "Country=%{x}<br>date=2003<br>GDP (Trillions USD)=%{y}<extra></extra>",
           "legendgroup": "United Kingdom",
           "marker": {
            "color": "#00cc96",
            "pattern": {
             "shape": ""
            }
           },
           "name": "United Kingdom",
           "offsetgroup": "United Kingdom",
           "orientation": "v",
           "showlegend": true,
           "textposition": "auto",
           "type": "bar",
           "x": [
            "United Kingdom"
           ],
           "xaxis": "x",
           "y": [
            2054422857142.86
           ],
           "yaxis": "y"
          },
          {
           "alignmentgroup": "True",
           "hovertemplate": "Country=%{x}<br>date=2003<br>GDP (Trillions USD)=%{y}<extra></extra>",
           "legendgroup": "United States",
           "marker": {
            "color": "#ab63fa",
            "pattern": {
             "shape": ""
            }
           },
           "name": "United States",
           "offsetgroup": "United States",
           "orientation": "v",
           "showlegend": true,
           "textposition": "auto",
           "type": "bar",
           "x": [
            "United States"
           ],
           "xaxis": "x",
           "y": [
            11456450000000
           ],
           "yaxis": "y"
          }
         ],
         "name": "2003"
        },
        {
         "data": [
          {
           "alignmentgroup": "True",
           "hovertemplate": "Country=%{x}<br>date=2004<br>GDP (Trillions USD)=%{y}<extra></extra>",
           "legendgroup": "Australia",
           "marker": {
            "color": "#636efa",
            "pattern": {
             "shape": ""
            }
           },
           "name": "Australia",
           "offsetgroup": "Australia",
           "orientation": "v",
           "showlegend": true,
           "textposition": "auto",
           "type": "bar",
           "x": [
            "Australia"
           ],
           "xaxis": "x",
           "y": [
            614659980082.515
           ],
           "yaxis": "y"
          },
          {
           "alignmentgroup": "True",
           "hovertemplate": "Country=%{x}<br>date=2004<br>GDP (Trillions USD)=%{y}<extra></extra>",
           "legendgroup": "Belgium",
           "marker": {
            "color": "#EF553B",
            "pattern": {
             "shape": ""
            }
           },
           "name": "Belgium",
           "offsetgroup": "Belgium",
           "orientation": "v",
           "showlegend": true,
           "textposition": "auto",
           "type": "bar",
           "x": [
            "Belgium"
           ],
           "xaxis": "x",
           "y": [
            369214712443.206
           ],
           "yaxis": "y"
          },
          {
           "alignmentgroup": "True",
           "hovertemplate": "Country=%{x}<br>date=2004<br>GDP (Trillions USD)=%{y}<extra></extra>",
           "legendgroup": "Brazil",
           "marker": {
            "color": "#00cc96",
            "pattern": {
             "shape": ""
            }
           },
           "name": "Brazil",
           "offsetgroup": "Brazil",
           "orientation": "v",
           "showlegend": true,
           "textposition": "auto",
           "type": "bar",
           "x": [
            "Brazil"
           ],
           "xaxis": "x",
           "y": [
            669289424806.307
           ],
           "yaxis": "y"
          },
          {
           "alignmentgroup": "True",
           "hovertemplate": "Country=%{x}<br>date=2004<br>GDP (Trillions USD)=%{y}<extra></extra>",
           "legendgroup": "Canada",
           "marker": {
            "color": "#ab63fa",
            "pattern": {
             "shape": ""
            }
           },
           "name": "Canada",
           "offsetgroup": "Canada",
           "orientation": "v",
           "showlegend": true,
           "textposition": "auto",
           "type": "bar",
           "x": [
            "Canada"
           ],
           "xaxis": "x",
           "y": [
            1026690238278.25
           ],
           "yaxis": "y"
          },
          {
           "alignmentgroup": "True",
           "hovertemplate": "Country=%{x}<br>date=2004<br>GDP (Trillions USD)=%{y}<extra></extra>",
           "legendgroup": "China",
           "marker": {
            "color": "#FFA15A",
            "pattern": {
             "shape": ""
            }
           },
           "name": "China",
           "offsetgroup": "China",
           "orientation": "v",
           "showlegend": true,
           "textposition": "auto",
           "type": "bar",
           "x": [
            "China"
           ],
           "xaxis": "x",
           "y": [
            1955346768721.39
           ],
           "yaxis": "y"
          },
          {
           "alignmentgroup": "True",
           "hovertemplate": "Country=%{x}<br>date=2004<br>GDP (Trillions USD)=%{y}<extra></extra>",
           "legendgroup": "France",
           "marker": {
            "color": "#19d3f3",
            "pattern": {
             "shape": ""
            }
           },
           "name": "France",
           "offsetgroup": "France",
           "orientation": "v",
           "showlegend": true,
           "textposition": "auto",
           "type": "bar",
           "x": [
            "France"
           ],
           "xaxis": "x",
           "y": [
            2109792297237.03
           ],
           "yaxis": "y"
          },
          {
           "alignmentgroup": "True",
           "hovertemplate": "Country=%{x}<br>date=2004<br>GDP (Trillions USD)=%{y}<extra></extra>",
           "legendgroup": "Germany",
           "marker": {
            "color": "#FF6692",
            "pattern": {
             "shape": ""
            }
           },
           "name": "Germany",
           "offsetgroup": "Germany",
           "orientation": "v",
           "showlegend": true,
           "textposition": "auto",
           "type": "bar",
           "x": [
            "Germany"
           ],
           "xaxis": "x",
           "y": [
            2852317768061.78
           ],
           "yaxis": "y"
          },
          {
           "alignmentgroup": "True",
           "hovertemplate": "Country=%{x}<br>date=2004<br>GDP (Trillions USD)=%{y}<extra></extra>",
           "legendgroup": "India",
           "marker": {
            "color": "#B6E880",
            "pattern": {
             "shape": ""
            }
           },
           "name": "India",
           "offsetgroup": "India",
           "orientation": "v",
           "showlegend": true,
           "textposition": "auto",
           "type": "bar",
           "x": [
            "India"
           ],
           "xaxis": "x",
           "y": [
            709152728830.775
           ],
           "yaxis": "y"
          },
          {
           "alignmentgroup": "True",
           "hovertemplate": "Country=%{x}<br>date=2004<br>GDP (Trillions USD)=%{y}<extra></extra>",
           "legendgroup": "Indonesia",
           "marker": {
            "color": "#FF97FF",
            "pattern": {
             "shape": ""
            }
           },
           "name": "Indonesia",
           "offsetgroup": "Indonesia",
           "orientation": "v",
           "showlegend": true,
           "textposition": "auto",
           "type": "bar",
           "x": [
            "Indonesia"
           ],
           "xaxis": "x",
           "y": [
            256836875295.452
           ],
           "yaxis": "y"
          },
          {
           "alignmentgroup": "True",
           "hovertemplate": "Country=%{x}<br>date=2004<br>GDP (Trillions USD)=%{y}<extra></extra>",
           "legendgroup": "Italy",
           "marker": {
            "color": "#FECB52",
            "pattern": {
             "shape": ""
            }
           },
           "name": "Italy",
           "offsetgroup": "Italy",
           "orientation": "v",
           "showlegend": true,
           "textposition": "auto",
           "type": "bar",
           "x": [
            "Italy"
           ],
           "xaxis": "x",
           "y": [
            1812808753294.75
           ],
           "yaxis": "y"
          },
          {
           "alignmentgroup": "True",
           "hovertemplate": "Country=%{x}<br>date=2004<br>GDP (Trillions USD)=%{y}<extra></extra>",
           "legendgroup": "Japan",
           "marker": {
            "color": "#636efa",
            "pattern": {
             "shape": ""
            }
           },
           "name": "Japan",
           "offsetgroup": "Japan",
           "orientation": "v",
           "showlegend": true,
           "textposition": "auto",
           "type": "bar",
           "x": [
            "Japan"
           ],
           "xaxis": "x",
           "y": [
            4893116005656.56
           ],
           "yaxis": "y"
          },
          {
           "alignmentgroup": "True",
           "hovertemplate": "Country=%{x}<br>date=2004<br>GDP (Trillions USD)=%{y}<extra></extra>",
           "legendgroup": "Korea, Rep.",
           "marker": {
            "color": "#EF553B",
            "pattern": {
             "shape": ""
            }
           },
           "name": "Korea, Rep.",
           "offsetgroup": "Korea, Rep.",
           "orientation": "v",
           "showlegend": true,
           "textposition": "auto",
           "type": "bar",
           "x": [
            "Korea, Rep."
           ],
           "xaxis": "x",
           "y": [
            793175561887.027
           ],
           "yaxis": "y"
          },
          {
           "alignmentgroup": "True",
           "hovertemplate": "Country=%{x}<br>date=2004<br>GDP (Trillions USD)=%{y}<extra></extra>",
           "legendgroup": "Mexico",
           "marker": {
            "color": "#00cc96",
            "pattern": {
             "shape": ""
            }
           },
           "name": "Mexico",
           "offsetgroup": "Mexico",
           "orientation": "v",
           "showlegend": true,
           "textposition": "auto",
           "type": "bar",
           "x": [
            "Mexico"
           ],
           "xaxis": "x",
           "y": [
            819459227375.022
           ],
           "yaxis": "y"
          },
          {
           "alignmentgroup": "True",
           "hovertemplate": "Country=%{x}<br>date=2004<br>GDP (Trillions USD)=%{y}<extra></extra>",
           "legendgroup": "Netherlands",
           "marker": {
            "color": "#ab63fa",
            "pattern": {
             "shape": ""
            }
           },
           "name": "Netherlands",
           "offsetgroup": "Netherlands",
           "orientation": "v",
           "showlegend": true,
           "textposition": "auto",
           "type": "bar",
           "x": [
            "Netherlands"
           ],
           "xaxis": "x",
           "y": [
            661224886143.245
           ],
           "yaxis": "y"
          },
          {
           "alignmentgroup": "True",
           "hovertemplate": "Country=%{x}<br>date=2004<br>GDP (Trillions USD)=%{y}<extra></extra>",
           "legendgroup": "Poland",
           "marker": {
            "color": "#FFA15A",
            "pattern": {
             "shape": ""
            }
           },
           "name": "Poland",
           "offsetgroup": "Poland",
           "orientation": "v",
           "showlegend": true,
           "textposition": "auto",
           "type": "bar",
           "x": [
            "Poland"
           ],
           "xaxis": "x",
           "y": [
            256268656145.134
           ],
           "yaxis": "y"
          },
          {
           "alignmentgroup": "True",
           "hovertemplate": "Country=%{x}<br>date=2004<br>GDP (Trillions USD)=%{y}<extra></extra>",
           "legendgroup": "Russian Federation",
           "marker": {
            "color": "#19d3f3",
            "pattern": {
             "shape": ""
            }
           },
           "name": "Russian Federation",
           "offsetgroup": "Russian Federation",
           "orientation": "v",
           "showlegend": true,
           "textposition": "auto",
           "type": "bar",
           "x": [
            "Russian Federation"
           ],
           "xaxis": "x",
           "y": [
            591016690732.385
           ],
           "yaxis": "y"
          },
          {
           "alignmentgroup": "True",
           "hovertemplate": "Country=%{x}<br>date=2004<br>GDP (Trillions USD)=%{y}<extra></extra>",
           "legendgroup": "Saudi Arabia",
           "marker": {
            "color": "#FF6692",
            "pattern": {
             "shape": ""
            }
           },
           "name": "Saudi Arabia",
           "offsetgroup": "Saudi Arabia",
           "orientation": "v",
           "showlegend": true,
           "textposition": "auto",
           "type": "bar",
           "x": [
            "Saudi Arabia"
           ],
           "xaxis": "x",
           "y": [
            258742133333.333
           ],
           "yaxis": "y"
          },
          {
           "alignmentgroup": "True",
           "hovertemplate": "Country=%{x}<br>date=2004<br>GDP (Trillions USD)=%{y}<extra></extra>",
           "legendgroup": "Spain",
           "marker": {
            "color": "#B6E880",
            "pattern": {
             "shape": ""
            }
           },
           "name": "Spain",
           "offsetgroup": "Spain",
           "orientation": "v",
           "showlegend": true,
           "textposition": "auto",
           "type": "bar",
           "x": [
            "Spain"
           ],
           "xaxis": "x",
           "y": [
            1069829382514.67
           ],
           "yaxis": "y"
          },
          {
           "alignmentgroup": "True",
           "hovertemplate": "Country=%{x}<br>date=2004<br>GDP (Trillions USD)=%{y}<extra></extra>",
           "legendgroup": "Sweden",
           "marker": {
            "color": "#FF97FF",
            "pattern": {
             "shape": ""
            }
           },
           "name": "Sweden",
           "offsetgroup": "Sweden",
           "orientation": "v",
           "showlegend": true,
           "textposition": "auto",
           "type": "bar",
           "x": [
            "Sweden"
           ],
           "xaxis": "x",
           "y": [
            384547211147.247
           ],
           "yaxis": "y"
          },
          {
           "alignmentgroup": "True",
           "hovertemplate": "Country=%{x}<br>date=2004<br>GDP (Trillions USD)=%{y}<extra></extra>",
           "legendgroup": "Switzerland",
           "marker": {
            "color": "#FECB52",
            "pattern": {
             "shape": ""
            }
           },
           "name": "Switzerland",
           "offsetgroup": "Switzerland",
           "orientation": "v",
           "showlegend": true,
           "textposition": "auto",
           "type": "bar",
           "x": [
            "Switzerland"
           ],
           "xaxis": "x",
           "y": [
            403912891033.374
           ],
           "yaxis": "y"
          },
          {
           "alignmentgroup": "True",
           "hovertemplate": "Country=%{x}<br>date=2004<br>GDP (Trillions USD)=%{y}<extra></extra>",
           "legendgroup": "Thailand",
           "marker": {
            "color": "#636efa",
            "pattern": {
             "shape": ""
            }
           },
           "name": "Thailand",
           "offsetgroup": "Thailand",
           "orientation": "v",
           "showlegend": true,
           "textposition": "auto",
           "type": "bar",
           "x": [
            "Thailand"
           ],
           "xaxis": "x",
           "y": [
            172895685154.658
           ],
           "yaxis": "y"
          },
          {
           "alignmentgroup": "True",
           "hovertemplate": "Country=%{x}<br>date=2004<br>GDP (Trillions USD)=%{y}<extra></extra>",
           "legendgroup": "Turkiye",
           "marker": {
            "color": "#EF553B",
            "pattern": {
             "shape": ""
            }
           },
           "name": "Turkiye",
           "offsetgroup": "Turkiye",
           "orientation": "v",
           "showlegend": true,
           "textposition": "auto",
           "type": "bar",
           "x": [
            "Turkiye"
           ],
           "xaxis": "x",
           "y": [
            408865430220.331
           ],
           "yaxis": "y"
          },
          {
           "alignmentgroup": "True",
           "hovertemplate": "Country=%{x}<br>date=2004<br>GDP (Trillions USD)=%{y}<extra></extra>",
           "legendgroup": "United Kingdom",
           "marker": {
            "color": "#00cc96",
            "pattern": {
             "shape": ""
            }
           },
           "name": "United Kingdom",
           "offsetgroup": "United Kingdom",
           "orientation": "v",
           "showlegend": true,
           "textposition": "auto",
           "type": "bar",
           "x": [
            "United Kingdom"
           ],
           "xaxis": "x",
           "y": [
            2421525082387.4
           ],
           "yaxis": "y"
          },
          {
           "alignmentgroup": "True",
           "hovertemplate": "Country=%{x}<br>date=2004<br>GDP (Trillions USD)=%{y}<extra></extra>",
           "legendgroup": "United States",
           "marker": {
            "color": "#ab63fa",
            "pattern": {
             "shape": ""
            }
           },
           "name": "United States",
           "offsetgroup": "United States",
           "orientation": "v",
           "showlegend": true,
           "textposition": "auto",
           "type": "bar",
           "x": [
            "United States"
           ],
           "xaxis": "x",
           "y": [
            12217196000000
           ],
           "yaxis": "y"
          }
         ],
         "name": "2004"
        },
        {
         "data": [
          {
           "alignmentgroup": "True",
           "hovertemplate": "Country=%{x}<br>date=2005<br>GDP (Trillions USD)=%{y}<extra></extra>",
           "legendgroup": "Australia",
           "marker": {
            "color": "#636efa",
            "pattern": {
             "shape": ""
            }
           },
           "name": "Australia",
           "offsetgroup": "Australia",
           "orientation": "v",
           "showlegend": true,
           "textposition": "auto",
           "type": "bar",
           "x": [
            "Australia"
           ],
           "xaxis": "x",
           "y": [
            695692898676.56
           ],
           "yaxis": "y"
          },
          {
           "alignmentgroup": "True",
           "hovertemplate": "Country=%{x}<br>date=2005<br>GDP (Trillions USD)=%{y}<extra></extra>",
           "legendgroup": "Belgium",
           "marker": {
            "color": "#EF553B",
            "pattern": {
             "shape": ""
            }
           },
           "name": "Belgium",
           "offsetgroup": "Belgium",
           "orientation": "v",
           "showlegend": true,
           "textposition": "auto",
           "type": "bar",
           "x": [
            "Belgium"
           ],
           "xaxis": "x",
           "y": [
            385714762230.039
           ],
           "yaxis": "y"
          },
          {
           "alignmentgroup": "True",
           "hovertemplate": "Country=%{x}<br>date=2005<br>GDP (Trillions USD)=%{y}<extra></extra>",
           "legendgroup": "Brazil",
           "marker": {
            "color": "#00cc96",
            "pattern": {
             "shape": ""
            }
           },
           "name": "Brazil",
           "offsetgroup": "Brazil",
           "orientation": "v",
           "showlegend": true,
           "textposition": "auto",
           "type": "bar",
           "x": [
            "Brazil"
           ],
           "xaxis": "x",
           "y": [
            891633839853.105
           ],
           "yaxis": "y"
          },
          {
           "alignmentgroup": "True",
           "hovertemplate": "Country=%{x}<br>date=2005<br>GDP (Trillions USD)=%{y}<extra></extra>",
           "legendgroup": "Canada",
           "marker": {
            "color": "#ab63fa",
            "pattern": {
             "shape": ""
            }
           },
           "name": "Canada",
           "offsetgroup": "Canada",
           "orientation": "v",
           "showlegend": true,
           "textposition": "auto",
           "type": "bar",
           "x": [
            "Canada"
           ],
           "xaxis": "x",
           "y": [
            1173108598778.68
           ],
           "yaxis": "y"
          },
          {
           "alignmentgroup": "True",
           "hovertemplate": "Country=%{x}<br>date=2005<br>GDP (Trillions USD)=%{y}<extra></extra>",
           "legendgroup": "China",
           "marker": {
            "color": "#FFA15A",
            "pattern": {
             "shape": ""
            }
           },
           "name": "China",
           "offsetgroup": "China",
           "orientation": "v",
           "showlegend": true,
           "textposition": "auto",
           "type": "bar",
           "x": [
            "China"
           ],
           "xaxis": "x",
           "y": [
            2285961149879.85
           ],
           "yaxis": "y"
          },
          {
           "alignmentgroup": "True",
           "hovertemplate": "Country=%{x}<br>date=2005<br>GDP (Trillions USD)=%{y}<extra></extra>",
           "legendgroup": "France",
           "marker": {
            "color": "#19d3f3",
            "pattern": {
             "shape": ""
            }
           },
           "name": "France",
           "offsetgroup": "France",
           "orientation": "v",
           "showlegend": true,
           "textposition": "auto",
           "type": "bar",
           "x": [
            "France"
           ],
           "xaxis": "x",
           "y": [
            2192146403028.17
           ],
           "yaxis": "y"
          },
          {
           "alignmentgroup": "True",
           "hovertemplate": "Country=%{x}<br>date=2005<br>GDP (Trillions USD)=%{y}<extra></extra>",
           "legendgroup": "Germany",
           "marker": {
            "color": "#FF6692",
            "pattern": {
             "shape": ""
            }
           },
           "name": "Germany",
           "offsetgroup": "Germany",
           "orientation": "v",
           "showlegend": true,
           "textposition": "auto",
           "type": "bar",
           "x": [
            "Germany"
           ],
           "xaxis": "x",
           "y": [
            2893393187361.87
           ],
           "yaxis": "y"
          },
          {
           "alignmentgroup": "True",
           "hovertemplate": "Country=%{x}<br>date=2005<br>GDP (Trillions USD)=%{y}<extra></extra>",
           "legendgroup": "India",
           "marker": {
            "color": "#B6E880",
            "pattern": {
             "shape": ""
            }
           },
           "name": "India",
           "offsetgroup": "India",
           "orientation": "v",
           "showlegend": true,
           "textposition": "auto",
           "type": "bar",
           "x": [
            "India"
           ],
           "xaxis": "x",
           "y": [
            820383763511.445
           ],
           "yaxis": "y"
          },
          {
           "alignmentgroup": "True",
           "hovertemplate": "Country=%{x}<br>date=2005<br>GDP (Trillions USD)=%{y}<extra></extra>",
           "legendgroup": "Indonesia",
           "marker": {
            "color": "#FF97FF",
            "pattern": {
             "shape": ""
            }
           },
           "name": "Indonesia",
           "offsetgroup": "Indonesia",
           "orientation": "v",
           "showlegend": true,
           "textposition": "auto",
           "type": "bar",
           "x": [
            "Indonesia"
           ],
           "xaxis": "x",
           "y": [
            285868619196.085
           ],
           "yaxis": "y"
          },
          {
           "alignmentgroup": "True",
           "hovertemplate": "Country=%{x}<br>date=2005<br>GDP (Trillions USD)=%{y}<extra></extra>",
           "legendgroup": "Italy",
           "marker": {
            "color": "#FECB52",
            "pattern": {
             "shape": ""
            }
           },
           "name": "Italy",
           "offsetgroup": "Italy",
           "orientation": "v",
           "showlegend": true,
           "textposition": "auto",
           "type": "bar",
           "x": [
            "Italy"
           ],
           "xaxis": "x",
           "y": [
            1864982261286.85
           ],
           "yaxis": "y"
          },
          {
           "alignmentgroup": "True",
           "hovertemplate": "Country=%{x}<br>date=2005<br>GDP (Trillions USD)=%{y}<extra></extra>",
           "legendgroup": "Japan",
           "marker": {
            "color": "#636efa",
            "pattern": {
             "shape": ""
            }
           },
           "name": "Japan",
           "offsetgroup": "Japan",
           "orientation": "v",
           "showlegend": true,
           "textposition": "auto",
           "type": "bar",
           "x": [
            "Japan"
           ],
           "xaxis": "x",
           "y": [
            4831467035389.8
           ],
           "yaxis": "y"
          },
          {
           "alignmentgroup": "True",
           "hovertemplate": "Country=%{x}<br>date=2005<br>GDP (Trillions USD)=%{y}<extra></extra>",
           "legendgroup": "Korea, Rep.",
           "marker": {
            "color": "#EF553B",
            "pattern": {
             "shape": ""
            }
           },
           "name": "Korea, Rep.",
           "offsetgroup": "Korea, Rep.",
           "orientation": "v",
           "showlegend": true,
           "textposition": "auto",
           "type": "bar",
           "x": [
            "Korea, Rep."
           ],
           "xaxis": "x",
           "y": [
            934901071332.984
           ],
           "yaxis": "y"
          },
          {
           "alignmentgroup": "True",
           "hovertemplate": "Country=%{x}<br>date=2005<br>GDP (Trillions USD)=%{y}<extra></extra>",
           "legendgroup": "Mexico",
           "marker": {
            "color": "#00cc96",
            "pattern": {
             "shape": ""
            }
           },
           "name": "Mexico",
           "offsetgroup": "Mexico",
           "orientation": "v",
           "showlegend": true,
           "textposition": "auto",
           "type": "bar",
           "x": [
            "Mexico"
           ],
           "xaxis": "x",
           "y": [
            917571853529.104
           ],
           "yaxis": "y"
          },
          {
           "alignmentgroup": "True",
           "hovertemplate": "Country=%{x}<br>date=2005<br>GDP (Trillions USD)=%{y}<extra></extra>",
           "legendgroup": "Netherlands",
           "marker": {
            "color": "#ab63fa",
            "pattern": {
             "shape": ""
            }
           },
           "name": "Netherlands",
           "offsetgroup": "Netherlands",
           "orientation": "v",
           "showlegend": true,
           "textposition": "auto",
           "type": "bar",
           "x": [
            "Netherlands"
           ],
           "xaxis": "x",
           "y": [
            688133699635.797
           ],
           "yaxis": "y"
          },
          {
           "alignmentgroup": "True",
           "hovertemplate": "Country=%{x}<br>date=2005<br>GDP (Trillions USD)=%{y}<extra></extra>",
           "legendgroup": "Poland",
           "marker": {
            "color": "#FFA15A",
            "pattern": {
             "shape": ""
            }
           },
           "name": "Poland",
           "offsetgroup": "Poland",
           "orientation": "v",
           "showlegend": true,
           "textposition": "auto",
           "type": "bar",
           "x": [
            "Poland"
           ],
           "xaxis": "x",
           "y": [
            306999913150.525
           ],
           "yaxis": "y"
          },
          {
           "alignmentgroup": "True",
           "hovertemplate": "Country=%{x}<br>date=2005<br>GDP (Trillions USD)=%{y}<extra></extra>",
           "legendgroup": "Russian Federation",
           "marker": {
            "color": "#19d3f3",
            "pattern": {
             "shape": ""
            }
           },
           "name": "Russian Federation",
           "offsetgroup": "Russian Federation",
           "orientation": "v",
           "showlegend": true,
           "textposition": "auto",
           "type": "bar",
           "x": [
            "Russian Federation"
           ],
           "xaxis": "x",
           "y": [
            764015973481.11
           ],
           "yaxis": "y"
          },
          {
           "alignmentgroup": "True",
           "hovertemplate": "Country=%{x}<br>date=2005<br>GDP (Trillions USD)=%{y}<extra></extra>",
           "legendgroup": "Saudi Arabia",
           "marker": {
            "color": "#FF6692",
            "pattern": {
             "shape": ""
            }
           },
           "name": "Saudi Arabia",
           "offsetgroup": "Saudi Arabia",
           "orientation": "v",
           "showlegend": true,
           "textposition": "auto",
           "type": "bar",
           "x": [
            "Saudi Arabia"
           ],
           "xaxis": "x",
           "y": [
            328459608764.111
           ],
           "yaxis": "y"
          },
          {
           "alignmentgroup": "True",
           "hovertemplate": "Country=%{x}<br>date=2005<br>GDP (Trillions USD)=%{y}<extra></extra>",
           "legendgroup": "Spain",
           "marker": {
            "color": "#B6E880",
            "pattern": {
             "shape": ""
            }
           },
           "name": "Spain",
           "offsetgroup": "Spain",
           "orientation": "v",
           "showlegend": true,
           "textposition": "auto",
           "type": "bar",
           "x": [
            "Spain"
           ],
           "xaxis": "x",
           "y": [
            1154667551775.88
           ],
           "yaxis": "y"
          },
          {
           "alignmentgroup": "True",
           "hovertemplate": "Country=%{x}<br>date=2005<br>GDP (Trillions USD)=%{y}<extra></extra>",
           "legendgroup": "Sweden",
           "marker": {
            "color": "#FF97FF",
            "pattern": {
             "shape": ""
            }
           },
           "name": "Sweden",
           "offsetgroup": "Sweden",
           "orientation": "v",
           "showlegend": true,
           "textposition": "auto",
           "type": "bar",
           "x": [
            "Sweden"
           ],
           "xaxis": "x",
           "y": [
            391690329314.475
           ],
           "yaxis": "y"
          },
          {
           "alignmentgroup": "True",
           "hovertemplate": "Country=%{x}<br>date=2005<br>GDP (Trillions USD)=%{y}<extra></extra>",
           "legendgroup": "Switzerland",
           "marker": {
            "color": "#FECB52",
            "pattern": {
             "shape": ""
            }
           },
           "name": "Switzerland",
           "offsetgroup": "Switzerland",
           "orientation": "v",
           "showlegend": true,
           "textposition": "auto",
           "type": "bar",
           "x": [
            "Switzerland"
           ],
           "xaxis": "x",
           "y": [
            418284865884.998
           ],
           "yaxis": "y"
          },
          {
           "alignmentgroup": "True",
           "hovertemplate": "Country=%{x}<br>date=2005<br>GDP (Trillions USD)=%{y}<extra></extra>",
           "legendgroup": "Thailand",
           "marker": {
            "color": "#636efa",
            "pattern": {
             "shape": ""
            }
           },
           "name": "Thailand",
           "offsetgroup": "Thailand",
           "orientation": "v",
           "showlegend": true,
           "textposition": "auto",
           "type": "bar",
           "x": [
            "Thailand"
           ],
           "xaxis": "x",
           "y": [
            189318408468.595
           ],
           "yaxis": "y"
          },
          {
           "alignmentgroup": "True",
           "hovertemplate": "Country=%{x}<br>date=2005<br>GDP (Trillions USD)=%{y}<extra></extra>",
           "legendgroup": "Turkiye",
           "marker": {
            "color": "#EF553B",
            "pattern": {
             "shape": ""
            }
           },
           "name": "Turkiye",
           "offsetgroup": "Turkiye",
           "orientation": "v",
           "showlegend": true,
           "textposition": "auto",
           "type": "bar",
           "x": [
            "Turkiye"
           ],
           "xaxis": "x",
           "y": [
            506314717661.655
           ],
           "yaxis": "y"
          },
          {
           "alignmentgroup": "True",
           "hovertemplate": "Country=%{x}<br>date=2005<br>GDP (Trillions USD)=%{y}<extra></extra>",
           "legendgroup": "United Kingdom",
           "marker": {
            "color": "#00cc96",
            "pattern": {
             "shape": ""
            }
           },
           "name": "United Kingdom",
           "offsetgroup": "United Kingdom",
           "orientation": "v",
           "showlegend": true,
           "textposition": "auto",
           "type": "bar",
           "x": [
            "United Kingdom"
           ],
           "xaxis": "x",
           "y": [
            2543180000000
           ],
           "yaxis": "y"
          },
          {
           "alignmentgroup": "True",
           "hovertemplate": "Country=%{x}<br>date=2005<br>GDP (Trillions USD)=%{y}<extra></extra>",
           "legendgroup": "United States",
           "marker": {
            "color": "#ab63fa",
            "pattern": {
             "shape": ""
            }
           },
           "name": "United States",
           "offsetgroup": "United States",
           "orientation": "v",
           "showlegend": true,
           "textposition": "auto",
           "type": "bar",
           "x": [
            "United States"
           ],
           "xaxis": "x",
           "y": [
            13039197000000
           ],
           "yaxis": "y"
          }
         ],
         "name": "2005"
        },
        {
         "data": [
          {
           "alignmentgroup": "True",
           "hovertemplate": "Country=%{x}<br>date=2006<br>GDP (Trillions USD)=%{y}<extra></extra>",
           "legendgroup": "Australia",
           "marker": {
            "color": "#636efa",
            "pattern": {
             "shape": ""
            }
           },
           "name": "Australia",
           "offsetgroup": "Australia",
           "orientation": "v",
           "showlegend": true,
           "textposition": "auto",
           "type": "bar",
           "x": [
            "Australia"
           ],
           "xaxis": "x",
           "y": [
            748417562769.636
           ],
           "yaxis": "y"
          },
          {
           "alignmentgroup": "True",
           "hovertemplate": "Country=%{x}<br>date=2006<br>GDP (Trillions USD)=%{y}<extra></extra>",
           "legendgroup": "Belgium",
           "marker": {
            "color": "#EF553B",
            "pattern": {
             "shape": ""
            }
           },
           "name": "Belgium",
           "offsetgroup": "Belgium",
           "orientation": "v",
           "showlegend": true,
           "textposition": "auto",
           "type": "bar",
           "x": [
            "Belgium"
           ],
           "xaxis": "x",
           "y": [
            408259840868.823
           ],
           "yaxis": "y"
          },
          {
           "alignmentgroup": "True",
           "hovertemplate": "Country=%{x}<br>date=2006<br>GDP (Trillions USD)=%{y}<extra></extra>",
           "legendgroup": "Brazil",
           "marker": {
            "color": "#00cc96",
            "pattern": {
             "shape": ""
            }
           },
           "name": "Brazil",
           "offsetgroup": "Brazil",
           "orientation": "v",
           "showlegend": true,
           "textposition": "auto",
           "type": "bar",
           "x": [
            "Brazil"
           ],
           "xaxis": "x",
           "y": [
            1107626541710.74
           ],
           "yaxis": "y"
          },
          {
           "alignmentgroup": "True",
           "hovertemplate": "Country=%{x}<br>date=2006<br>GDP (Trillions USD)=%{y}<extra></extra>",
           "legendgroup": "Canada",
           "marker": {
            "color": "#ab63fa",
            "pattern": {
             "shape": ""
            }
           },
           "name": "Canada",
           "offsetgroup": "Canada",
           "orientation": "v",
           "showlegend": true,
           "textposition": "auto",
           "type": "bar",
           "x": [
            "Canada"
           ],
           "xaxis": "x",
           "y": [
            1319264809590.97
           ],
           "yaxis": "y"
          },
          {
           "alignmentgroup": "True",
           "hovertemplate": "Country=%{x}<br>date=2006<br>GDP (Trillions USD)=%{y}<extra></extra>",
           "legendgroup": "China",
           "marker": {
            "color": "#FFA15A",
            "pattern": {
             "shape": ""
            }
           },
           "name": "China",
           "offsetgroup": "China",
           "orientation": "v",
           "showlegend": true,
           "textposition": "auto",
           "type": "bar",
           "x": [
            "China"
           ],
           "xaxis": "x",
           "y": [
            2752118657184.02
           ],
           "yaxis": "y"
          },
          {
           "alignmentgroup": "True",
           "hovertemplate": "Country=%{x}<br>date=2006<br>GDP (Trillions USD)=%{y}<extra></extra>",
           "legendgroup": "France",
           "marker": {
            "color": "#19d3f3",
            "pattern": {
             "shape": ""
            }
           },
           "name": "France",
           "offsetgroup": "France",
           "orientation": "v",
           "showlegend": true,
           "textposition": "auto",
           "type": "bar",
           "x": [
            "France"
           ],
           "xaxis": "x",
           "y": [
            2317861544690.82
           ],
           "yaxis": "y"
          },
          {
           "alignmentgroup": "True",
           "hovertemplate": "Country=%{x}<br>date=2006<br>GDP (Trillions USD)=%{y}<extra></extra>",
           "legendgroup": "Germany",
           "marker": {
            "color": "#FF6692",
            "pattern": {
             "shape": ""
            }
           },
           "name": "Germany",
           "offsetgroup": "Germany",
           "orientation": "v",
           "showlegend": true,
           "textposition": "auto",
           "type": "bar",
           "x": [
            "Germany"
           ],
           "xaxis": "x",
           "y": [
            3046308753670.58
           ],
           "yaxis": "y"
          },
          {
           "alignmentgroup": "True",
           "hovertemplate": "Country=%{x}<br>date=2006<br>GDP (Trillions USD)=%{y}<extra></extra>",
           "legendgroup": "India",
           "marker": {
            "color": "#B6E880",
            "pattern": {
             "shape": ""
            }
           },
           "name": "India",
           "offsetgroup": "India",
           "orientation": "v",
           "showlegend": true,
           "textposition": "auto",
           "type": "bar",
           "x": [
            "India"
           ],
           "xaxis": "x",
           "y": [
            940259888787.721
           ],
           "yaxis": "y"
          },
          {
           "alignmentgroup": "True",
           "hovertemplate": "Country=%{x}<br>date=2006<br>GDP (Trillions USD)=%{y}<extra></extra>",
           "legendgroup": "Indonesia",
           "marker": {
            "color": "#FF97FF",
            "pattern": {
             "shape": ""
            }
           },
           "name": "Indonesia",
           "offsetgroup": "Indonesia",
           "orientation": "v",
           "showlegend": true,
           "textposition": "auto",
           "type": "bar",
           "x": [
            "Indonesia"
           ],
           "xaxis": "x",
           "y": [
            364570515618.358
           ],
           "yaxis": "y"
          },
          {
           "alignmentgroup": "True",
           "hovertemplate": "Country=%{x}<br>date=2006<br>GDP (Trillions USD)=%{y}<extra></extra>",
           "legendgroup": "Italy",
           "marker": {
            "color": "#FECB52",
            "pattern": {
             "shape": ""
            }
           },
           "name": "Italy",
           "offsetgroup": "Italy",
           "orientation": "v",
           "showlegend": true,
           "textposition": "auto",
           "type": "bar",
           "x": [
            "Italy"
           ],
           "xaxis": "x",
           "y": [
            1958563654385.64
           ],
           "yaxis": "y"
          },
          {
           "alignmentgroup": "True",
           "hovertemplate": "Country=%{x}<br>date=2006<br>GDP (Trillions USD)=%{y}<extra></extra>",
           "legendgroup": "Japan",
           "marker": {
            "color": "#636efa",
            "pattern": {
             "shape": ""
            }
           },
           "name": "Japan",
           "offsetgroup": "Japan",
           "orientation": "v",
           "showlegend": true,
           "textposition": "auto",
           "type": "bar",
           "x": [
            "Japan"
           ],
           "xaxis": "x",
           "y": [
            4601663122649.92
           ],
           "yaxis": "y"
          },
          {
           "alignmentgroup": "True",
           "hovertemplate": "Country=%{x}<br>date=2006<br>GDP (Trillions USD)=%{y}<extra></extra>",
           "legendgroup": "Korea, Rep.",
           "marker": {
            "color": "#EF553B",
            "pattern": {
             "shape": ""
            }
           },
           "name": "Korea, Rep.",
           "offsetgroup": "Korea, Rep.",
           "orientation": "v",
           "showlegend": true,
           "textposition": "auto",
           "type": "bar",
           "x": [
            "Korea, Rep."
           ],
           "xaxis": "x",
           "y": [
            1053216909887.56
           ],
           "yaxis": "y"
          },
          {
           "alignmentgroup": "True",
           "hovertemplate": "Country=%{x}<br>date=2006<br>GDP (Trillions USD)=%{y}<extra></extra>",
           "legendgroup": "Mexico",
           "marker": {
            "color": "#00cc96",
            "pattern": {
             "shape": ""
            }
           },
           "name": "Mexico",
           "offsetgroup": "Mexico",
           "orientation": "v",
           "showlegend": true,
           "textposition": "auto",
           "type": "bar",
           "x": [
            "Mexico"
           ],
           "xaxis": "x",
           "y": [
            1020265057882.01
           ],
           "yaxis": "y"
          },
          {
           "alignmentgroup": "True",
           "hovertemplate": "Country=%{x}<br>date=2006<br>GDP (Trillions USD)=%{y}<extra></extra>",
           "legendgroup": "Netherlands",
           "marker": {
            "color": "#ab63fa",
            "pattern": {
             "shape": ""
            }
           },
           "name": "Netherlands",
           "offsetgroup": "Netherlands",
           "orientation": "v",
           "showlegend": true,
           "textposition": "auto",
           "type": "bar",
           "x": [
            "Netherlands"
           ],
           "xaxis": "x",
           "y": [
            737593995289.411
           ],
           "yaxis": "y"
          },
          {
           "alignmentgroup": "True",
           "hovertemplate": "Country=%{x}<br>date=2006<br>GDP (Trillions USD)=%{y}<extra></extra>",
           "legendgroup": "Poland",
           "marker": {
            "color": "#FFA15A",
            "pattern": {
             "shape": ""
            }
           },
           "name": "Poland",
           "offsetgroup": "Poland",
           "orientation": "v",
           "showlegend": true,
           "textposition": "auto",
           "type": "bar",
           "x": [
            "Poland"
           ],
           "xaxis": "x",
           "y": [
            345897630736.173
           ],
           "yaxis": "y"
          },
          {
           "alignmentgroup": "True",
           "hovertemplate": "Country=%{x}<br>date=2006<br>GDP (Trillions USD)=%{y}<extra></extra>",
           "legendgroup": "Russian Federation",
           "marker": {
            "color": "#19d3f3",
            "pattern": {
             "shape": ""
            }
           },
           "name": "Russian Federation",
           "offsetgroup": "Russian Federation",
           "orientation": "v",
           "showlegend": true,
           "textposition": "auto",
           "type": "bar",
           "x": [
            "Russian Federation"
           ],
           "xaxis": "x",
           "y": [
            989932071352.543
           ],
           "yaxis": "y"
          },
          {
           "alignmentgroup": "True",
           "hovertemplate": "Country=%{x}<br>date=2006<br>GDP (Trillions USD)=%{y}<extra></extra>",
           "legendgroup": "Saudi Arabia",
           "marker": {
            "color": "#FF6692",
            "pattern": {
             "shape": ""
            }
           },
           "name": "Saudi Arabia",
           "offsetgroup": "Saudi Arabia",
           "orientation": "v",
           "showlegend": true,
           "textposition": "auto",
           "type": "bar",
           "x": [
            "Saudi Arabia"
           ],
           "xaxis": "x",
           "y": [
            376900133511.348
           ],
           "yaxis": "y"
          },
          {
           "alignmentgroup": "True",
           "hovertemplate": "Country=%{x}<br>date=2006<br>GDP (Trillions USD)=%{y}<extra></extra>",
           "legendgroup": "Spain",
           "marker": {
            "color": "#B6E880",
            "pattern": {
             "shape": ""
            }
           },
           "name": "Spain",
           "offsetgroup": "Spain",
           "orientation": "v",
           "showlegend": true,
           "textposition": "auto",
           "type": "bar",
           "x": [
            "Spain"
           ],
           "xaxis": "x",
           "y": [
            1261846683275.29
           ],
           "yaxis": "y"
          },
          {
           "alignmentgroup": "True",
           "hovertemplate": "Country=%{x}<br>date=2006<br>GDP (Trillions USD)=%{y}<extra></extra>",
           "legendgroup": "Sweden",
           "marker": {
            "color": "#FF97FF",
            "pattern": {
             "shape": ""
            }
           },
           "name": "Sweden",
           "offsetgroup": "Sweden",
           "orientation": "v",
           "showlegend": true,
           "textposition": "auto",
           "type": "bar",
           "x": [
            "Sweden"
           ],
           "xaxis": "x",
           "y": [
            422530427475.536
           ],
           "yaxis": "y"
          },
          {
           "alignmentgroup": "True",
           "hovertemplate": "Country=%{x}<br>date=2006<br>GDP (Trillions USD)=%{y}<extra></extra>",
           "legendgroup": "Switzerland",
           "marker": {
            "color": "#FECB52",
            "pattern": {
             "shape": ""
            }
           },
           "name": "Switzerland",
           "offsetgroup": "Switzerland",
           "orientation": "v",
           "showlegend": true,
           "textposition": "auto",
           "type": "bar",
           "x": [
            "Switzerland"
           ],
           "xaxis": "x",
           "y": [
            441634672196.523
           ],
           "yaxis": "y"
          },
          {
           "alignmentgroup": "True",
           "hovertemplate": "Country=%{x}<br>date=2006<br>GDP (Trillions USD)=%{y}<extra></extra>",
           "legendgroup": "Thailand",
           "marker": {
            "color": "#636efa",
            "pattern": {
             "shape": ""
            }
           },
           "name": "Thailand",
           "offsetgroup": "Thailand",
           "orientation": "v",
           "showlegend": true,
           "textposition": "auto",
           "type": "bar",
           "x": [
            "Thailand"
           ],
           "xaxis": "x",
           "y": [
            221758296021.621
           ],
           "yaxis": "y"
          },
          {
           "alignmentgroup": "True",
           "hovertemplate": "Country=%{x}<br>date=2006<br>GDP (Trillions USD)=%{y}<extra></extra>",
           "legendgroup": "Turkiye",
           "marker": {
            "color": "#EF553B",
            "pattern": {
             "shape": ""
            }
           },
           "name": "Turkiye",
           "offsetgroup": "Turkiye",
           "orientation": "v",
           "showlegend": true,
           "textposition": "auto",
           "type": "bar",
           "x": [
            "Turkiye"
           ],
           "xaxis": "x",
           "y": [
            557076157773.479
           ],
           "yaxis": "y"
          },
          {
           "alignmentgroup": "True",
           "hovertemplate": "Country=%{x}<br>date=2006<br>GDP (Trillions USD)=%{y}<extra></extra>",
           "legendgroup": "United Kingdom",
           "marker": {
            "color": "#00cc96",
            "pattern": {
             "shape": ""
            }
           },
           "name": "United Kingdom",
           "offsetgroup": "United Kingdom",
           "orientation": "v",
           "showlegend": true,
           "textposition": "auto",
           "type": "bar",
           "x": [
            "United Kingdom"
           ],
           "xaxis": "x",
           "y": [
            2708441582336.71
           ],
           "yaxis": "y"
          },
          {
           "alignmentgroup": "True",
           "hovertemplate": "Country=%{x}<br>date=2006<br>GDP (Trillions USD)=%{y}<extra></extra>",
           "legendgroup": "United States",
           "marker": {
            "color": "#ab63fa",
            "pattern": {
             "shape": ""
            }
           },
           "name": "United States",
           "offsetgroup": "United States",
           "orientation": "v",
           "showlegend": true,
           "textposition": "auto",
           "type": "bar",
           "x": [
            "United States"
           ],
           "xaxis": "x",
           "y": [
            13815583000000
           ],
           "yaxis": "y"
          }
         ],
         "name": "2006"
        },
        {
         "data": [
          {
           "alignmentgroup": "True",
           "hovertemplate": "Country=%{x}<br>date=2007<br>GDP (Trillions USD)=%{y}<extra></extra>",
           "legendgroup": "Australia",
           "marker": {
            "color": "#636efa",
            "pattern": {
             "shape": ""
            }
           },
           "name": "Australia",
           "offsetgroup": "Australia",
           "orientation": "v",
           "showlegend": true,
           "textposition": "auto",
           "type": "bar",
           "x": [
            "Australia"
           ],
           "xaxis": "x",
           "y": [
            855007458585.224
           ],
           "yaxis": "y"
          },
          {
           "alignmentgroup": "True",
           "hovertemplate": "Country=%{x}<br>date=2007<br>GDP (Trillions USD)=%{y}<extra></extra>",
           "legendgroup": "Belgium",
           "marker": {
            "color": "#EF553B",
            "pattern": {
             "shape": ""
            }
           },
           "name": "Belgium",
           "offsetgroup": "Belgium",
           "orientation": "v",
           "showlegend": true,
           "textposition": "auto",
           "type": "bar",
           "x": [
            "Belgium"
           ],
           "xaxis": "x",
           "y": [
            470922156309.453
           ],
           "yaxis": "y"
          },
          {
           "alignmentgroup": "True",
           "hovertemplate": "Country=%{x}<br>date=2007<br>GDP (Trillions USD)=%{y}<extra></extra>",
           "legendgroup": "Brazil",
           "marker": {
            "color": "#00cc96",
            "pattern": {
             "shape": ""
            }
           },
           "name": "Brazil",
           "offsetgroup": "Brazil",
           "orientation": "v",
           "showlegend": true,
           "textposition": "auto",
           "type": "bar",
           "x": [
            "Brazil"
           ],
           "xaxis": "x",
           "y": [
            1397114486471.38
           ],
           "yaxis": "y"
          },
          {
           "alignmentgroup": "True",
           "hovertemplate": "Country=%{x}<br>date=2007<br>GDP (Trillions USD)=%{y}<extra></extra>",
           "legendgroup": "Canada",
           "marker": {
            "color": "#ab63fa",
            "pattern": {
             "shape": ""
            }
           },
           "name": "Canada",
           "offsetgroup": "Canada",
           "orientation": "v",
           "showlegend": true,
           "textposition": "auto",
           "type": "bar",
           "x": [
            "Canada"
           ],
           "xaxis": "x",
           "y": [
            1468820407783.26
           ],
           "yaxis": "y"
          },
          {
           "alignmentgroup": "True",
           "hovertemplate": "Country=%{x}<br>date=2007<br>GDP (Trillions USD)=%{y}<extra></extra>",
           "legendgroup": "China",
           "marker": {
            "color": "#FFA15A",
            "pattern": {
             "shape": ""
            }
           },
           "name": "China",
           "offsetgroup": "China",
           "orientation": "v",
           "showlegend": true,
           "textposition": "auto",
           "type": "bar",
           "x": [
            "China"
           ],
           "xaxis": "x",
           "y": [
            3550327802998.4
           ],
           "yaxis": "y"
          },
          {
           "alignmentgroup": "True",
           "hovertemplate": "Country=%{x}<br>date=2007<br>GDP (Trillions USD)=%{y}<extra></extra>",
           "legendgroup": "France",
           "marker": {
            "color": "#19d3f3",
            "pattern": {
             "shape": ""
            }
           },
           "name": "France",
           "offsetgroup": "France",
           "orientation": "v",
           "showlegend": true,
           "textposition": "auto",
           "type": "bar",
           "x": [
            "France"
           ],
           "xaxis": "x",
           "y": [
            2655816911866.56
           ],
           "yaxis": "y"
          },
          {
           "alignmentgroup": "True",
           "hovertemplate": "Country=%{x}<br>date=2007<br>GDP (Trillions USD)=%{y}<extra></extra>",
           "legendgroup": "Germany",
           "marker": {
            "color": "#FF6692",
            "pattern": {
             "shape": ""
            }
           },
           "name": "Germany",
           "offsetgroup": "Germany",
           "orientation": "v",
           "showlegend": true,
           "textposition": "auto",
           "type": "bar",
           "x": [
            "Germany"
           ],
           "xaxis": "x",
           "y": [
            3484056680854.91
           ],
           "yaxis": "y"
          },
          {
           "alignmentgroup": "True",
           "hovertemplate": "Country=%{x}<br>date=2007<br>GDP (Trillions USD)=%{y}<extra></extra>",
           "legendgroup": "India",
           "marker": {
            "color": "#B6E880",
            "pattern": {
             "shape": ""
            }
           },
           "name": "India",
           "offsetgroup": "India",
           "orientation": "v",
           "showlegend": true,
           "textposition": "auto",
           "type": "bar",
           "x": [
            "India"
           ],
           "xaxis": "x",
           "y": [
            1216736438834.96
           ],
           "yaxis": "y"
          },
          {
           "alignmentgroup": "True",
           "hovertemplate": "Country=%{x}<br>date=2007<br>GDP (Trillions USD)=%{y}<extra></extra>",
           "legendgroup": "Indonesia",
           "marker": {
            "color": "#FF97FF",
            "pattern": {
             "shape": ""
            }
           },
           "name": "Indonesia",
           "offsetgroup": "Indonesia",
           "orientation": "v",
           "showlegend": true,
           "textposition": "auto",
           "type": "bar",
           "x": [
            "Indonesia"
           ],
           "xaxis": "x",
           "y": [
            432216737774.861
           ],
           "yaxis": "y"
          },
          {
           "alignmentgroup": "True",
           "hovertemplate": "Country=%{x}<br>date=2007<br>GDP (Trillions USD)=%{y}<extra></extra>",
           "legendgroup": "Italy",
           "marker": {
            "color": "#FECB52",
            "pattern": {
             "shape": ""
            }
           },
           "name": "Italy",
           "offsetgroup": "Italy",
           "orientation": "v",
           "showlegend": true,
           "textposition": "auto",
           "type": "bar",
           "x": [
            "Italy"
           ],
           "xaxis": "x",
           "y": [
            2222524108127.65
           ],
           "yaxis": "y"
          },
          {
           "alignmentgroup": "True",
           "hovertemplate": "Country=%{x}<br>date=2007<br>GDP (Trillions USD)=%{y}<extra></extra>",
           "legendgroup": "Japan",
           "marker": {
            "color": "#636efa",
            "pattern": {
             "shape": ""
            }
           },
           "name": "Japan",
           "offsetgroup": "Japan",
           "orientation": "v",
           "showlegend": true,
           "textposition": "auto",
           "type": "bar",
           "x": [
            "Japan"
           ],
           "xaxis": "x",
           "y": [
            4579750920354.81
           ],
           "yaxis": "y"
          },
          {
           "alignmentgroup": "True",
           "hovertemplate": "Country=%{x}<br>date=2007<br>GDP (Trillions USD)=%{y}<extra></extra>",
           "legendgroup": "Korea, Rep.",
           "marker": {
            "color": "#EF553B",
            "pattern": {
             "shape": ""
            }
           },
           "name": "Korea, Rep.",
           "offsetgroup": "Korea, Rep.",
           "orientation": "v",
           "showlegend": true,
           "textposition": "auto",
           "type": "bar",
           "x": [
            "Korea, Rep."
           ],
           "xaxis": "x",
           "y": [
            1172614086539.86
           ],
           "yaxis": "y"
          },
          {
           "alignmentgroup": "True",
           "hovertemplate": "Country=%{x}<br>date=2007<br>GDP (Trillions USD)=%{y}<extra></extra>",
           "legendgroup": "Mexico",
           "marker": {
            "color": "#00cc96",
            "pattern": {
             "shape": ""
            }
           },
           "name": "Mexico",
           "offsetgroup": "Mexico",
           "orientation": "v",
           "showlegend": true,
           "textposition": "auto",
           "type": "bar",
           "x": [
            "Mexico"
           ],
           "xaxis": "x",
           "y": [
            1102355554971.95
           ],
           "yaxis": "y"
          },
          {
           "alignmentgroup": "True",
           "hovertemplate": "Country=%{x}<br>date=2007<br>GDP (Trillions USD)=%{y}<extra></extra>",
           "legendgroup": "Netherlands",
           "marker": {
            "color": "#ab63fa",
            "pattern": {
             "shape": ""
            }
           },
           "name": "Netherlands",
           "offsetgroup": "Netherlands",
           "orientation": "v",
           "showlegend": true,
           "textposition": "auto",
           "type": "bar",
           "x": [
            "Netherlands"
           ],
           "xaxis": "x",
           "y": [
            853499460872.552
           ],
           "yaxis": "y"
          },
          {
           "alignmentgroup": "True",
           "hovertemplate": "Country=%{x}<br>date=2007<br>GDP (Trillions USD)=%{y}<extra></extra>",
           "legendgroup": "Poland",
           "marker": {
            "color": "#FFA15A",
            "pattern": {
             "shape": ""
            }
           },
           "name": "Poland",
           "offsetgroup": "Poland",
           "orientation": "v",
           "showlegend": true,
           "textposition": "auto",
           "type": "bar",
           "x": [
            "Poland"
           ],
           "xaxis": "x",
           "y": [
            429715132137.503
           ],
           "yaxis": "y"
          },
          {
           "alignmentgroup": "True",
           "hovertemplate": "Country=%{x}<br>date=2007<br>GDP (Trillions USD)=%{y}<extra></extra>",
           "legendgroup": "Russian Federation",
           "marker": {
            "color": "#19d3f3",
            "pattern": {
             "shape": ""
            }
           },
           "name": "Russian Federation",
           "offsetgroup": "Russian Federation",
           "orientation": "v",
           "showlegend": true,
           "textposition": "auto",
           "type": "bar",
           "x": [
            "Russian Federation"
           ],
           "xaxis": "x",
           "y": [
            1299703478481.65
           ],
           "yaxis": "y"
          },
          {
           "alignmentgroup": "True",
           "hovertemplate": "Country=%{x}<br>date=2007<br>GDP (Trillions USD)=%{y}<extra></extra>",
           "legendgroup": "Saudi Arabia",
           "marker": {
            "color": "#FF6692",
            "pattern": {
             "shape": ""
            }
           },
           "name": "Saudi Arabia",
           "offsetgroup": "Saudi Arabia",
           "orientation": "v",
           "showlegend": true,
           "textposition": "auto",
           "type": "bar",
           "x": [
            "Saudi Arabia"
           ],
           "xaxis": "x",
           "y": [
            415964509673.115
           ],
           "yaxis": "y"
          },
          {
           "alignmentgroup": "True",
           "hovertemplate": "Country=%{x}<br>date=2007<br>GDP (Trillions USD)=%{y}<extra></extra>",
           "legendgroup": "Spain",
           "marker": {
            "color": "#B6E880",
            "pattern": {
             "shape": ""
            }
           },
           "name": "Spain",
           "offsetgroup": "Spain",
           "orientation": "v",
           "showlegend": true,
           "textposition": "auto",
           "type": "bar",
           "x": [
            "Spain"
           ],
           "xaxis": "x",
           "y": [
            1476746276854.51
           ],
           "yaxis": "y"
          },
          {
           "alignmentgroup": "True",
           "hovertemplate": "Country=%{x}<br>date=2007<br>GDP (Trillions USD)=%{y}<extra></extra>",
           "legendgroup": "Sweden",
           "marker": {
            "color": "#FF97FF",
            "pattern": {
             "shape": ""
            }
           },
           "name": "Sweden",
           "offsetgroup": "Sweden",
           "orientation": "v",
           "showlegend": true,
           "textposition": "auto",
           "type": "bar",
           "x": [
            "Sweden"
           ],
           "xaxis": "x",
           "y": [
            490050156832.574
           ],
           "yaxis": "y"
          },
          {
           "alignmentgroup": "True",
           "hovertemplate": "Country=%{x}<br>date=2007<br>GDP (Trillions USD)=%{y}<extra></extra>",
           "legendgroup": "Switzerland",
           "marker": {
            "color": "#FECB52",
            "pattern": {
             "shape": ""
            }
           },
           "name": "Switzerland",
           "offsetgroup": "Switzerland",
           "orientation": "v",
           "showlegend": true,
           "textposition": "auto",
           "type": "bar",
           "x": [
            "Switzerland"
           ],
           "xaxis": "x",
           "y": [
            490740715594.802
           ],
           "yaxis": "y"
          },
          {
           "alignmentgroup": "True",
           "hovertemplate": "Country=%{x}<br>date=2007<br>GDP (Trillions USD)=%{y}<extra></extra>",
           "legendgroup": "Thailand",
           "marker": {
            "color": "#636efa",
            "pattern": {
             "shape": ""
            }
           },
           "name": "Thailand",
           "offsetgroup": "Thailand",
           "orientation": "v",
           "showlegend": true,
           "textposition": "auto",
           "type": "bar",
           "x": [
            "Thailand"
           ],
           "xaxis": "x",
           "y": [
            262942621455.053
           ],
           "yaxis": "y"
          },
          {
           "alignmentgroup": "True",
           "hovertemplate": "Country=%{x}<br>date=2007<br>GDP (Trillions USD)=%{y}<extra></extra>",
           "legendgroup": "Turkiye",
           "marker": {
            "color": "#EF553B",
            "pattern": {
             "shape": ""
            }
           },
           "name": "Turkiye",
           "offsetgroup": "Turkiye",
           "orientation": "v",
           "showlegend": true,
           "textposition": "auto",
           "type": "bar",
           "x": [
            "Turkiye"
           ],
           "xaxis": "x",
           "y": [
            681321124295.914
           ],
           "yaxis": "y"
          },
          {
           "alignmentgroup": "True",
           "hovertemplate": "Country=%{x}<br>date=2007<br>GDP (Trillions USD)=%{y}<extra></extra>",
           "legendgroup": "United Kingdom",
           "marker": {
            "color": "#00cc96",
            "pattern": {
             "shape": ""
            }
           },
           "name": "United Kingdom",
           "offsetgroup": "United Kingdom",
           "orientation": "v",
           "showlegend": true,
           "textposition": "auto",
           "type": "bar",
           "x": [
            "United Kingdom"
           ],
           "xaxis": "x",
           "y": [
            3090510204081.63
           ],
           "yaxis": "y"
          },
          {
           "alignmentgroup": "True",
           "hovertemplate": "Country=%{x}<br>date=2007<br>GDP (Trillions USD)=%{y}<extra></extra>",
           "legendgroup": "United States",
           "marker": {
            "color": "#ab63fa",
            "pattern": {
             "shape": ""
            }
           },
           "name": "United States",
           "offsetgroup": "United States",
           "orientation": "v",
           "showlegend": true,
           "textposition": "auto",
           "type": "bar",
           "x": [
            "United States"
           ],
           "xaxis": "x",
           "y": [
            14474228000000
           ],
           "yaxis": "y"
          }
         ],
         "name": "2007"
        },
        {
         "data": [
          {
           "alignmentgroup": "True",
           "hovertemplate": "Country=%{x}<br>date=2008<br>GDP (Trillions USD)=%{y}<extra></extra>",
           "legendgroup": "Australia",
           "marker": {
            "color": "#636efa",
            "pattern": {
             "shape": ""
            }
           },
           "name": "Australia",
           "offsetgroup": "Australia",
           "orientation": "v",
           "showlegend": true,
           "textposition": "auto",
           "type": "bar",
           "x": [
            "Australia"
           ],
           "xaxis": "x",
           "y": [
            1056112427190.38
           ],
           "yaxis": "y"
          },
          {
           "alignmentgroup": "True",
           "hovertemplate": "Country=%{x}<br>date=2008<br>GDP (Trillions USD)=%{y}<extra></extra>",
           "legendgroup": "Belgium",
           "marker": {
            "color": "#EF553B",
            "pattern": {
             "shape": ""
            }
           },
           "name": "Belgium",
           "offsetgroup": "Belgium",
           "orientation": "v",
           "showlegend": true,
           "textposition": "auto",
           "type": "bar",
           "x": [
            "Belgium"
           ],
           "xaxis": "x",
           "y": [
            517328087920.078
           ],
           "yaxis": "y"
          },
          {
           "alignmentgroup": "True",
           "hovertemplate": "Country=%{x}<br>date=2008<br>GDP (Trillions USD)=%{y}<extra></extra>",
           "legendgroup": "Brazil",
           "marker": {
            "color": "#00cc96",
            "pattern": {
             "shape": ""
            }
           },
           "name": "Brazil",
           "offsetgroup": "Brazil",
           "orientation": "v",
           "showlegend": true,
           "textposition": "auto",
           "type": "bar",
           "x": [
            "Brazil"
           ],
           "xaxis": "x",
           "y": [
            1695855083552.05
           ],
           "yaxis": "y"
          },
          {
           "alignmentgroup": "True",
           "hovertemplate": "Country=%{x}<br>date=2008<br>GDP (Trillions USD)=%{y}<extra></extra>",
           "legendgroup": "Canada",
           "marker": {
            "color": "#ab63fa",
            "pattern": {
             "shape": ""
            }
           },
           "name": "Canada",
           "offsetgroup": "Canada",
           "orientation": "v",
           "showlegend": true,
           "textposition": "auto",
           "type": "bar",
           "x": [
            "Canada"
           ],
           "xaxis": "x",
           "y": [
            1552989690721.65
           ],
           "yaxis": "y"
          },
          {
           "alignmentgroup": "True",
           "hovertemplate": "Country=%{x}<br>date=2008<br>GDP (Trillions USD)=%{y}<extra></extra>",
           "legendgroup": "China",
           "marker": {
            "color": "#FFA15A",
            "pattern": {
             "shape": ""
            }
           },
           "name": "China",
           "offsetgroup": "China",
           "orientation": "v",
           "showlegend": true,
           "textposition": "auto",
           "type": "bar",
           "x": [
            "China"
           ],
           "xaxis": "x",
           "y": [
            4594336785737.67
           ],
           "yaxis": "y"
          },
          {
           "alignmentgroup": "True",
           "hovertemplate": "Country=%{x}<br>date=2008<br>GDP (Trillions USD)=%{y}<extra></extra>",
           "legendgroup": "France",
           "marker": {
            "color": "#19d3f3",
            "pattern": {
             "shape": ""
            }
           },
           "name": "France",
           "offsetgroup": "France",
           "orientation": "v",
           "showlegend": true,
           "textposition": "auto",
           "type": "bar",
           "x": [
            "France"
           ],
           "xaxis": "x",
           "y": [
            2926802941585.86
           ],
           "yaxis": "y"
          },
          {
           "alignmentgroup": "True",
           "hovertemplate": "Country=%{x}<br>date=2008<br>GDP (Trillions USD)=%{y}<extra></extra>",
           "legendgroup": "Germany",
           "marker": {
            "color": "#FF6692",
            "pattern": {
             "shape": ""
            }
           },
           "name": "Germany",
           "offsetgroup": "Germany",
           "orientation": "v",
           "showlegend": true,
           "textposition": "auto",
           "type": "bar",
           "x": [
            "Germany"
           ],
           "xaxis": "x",
           "y": [
            3808786022312.5
           ],
           "yaxis": "y"
          },
          {
           "alignmentgroup": "True",
           "hovertemplate": "Country=%{x}<br>date=2008<br>GDP (Trillions USD)=%{y}<extra></extra>",
           "legendgroup": "India",
           "marker": {
            "color": "#B6E880",
            "pattern": {
             "shape": ""
            }
           },
           "name": "India",
           "offsetgroup": "India",
           "orientation": "v",
           "showlegend": true,
           "textposition": "auto",
           "type": "bar",
           "x": [
            "India"
           ],
           "xaxis": "x",
           "y": [
            1198895139005.92
           ],
           "yaxis": "y"
          },
          {
           "alignmentgroup": "True",
           "hovertemplate": "Country=%{x}<br>date=2008<br>GDP (Trillions USD)=%{y}<extra></extra>",
           "legendgroup": "Indonesia",
           "marker": {
            "color": "#FF97FF",
            "pattern": {
             "shape": ""
            }
           },
           "name": "Indonesia",
           "offsetgroup": "Indonesia",
           "orientation": "v",
           "showlegend": true,
           "textposition": "auto",
           "type": "bar",
           "x": [
            "Indonesia"
           ],
           "xaxis": "x",
           "y": [
            510228634992.255
           ],
           "yaxis": "y"
          },
          {
           "alignmentgroup": "True",
           "hovertemplate": "Country=%{x}<br>date=2008<br>GDP (Trillions USD)=%{y}<extra></extra>",
           "legendgroup": "Italy",
           "marker": {
            "color": "#FECB52",
            "pattern": {
             "shape": ""
            }
           },
           "name": "Italy",
           "offsetgroup": "Italy",
           "orientation": "v",
           "showlegend": true,
           "textposition": "auto",
           "type": "bar",
           "x": [
            "Italy"
           ],
           "xaxis": "x",
           "y": [
            2417508414187.19
           ],
           "yaxis": "y"
          },
          {
           "alignmentgroup": "True",
           "hovertemplate": "Country=%{x}<br>date=2008<br>GDP (Trillions USD)=%{y}<extra></extra>",
           "legendgroup": "Japan",
           "marker": {
            "color": "#636efa",
            "pattern": {
             "shape": ""
            }
           },
           "name": "Japan",
           "offsetgroup": "Japan",
           "orientation": "v",
           "showlegend": true,
           "textposition": "auto",
           "type": "bar",
           "x": [
            "Japan"
           ],
           "xaxis": "x",
           "y": [
            5106679115127.3
           ],
           "yaxis": "y"
          },
          {
           "alignmentgroup": "True",
           "hovertemplate": "Country=%{x}<br>date=2008<br>GDP (Trillions USD)=%{y}<extra></extra>",
           "legendgroup": "Korea, Rep.",
           "marker": {
            "color": "#EF553B",
            "pattern": {
             "shape": ""
            }
           },
           "name": "Korea, Rep.",
           "offsetgroup": "Korea, Rep.",
           "orientation": "v",
           "showlegend": true,
           "textposition": "auto",
           "type": "bar",
           "x": [
            "Korea, Rep."
           ],
           "xaxis": "x",
           "y": [
            1047339010225.25
           ],
           "yaxis": "y"
          },
          {
           "alignmentgroup": "True",
           "hovertemplate": "Country=%{x}<br>date=2008<br>GDP (Trillions USD)=%{y}<extra></extra>",
           "legendgroup": "Mexico",
           "marker": {
            "color": "#00cc96",
            "pattern": {
             "shape": ""
            }
           },
           "name": "Mexico",
           "offsetgroup": "Mexico",
           "orientation": "v",
           "showlegend": true,
           "textposition": "auto",
           "type": "bar",
           "x": [
            "Mexico"
           ],
           "xaxis": "x",
           "y": [
            1161553459715.1
           ],
           "yaxis": "y"
          },
          {
           "alignmentgroup": "True",
           "hovertemplate": "Country=%{x}<br>date=2008<br>GDP (Trillions USD)=%{y}<extra></extra>",
           "legendgroup": "Netherlands",
           "marker": {
            "color": "#ab63fa",
            "pattern": {
             "shape": ""
            }
           },
           "name": "Netherlands",
           "offsetgroup": "Netherlands",
           "orientation": "v",
           "showlegend": true,
           "textposition": "auto",
           "type": "bar",
           "x": [
            "Netherlands"
           ],
           "xaxis": "x",
           "y": [
            957901566041.406
           ],
           "yaxis": "y"
          },
          {
           "alignmentgroup": "True",
           "hovertemplate": "Country=%{x}<br>date=2008<br>GDP (Trillions USD)=%{y}<extra></extra>",
           "legendgroup": "Poland",
           "marker": {
            "color": "#FFA15A",
            "pattern": {
             "shape": ""
            }
           },
           "name": "Poland",
           "offsetgroup": "Poland",
           "orientation": "v",
           "showlegend": true,
           "textposition": "auto",
           "type": "bar",
           "x": [
            "Poland"
           ],
           "xaxis": "x",
           "y": [
            535612030671.888
           ],
           "yaxis": "y"
          },
          {
           "alignmentgroup": "True",
           "hovertemplate": "Country=%{x}<br>date=2008<br>GDP (Trillions USD)=%{y}<extra></extra>",
           "legendgroup": "Russian Federation",
           "marker": {
            "color": "#19d3f3",
            "pattern": {
             "shape": ""
            }
           },
           "name": "Russian Federation",
           "offsetgroup": "Russian Federation",
           "orientation": "v",
           "showlegend": true,
           "textposition": "auto",
           "type": "bar",
           "x": [
            "Russian Federation"
           ],
           "xaxis": "x",
           "y": [
            1660848058303.11
           ],
           "yaxis": "y"
          },
          {
           "alignmentgroup": "True",
           "hovertemplate": "Country=%{x}<br>date=2008<br>GDP (Trillions USD)=%{y}<extra></extra>",
           "legendgroup": "Saudi Arabia",
           "marker": {
            "color": "#FF6692",
            "pattern": {
             "shape": ""
            }
           },
           "name": "Saudi Arabia",
           "offsetgroup": "Saudi Arabia",
           "orientation": "v",
           "showlegend": true,
           "textposition": "auto",
           "type": "bar",
           "x": [
            "Saudi Arabia"
           ],
           "xaxis": "x",
           "y": [
            519796800000
           ],
           "yaxis": "y"
          },
          {
           "alignmentgroup": "True",
           "hovertemplate": "Country=%{x}<br>date=2008<br>GDP (Trillions USD)=%{y}<extra></extra>",
           "legendgroup": "Spain",
           "marker": {
            "color": "#B6E880",
            "pattern": {
             "shape": ""
            }
           },
           "name": "Spain",
           "offsetgroup": "Spain",
           "orientation": "v",
           "showlegend": true,
           "textposition": "auto",
           "type": "bar",
           "x": [
            "Spain"
           ],
           "xaxis": "x",
           "y": [
            1636115447612.5
           ],
           "yaxis": "y"
          },
          {
           "alignmentgroup": "True",
           "hovertemplate": "Country=%{x}<br>date=2008<br>GDP (Trillions USD)=%{y}<extra></extra>",
           "legendgroup": "Sweden",
           "marker": {
            "color": "#FF97FF",
            "pattern": {
             "shape": ""
            }
           },
           "name": "Sweden",
           "offsetgroup": "Sweden",
           "orientation": "v",
           "showlegend": true,
           "textposition": "auto",
           "type": "bar",
           "x": [
            "Sweden"
           ],
           "xaxis": "x",
           "y": [
            514616528348.834
           ],
           "yaxis": "y"
          },
          {
           "alignmentgroup": "True",
           "hovertemplate": "Country=%{x}<br>date=2008<br>GDP (Trillions USD)=%{y}<extra></extra>",
           "legendgroup": "Switzerland",
           "marker": {
            "color": "#FECB52",
            "pattern": {
             "shape": ""
            }
           },
           "name": "Switzerland",
           "offsetgroup": "Switzerland",
           "orientation": "v",
           "showlegend": true,
           "textposition": "auto",
           "type": "bar",
           "x": [
            "Switzerland"
           ],
           "xaxis": "x",
           "y": [
            567267767519.158
           ],
           "yaxis": "y"
          },
          {
           "alignmentgroup": "True",
           "hovertemplate": "Country=%{x}<br>date=2008<br>GDP (Trillions USD)=%{y}<extra></extra>",
           "legendgroup": "Thailand",
           "marker": {
            "color": "#636efa",
            "pattern": {
             "shape": ""
            }
           },
           "name": "Thailand",
           "offsetgroup": "Thailand",
           "orientation": "v",
           "showlegend": true,
           "textposition": "auto",
           "type": "bar",
           "x": [
            "Thailand"
           ],
           "xaxis": "x",
           "y": [
            291382982430.951
           ],
           "yaxis": "y"
          },
          {
           "alignmentgroup": "True",
           "hovertemplate": "Country=%{x}<br>date=2008<br>GDP (Trillions USD)=%{y}<extra></extra>",
           "legendgroup": "Turkiye",
           "marker": {
            "color": "#EF553B",
            "pattern": {
             "shape": ""
            }
           },
           "name": "Turkiye",
           "offsetgroup": "Turkiye",
           "orientation": "v",
           "showlegend": true,
           "textposition": "auto",
           "type": "bar",
           "x": [
            "Turkiye"
           ],
           "xaxis": "x",
           "y": [
            770449132861.373
           ],
           "yaxis": "y"
          },
          {
           "alignmentgroup": "True",
           "hovertemplate": "Country=%{x}<br>date=2008<br>GDP (Trillions USD)=%{y}<extra></extra>",
           "legendgroup": "United Kingdom",
           "marker": {
            "color": "#00cc96",
            "pattern": {
             "shape": ""
            }
           },
           "name": "United Kingdom",
           "offsetgroup": "United Kingdom",
           "orientation": "v",
           "showlegend": true,
           "textposition": "auto",
           "type": "bar",
           "x": [
            "United Kingdom"
           ],
           "xaxis": "x",
           "y": [
            2929411764705.88
           ],
           "yaxis": "y"
          },
          {
           "alignmentgroup": "True",
           "hovertemplate": "Country=%{x}<br>date=2008<br>GDP (Trillions USD)=%{y}<extra></extra>",
           "legendgroup": "United States",
           "marker": {
            "color": "#ab63fa",
            "pattern": {
             "shape": ""
            }
           },
           "name": "United States",
           "offsetgroup": "United States",
           "orientation": "v",
           "showlegend": true,
           "textposition": "auto",
           "type": "bar",
           "x": [
            "United States"
           ],
           "xaxis": "x",
           "y": [
            14769862000000
           ],
           "yaxis": "y"
          }
         ],
         "name": "2008"
        },
        {
         "data": [
          {
           "alignmentgroup": "True",
           "hovertemplate": "Country=%{x}<br>date=2009<br>GDP (Trillions USD)=%{y}<extra></extra>",
           "legendgroup": "Australia",
           "marker": {
            "color": "#636efa",
            "pattern": {
             "shape": ""
            }
           },
           "name": "Australia",
           "offsetgroup": "Australia",
           "orientation": "v",
           "showlegend": true,
           "textposition": "auto",
           "type": "bar",
           "x": [
            "Australia"
           ],
           "xaxis": "x",
           "y": [
            928762122698.05
           ],
           "yaxis": "y"
          },
          {
           "alignmentgroup": "True",
           "hovertemplate": "Country=%{x}<br>date=2009<br>GDP (Trillions USD)=%{y}<extra></extra>",
           "legendgroup": "Belgium",
           "marker": {
            "color": "#EF553B",
            "pattern": {
             "shape": ""
            }
           },
           "name": "Belgium",
           "offsetgroup": "Belgium",
           "orientation": "v",
           "showlegend": true,
           "textposition": "auto",
           "type": "bar",
           "x": [
            "Belgium"
           ],
           "xaxis": "x",
           "y": [
            485014525992.461
           ],
           "yaxis": "y"
          },
          {
           "alignmentgroup": "True",
           "hovertemplate": "Country=%{x}<br>date=2009<br>GDP (Trillions USD)=%{y}<extra></extra>",
           "legendgroup": "Brazil",
           "marker": {
            "color": "#00cc96",
            "pattern": {
             "shape": ""
            }
           },
           "name": "Brazil",
           "offsetgroup": "Brazil",
           "orientation": "v",
           "showlegend": true,
           "textposition": "auto",
           "type": "bar",
           "x": [
            "Brazil"
           ],
           "xaxis": "x",
           "y": [
            1666996438681.46
           ],
           "yaxis": "y"
          },
          {
           "alignmentgroup": "True",
           "hovertemplate": "Country=%{x}<br>date=2009<br>GDP (Trillions USD)=%{y}<extra></extra>",
           "legendgroup": "Canada",
           "marker": {
            "color": "#ab63fa",
            "pattern": {
             "shape": ""
            }
           },
           "name": "Canada",
           "offsetgroup": "Canada",
           "orientation": "v",
           "showlegend": true,
           "textposition": "auto",
           "type": "bar",
           "x": [
            "Canada"
           ],
           "xaxis": "x",
           "y": [
            1374625142157.29
           ],
           "yaxis": "y"
          },
          {
           "alignmentgroup": "True",
           "hovertemplate": "Country=%{x}<br>date=2009<br>GDP (Trillions USD)=%{y}<extra></extra>",
           "legendgroup": "China",
           "marker": {
            "color": "#FFA15A",
            "pattern": {
             "shape": ""
            }
           },
           "name": "China",
           "offsetgroup": "China",
           "orientation": "v",
           "showlegend": true,
           "textposition": "auto",
           "type": "bar",
           "x": [
            "China"
           ],
           "xaxis": "x",
           "y": [
            5101691124285.21
           ],
           "yaxis": "y"
          },
          {
           "alignmentgroup": "True",
           "hovertemplate": "Country=%{x}<br>date=2009<br>GDP (Trillions USD)=%{y}<extra></extra>",
           "legendgroup": "France",
           "marker": {
            "color": "#19d3f3",
            "pattern": {
             "shape": ""
            }
           },
           "name": "France",
           "offsetgroup": "France",
           "orientation": "v",
           "showlegend": true,
           "textposition": "auto",
           "type": "bar",
           "x": [
            "France"
           ],
           "xaxis": "x",
           "y": [
            2700075882518.98
           ],
           "yaxis": "y"
          },
          {
           "alignmentgroup": "True",
           "hovertemplate": "Country=%{x}<br>date=2009<br>GDP (Trillions USD)=%{y}<extra></extra>",
           "legendgroup": "Germany",
           "marker": {
            "color": "#FF6692",
            "pattern": {
             "shape": ""
            }
           },
           "name": "Germany",
           "offsetgroup": "Germany",
           "orientation": "v",
           "showlegend": true,
           "textposition": "auto",
           "type": "bar",
           "x": [
            "Germany"
           ],
           "xaxis": "x",
           "y": [
            3479800820863.28
           ],
           "yaxis": "y"
          },
          {
           "alignmentgroup": "True",
           "hovertemplate": "Country=%{x}<br>date=2009<br>GDP (Trillions USD)=%{y}<extra></extra>",
           "legendgroup": "India",
           "marker": {
            "color": "#B6E880",
            "pattern": {
             "shape": ""
            }
           },
           "name": "India",
           "offsetgroup": "India",
           "orientation": "v",
           "showlegend": true,
           "textposition": "auto",
           "type": "bar",
           "x": [
            "India"
           ],
           "xaxis": "x",
           "y": [
            1341888016994.9
           ],
           "yaxis": "y"
          },
          {
           "alignmentgroup": "True",
           "hovertemplate": "Country=%{x}<br>date=2009<br>GDP (Trillions USD)=%{y}<extra></extra>",
           "legendgroup": "Indonesia",
           "marker": {
            "color": "#FF97FF",
            "pattern": {
             "shape": ""
            }
           },
           "name": "Indonesia",
           "offsetgroup": "Indonesia",
           "orientation": "v",
           "showlegend": true,
           "textposition": "auto",
           "type": "bar",
           "x": [
            "Indonesia"
           ],
           "xaxis": "x",
           "y": [
            539580085612.401
           ],
           "yaxis": "y"
          },
          {
           "alignmentgroup": "True",
           "hovertemplate": "Country=%{x}<br>date=2009<br>GDP (Trillions USD)=%{y}<extra></extra>",
           "legendgroup": "Italy",
           "marker": {
            "color": "#FECB52",
            "pattern": {
             "shape": ""
            }
           },
           "name": "Italy",
           "offsetgroup": "Italy",
           "orientation": "v",
           "showlegend": true,
           "textposition": "auto",
           "type": "bar",
           "x": [
            "Italy"
           ],
           "xaxis": "x",
           "y": [
            2209484319012.65
           ],
           "yaxis": "y"
          },
          {
           "alignmentgroup": "True",
           "hovertemplate": "Country=%{x}<br>date=2009<br>GDP (Trillions USD)=%{y}<extra></extra>",
           "legendgroup": "Japan",
           "marker": {
            "color": "#636efa",
            "pattern": {
             "shape": ""
            }
           },
           "name": "Japan",
           "offsetgroup": "Japan",
           "orientation": "v",
           "showlegend": true,
           "textposition": "auto",
           "type": "bar",
           "x": [
            "Japan"
           ],
           "xaxis": "x",
           "y": [
            5289493117993.89
           ],
           "yaxis": "y"
          },
          {
           "alignmentgroup": "True",
           "hovertemplate": "Country=%{x}<br>date=2009<br>GDP (Trillions USD)=%{y}<extra></extra>",
           "legendgroup": "Korea, Rep.",
           "marker": {
            "color": "#EF553B",
            "pattern": {
             "shape": ""
            }
           },
           "name": "Korea, Rep.",
           "offsetgroup": "Korea, Rep.",
           "orientation": "v",
           "showlegend": true,
           "textposition": "auto",
           "type": "bar",
           "x": [
            "Korea, Rep."
           ],
           "xaxis": "x",
           "y": [
            943941876218.743
           ],
           "yaxis": "y"
          },
          {
           "alignmentgroup": "True",
           "hovertemplate": "Country=%{x}<br>date=2009<br>GDP (Trillions USD)=%{y}<extra></extra>",
           "legendgroup": "Mexico",
           "marker": {
            "color": "#00cc96",
            "pattern": {
             "shape": ""
            }
           },
           "name": "Mexico",
           "offsetgroup": "Mexico",
           "orientation": "v",
           "showlegend": true,
           "textposition": "auto",
           "type": "bar",
           "x": [
            "Mexico"
           ],
           "xaxis": "x",
           "y": [
            943437415024.633
           ],
           "yaxis": "y"
          },
          {
           "alignmentgroup": "True",
           "hovertemplate": "Country=%{x}<br>date=2009<br>GDP (Trillions USD)=%{y}<extra></extra>",
           "legendgroup": "Netherlands",
           "marker": {
            "color": "#ab63fa",
            "pattern": {
             "shape": ""
            }
           },
           "name": "Netherlands",
           "offsetgroup": "Netherlands",
           "orientation": "v",
           "showlegend": true,
           "textposition": "auto",
           "type": "bar",
           "x": [
            "Netherlands"
           ],
           "xaxis": "x",
           "y": [
            878954223140.234
           ],
           "yaxis": "y"
          },
          {
           "alignmentgroup": "True",
           "hovertemplate": "Country=%{x}<br>date=2009<br>GDP (Trillions USD)=%{y}<extra></extra>",
           "legendgroup": "Poland",
           "marker": {
            "color": "#FFA15A",
            "pattern": {
             "shape": ""
            }
           },
           "name": "Poland",
           "offsetgroup": "Poland",
           "orientation": "v",
           "showlegend": true,
           "textposition": "auto",
           "type": "bar",
           "x": [
            "Poland"
           ],
           "xaxis": "x",
           "y": [
            440891472247.096
           ],
           "yaxis": "y"
          },
          {
           "alignmentgroup": "True",
           "hovertemplate": "Country=%{x}<br>date=2009<br>GDP (Trillions USD)=%{y}<extra></extra>",
           "legendgroup": "Russian Federation",
           "marker": {
            "color": "#19d3f3",
            "pattern": {
             "shape": ""
            }
           },
           "name": "Russian Federation",
           "offsetgroup": "Russian Federation",
           "orientation": "v",
           "showlegend": true,
           "textposition": "auto",
           "type": "bar",
           "x": [
            "Russian Federation"
           ],
           "xaxis": "x",
           "y": [
            1222645900055.7
           ],
           "yaxis": "y"
          },
          {
           "alignmentgroup": "True",
           "hovertemplate": "Country=%{x}<br>date=2009<br>GDP (Trillions USD)=%{y}<extra></extra>",
           "legendgroup": "Saudi Arabia",
           "marker": {
            "color": "#FF6692",
            "pattern": {
             "shape": ""
            }
           },
           "name": "Saudi Arabia",
           "offsetgroup": "Saudi Arabia",
           "orientation": "v",
           "showlegend": true,
           "textposition": "auto",
           "type": "bar",
           "x": [
            "Saudi Arabia"
           ],
           "xaxis": "x",
           "y": [
            429097866666.667
           ],
           "yaxis": "y"
          },
          {
           "alignmentgroup": "True",
           "hovertemplate": "Country=%{x}<br>date=2009<br>GDP (Trillions USD)=%{y}<extra></extra>",
           "legendgroup": "Spain",
           "marker": {
            "color": "#B6E880",
            "pattern": {
             "shape": ""
            }
           },
           "name": "Spain",
           "offsetgroup": "Spain",
           "orientation": "v",
           "showlegend": true,
           "textposition": "auto",
           "type": "bar",
           "x": [
            "Spain"
           ],
           "xaxis": "x",
           "y": [
            1496587590847.66
           ],
           "yaxis": "y"
          },
          {
           "alignmentgroup": "True",
           "hovertemplate": "Country=%{x}<br>date=2009<br>GDP (Trillions USD)=%{y}<extra></extra>",
           "legendgroup": "Sweden",
           "marker": {
            "color": "#FF97FF",
            "pattern": {
             "shape": ""
            }
           },
           "name": "Sweden",
           "offsetgroup": "Sweden",
           "orientation": "v",
           "showlegend": true,
           "textposition": "auto",
           "type": "bar",
           "x": [
            "Sweden"
           ],
           "xaxis": "x",
           "y": [
            434313804907.366
           ],
           "yaxis": "y"
          },
          {
           "alignmentgroup": "True",
           "hovertemplate": "Country=%{x}<br>date=2009<br>GDP (Trillions USD)=%{y}<extra></extra>",
           "legendgroup": "Switzerland",
           "marker": {
            "color": "#FECB52",
            "pattern": {
             "shape": ""
            }
           },
           "name": "Switzerland",
           "offsetgroup": "Switzerland",
           "orientation": "v",
           "showlegend": true,
           "textposition": "auto",
           "type": "bar",
           "x": [
            "Switzerland"
           ],
           "xaxis": "x",
           "y": [
            554212916092.271
           ],
           "yaxis": "y"
          },
          {
           "alignmentgroup": "True",
           "hovertemplate": "Country=%{x}<br>date=2009<br>GDP (Trillions USD)=%{y}<extra></extra>",
           "legendgroup": "Thailand",
           "marker": {
            "color": "#636efa",
            "pattern": {
             "shape": ""
            }
           },
           "name": "Thailand",
           "offsetgroup": "Thailand",
           "orientation": "v",
           "showlegend": true,
           "textposition": "auto",
           "type": "bar",
           "x": [
            "Thailand"
           ],
           "xaxis": "x",
           "y": [
            281710630187.319
           ],
           "yaxis": "y"
          },
          {
           "alignmentgroup": "True",
           "hovertemplate": "Country=%{x}<br>date=2009<br>GDP (Trillions USD)=%{y}<extra></extra>",
           "legendgroup": "Turkiye",
           "marker": {
            "color": "#EF553B",
            "pattern": {
             "shape": ""
            }
           },
           "name": "Turkiye",
           "offsetgroup": "Turkiye",
           "orientation": "v",
           "showlegend": true,
           "textposition": "auto",
           "type": "bar",
           "x": [
            "Turkiye"
           ],
           "xaxis": "x",
           "y": [
            649289324627.732
           ],
           "yaxis": "y"
          },
          {
           "alignmentgroup": "True",
           "hovertemplate": "Country=%{x}<br>date=2009<br>GDP (Trillions USD)=%{y}<extra></extra>",
           "legendgroup": "United Kingdom",
           "marker": {
            "color": "#00cc96",
            "pattern": {
             "shape": ""
            }
           },
           "name": "United Kingdom",
           "offsetgroup": "United Kingdom",
           "orientation": "v",
           "showlegend": true,
           "textposition": "auto",
           "type": "bar",
           "x": [
            "United Kingdom"
           ],
           "xaxis": "x",
           "y": [
            2412840006231.5
           ],
           "yaxis": "y"
          },
          {
           "alignmentgroup": "True",
           "hovertemplate": "Country=%{x}<br>date=2009<br>GDP (Trillions USD)=%{y}<extra></extra>",
           "legendgroup": "United States",
           "marker": {
            "color": "#ab63fa",
            "pattern": {
             "shape": ""
            }
           },
           "name": "United States",
           "offsetgroup": "United States",
           "orientation": "v",
           "showlegend": true,
           "textposition": "auto",
           "type": "bar",
           "x": [
            "United States"
           ],
           "xaxis": "x",
           "y": [
            14478067000000
           ],
           "yaxis": "y"
          }
         ],
         "name": "2009"
        },
        {
         "data": [
          {
           "alignmentgroup": "True",
           "hovertemplate": "Country=%{x}<br>date=2010<br>GDP (Trillions USD)=%{y}<extra></extra>",
           "legendgroup": "Australia",
           "marker": {
            "color": "#636efa",
            "pattern": {
             "shape": ""
            }
           },
           "name": "Australia",
           "offsetgroup": "Australia",
           "orientation": "v",
           "showlegend": true,
           "textposition": "auto",
           "type": "bar",
           "x": [
            "Australia"
           ],
           "xaxis": "x",
           "y": [
            1148838233480.72
           ],
           "yaxis": "y"
          },
          {
           "alignmentgroup": "True",
           "hovertemplate": "Country=%{x}<br>date=2010<br>GDP (Trillions USD)=%{y}<extra></extra>",
           "legendgroup": "Belgium",
           "marker": {
            "color": "#EF553B",
            "pattern": {
             "shape": ""
            }
           },
           "name": "Belgium",
           "offsetgroup": "Belgium",
           "orientation": "v",
           "showlegend": true,
           "textposition": "auto",
           "type": "bar",
           "x": [
            "Belgium"
           ],
           "xaxis": "x",
           "y": [
            481556503720.001
           ],
           "yaxis": "y"
          },
          {
           "alignmentgroup": "True",
           "hovertemplate": "Country=%{x}<br>date=2010<br>GDP (Trillions USD)=%{y}<extra></extra>",
           "legendgroup": "Brazil",
           "marker": {
            "color": "#00cc96",
            "pattern": {
             "shape": ""
            }
           },
           "name": "Brazil",
           "offsetgroup": "Brazil",
           "orientation": "v",
           "showlegend": true,
           "textposition": "auto",
           "type": "bar",
           "x": [
            "Brazil"
           ],
           "xaxis": "x",
           "y": [
            2208837745214.23
           ],
           "yaxis": "y"
          },
          {
           "alignmentgroup": "True",
           "hovertemplate": "Country=%{x}<br>date=2010<br>GDP (Trillions USD)=%{y}<extra></extra>",
           "legendgroup": "Canada",
           "marker": {
            "color": "#ab63fa",
            "pattern": {
             "shape": ""
            }
           },
           "name": "Canada",
           "offsetgroup": "Canada",
           "orientation": "v",
           "showlegend": true,
           "textposition": "auto",
           "type": "bar",
           "x": [
            "Canada"
           ],
           "xaxis": "x",
           "y": [
            1617343367486.26
           ],
           "yaxis": "y"
          },
          {
           "alignmentgroup": "True",
           "hovertemplate": "Country=%{x}<br>date=2010<br>GDP (Trillions USD)=%{y}<extra></extra>",
           "legendgroup": "China",
           "marker": {
            "color": "#FFA15A",
            "pattern": {
             "shape": ""
            }
           },
           "name": "China",
           "offsetgroup": "China",
           "orientation": "v",
           "showlegend": true,
           "textposition": "auto",
           "type": "bar",
           "x": [
            "China"
           ],
           "xaxis": "x",
           "y": [
            6087191746679.49
           ],
           "yaxis": "y"
          },
          {
           "alignmentgroup": "True",
           "hovertemplate": "Country=%{x}<br>date=2010<br>GDP (Trillions USD)=%{y}<extra></extra>",
           "legendgroup": "France",
           "marker": {
            "color": "#19d3f3",
            "pattern": {
             "shape": ""
            }
           },
           "name": "France",
           "offsetgroup": "France",
           "orientation": "v",
           "showlegend": true,
           "textposition": "auto",
           "type": "bar",
           "x": [
            "France"
           ],
           "xaxis": "x",
           "y": [
            2646230027988.34
           ],
           "yaxis": "y"
          },
          {
           "alignmentgroup": "True",
           "hovertemplate": "Country=%{x}<br>date=2010<br>GDP (Trillions USD)=%{y}<extra></extra>",
           "legendgroup": "Germany",
           "marker": {
            "color": "#FF6692",
            "pattern": {
             "shape": ""
            }
           },
           "name": "Germany",
           "offsetgroup": "Germany",
           "orientation": "v",
           "showlegend": true,
           "textposition": "auto",
           "type": "bar",
           "x": [
            "Germany"
           ],
           "xaxis": "x",
           "y": [
            3468154343000.01
           ],
           "yaxis": "y"
          },
          {
           "alignmentgroup": "True",
           "hovertemplate": "Country=%{x}<br>date=2010<br>GDP (Trillions USD)=%{y}<extra></extra>",
           "legendgroup": "India",
           "marker": {
            "color": "#B6E880",
            "pattern": {
             "shape": ""
            }
           },
           "name": "India",
           "offsetgroup": "India",
           "orientation": "v",
           "showlegend": true,
           "textposition": "auto",
           "type": "bar",
           "x": [
            "India"
           ],
           "xaxis": "x",
           "y": [
            1675615519484.96
           ],
           "yaxis": "y"
          },
          {
           "alignmentgroup": "True",
           "hovertemplate": "Country=%{x}<br>date=2010<br>GDP (Trillions USD)=%{y}<extra></extra>",
           "legendgroup": "Indonesia",
           "marker": {
            "color": "#FF97FF",
            "pattern": {
             "shape": ""
            }
           },
           "name": "Indonesia",
           "offsetgroup": "Indonesia",
           "orientation": "v",
           "showlegend": true,
           "textposition": "auto",
           "type": "bar",
           "x": [
            "Indonesia"
           ],
           "xaxis": "x",
           "y": [
            755094157594.524
           ],
           "yaxis": "y"
          },
          {
           "alignmentgroup": "True",
           "hovertemplate": "Country=%{x}<br>date=2010<br>GDP (Trillions USD)=%{y}<extra></extra>",
           "legendgroup": "Italy",
           "marker": {
            "color": "#FECB52",
            "pattern": {
             "shape": ""
            }
           },
           "name": "Italy",
           "offsetgroup": "Italy",
           "orientation": "v",
           "showlegend": true,
           "textposition": "auto",
           "type": "bar",
           "x": [
            "Italy"
           ],
           "xaxis": "x",
           "y": [
            2144936254535
           ],
           "yaxis": "y"
          },
          {
           "alignmentgroup": "True",
           "hovertemplate": "Country=%{x}<br>date=2010<br>GDP (Trillions USD)=%{y}<extra></extra>",
           "legendgroup": "Japan",
           "marker": {
            "color": "#636efa",
            "pattern": {
             "shape": ""
            }
           },
           "name": "Japan",
           "offsetgroup": "Japan",
           "orientation": "v",
           "showlegend": true,
           "textposition": "auto",
           "type": "bar",
           "x": [
            "Japan"
           ],
           "xaxis": "x",
           "y": [
            5759071769013.11
           ],
           "yaxis": "y"
          },
          {
           "alignmentgroup": "True",
           "hovertemplate": "Country=%{x}<br>date=2010<br>GDP (Trillions USD)=%{y}<extra></extra>",
           "legendgroup": "Korea, Rep.",
           "marker": {
            "color": "#EF553B",
            "pattern": {
             "shape": ""
            }
           },
           "name": "Korea, Rep.",
           "offsetgroup": "Korea, Rep.",
           "orientation": "v",
           "showlegend": true,
           "textposition": "auto",
           "type": "bar",
           "x": [
            "Korea, Rep."
           ],
           "xaxis": "x",
           "y": [
            1143672241149.72
           ],
           "yaxis": "y"
          },
          {
           "alignmentgroup": "True",
           "hovertemplate": "Country=%{x}<br>date=2010<br>GDP (Trillions USD)=%{y}<extra></extra>",
           "legendgroup": "Mexico",
           "marker": {
            "color": "#00cc96",
            "pattern": {
             "shape": ""
            }
           },
           "name": "Mexico",
           "offsetgroup": "Mexico",
           "orientation": "v",
           "showlegend": true,
           "textposition": "auto",
           "type": "bar",
           "x": [
            "Mexico"
           ],
           "xaxis": "x",
           "y": [
            1105424238731.09
           ],
           "yaxis": "y"
          },
          {
           "alignmentgroup": "True",
           "hovertemplate": "Country=%{x}<br>date=2010<br>GDP (Trillions USD)=%{y}<extra></extra>",
           "legendgroup": "Netherlands",
           "marker": {
            "color": "#ab63fa",
            "pattern": {
             "shape": ""
            }
           },
           "name": "Netherlands",
           "offsetgroup": "Netherlands",
           "orientation": "v",
           "showlegend": true,
           "textposition": "auto",
           "type": "bar",
           "x": [
            "Netherlands"
           ],
           "xaxis": "x",
           "y": [
            852464982433.335
           ],
           "yaxis": "y"
          },
          {
           "alignmentgroup": "True",
           "hovertemplate": "Country=%{x}<br>date=2010<br>GDP (Trillions USD)=%{y}<extra></extra>",
           "legendgroup": "Poland",
           "marker": {
            "color": "#FFA15A",
            "pattern": {
             "shape": ""
            }
           },
           "name": "Poland",
           "offsetgroup": "Poland",
           "orientation": "v",
           "showlegend": true,
           "textposition": "auto",
           "type": "bar",
           "x": [
            "Poland"
           ],
           "xaxis": "x",
           "y": [
            478111630683.514
           ],
           "yaxis": "y"
          },
          {
           "alignmentgroup": "True",
           "hovertemplate": "Country=%{x}<br>date=2010<br>GDP (Trillions USD)=%{y}<extra></extra>",
           "legendgroup": "Russian Federation",
           "marker": {
            "color": "#19d3f3",
            "pattern": {
             "shape": ""
            }
           },
           "name": "Russian Federation",
           "offsetgroup": "Russian Federation",
           "orientation": "v",
           "showlegend": true,
           "textposition": "auto",
           "type": "bar",
           "x": [
            "Russian Federation"
           ],
           "xaxis": "x",
           "y": [
            1524916715223.95
           ],
           "yaxis": "y"
          },
          {
           "alignmentgroup": "True",
           "hovertemplate": "Country=%{x}<br>date=2010<br>GDP (Trillions USD)=%{y}<extra></extra>",
           "legendgroup": "Saudi Arabia",
           "marker": {
            "color": "#FF6692",
            "pattern": {
             "shape": ""
            }
           },
           "name": "Saudi Arabia",
           "offsetgroup": "Saudi Arabia",
           "orientation": "v",
           "showlegend": true,
           "textposition": "auto",
           "type": "bar",
           "x": [
            "Saudi Arabia"
           ],
           "xaxis": "x",
           "y": [
            528207200000
           ],
           "yaxis": "y"
          },
          {
           "alignmentgroup": "True",
           "hovertemplate": "Country=%{x}<br>date=2010<br>GDP (Trillions USD)=%{y}<extra></extra>",
           "legendgroup": "Spain",
           "marker": {
            "color": "#B6E880",
            "pattern": {
             "shape": ""
            }
           },
           "name": "Spain",
           "offsetgroup": "Spain",
           "orientation": "v",
           "showlegend": true,
           "textposition": "auto",
           "type": "bar",
           "x": [
            "Spain"
           ],
           "xaxis": "x",
           "y": [
            1427989078916.67
           ],
           "yaxis": "y"
          },
          {
           "alignmentgroup": "True",
           "hovertemplate": "Country=%{x}<br>date=2010<br>GDP (Trillions USD)=%{y}<extra></extra>",
           "legendgroup": "Sweden",
           "marker": {
            "color": "#FF97FF",
            "pattern": {
             "shape": ""
            }
           },
           "name": "Sweden",
           "offsetgroup": "Sweden",
           "orientation": "v",
           "showlegend": true,
           "textposition": "auto",
           "type": "bar",
           "x": [
            "Sweden"
           ],
           "xaxis": "x",
           "y": [
            492753255885.718
           ],
           "yaxis": "y"
          },
          {
           "alignmentgroup": "True",
           "hovertemplate": "Country=%{x}<br>date=2010<br>GDP (Trillions USD)=%{y}<extra></extra>",
           "legendgroup": "Switzerland",
           "marker": {
            "color": "#FECB52",
            "pattern": {
             "shape": ""
            }
           },
           "name": "Switzerland",
           "offsetgroup": "Switzerland",
           "orientation": "v",
           "showlegend": true,
           "textposition": "auto",
           "type": "bar",
           "x": [
            "Switzerland"
           ],
           "xaxis": "x",
           "y": [
            598851028906.58
           ],
           "yaxis": "y"
          },
          {
           "alignmentgroup": "True",
           "hovertemplate": "Country=%{x}<br>date=2010<br>GDP (Trillions USD)=%{y}<extra></extra>",
           "legendgroup": "Thailand",
           "marker": {
            "color": "#636efa",
            "pattern": {
             "shape": ""
            }
           },
           "name": "Thailand",
           "offsetgroup": "Thailand",
           "orientation": "v",
           "showlegend": true,
           "textposition": "auto",
           "type": "bar",
           "x": [
            "Thailand"
           ],
           "xaxis": "x",
           "y": [
            341104766329.17
           ],
           "yaxis": "y"
          },
          {
           "alignmentgroup": "True",
           "hovertemplate": "Country=%{x}<br>date=2010<br>GDP (Trillions USD)=%{y}<extra></extra>",
           "legendgroup": "Turkiye",
           "marker": {
            "color": "#EF553B",
            "pattern": {
             "shape": ""
            }
           },
           "name": "Turkiye",
           "offsetgroup": "Turkiye",
           "orientation": "v",
           "showlegend": true,
           "textposition": "auto",
           "type": "bar",
           "x": [
            "Turkiye"
           ],
           "xaxis": "x",
           "y": [
            776967266305.53
           ],
           "yaxis": "y"
          },
          {
           "alignmentgroup": "True",
           "hovertemplate": "Country=%{x}<br>date=2010<br>GDP (Trillions USD)=%{y}<extra></extra>",
           "legendgroup": "United Kingdom",
           "marker": {
            "color": "#00cc96",
            "pattern": {
             "shape": ""
            }
           },
           "name": "United Kingdom",
           "offsetgroup": "United Kingdom",
           "orientation": "v",
           "showlegend": true,
           "textposition": "auto",
           "type": "bar",
           "x": [
            "United Kingdom"
           ],
           "xaxis": "x",
           "y": [
            2485482596184.71
           ],
           "yaxis": "y"
          },
          {
           "alignmentgroup": "True",
           "hovertemplate": "Country=%{x}<br>date=2010<br>GDP (Trillions USD)=%{y}<extra></extra>",
           "legendgroup": "United States",
           "marker": {
            "color": "#ab63fa",
            "pattern": {
             "shape": ""
            }
           },
           "name": "United States",
           "offsetgroup": "United States",
           "orientation": "v",
           "showlegend": true,
           "textposition": "auto",
           "type": "bar",
           "x": [
            "United States"
           ],
           "xaxis": "x",
           "y": [
            15048971000000
           ],
           "yaxis": "y"
          }
         ],
         "name": "2010"
        },
        {
         "data": [
          {
           "alignmentgroup": "True",
           "hovertemplate": "Country=%{x}<br>date=2011<br>GDP (Trillions USD)=%{y}<extra></extra>",
           "legendgroup": "Australia",
           "marker": {
            "color": "#636efa",
            "pattern": {
             "shape": ""
            }
           },
           "name": "Australia",
           "offsetgroup": "Australia",
           "orientation": "v",
           "showlegend": true,
           "textposition": "auto",
           "type": "bar",
           "x": [
            "Australia"
           ],
           "xaxis": "x",
           "y": [
            1398610616772.97
           ],
           "yaxis": "y"
          },
          {
           "alignmentgroup": "True",
           "hovertemplate": "Country=%{x}<br>date=2011<br>GDP (Trillions USD)=%{y}<extra></extra>",
           "legendgroup": "Belgium",
           "marker": {
            "color": "#EF553B",
            "pattern": {
             "shape": ""
            }
           },
           "name": "Belgium",
           "offsetgroup": "Belgium",
           "orientation": "v",
           "showlegend": true,
           "textposition": "auto",
           "type": "bar",
           "x": [
            "Belgium"
           ],
           "xaxis": "x",
           "y": [
            527196649048.639
           ],
           "yaxis": "y"
          },
          {
           "alignmentgroup": "True",
           "hovertemplate": "Country=%{x}<br>date=2011<br>GDP (Trillions USD)=%{y}<extra></extra>",
           "legendgroup": "Brazil",
           "marker": {
            "color": "#00cc96",
            "pattern": {
             "shape": ""
            }
           },
           "name": "Brazil",
           "offsetgroup": "Brazil",
           "orientation": "v",
           "showlegend": true,
           "textposition": "auto",
           "type": "bar",
           "x": [
            "Brazil"
           ],
           "xaxis": "x",
           "y": [
            2616156223977.47
           ],
           "yaxis": "y"
          },
          {
           "alignmentgroup": "True",
           "hovertemplate": "Country=%{x}<br>date=2011<br>GDP (Trillions USD)=%{y}<extra></extra>",
           "legendgroup": "Canada",
           "marker": {
            "color": "#ab63fa",
            "pattern": {
             "shape": ""
            }
           },
           "name": "Canada",
           "offsetgroup": "Canada",
           "orientation": "v",
           "showlegend": true,
           "textposition": "auto",
           "type": "bar",
           "x": [
            "Canada"
           ],
           "xaxis": "x",
           "y": [
            1793326630174.52
           ],
           "yaxis": "y"
          },
          {
           "alignmentgroup": "True",
           "hovertemplate": "Country=%{x}<br>date=2011<br>GDP (Trillions USD)=%{y}<extra></extra>",
           "legendgroup": "China",
           "marker": {
            "color": "#FFA15A",
            "pattern": {
             "shape": ""
            }
           },
           "name": "China",
           "offsetgroup": "China",
           "orientation": "v",
           "showlegend": true,
           "textposition": "auto",
           "type": "bar",
           "x": [
            "China"
           ],
           "xaxis": "x",
           "y": [
            7551545703440.75
           ],
           "yaxis": "y"
          },
          {
           "alignmentgroup": "True",
           "hovertemplate": "Country=%{x}<br>date=2011<br>GDP (Trillions USD)=%{y}<extra></extra>",
           "legendgroup": "France",
           "marker": {
            "color": "#19d3f3",
            "pattern": {
             "shape": ""
            }
           },
           "name": "France",
           "offsetgroup": "France",
           "orientation": "v",
           "showlegend": true,
           "textposition": "auto",
           "type": "bar",
           "x": [
            "France"
           ],
           "xaxis": "x",
           "y": [
            2870408553990.28
           ],
           "yaxis": "y"
          },
          {
           "alignmentgroup": "True",
           "hovertemplate": "Country=%{x}<br>date=2011<br>GDP (Trillions USD)=%{y}<extra></extra>",
           "legendgroup": "Germany",
           "marker": {
            "color": "#FF6692",
            "pattern": {
             "shape": ""
            }
           },
           "name": "Germany",
           "offsetgroup": "Germany",
           "orientation": "v",
           "showlegend": true,
           "textposition": "auto",
           "type": "bar",
           "x": [
            "Germany"
           ],
           "xaxis": "x",
           "y": [
            3824828563521.41
           ],
           "yaxis": "y"
          },
          {
           "alignmentgroup": "True",
           "hovertemplate": "Country=%{x}<br>date=2011<br>GDP (Trillions USD)=%{y}<extra></extra>",
           "legendgroup": "India",
           "marker": {
            "color": "#B6E880",
            "pattern": {
             "shape": ""
            }
           },
           "name": "India",
           "offsetgroup": "India",
           "orientation": "v",
           "showlegend": true,
           "textposition": "auto",
           "type": "bar",
           "x": [
            "India"
           ],
           "xaxis": "x",
           "y": [
            1823051829894.55
           ],
           "yaxis": "y"
          },
          {
           "alignmentgroup": "True",
           "hovertemplate": "Country=%{x}<br>date=2011<br>GDP (Trillions USD)=%{y}<extra></extra>",
           "legendgroup": "Indonesia",
           "marker": {
            "color": "#FF97FF",
            "pattern": {
             "shape": ""
            }
           },
           "name": "Indonesia",
           "offsetgroup": "Indonesia",
           "orientation": "v",
           "showlegend": true,
           "textposition": "auto",
           "type": "bar",
           "x": [
            "Indonesia"
           ],
           "xaxis": "x",
           "y": [
            892969104529.572
           ],
           "yaxis": "y"
          },
          {
           "alignmentgroup": "True",
           "hovertemplate": "Country=%{x}<br>date=2011<br>GDP (Trillions USD)=%{y}<extra></extra>",
           "legendgroup": "Italy",
           "marker": {
            "color": "#FECB52",
            "pattern": {
             "shape": ""
            }
           },
           "name": "Italy",
           "offsetgroup": "Italy",
           "orientation": "v",
           "showlegend": true,
           "textposition": "auto",
           "type": "bar",
           "x": [
            "Italy"
           ],
           "xaxis": "x",
           "y": [
            2306974020278.21
           ],
           "yaxis": "y"
          },
          {
           "alignmentgroup": "True",
           "hovertemplate": "Country=%{x}<br>date=2011<br>GDP (Trillions USD)=%{y}<extra></extra>",
           "legendgroup": "Japan",
           "marker": {
            "color": "#636efa",
            "pattern": {
             "shape": ""
            }
           },
           "name": "Japan",
           "offsetgroup": "Japan",
           "orientation": "v",
           "showlegend": true,
           "textposition": "auto",
           "type": "bar",
           "x": [
            "Japan"
           ],
           "xaxis": "x",
           "y": [
            6233147172341.35
           ],
           "yaxis": "y"
          },
          {
           "alignmentgroup": "True",
           "hovertemplate": "Country=%{x}<br>date=2011<br>GDP (Trillions USD)=%{y}<extra></extra>",
           "legendgroup": "Korea, Rep.",
           "marker": {
            "color": "#EF553B",
            "pattern": {
             "shape": ""
            }
           },
           "name": "Korea, Rep.",
           "offsetgroup": "Korea, Rep.",
           "orientation": "v",
           "showlegend": true,
           "textposition": "auto",
           "type": "bar",
           "x": [
            "Korea, Rep."
           ],
           "xaxis": "x",
           "y": [
            1253289537500.81
           ],
           "yaxis": "y"
          },
          {
           "alignmentgroup": "True",
           "hovertemplate": "Country=%{x}<br>date=2011<br>GDP (Trillions USD)=%{y}<extra></extra>",
           "legendgroup": "Mexico",
           "marker": {
            "color": "#00cc96",
            "pattern": {
             "shape": ""
            }
           },
           "name": "Mexico",
           "offsetgroup": "Mexico",
           "orientation": "v",
           "showlegend": true,
           "textposition": "auto",
           "type": "bar",
           "x": [
            "Mexico"
           ],
           "xaxis": "x",
           "y": [
            1229013703416.76
           ],
           "yaxis": "y"
          },
          {
           "alignmentgroup": "True",
           "hovertemplate": "Country=%{x}<br>date=2011<br>GDP (Trillions USD)=%{y}<extra></extra>",
           "legendgroup": "Netherlands",
           "marker": {
            "color": "#ab63fa",
            "pattern": {
             "shape": ""
            }
           },
           "name": "Netherlands",
           "offsetgroup": "Netherlands",
           "orientation": "v",
           "showlegend": true,
           "textposition": "auto",
           "type": "bar",
           "x": [
            "Netherlands"
           ],
           "xaxis": "x",
           "y": [
            913140741332.687
           ],
           "yaxis": "y"
          },
          {
           "alignmentgroup": "True",
           "hovertemplate": "Country=%{x}<br>date=2011<br>GDP (Trillions USD)=%{y}<extra></extra>",
           "legendgroup": "Poland",
           "marker": {
            "color": "#FFA15A",
            "pattern": {
             "shape": ""
            }
           },
           "name": "Poland",
           "offsetgroup": "Poland",
           "orientation": "v",
           "showlegend": true,
           "textposition": "auto",
           "type": "bar",
           "x": [
            "Poland"
           ],
           "xaxis": "x",
           "y": [
            527848543023.469
           ],
           "yaxis": "y"
          },
          {
           "alignmentgroup": "True",
           "hovertemplate": "Country=%{x}<br>date=2011<br>GDP (Trillions USD)=%{y}<extra></extra>",
           "legendgroup": "Russian Federation",
           "marker": {
            "color": "#19d3f3",
            "pattern": {
             "shape": ""
            }
           },
           "name": "Russian Federation",
           "offsetgroup": "Russian Federation",
           "orientation": "v",
           "showlegend": true,
           "textposition": "auto",
           "type": "bar",
           "x": [
            "Russian Federation"
           ],
           "xaxis": "x",
           "y": [
            2045922753398.04
           ],
           "yaxis": "y"
          },
          {
           "alignmentgroup": "True",
           "hovertemplate": "Country=%{x}<br>date=2011<br>GDP (Trillions USD)=%{y}<extra></extra>",
           "legendgroup": "Saudi Arabia",
           "marker": {
            "color": "#FF6692",
            "pattern": {
             "shape": ""
            }
           },
           "name": "Saudi Arabia",
           "offsetgroup": "Saudi Arabia",
           "orientation": "v",
           "showlegend": true,
           "textposition": "auto",
           "type": "bar",
           "x": [
            "Saudi Arabia"
           ],
           "xaxis": "x",
           "y": [
            676634666666.667
           ],
           "yaxis": "y"
          },
          {
           "alignmentgroup": "True",
           "hovertemplate": "Country=%{x}<br>date=2011<br>GDP (Trillions USD)=%{y}<extra></extra>",
           "legendgroup": "Spain",
           "marker": {
            "color": "#B6E880",
            "pattern": {
             "shape": ""
            }
           },
           "name": "Spain",
           "offsetgroup": "Spain",
           "orientation": "v",
           "showlegend": true,
           "textposition": "auto",
           "type": "bar",
           "x": [
            "Spain"
           ],
           "xaxis": "x",
           "y": [
            1487568659241.25
           ],
           "yaxis": "y"
          },
          {
           "alignmentgroup": "True",
           "hovertemplate": "Country=%{x}<br>date=2011<br>GDP (Trillions USD)=%{y}<extra></extra>",
           "legendgroup": "Sweden",
           "marker": {
            "color": "#FF97FF",
            "pattern": {
             "shape": ""
            }
           },
           "name": "Sweden",
           "offsetgroup": "Sweden",
           "orientation": "v",
           "showlegend": true,
           "textposition": "auto",
           "type": "bar",
           "x": [
            "Sweden"
           ],
           "xaxis": "x",
           "y": [
            570541353128.724
           ],
           "yaxis": "y"
          },
          {
           "alignmentgroup": "True",
           "hovertemplate": "Country=%{x}<br>date=2011<br>GDP (Trillions USD)=%{y}<extra></extra>",
           "legendgroup": "Switzerland",
           "marker": {
            "color": "#FECB52",
            "pattern": {
             "shape": ""
            }
           },
           "name": "Switzerland",
           "offsetgroup": "Switzerland",
           "orientation": "v",
           "showlegend": true,
           "textposition": "auto",
           "type": "bar",
           "x": [
            "Switzerland"
           ],
           "xaxis": "x",
           "y": [
            715888126682.396
           ],
           "yaxis": "y"
          },
          {
           "alignmentgroup": "True",
           "hovertemplate": "Country=%{x}<br>date=2011<br>GDP (Trillions USD)=%{y}<extra></extra>",
           "legendgroup": "Thailand",
           "marker": {
            "color": "#636efa",
            "pattern": {
             "shape": ""
            }
           },
           "name": "Thailand",
           "offsetgroup": "Thailand",
           "orientation": "v",
           "showlegend": true,
           "textposition": "auto",
           "type": "bar",
           "x": [
            "Thailand"
           ],
           "xaxis": "x",
           "y": [
            370818739623.622
           ],
           "yaxis": "y"
          },
          {
           "alignmentgroup": "True",
           "hovertemplate": "Country=%{x}<br>date=2011<br>GDP (Trillions USD)=%{y}<extra></extra>",
           "legendgroup": "Turkiye",
           "marker": {
            "color": "#EF553B",
            "pattern": {
             "shape": ""
            }
           },
           "name": "Turkiye",
           "offsetgroup": "Turkiye",
           "orientation": "v",
           "showlegend": true,
           "textposition": "auto",
           "type": "bar",
           "x": [
            "Turkiye"
           ],
           "xaxis": "x",
           "y": [
            838785289694.35
           ],
           "yaxis": "y"
          },
          {
           "alignmentgroup": "True",
           "hovertemplate": "Country=%{x}<br>date=2011<br>GDP (Trillions USD)=%{y}<extra></extra>",
           "legendgroup": "United Kingdom",
           "marker": {
            "color": "#00cc96",
            "pattern": {
             "shape": ""
            }
           },
           "name": "United Kingdom",
           "offsetgroup": "United Kingdom",
           "orientation": "v",
           "showlegend": true,
           "textposition": "auto",
           "type": "bar",
           "x": [
            "United Kingdom"
           ],
           "xaxis": "x",
           "y": [
            2663805834828.07
           ],
           "yaxis": "y"
          },
          {
           "alignmentgroup": "True",
           "hovertemplate": "Country=%{x}<br>date=2011<br>GDP (Trillions USD)=%{y}<extra></extra>",
           "legendgroup": "United States",
           "marker": {
            "color": "#ab63fa",
            "pattern": {
             "shape": ""
            }
           },
           "name": "United States",
           "offsetgroup": "United States",
           "orientation": "v",
           "showlegend": true,
           "textposition": "auto",
           "type": "bar",
           "x": [
            "United States"
           ],
           "xaxis": "x",
           "y": [
            15599732000000
           ],
           "yaxis": "y"
          }
         ],
         "name": "2011"
        },
        {
         "data": [
          {
           "alignmentgroup": "True",
           "hovertemplate": "Country=%{x}<br>date=2012<br>GDP (Trillions USD)=%{y}<extra></extra>",
           "legendgroup": "Australia",
           "marker": {
            "color": "#636efa",
            "pattern": {
             "shape": ""
            }
           },
           "name": "Australia",
           "offsetgroup": "Australia",
           "orientation": "v",
           "showlegend": true,
           "textposition": "auto",
           "type": "bar",
           "x": [
            "Australia"
           ],
           "xaxis": "x",
           "y": [
            1547532281116.4
           ],
           "yaxis": "y"
          },
          {
           "alignmentgroup": "True",
           "hovertemplate": "Country=%{x}<br>date=2012<br>GDP (Trillions USD)=%{y}<extra></extra>",
           "legendgroup": "Belgium",
           "marker": {
            "color": "#EF553B",
            "pattern": {
             "shape": ""
            }
           },
           "name": "Belgium",
           "offsetgroup": "Belgium",
           "orientation": "v",
           "showlegend": true,
           "textposition": "auto",
           "type": "bar",
           "x": [
            "Belgium"
           ],
           "xaxis": "x",
           "y": [
            498414364944.961
           ],
           "yaxis": "y"
          },
          {
           "alignmentgroup": "True",
           "hovertemplate": "Country=%{x}<br>date=2012<br>GDP (Trillions USD)=%{y}<extra></extra>",
           "legendgroup": "Brazil",
           "marker": {
            "color": "#00cc96",
            "pattern": {
             "shape": ""
            }
           },
           "name": "Brazil",
           "offsetgroup": "Brazil",
           "orientation": "v",
           "showlegend": true,
           "textposition": "auto",
           "type": "bar",
           "x": [
            "Brazil"
           ],
           "xaxis": "x",
           "y": [
            2465227803011.57
           ],
           "yaxis": "y"
          },
          {
           "alignmentgroup": "True",
           "hovertemplate": "Country=%{x}<br>date=2012<br>GDP (Trillions USD)=%{y}<extra></extra>",
           "legendgroup": "Canada",
           "marker": {
            "color": "#ab63fa",
            "pattern": {
             "shape": ""
            }
           },
           "name": "Canada",
           "offsetgroup": "Canada",
           "orientation": "v",
           "showlegend": true,
           "textposition": "auto",
           "type": "bar",
           "x": [
            "Canada"
           ],
           "xaxis": "x",
           "y": [
            1828366481521.6
           ],
           "yaxis": "y"
          },
          {
           "alignmentgroup": "True",
           "hovertemplate": "Country=%{x}<br>date=2012<br>GDP (Trillions USD)=%{y}<extra></extra>",
           "legendgroup": "China",
           "marker": {
            "color": "#FFA15A",
            "pattern": {
             "shape": ""
            }
           },
           "name": "China",
           "offsetgroup": "China",
           "orientation": "v",
           "showlegend": true,
           "textposition": "auto",
           "type": "bar",
           "x": [
            "China"
           ],
           "xaxis": "x",
           "y": [
            8532185381680.59
           ],
           "yaxis": "y"
          },
          {
           "alignmentgroup": "True",
           "hovertemplate": "Country=%{x}<br>date=2012<br>GDP (Trillions USD)=%{y}<extra></extra>",
           "legendgroup": "France",
           "marker": {
            "color": "#19d3f3",
            "pattern": {
             "shape": ""
            }
           },
           "name": "France",
           "offsetgroup": "France",
           "orientation": "v",
           "showlegend": true,
           "textposition": "auto",
           "type": "bar",
           "x": [
            "France"
           ],
           "xaxis": "x",
           "y": [
            2683007095787.23
           ],
           "yaxis": "y"
          },
          {
           "alignmentgroup": "True",
           "hovertemplate": "Country=%{x}<br>date=2012<br>GDP (Trillions USD)=%{y}<extra></extra>",
           "legendgroup": "Germany",
           "marker": {
            "color": "#FF6692",
            "pattern": {
             "shape": ""
            }
           },
           "name": "Germany",
           "offsetgroup": "Germany",
           "orientation": "v",
           "showlegend": true,
           "textposition": "auto",
           "type": "bar",
           "x": [
            "Germany"
           ],
           "xaxis": "x",
           "y": [
            3597896500945.31
           ],
           "yaxis": "y"
          },
          {
           "alignmentgroup": "True",
           "hovertemplate": "Country=%{x}<br>date=2012<br>GDP (Trillions USD)=%{y}<extra></extra>",
           "legendgroup": "India",
           "marker": {
            "color": "#B6E880",
            "pattern": {
             "shape": ""
            }
           },
           "name": "India",
           "offsetgroup": "India",
           "orientation": "v",
           "showlegend": true,
           "textposition": "auto",
           "type": "bar",
           "x": [
            "India"
           ],
           "xaxis": "x",
           "y": [
            1827637590410.41
           ],
           "yaxis": "y"
          },
          {
           "alignmentgroup": "True",
           "hovertemplate": "Country=%{x}<br>date=2012<br>GDP (Trillions USD)=%{y}<extra></extra>",
           "legendgroup": "Indonesia",
           "marker": {
            "color": "#FF97FF",
            "pattern": {
             "shape": ""
            }
           },
           "name": "Indonesia",
           "offsetgroup": "Indonesia",
           "orientation": "v",
           "showlegend": true,
           "textposition": "auto",
           "type": "bar",
           "x": [
            "Indonesia"
           ],
           "xaxis": "x",
           "y": [
            917869913364.917
           ],
           "yaxis": "y"
          },
          {
           "alignmentgroup": "True",
           "hovertemplate": "Country=%{x}<br>date=2012<br>GDP (Trillions USD)=%{y}<extra></extra>",
           "legendgroup": "Italy",
           "marker": {
            "color": "#FECB52",
            "pattern": {
             "shape": ""
            }
           },
           "name": "Italy",
           "offsetgroup": "Italy",
           "orientation": "v",
           "showlegend": true,
           "textposition": "auto",
           "type": "bar",
           "x": [
            "Italy"
           ],
           "xaxis": "x",
           "y": [
            2097929495121.68
           ],
           "yaxis": "y"
          },
          {
           "alignmentgroup": "True",
           "hovertemplate": "Country=%{x}<br>date=2012<br>GDP (Trillions USD)=%{y}<extra></extra>",
           "legendgroup": "Japan",
           "marker": {
            "color": "#636efa",
            "pattern": {
             "shape": ""
            }
           },
           "name": "Japan",
           "offsetgroup": "Japan",
           "orientation": "v",
           "showlegend": true,
           "textposition": "auto",
           "type": "bar",
           "x": [
            "Japan"
           ],
           "xaxis": "x",
           "y": [
            6272362996105.03
           ],
           "yaxis": "y"
          },
          {
           "alignmentgroup": "True",
           "hovertemplate": "Country=%{x}<br>date=2012<br>GDP (Trillions USD)=%{y}<extra></extra>",
           "legendgroup": "Korea, Rep.",
           "marker": {
            "color": "#EF553B",
            "pattern": {
             "shape": ""
            }
           },
           "name": "Korea, Rep.",
           "offsetgroup": "Korea, Rep.",
           "orientation": "v",
           "showlegend": true,
           "textposition": "auto",
           "type": "bar",
           "x": [
            "Korea, Rep."
           ],
           "xaxis": "x",
           "y": [
            1278046536287.01
           ],
           "yaxis": "y"
          },
          {
           "alignmentgroup": "True",
           "hovertemplate": "Country=%{x}<br>date=2012<br>GDP (Trillions USD)=%{y}<extra></extra>",
           "legendgroup": "Mexico",
           "marker": {
            "color": "#00cc96",
            "pattern": {
             "shape": ""
            }
           },
           "name": "Mexico",
           "offsetgroup": "Mexico",
           "orientation": "v",
           "showlegend": true,
           "textposition": "auto",
           "type": "bar",
           "x": [
            "Mexico"
           ],
           "xaxis": "x",
           "y": [
            1255110424817.79
           ],
           "yaxis": "y"
          },
          {
           "alignmentgroup": "True",
           "hovertemplate": "Country=%{x}<br>date=2012<br>GDP (Trillions USD)=%{y}<extra></extra>",
           "legendgroup": "Netherlands",
           "marker": {
            "color": "#ab63fa",
            "pattern": {
             "shape": ""
            }
           },
           "name": "Netherlands",
           "offsetgroup": "Netherlands",
           "orientation": "v",
           "showlegend": true,
           "textposition": "auto",
           "type": "bar",
           "x": [
            "Netherlands"
           ],
           "xaxis": "x",
           "y": [
            845689017065.625
           ],
           "yaxis": "y"
          },
          {
           "alignmentgroup": "True",
           "hovertemplate": "Country=%{x}<br>date=2012<br>GDP (Trillions USD)=%{y}<extra></extra>",
           "legendgroup": "Poland",
           "marker": {
            "color": "#FFA15A",
            "pattern": {
             "shape": ""
            }
           },
           "name": "Poland",
           "offsetgroup": "Poland",
           "orientation": "v",
           "showlegend": true,
           "textposition": "auto",
           "type": "bar",
           "x": [
            "Poland"
           ],
           "xaxis": "x",
           "y": [
            498148649702.66
           ],
           "yaxis": "y"
          },
          {
           "alignmentgroup": "True",
           "hovertemplate": "Country=%{x}<br>date=2012<br>GDP (Trillions USD)=%{y}<extra></extra>",
           "legendgroup": "Russian Federation",
           "marker": {
            "color": "#19d3f3",
            "pattern": {
             "shape": ""
            }
           },
           "name": "Russian Federation",
           "offsetgroup": "Russian Federation",
           "orientation": "v",
           "showlegend": true,
           "textposition": "auto",
           "type": "bar",
           "x": [
            "Russian Federation"
           ],
           "xaxis": "x",
           "y": [
            2208293553878.42
           ],
           "yaxis": "y"
          },
          {
           "alignmentgroup": "True",
           "hovertemplate": "Country=%{x}<br>date=2012<br>GDP (Trillions USD)=%{y}<extra></extra>",
           "legendgroup": "Saudi Arabia",
           "marker": {
            "color": "#FF6692",
            "pattern": {
             "shape": ""
            }
           },
           "name": "Saudi Arabia",
           "offsetgroup": "Saudi Arabia",
           "orientation": "v",
           "showlegend": true,
           "textposition": "auto",
           "type": "bar",
           "x": [
            "Saudi Arabia"
           ],
           "xaxis": "x",
           "y": [
            741849866666.667
           ],
           "yaxis": "y"
          },
          {
           "alignmentgroup": "True",
           "hovertemplate": "Country=%{x}<br>date=2012<br>GDP (Trillions USD)=%{y}<extra></extra>",
           "legendgroup": "Spain",
           "marker": {
            "color": "#B6E880",
            "pattern": {
             "shape": ""
            }
           },
           "name": "Spain",
           "offsetgroup": "Spain",
           "orientation": "v",
           "showlegend": true,
           "textposition": "auto",
           "type": "bar",
           "x": [
            "Spain"
           ],
           "xaxis": "x",
           "y": [
            1330994811670.31
           ],
           "yaxis": "y"
          },
          {
           "alignmentgroup": "True",
           "hovertemplate": "Country=%{x}<br>date=2012<br>GDP (Trillions USD)=%{y}<extra></extra>",
           "legendgroup": "Sweden",
           "marker": {
            "color": "#FF97FF",
            "pattern": {
             "shape": ""
            }
           },
           "name": "Sweden",
           "offsetgroup": "Sweden",
           "orientation": "v",
           "showlegend": true,
           "textposition": "auto",
           "type": "bar",
           "x": [
            "Sweden"
           ],
           "xaxis": "x",
           "y": [
            549742183874.355
           ],
           "yaxis": "y"
          },
          {
           "alignmentgroup": "True",
           "hovertemplate": "Country=%{x}<br>date=2012<br>GDP (Trillions USD)=%{y}<extra></extra>",
           "legendgroup": "Switzerland",
           "marker": {
            "color": "#FECB52",
            "pattern": {
             "shape": ""
            }
           },
           "name": "Switzerland",
           "offsetgroup": "Switzerland",
           "orientation": "v",
           "showlegend": true,
           "textposition": "auto",
           "type": "bar",
           "x": [
            "Switzerland"
           ],
           "xaxis": "x",
           "y": [
            686420221557.99
           ],
           "yaxis": "y"
          },
          {
           "alignmentgroup": "True",
           "hovertemplate": "Country=%{x}<br>date=2012<br>GDP (Trillions USD)=%{y}<extra></extra>",
           "legendgroup": "Thailand",
           "marker": {
            "color": "#636efa",
            "pattern": {
             "shape": ""
            }
           },
           "name": "Thailand",
           "offsetgroup": "Thailand",
           "orientation": "v",
           "showlegend": true,
           "textposition": "auto",
           "type": "bar",
           "x": [
            "Thailand"
           ],
           "xaxis": "x",
           "y": [
            397558325278.579
           ],
           "yaxis": "y"
          },
          {
           "alignmentgroup": "True",
           "hovertemplate": "Country=%{x}<br>date=2012<br>GDP (Trillions USD)=%{y}<extra></extra>",
           "legendgroup": "Turkiye",
           "marker": {
            "color": "#EF553B",
            "pattern": {
             "shape": ""
            }
           },
           "name": "Turkiye",
           "offsetgroup": "Turkiye",
           "orientation": "v",
           "showlegend": true,
           "textposition": "auto",
           "type": "bar",
           "x": [
            "Turkiye"
           ],
           "xaxis": "x",
           "y": [
            880555885492.269
           ],
           "yaxis": "y"
          },
          {
           "alignmentgroup": "True",
           "hovertemplate": "Country=%{x}<br>date=2012<br>GDP (Trillions USD)=%{y}<extra></extra>",
           "legendgroup": "United Kingdom",
           "marker": {
            "color": "#00cc96",
            "pattern": {
             "shape": ""
            }
           },
           "name": "United Kingdom",
           "offsetgroup": "United Kingdom",
           "orientation": "v",
           "showlegend": true,
           "textposition": "auto",
           "type": "bar",
           "x": [
            "United Kingdom"
           ],
           "xaxis": "x",
           "y": [
            2707089726614.64
           ],
           "yaxis": "y"
          },
          {
           "alignmentgroup": "True",
           "hovertemplate": "Country=%{x}<br>date=2012<br>GDP (Trillions USD)=%{y}<extra></extra>",
           "legendgroup": "United States",
           "marker": {
            "color": "#ab63fa",
            "pattern": {
             "shape": ""
            }
           },
           "name": "United States",
           "offsetgroup": "United States",
           "orientation": "v",
           "showlegend": true,
           "textposition": "auto",
           "type": "bar",
           "x": [
            "United States"
           ],
           "xaxis": "x",
           "y": [
            16253970000000
           ],
           "yaxis": "y"
          }
         ],
         "name": "2012"
        },
        {
         "data": [
          {
           "alignmentgroup": "True",
           "hovertemplate": "Country=%{x}<br>date=2013<br>GDP (Trillions USD)=%{y}<extra></extra>",
           "legendgroup": "Australia",
           "marker": {
            "color": "#636efa",
            "pattern": {
             "shape": ""
            }
           },
           "name": "Australia",
           "offsetgroup": "Australia",
           "orientation": "v",
           "showlegend": true,
           "textposition": "auto",
           "type": "bar",
           "x": [
            "Australia"
           ],
           "xaxis": "x",
           "y": [
            1577123329410.88
           ],
           "yaxis": "y"
          },
          {
           "alignmentgroup": "True",
           "hovertemplate": "Country=%{x}<br>date=2013<br>GDP (Trillions USD)=%{y}<extra></extra>",
           "legendgroup": "Belgium",
           "marker": {
            "color": "#EF553B",
            "pattern": {
             "shape": ""
            }
           },
           "name": "Belgium",
           "offsetgroup": "Belgium",
           "orientation": "v",
           "showlegend": true,
           "textposition": "auto",
           "type": "bar",
           "x": [
            "Belgium"
           ],
           "xaxis": "x",
           "y": [
            524097026598.55
           ],
           "yaxis": "y"
          },
          {
           "alignmentgroup": "True",
           "hovertemplate": "Country=%{x}<br>date=2013<br>GDP (Trillions USD)=%{y}<extra></extra>",
           "legendgroup": "Brazil",
           "marker": {
            "color": "#00cc96",
            "pattern": {
             "shape": ""
            }
           },
           "name": "Brazil",
           "offsetgroup": "Brazil",
           "orientation": "v",
           "showlegend": true,
           "textposition": "auto",
           "type": "bar",
           "x": [
            "Brazil"
           ],
           "xaxis": "x",
           "y": [
            2472819535742.73
           ],
           "yaxis": "y"
          },
          {
           "alignmentgroup": "True",
           "hovertemplate": "Country=%{x}<br>date=2013<br>GDP (Trillions USD)=%{y}<extra></extra>",
           "legendgroup": "Canada",
           "marker": {
            "color": "#ab63fa",
            "pattern": {
             "shape": ""
            }
           },
           "name": "Canada",
           "offsetgroup": "Canada",
           "orientation": "v",
           "showlegend": true,
           "textposition": "auto",
           "type": "bar",
           "x": [
            "Canada"
           ],
           "xaxis": "x",
           "y": [
            1846597421834.98
           ],
           "yaxis": "y"
          },
          {
           "alignmentgroup": "True",
           "hovertemplate": "Country=%{x}<br>date=2013<br>GDP (Trillions USD)=%{y}<extra></extra>",
           "legendgroup": "China",
           "marker": {
            "color": "#FFA15A",
            "pattern": {
             "shape": ""
            }
           },
           "name": "China",
           "offsetgroup": "China",
           "orientation": "v",
           "showlegend": true,
           "textposition": "auto",
           "type": "bar",
           "x": [
            "China"
           ],
           "xaxis": "x",
           "y": [
            9570471111831.68
           ],
           "yaxis": "y"
          },
          {
           "alignmentgroup": "True",
           "hovertemplate": "Country=%{x}<br>date=2013<br>GDP (Trillions USD)=%{y}<extra></extra>",
           "legendgroup": "France",
           "marker": {
            "color": "#19d3f3",
            "pattern": {
             "shape": ""
            }
           },
           "name": "France",
           "offsetgroup": "France",
           "orientation": "v",
           "showlegend": true,
           "textposition": "auto",
           "type": "bar",
           "x": [
            "France"
           ],
           "xaxis": "x",
           "y": [
            2816077607875.26
           ],
           "yaxis": "y"
          },
          {
           "alignmentgroup": "True",
           "hovertemplate": "Country=%{x}<br>date=2013<br>GDP (Trillions USD)=%{y}<extra></extra>",
           "legendgroup": "Germany",
           "marker": {
            "color": "#FF6692",
            "pattern": {
             "shape": ""
            }
           },
           "name": "Germany",
           "offsetgroup": "Germany",
           "orientation": "v",
           "showlegend": true,
           "textposition": "auto",
           "type": "bar",
           "x": [
            "Germany"
           ],
           "xaxis": "x",
           "y": [
            3808086291482.36
           ],
           "yaxis": "y"
          },
          {
           "alignmentgroup": "True",
           "hovertemplate": "Country=%{x}<br>date=2013<br>GDP (Trillions USD)=%{y}<extra></extra>",
           "legendgroup": "India",
           "marker": {
            "color": "#B6E880",
            "pattern": {
             "shape": ""
            }
           },
           "name": "India",
           "offsetgroup": "India",
           "orientation": "v",
           "showlegend": true,
           "textposition": "auto",
           "type": "bar",
           "x": [
            "India"
           ],
           "xaxis": "x",
           "y": [
            1856721507621.58
           ],
           "yaxis": "y"
          },
          {
           "alignmentgroup": "True",
           "hovertemplate": "Country=%{x}<br>date=2013<br>GDP (Trillions USD)=%{y}<extra></extra>",
           "legendgroup": "Indonesia",
           "marker": {
            "color": "#FF97FF",
            "pattern": {
             "shape": ""
            }
           },
           "name": "Indonesia",
           "offsetgroup": "Indonesia",
           "orientation": "v",
           "showlegend": true,
           "textposition": "auto",
           "type": "bar",
           "x": [
            "Indonesia"
           ],
           "xaxis": "x",
           "y": [
            912524136718.018
           ],
           "yaxis": "y"
          },
          {
           "alignmentgroup": "True",
           "hovertemplate": "Country=%{x}<br>date=2013<br>GDP (Trillions USD)=%{y}<extra></extra>",
           "legendgroup": "Italy",
           "marker": {
            "color": "#FECB52",
            "pattern": {
             "shape": ""
            }
           },
           "name": "Italy",
           "offsetgroup": "Italy",
           "orientation": "v",
           "showlegend": true,
           "textposition": "auto",
           "type": "bar",
           "x": [
            "Italy"
           ],
           "xaxis": "x",
           "y": [
            2153225581941.46
           ],
           "yaxis": "y"
          },
          {
           "alignmentgroup": "True",
           "hovertemplate": "Country=%{x}<br>date=2013<br>GDP (Trillions USD)=%{y}<extra></extra>",
           "legendgroup": "Japan",
           "marker": {
            "color": "#636efa",
            "pattern": {
             "shape": ""
            }
           },
           "name": "Japan",
           "offsetgroup": "Japan",
           "orientation": "v",
           "showlegend": true,
           "textposition": "auto",
           "type": "bar",
           "x": [
            "Japan"
           ],
           "xaxis": "x",
           "y": [
            5212328181166.18
           ],
           "yaxis": "y"
          },
          {
           "alignmentgroup": "True",
           "hovertemplate": "Country=%{x}<br>date=2013<br>GDP (Trillions USD)=%{y}<extra></extra>",
           "legendgroup": "Korea, Rep.",
           "marker": {
            "color": "#EF553B",
            "pattern": {
             "shape": ""
            }
           },
           "name": "Korea, Rep.",
           "offsetgroup": "Korea, Rep.",
           "orientation": "v",
           "showlegend": true,
           "textposition": "auto",
           "type": "bar",
           "x": [
            "Korea, Rep."
           ],
           "xaxis": "x",
           "y": [
            1370632955321.2
           ],
           "yaxis": "y"
          },
          {
           "alignmentgroup": "True",
           "hovertemplate": "Country=%{x}<br>date=2013<br>GDP (Trillions USD)=%{y}<extra></extra>",
           "legendgroup": "Mexico",
           "marker": {
            "color": "#00cc96",
            "pattern": {
             "shape": ""
            }
           },
           "name": "Mexico",
           "offsetgroup": "Mexico",
           "orientation": "v",
           "showlegend": true,
           "textposition": "auto",
           "type": "bar",
           "x": [
            "Mexico"
           ],
           "xaxis": "x",
           "y": [
            1327436290282.67
           ],
           "yaxis": "y"
          },
          {
           "alignmentgroup": "True",
           "hovertemplate": "Country=%{x}<br>date=2013<br>GDP (Trillions USD)=%{y}<extra></extra>",
           "legendgroup": "Netherlands",
           "marker": {
            "color": "#ab63fa",
            "pattern": {
             "shape": ""
            }
           },
           "name": "Netherlands",
           "offsetgroup": "Netherlands",
           "orientation": "v",
           "showlegend": true,
           "textposition": "auto",
           "type": "bar",
           "x": [
            "Netherlands"
           ],
           "xaxis": "x",
           "y": [
            883951539006.669
           ],
           "yaxis": "y"
          },
          {
           "alignmentgroup": "True",
           "hovertemplate": "Country=%{x}<br>date=2013<br>GDP (Trillions USD)=%{y}<extra></extra>",
           "legendgroup": "Poland",
           "marker": {
            "color": "#FFA15A",
            "pattern": {
             "shape": ""
            }
           },
           "name": "Poland",
           "offsetgroup": "Poland",
           "orientation": "v",
           "showlegend": true,
           "textposition": "auto",
           "type": "bar",
           "x": [
            "Poland"
           ],
           "xaxis": "x",
           "y": [
            518179836405.36
           ],
           "yaxis": "y"
          },
          {
           "alignmentgroup": "True",
           "hovertemplate": "Country=%{x}<br>date=2013<br>GDP (Trillions USD)=%{y}<extra></extra>",
           "legendgroup": "Russian Federation",
           "marker": {
            "color": "#19d3f3",
            "pattern": {
             "shape": ""
            }
           },
           "name": "Russian Federation",
           "offsetgroup": "Russian Federation",
           "orientation": "v",
           "showlegend": true,
           "textposition": "auto",
           "type": "bar",
           "x": [
            "Russian Federation"
           ],
           "xaxis": "x",
           "y": [
            2292470078346.22
           ],
           "yaxis": "y"
          },
          {
           "alignmentgroup": "True",
           "hovertemplate": "Country=%{x}<br>date=2013<br>GDP (Trillions USD)=%{y}<extra></extra>",
           "legendgroup": "Saudi Arabia",
           "marker": {
            "color": "#FF6692",
            "pattern": {
             "shape": ""
            }
           },
           "name": "Saudi Arabia",
           "offsetgroup": "Saudi Arabia",
           "orientation": "v",
           "showlegend": true,
           "textposition": "auto",
           "type": "bar",
           "x": [
            "Saudi Arabia"
           ],
           "xaxis": "x",
           "y": [
            753864533333.333
           ],
           "yaxis": "y"
          },
          {
           "alignmentgroup": "True",
           "hovertemplate": "Country=%{x}<br>date=2013<br>GDP (Trillions USD)=%{y}<extra></extra>",
           "legendgroup": "Spain",
           "marker": {
            "color": "#B6E880",
            "pattern": {
             "shape": ""
            }
           },
           "name": "Spain",
           "offsetgroup": "Spain",
           "orientation": "v",
           "showlegend": true,
           "textposition": "auto",
           "type": "bar",
           "x": [
            "Spain"
           ],
           "xaxis": "x",
           "y": [
            1362186923157.65
           ],
           "yaxis": "y"
          },
          {
           "alignmentgroup": "True",
           "hovertemplate": "Country=%{x}<br>date=2013<br>GDP (Trillions USD)=%{y}<extra></extra>",
           "legendgroup": "Sweden",
           "marker": {
            "color": "#FF97FF",
            "pattern": {
             "shape": ""
            }
           },
           "name": "Sweden",
           "offsetgroup": "Sweden",
           "orientation": "v",
           "showlegend": true,
           "textposition": "auto",
           "type": "bar",
           "x": [
            "Sweden"
           ],
           "xaxis": "x",
           "y": [
            584128116410.29
           ],
           "yaxis": "y"
          },
          {
           "alignmentgroup": "True",
           "hovertemplate": "Country=%{x}<br>date=2013<br>GDP (Trillions USD)=%{y}<extra></extra>",
           "legendgroup": "Switzerland",
           "marker": {
            "color": "#FECB52",
            "pattern": {
             "shape": ""
            }
           },
           "name": "Switzerland",
           "offsetgroup": "Switzerland",
           "orientation": "v",
           "showlegend": true,
           "textposition": "auto",
           "type": "bar",
           "x": [
            "Switzerland"
           ],
           "xaxis": "x",
           "y": [
            706234937370.968
           ],
           "yaxis": "y"
          },
          {
           "alignmentgroup": "True",
           "hovertemplate": "Country=%{x}<br>date=2013<br>GDP (Trillions USD)=%{y}<extra></extra>",
           "legendgroup": "Thailand",
           "marker": {
            "color": "#636efa",
            "pattern": {
             "shape": ""
            }
           },
           "name": "Thailand",
           "offsetgroup": "Thailand",
           "orientation": "v",
           "showlegend": true,
           "textposition": "auto",
           "type": "bar",
           "x": [
            "Thailand"
           ],
           "xaxis": "x",
           "y": [
            420333654592.547
           ],
           "yaxis": "y"
          },
          {
           "alignmentgroup": "True",
           "hovertemplate": "Country=%{x}<br>date=2013<br>GDP (Trillions USD)=%{y}<extra></extra>",
           "legendgroup": "Turkiye",
           "marker": {
            "color": "#EF553B",
            "pattern": {
             "shape": ""
            }
           },
           "name": "Turkiye",
           "offsetgroup": "Turkiye",
           "orientation": "v",
           "showlegend": true,
           "textposition": "auto",
           "type": "bar",
           "x": [
            "Turkiye"
           ],
           "xaxis": "x",
           "y": [
            957799120008.32
           ],
           "yaxis": "y"
          },
          {
           "alignmentgroup": "True",
           "hovertemplate": "Country=%{x}<br>date=2013<br>GDP (Trillions USD)=%{y}<extra></extra>",
           "legendgroup": "United Kingdom",
           "marker": {
            "color": "#00cc96",
            "pattern": {
             "shape": ""
            }
           },
           "name": "United Kingdom",
           "offsetgroup": "United Kingdom",
           "orientation": "v",
           "showlegend": true,
           "textposition": "auto",
           "type": "bar",
           "x": [
            "United Kingdom"
           ],
           "xaxis": "x",
           "y": [
            2784853502534.29
           ],
           "yaxis": "y"
          },
          {
           "alignmentgroup": "True",
           "hovertemplate": "Country=%{x}<br>date=2013<br>GDP (Trillions USD)=%{y}<extra></extra>",
           "legendgroup": "United States",
           "marker": {
            "color": "#ab63fa",
            "pattern": {
             "shape": ""
            }
           },
           "name": "United States",
           "offsetgroup": "United States",
           "orientation": "v",
           "showlegend": true,
           "textposition": "auto",
           "type": "bar",
           "x": [
            "United States"
           ],
           "xaxis": "x",
           "y": [
            16880683000000
           ],
           "yaxis": "y"
          }
         ],
         "name": "2013"
        },
        {
         "data": [
          {
           "alignmentgroup": "True",
           "hovertemplate": "Country=%{x}<br>date=2014<br>GDP (Trillions USD)=%{y}<extra></extra>",
           "legendgroup": "Australia",
           "marker": {
            "color": "#636efa",
            "pattern": {
             "shape": ""
            }
           },
           "name": "Australia",
           "offsetgroup": "Australia",
           "orientation": "v",
           "showlegend": true,
           "textposition": "auto",
           "type": "bar",
           "x": [
            "Australia"
           ],
           "xaxis": "x",
           "y": [
            1468265356427.76
           ],
           "yaxis": "y"
          },
          {
           "alignmentgroup": "True",
           "hovertemplate": "Country=%{x}<br>date=2014<br>GDP (Trillions USD)=%{y}<extra></extra>",
           "legendgroup": "Belgium",
           "marker": {
            "color": "#EF553B",
            "pattern": {
             "shape": ""
            }
           },
           "name": "Belgium",
           "offsetgroup": "Belgium",
           "orientation": "v",
           "showlegend": true,
           "textposition": "auto",
           "type": "bar",
           "x": [
            "Belgium"
           ],
           "xaxis": "x",
           "y": [
            537987419164.351
           ],
           "yaxis": "y"
          },
          {
           "alignmentgroup": "True",
           "hovertemplate": "Country=%{x}<br>date=2014<br>GDP (Trillions USD)=%{y}<extra></extra>",
           "legendgroup": "Brazil",
           "marker": {
            "color": "#00cc96",
            "pattern": {
             "shape": ""
            }
           },
           "name": "Brazil",
           "offsetgroup": "Brazil",
           "orientation": "v",
           "showlegend": true,
           "textposition": "auto",
           "type": "bar",
           "x": [
            "Brazil"
           ],
           "xaxis": "x",
           "y": [
            2456043727198.85
           ],
           "yaxis": "y"
          },
          {
           "alignmentgroup": "True",
           "hovertemplate": "Country=%{x}<br>date=2014<br>GDP (Trillions USD)=%{y}<extra></extra>",
           "legendgroup": "Canada",
           "marker": {
            "color": "#ab63fa",
            "pattern": {
             "shape": ""
            }
           },
           "name": "Canada",
           "offsetgroup": "Canada",
           "orientation": "v",
           "showlegend": true,
           "textposition": "auto",
           "type": "bar",
           "x": [
            "Canada"
           ],
           "xaxis": "x",
           "y": [
            1805749878439.94
           ],
           "yaxis": "y"
          },
          {
           "alignmentgroup": "True",
           "hovertemplate": "Country=%{x}<br>date=2014<br>GDP (Trillions USD)=%{y}<extra></extra>",
           "legendgroup": "China",
           "marker": {
            "color": "#FFA15A",
            "pattern": {
             "shape": ""
            }
           },
           "name": "China",
           "offsetgroup": "China",
           "orientation": "v",
           "showlegend": true,
           "textposition": "auto",
           "type": "bar",
           "x": [
            "China"
           ],
           "xaxis": "x",
           "y": [
            10475624944355.2
           ],
           "yaxis": "y"
          },
          {
           "alignmentgroup": "True",
           "hovertemplate": "Country=%{x}<br>date=2014<br>GDP (Trillions USD)=%{y}<extra></extra>",
           "legendgroup": "France",
           "marker": {
            "color": "#19d3f3",
            "pattern": {
             "shape": ""
            }
           },
           "name": "France",
           "offsetgroup": "France",
           "orientation": "v",
           "showlegend": true,
           "textposition": "auto",
           "type": "bar",
           "x": [
            "France"
           ],
           "xaxis": "x",
           "y": [
            2861236112552.42
           ],
           "yaxis": "y"
          },
          {
           "alignmentgroup": "True",
           "hovertemplate": "Country=%{x}<br>date=2014<br>GDP (Trillions USD)=%{y}<extra></extra>",
           "legendgroup": "Germany",
           "marker": {
            "color": "#FF6692",
            "pattern": {
             "shape": ""
            }
           },
           "name": "Germany",
           "offsetgroup": "Germany",
           "orientation": "v",
           "showlegend": true,
           "textposition": "auto",
           "type": "bar",
           "x": [
            "Germany"
           ],
           "xaxis": "x",
           "y": [
            3965800686309.79
           ],
           "yaxis": "y"
          },
          {
           "alignmentgroup": "True",
           "hovertemplate": "Country=%{x}<br>date=2014<br>GDP (Trillions USD)=%{y}<extra></extra>",
           "legendgroup": "India",
           "marker": {
            "color": "#B6E880",
            "pattern": {
             "shape": ""
            }
           },
           "name": "India",
           "offsetgroup": "India",
           "orientation": "v",
           "showlegend": true,
           "textposition": "auto",
           "type": "bar",
           "x": [
            "India"
           ],
           "xaxis": "x",
           "y": [
            2039126479154.52
           ],
           "yaxis": "y"
          },
          {
           "alignmentgroup": "True",
           "hovertemplate": "Country=%{x}<br>date=2014<br>GDP (Trillions USD)=%{y}<extra></extra>",
           "legendgroup": "Indonesia",
           "marker": {
            "color": "#FF97FF",
            "pattern": {
             "shape": ""
            }
           },
           "name": "Indonesia",
           "offsetgroup": "Indonesia",
           "orientation": "v",
           "showlegend": true,
           "textposition": "auto",
           "type": "bar",
           "x": [
            "Indonesia"
           ],
           "xaxis": "x",
           "y": [
            890814755511.014
           ],
           "yaxis": "y"
          },
          {
           "alignmentgroup": "True",
           "hovertemplate": "Country=%{x}<br>date=2014<br>GDP (Trillions USD)=%{y}<extra></extra>",
           "legendgroup": "Italy",
           "marker": {
            "color": "#FECB52",
            "pattern": {
             "shape": ""
            }
           },
           "name": "Italy",
           "offsetgroup": "Italy",
           "orientation": "v",
           "showlegend": true,
           "textposition": "auto",
           "type": "bar",
           "x": [
            "Italy"
           ],
           "xaxis": "x",
           "y": [
            2173255507985.84
           ],
           "yaxis": "y"
          },
          {
           "alignmentgroup": "True",
           "hovertemplate": "Country=%{x}<br>date=2014<br>GDP (Trillions USD)=%{y}<extra></extra>",
           "legendgroup": "Japan",
           "marker": {
            "color": "#636efa",
            "pattern": {
             "shape": ""
            }
           },
           "name": "Japan",
           "offsetgroup": "Japan",
           "orientation": "v",
           "showlegend": true,
           "textposition": "auto",
           "type": "bar",
           "x": [
            "Japan"
           ],
           "xaxis": "x",
           "y": [
            4896994405353.29
           ],
           "yaxis": "y"
          },
          {
           "alignmentgroup": "True",
           "hovertemplate": "Country=%{x}<br>date=2014<br>GDP (Trillions USD)=%{y}<extra></extra>",
           "legendgroup": "Korea, Rep.",
           "marker": {
            "color": "#EF553B",
            "pattern": {
             "shape": ""
            }
           },
           "name": "Korea, Rep.",
           "offsetgroup": "Korea, Rep.",
           "orientation": "v",
           "showlegend": true,
           "textposition": "auto",
           "type": "bar",
           "x": [
            "Korea, Rep."
           ],
           "xaxis": "x",
           "y": [
            1484488526271.8
           ],
           "yaxis": "y"
          },
          {
           "alignmentgroup": "True",
           "hovertemplate": "Country=%{x}<br>date=2014<br>GDP (Trillions USD)=%{y}<extra></extra>",
           "legendgroup": "Mexico",
           "marker": {
            "color": "#00cc96",
            "pattern": {
             "shape": ""
            }
           },
           "name": "Mexico",
           "offsetgroup": "Mexico",
           "orientation": "v",
           "showlegend": true,
           "textposition": "auto",
           "type": "bar",
           "x": [
            "Mexico"
           ],
           "xaxis": "x",
           "y": [
            1364507717614.13
           ],
           "yaxis": "y"
          },
          {
           "alignmentgroup": "True",
           "hovertemplate": "Country=%{x}<br>date=2014<br>GDP (Trillions USD)=%{y}<extra></extra>",
           "legendgroup": "Netherlands",
           "marker": {
            "color": "#ab63fa",
            "pattern": {
             "shape": ""
            }
           },
           "name": "Netherlands",
           "offsetgroup": "Netherlands",
           "orientation": "v",
           "showlegend": true,
           "textposition": "auto",
           "type": "bar",
           "x": [
            "Netherlands"
           ],
           "xaxis": "x",
           "y": [
            901556501756.467
           ],
           "yaxis": "y"
          },
          {
           "alignmentgroup": "True",
           "hovertemplate": "Country=%{x}<br>date=2014<br>GDP (Trillions USD)=%{y}<extra></extra>",
           "legendgroup": "Poland",
           "marker": {
            "color": "#FFA15A",
            "pattern": {
             "shape": ""
            }
           },
           "name": "Poland",
           "offsetgroup": "Poland",
           "orientation": "v",
           "showlegend": true,
           "textposition": "auto",
           "type": "bar",
           "x": [
            "Poland"
           ],
           "xaxis": "x",
           "y": [
            542134167178.627
           ],
           "yaxis": "y"
          },
          {
           "alignmentgroup": "True",
           "hovertemplate": "Country=%{x}<br>date=2014<br>GDP (Trillions USD)=%{y}<extra></extra>",
           "legendgroup": "Russian Federation",
           "marker": {
            "color": "#19d3f3",
            "pattern": {
             "shape": ""
            }
           },
           "name": "Russian Federation",
           "offsetgroup": "Russian Federation",
           "orientation": "v",
           "showlegend": true,
           "textposition": "auto",
           "type": "bar",
           "x": [
            "Russian Federation"
           ],
           "xaxis": "x",
           "y": [
            2059241589895.01
           ],
           "yaxis": "y"
          },
          {
           "alignmentgroup": "True",
           "hovertemplate": "Country=%{x}<br>date=2014<br>GDP (Trillions USD)=%{y}<extra></extra>",
           "legendgroup": "Saudi Arabia",
           "marker": {
            "color": "#FF6692",
            "pattern": {
             "shape": ""
            }
           },
           "name": "Saudi Arabia",
           "offsetgroup": "Saudi Arabia",
           "orientation": "v",
           "showlegend": true,
           "textposition": "auto",
           "type": "bar",
           "x": [
            "Saudi Arabia"
           ],
           "xaxis": "x",
           "y": [
            766605866666.667
           ],
           "yaxis": "y"
          },
          {
           "alignmentgroup": "True",
           "hovertemplate": "Country=%{x}<br>date=2014<br>GDP (Trillions USD)=%{y}<extra></extra>",
           "legendgroup": "Spain",
           "marker": {
            "color": "#B6E880",
            "pattern": {
             "shape": ""
            }
           },
           "name": "Spain",
           "offsetgroup": "Spain",
           "orientation": "v",
           "showlegend": true,
           "textposition": "auto",
           "type": "bar",
           "x": [
            "Spain"
           ],
           "xaxis": "x",
           "y": [
            1380244561361.96
           ],
           "yaxis": "y"
          },
          {
           "alignmentgroup": "True",
           "hovertemplate": "Country=%{x}<br>date=2014<br>GDP (Trillions USD)=%{y}<extra></extra>",
           "legendgroup": "Sweden",
           "marker": {
            "color": "#FF97FF",
            "pattern": {
             "shape": ""
            }
           },
           "name": "Sweden",
           "offsetgroup": "Sweden",
           "orientation": "v",
           "showlegend": true,
           "textposition": "auto",
           "type": "bar",
           "x": [
            "Sweden"
           ],
           "xaxis": "x",
           "y": [
            577730245154.162
           ],
           "yaxis": "y"
          },
          {
           "alignmentgroup": "True",
           "hovertemplate": "Country=%{x}<br>date=2014<br>GDP (Trillions USD)=%{y}<extra></extra>",
           "legendgroup": "Switzerland",
           "marker": {
            "color": "#FECB52",
            "pattern": {
             "shape": ""
            }
           },
           "name": "Switzerland",
           "offsetgroup": "Switzerland",
           "orientation": "v",
           "showlegend": true,
           "textposition": "auto",
           "type": "bar",
           "x": [
            "Switzerland"
           ],
           "xaxis": "x",
           "y": [
            726537808338
           ],
           "yaxis": "y"
          },
          {
           "alignmentgroup": "True",
           "hovertemplate": "Country=%{x}<br>date=2014<br>GDP (Trillions USD)=%{y}<extra></extra>",
           "legendgroup": "Thailand",
           "marker": {
            "color": "#636efa",
            "pattern": {
             "shape": ""
            }
           },
           "name": "Thailand",
           "offsetgroup": "Thailand",
           "orientation": "v",
           "showlegend": true,
           "textposition": "auto",
           "type": "bar",
           "x": [
            "Thailand"
           ],
           "xaxis": "x",
           "y": [
            407339040197.651
           ],
           "yaxis": "y"
          },
          {
           "alignmentgroup": "True",
           "hovertemplate": "Country=%{x}<br>date=2014<br>GDP (Trillions USD)=%{y}<extra></extra>",
           "legendgroup": "Turkiye",
           "marker": {
            "color": "#EF553B",
            "pattern": {
             "shape": ""
            }
           },
           "name": "Turkiye",
           "offsetgroup": "Turkiye",
           "orientation": "v",
           "showlegend": true,
           "textposition": "auto",
           "type": "bar",
           "x": [
            "Turkiye"
           ],
           "xaxis": "x",
           "y": [
            938934609296.966
           ],
           "yaxis": "y"
          },
          {
           "alignmentgroup": "True",
           "hovertemplate": "Country=%{x}<br>date=2014<br>GDP (Trillions USD)=%{y}<extra></extra>",
           "legendgroup": "United Kingdom",
           "marker": {
            "color": "#00cc96",
            "pattern": {
             "shape": ""
            }
           },
           "name": "United Kingdom",
           "offsetgroup": "United Kingdom",
           "orientation": "v",
           "showlegend": true,
           "textposition": "auto",
           "type": "bar",
           "x": [
            "United Kingdom"
           ],
           "xaxis": "x",
           "y": [
            3064708247921.43
           ],
           "yaxis": "y"
          },
          {
           "alignmentgroup": "True",
           "hovertemplate": "Country=%{x}<br>date=2014<br>GDP (Trillions USD)=%{y}<extra></extra>",
           "legendgroup": "United States",
           "marker": {
            "color": "#ab63fa",
            "pattern": {
             "shape": ""
            }
           },
           "name": "United States",
           "offsetgroup": "United States",
           "orientation": "v",
           "showlegend": true,
           "textposition": "auto",
           "type": "bar",
           "x": [
            "United States"
           ],
           "xaxis": "x",
           "y": [
            17608138000000
           ],
           "yaxis": "y"
          }
         ],
         "name": "2014"
        },
        {
         "data": [
          {
           "alignmentgroup": "True",
           "hovertemplate": "Country=%{x}<br>date=2015<br>GDP (Trillions USD)=%{y}<extra></extra>",
           "legendgroup": "Australia",
           "marker": {
            "color": "#636efa",
            "pattern": {
             "shape": ""
            }
           },
           "name": "Australia",
           "offsetgroup": "Australia",
           "orientation": "v",
           "showlegend": true,
           "textposition": "auto",
           "type": "bar",
           "x": [
            "Australia"
           ],
           "xaxis": "x",
           "y": [
            1351296372254.31
           ],
           "yaxis": "y"
          },
          {
           "alignmentgroup": "True",
           "hovertemplate": "Country=%{x}<br>date=2015<br>GDP (Trillions USD)=%{y}<extra></extra>",
           "legendgroup": "Belgium",
           "marker": {
            "color": "#EF553B",
            "pattern": {
             "shape": ""
            }
           },
           "name": "Belgium",
           "offsetgroup": "Belgium",
           "orientation": "v",
           "showlegend": true,
           "textposition": "auto",
           "type": "bar",
           "x": [
            "Belgium"
           ],
           "xaxis": "x",
           "y": [
            461044767544.531
           ],
           "yaxis": "y"
          },
          {
           "alignmentgroup": "True",
           "hovertemplate": "Country=%{x}<br>date=2015<br>GDP (Trillions USD)=%{y}<extra></extra>",
           "legendgroup": "Brazil",
           "marker": {
            "color": "#00cc96",
            "pattern": {
             "shape": ""
            }
           },
           "name": "Brazil",
           "offsetgroup": "Brazil",
           "orientation": "v",
           "showlegend": true,
           "textposition": "auto",
           "type": "bar",
           "x": [
            "Brazil"
           ],
           "xaxis": "x",
           "y": [
            1802212206904.68
           ],
           "yaxis": "y"
          },
          {
           "alignmentgroup": "True",
           "hovertemplate": "Country=%{x}<br>date=2015<br>GDP (Trillions USD)=%{y}<extra></extra>",
           "legendgroup": "Canada",
           "marker": {
            "color": "#ab63fa",
            "pattern": {
             "shape": ""
            }
           },
           "name": "Canada",
           "offsetgroup": "Canada",
           "orientation": "v",
           "showlegend": true,
           "textposition": "auto",
           "type": "bar",
           "x": [
            "Canada"
           ],
           "xaxis": "x",
           "y": [
            1556508816217.14
           ],
           "yaxis": "y"
          },
          {
           "alignmentgroup": "True",
           "hovertemplate": "Country=%{x}<br>date=2015<br>GDP (Trillions USD)=%{y}<extra></extra>",
           "legendgroup": "China",
           "marker": {
            "color": "#FFA15A",
            "pattern": {
             "shape": ""
            }
           },
           "name": "China",
           "offsetgroup": "China",
           "orientation": "v",
           "showlegend": true,
           "textposition": "auto",
           "type": "bar",
           "x": [
            "China"
           ],
           "xaxis": "x",
           "y": [
            11061572618578.7
           ],
           "yaxis": "y"
          },
          {
           "alignmentgroup": "True",
           "hovertemplate": "Country=%{x}<br>date=2015<br>GDP (Trillions USD)=%{y}<extra></extra>",
           "legendgroup": "France",
           "marker": {
            "color": "#19d3f3",
            "pattern": {
             "shape": ""
            }
           },
           "name": "France",
           "offsetgroup": "France",
           "orientation": "v",
           "showlegend": true,
           "textposition": "auto",
           "type": "bar",
           "x": [
            "France"
           ],
           "xaxis": "x",
           "y": [
            2442483452642.5
           ],
           "yaxis": "y"
          },
          {
           "alignmentgroup": "True",
           "hovertemplate": "Country=%{x}<br>date=2015<br>GDP (Trillions USD)=%{y}<extra></extra>",
           "legendgroup": "Germany",
           "marker": {
            "color": "#FF6692",
            "pattern": {
             "shape": ""
            }
           },
           "name": "Germany",
           "offsetgroup": "Germany",
           "orientation": "v",
           "showlegend": true,
           "textposition": "auto",
           "type": "bar",
           "x": [
            "Germany"
           ],
           "xaxis": "x",
           "y": [
            3423568450957.03
           ],
           "yaxis": "y"
          },
          {
           "alignmentgroup": "True",
           "hovertemplate": "Country=%{x}<br>date=2015<br>GDP (Trillions USD)=%{y}<extra></extra>",
           "legendgroup": "India",
           "marker": {
            "color": "#B6E880",
            "pattern": {
             "shape": ""
            }
           },
           "name": "India",
           "offsetgroup": "India",
           "orientation": "v",
           "showlegend": true,
           "textposition": "auto",
           "type": "bar",
           "x": [
            "India"
           ],
           "xaxis": "x",
           "y": [
            2103588360044.94
           ],
           "yaxis": "y"
          },
          {
           "alignmentgroup": "True",
           "hovertemplate": "Country=%{x}<br>date=2015<br>GDP (Trillions USD)=%{y}<extra></extra>",
           "legendgroup": "Indonesia",
           "marker": {
            "color": "#FF97FF",
            "pattern": {
             "shape": ""
            }
           },
           "name": "Indonesia",
           "offsetgroup": "Indonesia",
           "orientation": "v",
           "showlegend": true,
           "textposition": "auto",
           "type": "bar",
           "x": [
            "Indonesia"
           ],
           "xaxis": "x",
           "y": [
            860854232717.718
           ],
           "yaxis": "y"
          },
          {
           "alignmentgroup": "True",
           "hovertemplate": "Country=%{x}<br>date=2015<br>GDP (Trillions USD)=%{y}<extra></extra>",
           "legendgroup": "Italy",
           "marker": {
            "color": "#FECB52",
            "pattern": {
             "shape": ""
            }
           },
           "name": "Italy",
           "offsetgroup": "Italy",
           "orientation": "v",
           "showlegend": true,
           "textposition": "auto",
           "type": "bar",
           "x": [
            "Italy"
           ],
           "xaxis": "x",
           "y": [
            1845428048839.1
           ],
           "yaxis": "y"
          },
          {
           "alignmentgroup": "True",
           "hovertemplate": "Country=%{x}<br>date=2015<br>GDP (Trillions USD)=%{y}<extra></extra>",
           "legendgroup": "Japan",
           "marker": {
            "color": "#636efa",
            "pattern": {
             "shape": ""
            }
           },
           "name": "Japan",
           "offsetgroup": "Japan",
           "orientation": "v",
           "showlegend": true,
           "textposition": "auto",
           "type": "bar",
           "x": [
            "Japan"
           ],
           "xaxis": "x",
           "y": [
            4444930651964.18
           ],
           "yaxis": "y"
          },
          {
           "alignmentgroup": "True",
           "hovertemplate": "Country=%{x}<br>date=2015<br>GDP (Trillions USD)=%{y}<extra></extra>",
           "legendgroup": "Korea, Rep.",
           "marker": {
            "color": "#EF553B",
            "pattern": {
             "shape": ""
            }
           },
           "name": "Korea, Rep.",
           "offsetgroup": "Korea, Rep.",
           "orientation": "v",
           "showlegend": true,
           "textposition": "auto",
           "type": "bar",
           "x": [
            "Korea, Rep."
           ],
           "xaxis": "x",
           "y": [
            1466038936206.43
           ],
           "yaxis": "y"
          },
          {
           "alignmentgroup": "True",
           "hovertemplate": "Country=%{x}<br>date=2015<br>GDP (Trillions USD)=%{y}<extra></extra>",
           "legendgroup": "Mexico",
           "marker": {
            "color": "#00cc96",
            "pattern": {
             "shape": ""
            }
           },
           "name": "Mexico",
           "offsetgroup": "Mexico",
           "orientation": "v",
           "showlegend": true,
           "textposition": "auto",
           "type": "bar",
           "x": [
            "Mexico"
           ],
           "xaxis": "x",
           "y": [
            1213294467716.88
           ],
           "yaxis": "y"
          },
          {
           "alignmentgroup": "True",
           "hovertemplate": "Country=%{x}<br>date=2015<br>GDP (Trillions USD)=%{y}<extra></extra>",
           "legendgroup": "Netherlands",
           "marker": {
            "color": "#ab63fa",
            "pattern": {
             "shape": ""
            }
           },
           "name": "Netherlands",
           "offsetgroup": "Netherlands",
           "orientation": "v",
           "showlegend": true,
           "textposition": "auto",
           "type": "bar",
           "x": [
            "Netherlands"
           ],
           "xaxis": "x",
           "y": [
            775743675302.734
           ],
           "yaxis": "y"
          },
          {
           "alignmentgroup": "True",
           "hovertemplate": "Country=%{x}<br>date=2015<br>GDP (Trillions USD)=%{y}<extra></extra>",
           "legendgroup": "Poland",
           "marker": {
            "color": "#FFA15A",
            "pattern": {
             "shape": ""
            }
           },
           "name": "Poland",
           "offsetgroup": "Poland",
           "orientation": "v",
           "showlegend": true,
           "textposition": "auto",
           "type": "bar",
           "x": [
            "Poland"
           ],
           "xaxis": "x",
           "y": [
            480054118583.367
           ],
           "yaxis": "y"
          },
          {
           "alignmentgroup": "True",
           "hovertemplate": "Country=%{x}<br>date=2015<br>GDP (Trillions USD)=%{y}<extra></extra>",
           "legendgroup": "Russian Federation",
           "marker": {
            "color": "#19d3f3",
            "pattern": {
             "shape": ""
            }
           },
           "name": "Russian Federation",
           "offsetgroup": "Russian Federation",
           "orientation": "v",
           "showlegend": true,
           "textposition": "auto",
           "type": "bar",
           "x": [
            "Russian Federation"
           ],
           "xaxis": "x",
           "y": [
            1363482182197.71
           ],
           "yaxis": "y"
          },
          {
           "alignmentgroup": "True",
           "hovertemplate": "Country=%{x}<br>date=2015<br>GDP (Trillions USD)=%{y}<extra></extra>",
           "legendgroup": "Saudi Arabia",
           "marker": {
            "color": "#FF6692",
            "pattern": {
             "shape": ""
            }
           },
           "name": "Saudi Arabia",
           "offsetgroup": "Saudi Arabia",
           "orientation": "v",
           "showlegend": true,
           "textposition": "auto",
           "type": "bar",
           "x": [
            "Saudi Arabia"
           ],
           "xaxis": "x",
           "y": [
            669484266666.667
           ],
           "yaxis": "y"
          },
          {
           "alignmentgroup": "True",
           "hovertemplate": "Country=%{x}<br>date=2015<br>GDP (Trillions USD)=%{y}<extra></extra>",
           "legendgroup": "Spain",
           "marker": {
            "color": "#B6E880",
            "pattern": {
             "shape": ""
            }
           },
           "name": "Spain",
           "offsetgroup": "Spain",
           "orientation": "v",
           "showlegend": true,
           "textposition": "auto",
           "type": "bar",
           "x": [
            "Spain"
           ],
           "xaxis": "x",
           "y": [
            1206164777553.12
           ],
           "yaxis": "y"
          },
          {
           "alignmentgroup": "True",
           "hovertemplate": "Country=%{x}<br>date=2015<br>GDP (Trillions USD)=%{y}<extra></extra>",
           "legendgroup": "Sweden",
           "marker": {
            "color": "#FF97FF",
            "pattern": {
             "shape": ""
            }
           },
           "name": "Sweden",
           "offsetgroup": "Sweden",
           "orientation": "v",
           "showlegend": true,
           "textposition": "auto",
           "type": "bar",
           "x": [
            "Sweden"
           ],
           "xaxis": "x",
           "y": [
            501698263620.663
           ],
           "yaxis": "y"
          },
          {
           "alignmentgroup": "True",
           "hovertemplate": "Country=%{x}<br>date=2015<br>GDP (Trillions USD)=%{y}<extra></extra>",
           "legendgroup": "Switzerland",
           "marker": {
            "color": "#FECB52",
            "pattern": {
             "shape": ""
            }
           },
           "name": "Switzerland",
           "offsetgroup": "Switzerland",
           "orientation": "v",
           "showlegend": true,
           "textposition": "auto",
           "type": "bar",
           "x": [
            "Switzerland"
           ],
           "xaxis": "x",
           "y": [
            694118186379.628
           ],
           "yaxis": "y"
          },
          {
           "alignmentgroup": "True",
           "hovertemplate": "Country=%{x}<br>date=2015<br>GDP (Trillions USD)=%{y}<extra></extra>",
           "legendgroup": "Thailand",
           "marker": {
            "color": "#636efa",
            "pattern": {
             "shape": ""
            }
           },
           "name": "Thailand",
           "offsetgroup": "Thailand",
           "orientation": "v",
           "showlegend": true,
           "textposition": "auto",
           "type": "bar",
           "x": [
            "Thailand"
           ],
           "xaxis": "x",
           "y": [
            401296238228.084
           ],
           "yaxis": "y"
          },
          {
           "alignmentgroup": "True",
           "hovertemplate": "Country=%{x}<br>date=2015<br>GDP (Trillions USD)=%{y}<extra></extra>",
           "legendgroup": "Turkiye",
           "marker": {
            "color": "#EF553B",
            "pattern": {
             "shape": ""
            }
           },
           "name": "Turkiye",
           "offsetgroup": "Turkiye",
           "orientation": "v",
           "showlegend": true,
           "textposition": "auto",
           "type": "bar",
           "x": [
            "Turkiye"
           ],
           "xaxis": "x",
           "y": [
            864313810469.009
           ],
           "yaxis": "y"
          },
          {
           "alignmentgroup": "True",
           "hovertemplate": "Country=%{x}<br>date=2015<br>GDP (Trillions USD)=%{y}<extra></extra>",
           "legendgroup": "United Kingdom",
           "marker": {
            "color": "#00cc96",
            "pattern": {
             "shape": ""
            }
           },
           "name": "United Kingdom",
           "offsetgroup": "United Kingdom",
           "orientation": "v",
           "showlegend": true,
           "textposition": "auto",
           "type": "bar",
           "x": [
            "United Kingdom"
           ],
           "xaxis": "x",
           "y": [
            2927911140916.73
           ],
           "yaxis": "y"
          },
          {
           "alignmentgroup": "True",
           "hovertemplate": "Country=%{x}<br>date=2015<br>GDP (Trillions USD)=%{y}<extra></extra>",
           "legendgroup": "United States",
           "marker": {
            "color": "#ab63fa",
            "pattern": {
             "shape": ""
            }
           },
           "name": "United States",
           "offsetgroup": "United States",
           "orientation": "v",
           "showlegend": true,
           "textposition": "auto",
           "type": "bar",
           "x": [
            "United States"
           ],
           "xaxis": "x",
           "y": [
            18295019000000
           ],
           "yaxis": "y"
          }
         ],
         "name": "2015"
        },
        {
         "data": [
          {
           "alignmentgroup": "True",
           "hovertemplate": "Country=%{x}<br>date=2016<br>GDP (Trillions USD)=%{y}<extra></extra>",
           "legendgroup": "Australia",
           "marker": {
            "color": "#636efa",
            "pattern": {
             "shape": ""
            }
           },
           "name": "Australia",
           "offsetgroup": "Australia",
           "orientation": "v",
           "showlegend": true,
           "textposition": "auto",
           "type": "bar",
           "x": [
            "Australia"
           ],
           "xaxis": "x",
           "y": [
            1206836962281.84
           ],
           "yaxis": "y"
          },
          {
           "alignmentgroup": "True",
           "hovertemplate": "Country=%{x}<br>date=2016<br>GDP (Trillions USD)=%{y}<extra></extra>",
           "legendgroup": "Belgium",
           "marker": {
            "color": "#EF553B",
            "pattern": {
             "shape": ""
            }
           },
           "name": "Belgium",
           "offsetgroup": "Belgium",
           "orientation": "v",
           "showlegend": true,
           "textposition": "auto",
           "type": "bar",
           "x": [
            "Belgium"
           ],
           "xaxis": "x",
           "y": [
            474271566739.729
           ],
           "yaxis": "y"
          },
          {
           "alignmentgroup": "True",
           "hovertemplate": "Country=%{x}<br>date=2016<br>GDP (Trillions USD)=%{y}<extra></extra>",
           "legendgroup": "Brazil",
           "marker": {
            "color": "#00cc96",
            "pattern": {
             "shape": ""
            }
           },
           "name": "Brazil",
           "offsetgroup": "Brazil",
           "orientation": "v",
           "showlegend": true,
           "textposition": "auto",
           "type": "bar",
           "x": [
            "Brazil"
           ],
           "xaxis": "x",
           "y": [
            1795693482652.52
           ],
           "yaxis": "y"
          },
          {
           "alignmentgroup": "True",
           "hovertemplate": "Country=%{x}<br>date=2016<br>GDP (Trillions USD)=%{y}<extra></extra>",
           "legendgroup": "Canada",
           "marker": {
            "color": "#ab63fa",
            "pattern": {
             "shape": ""
            }
           },
           "name": "Canada",
           "offsetgroup": "Canada",
           "orientation": "v",
           "showlegend": true,
           "textposition": "auto",
           "type": "bar",
           "x": [
            "Canada"
           ],
           "xaxis": "x",
           "y": [
            1527994741907.43
           ],
           "yaxis": "y"
          },
          {
           "alignmentgroup": "True",
           "hovertemplate": "Country=%{x}<br>date=2016<br>GDP (Trillions USD)=%{y}<extra></extra>",
           "legendgroup": "China",
           "marker": {
            "color": "#FFA15A",
            "pattern": {
             "shape": ""
            }
           },
           "name": "China",
           "offsetgroup": "China",
           "orientation": "v",
           "showlegend": true,
           "textposition": "auto",
           "type": "bar",
           "x": [
            "China"
           ],
           "xaxis": "x",
           "y": [
            11233313730348.7
           ],
           "yaxis": "y"
          },
          {
           "alignmentgroup": "True",
           "hovertemplate": "Country=%{x}<br>date=2016<br>GDP (Trillions USD)=%{y}<extra></extra>",
           "legendgroup": "France",
           "marker": {
            "color": "#19d3f3",
            "pattern": {
             "shape": ""
            }
           },
           "name": "France",
           "offsetgroup": "France",
           "orientation": "v",
           "showlegend": true,
           "textposition": "auto",
           "type": "bar",
           "x": [
            "France"
           ],
           "xaxis": "x",
           "y": [
            2470407619777.13
           ],
           "yaxis": "y"
          },
          {
           "alignmentgroup": "True",
           "hovertemplate": "Country=%{x}<br>date=2016<br>GDP (Trillions USD)=%{y}<extra></extra>",
           "legendgroup": "Germany",
           "marker": {
            "color": "#FF6692",
            "pattern": {
             "shape": ""
            }
           },
           "name": "Germany",
           "offsetgroup": "Germany",
           "orientation": "v",
           "showlegend": true,
           "textposition": "auto",
           "type": "bar",
           "x": [
            "Germany"
           ],
           "xaxis": "x",
           "y": [
            3537784107980.55
           ],
           "yaxis": "y"
          },
          {
           "alignmentgroup": "True",
           "hovertemplate": "Country=%{x}<br>date=2016<br>GDP (Trillions USD)=%{y}<extra></extra>",
           "legendgroup": "India",
           "marker": {
            "color": "#B6E880",
            "pattern": {
             "shape": ""
            }
           },
           "name": "India",
           "offsetgroup": "India",
           "orientation": "v",
           "showlegend": true,
           "textposition": "auto",
           "type": "bar",
           "x": [
            "India"
           ],
           "xaxis": "x",
           "y": [
            2294796885663.16
           ],
           "yaxis": "y"
          },
          {
           "alignmentgroup": "True",
           "hovertemplate": "Country=%{x}<br>date=2016<br>GDP (Trillions USD)=%{y}<extra></extra>",
           "legendgroup": "Indonesia",
           "marker": {
            "color": "#FF97FF",
            "pattern": {
             "shape": ""
            }
           },
           "name": "Indonesia",
           "offsetgroup": "Indonesia",
           "orientation": "v",
           "showlegend": true,
           "textposition": "auto",
           "type": "bar",
           "x": [
            "Indonesia"
           ],
           "xaxis": "x",
           "y": [
            931877364034.196
           ],
           "yaxis": "y"
          },
          {
           "alignmentgroup": "True",
           "hovertemplate": "Country=%{x}<br>date=2016<br>GDP (Trillions USD)=%{y}<extra></extra>",
           "legendgroup": "Italy",
           "marker": {
            "color": "#FECB52",
            "pattern": {
             "shape": ""
            }
           },
           "name": "Italy",
           "offsetgroup": "Italy",
           "orientation": "v",
           "showlegend": true,
           "textposition": "auto",
           "type": "bar",
           "x": [
            "Italy"
           ],
           "xaxis": "x",
           "y": [
            1887111188176.93
           ],
           "yaxis": "y"
          },
          {
           "alignmentgroup": "True",
           "hovertemplate": "Country=%{x}<br>date=2016<br>GDP (Trillions USD)=%{y}<extra></extra>",
           "legendgroup": "Japan",
           "marker": {
            "color": "#636efa",
            "pattern": {
             "shape": ""
            }
           },
           "name": "Japan",
           "offsetgroup": "Japan",
           "orientation": "v",
           "showlegend": true,
           "textposition": "auto",
           "type": "bar",
           "x": [
            "Japan"
           ],
           "xaxis": "x",
           "y": [
            5003677627544.24
           ],
           "yaxis": "y"
          },
          {
           "alignmentgroup": "True",
           "hovertemplate": "Country=%{x}<br>date=2016<br>GDP (Trillions USD)=%{y}<extra></extra>",
           "legendgroup": "Korea, Rep.",
           "marker": {
            "color": "#EF553B",
            "pattern": {
             "shape": ""
            }
           },
           "name": "Korea, Rep.",
           "offsetgroup": "Korea, Rep.",
           "orientation": "v",
           "showlegend": true,
           "textposition": "auto",
           "type": "bar",
           "x": [
            "Korea, Rep."
           ],
           "xaxis": "x",
           "y": [
            1499679823909.61
           ],
           "yaxis": "y"
          },
          {
           "alignmentgroup": "True",
           "hovertemplate": "Country=%{x}<br>date=2016<br>GDP (Trillions USD)=%{y}<extra></extra>",
           "legendgroup": "Mexico",
           "marker": {
            "color": "#00cc96",
            "pattern": {
             "shape": ""
            }
           },
           "name": "Mexico",
           "offsetgroup": "Mexico",
           "orientation": "v",
           "showlegend": true,
           "textposition": "auto",
           "type": "bar",
           "x": [
            "Mexico"
           ],
           "xaxis": "x",
           "y": [
            1112233497452.7
           ],
           "yaxis": "y"
          },
          {
           "alignmentgroup": "True",
           "hovertemplate": "Country=%{x}<br>date=2016<br>GDP (Trillions USD)=%{y}<extra></extra>",
           "legendgroup": "Netherlands",
           "marker": {
            "color": "#ab63fa",
            "pattern": {
             "shape": ""
            }
           },
           "name": "Netherlands",
           "offsetgroup": "Netherlands",
           "orientation": "v",
           "showlegend": true,
           "textposition": "auto",
           "type": "bar",
           "x": [
            "Netherlands"
           ],
           "xaxis": "x",
           "y": [
            797163949289.885
           ],
           "yaxis": "y"
          },
          {
           "alignmentgroup": "True",
           "hovertemplate": "Country=%{x}<br>date=2016<br>GDP (Trillions USD)=%{y}<extra></extra>",
           "legendgroup": "Poland",
           "marker": {
            "color": "#FFA15A",
            "pattern": {
             "shape": ""
            }
           },
           "name": "Poland",
           "offsetgroup": "Poland",
           "orientation": "v",
           "showlegend": true,
           "textposition": "auto",
           "type": "bar",
           "x": [
            "Poland"
           ],
           "xaxis": "x",
           "y": [
            473259583969.643
           ],
           "yaxis": "y"
          },
          {
           "alignmentgroup": "True",
           "hovertemplate": "Country=%{x}<br>date=2016<br>GDP (Trillions USD)=%{y}<extra></extra>",
           "legendgroup": "Russian Federation",
           "marker": {
            "color": "#19d3f3",
            "pattern": {
             "shape": ""
            }
           },
           "name": "Russian Federation",
           "offsetgroup": "Russian Federation",
           "orientation": "v",
           "showlegend": true,
           "textposition": "auto",
           "type": "bar",
           "x": [
            "Russian Federation"
           ],
           "xaxis": "x",
           "y": [
            1276786350881.14
           ],
           "yaxis": "y"
          },
          {
           "alignmentgroup": "True",
           "hovertemplate": "Country=%{x}<br>date=2016<br>GDP (Trillions USD)=%{y}<extra></extra>",
           "legendgroup": "Saudi Arabia",
           "marker": {
            "color": "#FF6692",
            "pattern": {
             "shape": ""
            }
           },
           "name": "Saudi Arabia",
           "offsetgroup": "Saudi Arabia",
           "orientation": "v",
           "showlegend": true,
           "textposition": "auto",
           "type": "bar",
           "x": [
            "Saudi Arabia"
           ],
           "xaxis": "x",
           "y": [
            666000000000
           ],
           "yaxis": "y"
          },
          {
           "alignmentgroup": "True",
           "hovertemplate": "Country=%{x}<br>date=2016<br>GDP (Trillions USD)=%{y}<extra></extra>",
           "legendgroup": "Spain",
           "marker": {
            "color": "#B6E880",
            "pattern": {
             "shape": ""
            }
           },
           "name": "Spain",
           "offsetgroup": "Spain",
           "orientation": "v",
           "showlegend": true,
           "textposition": "auto",
           "type": "bar",
           "x": [
            "Spain"
           ],
           "xaxis": "x",
           "y": [
            1243015667917.12
           ],
           "yaxis": "y"
          },
          {
           "alignmentgroup": "True",
           "hovertemplate": "Country=%{x}<br>date=2016<br>GDP (Trillions USD)=%{y}<extra></extra>",
           "legendgroup": "Sweden",
           "marker": {
            "color": "#FF97FF",
            "pattern": {
             "shape": ""
            }
           },
           "name": "Sweden",
           "offsetgroup": "Sweden",
           "orientation": "v",
           "showlegend": true,
           "textposition": "auto",
           "type": "bar",
           "x": [
            "Sweden"
           ],
           "xaxis": "x",
           "y": [
            514218206628.325
           ],
           "yaxis": "y"
          },
          {
           "alignmentgroup": "True",
           "hovertemplate": "Country=%{x}<br>date=2016<br>GDP (Trillions USD)=%{y}<extra></extra>",
           "legendgroup": "Switzerland",
           "marker": {
            "color": "#FECB52",
            "pattern": {
             "shape": ""
            }
           },
           "name": "Switzerland",
           "offsetgroup": "Switzerland",
           "orientation": "v",
           "showlegend": true,
           "textposition": "auto",
           "type": "bar",
           "x": [
            "Switzerland"
           ],
           "xaxis": "x",
           "y": [
            687895460902.713
           ],
           "yaxis": "y"
          },
          {
           "alignmentgroup": "True",
           "hovertemplate": "Country=%{x}<br>date=2016<br>GDP (Trillions USD)=%{y}<extra></extra>",
           "legendgroup": "Thailand",
           "marker": {
            "color": "#636efa",
            "pattern": {
             "shape": ""
            }
           },
           "name": "Thailand",
           "offsetgroup": "Thailand",
           "orientation": "v",
           "showlegend": true,
           "textposition": "auto",
           "type": "bar",
           "x": [
            "Thailand"
           ],
           "xaxis": "x",
           "y": [
            413366349747.508
           ],
           "yaxis": "y"
          },
          {
           "alignmentgroup": "True",
           "hovertemplate": "Country=%{x}<br>date=2016<br>GDP (Trillions USD)=%{y}<extra></extra>",
           "legendgroup": "Turkiye",
           "marker": {
            "color": "#EF553B",
            "pattern": {
             "shape": ""
            }
           },
           "name": "Turkiye",
           "offsetgroup": "Turkiye",
           "orientation": "v",
           "showlegend": true,
           "textposition": "auto",
           "type": "bar",
           "x": [
            "Turkiye"
           ],
           "xaxis": "x",
           "y": [
            869682881593.041
           ],
           "yaxis": "y"
          },
          {
           "alignmentgroup": "True",
           "hovertemplate": "Country=%{x}<br>date=2016<br>GDP (Trillions USD)=%{y}<extra></extra>",
           "legendgroup": "United Kingdom",
           "marker": {
            "color": "#00cc96",
            "pattern": {
             "shape": ""
            }
           },
           "name": "United Kingdom",
           "offsetgroup": "United Kingdom",
           "orientation": "v",
           "showlegend": true,
           "textposition": "auto",
           "type": "bar",
           "x": [
            "United Kingdom"
           ],
           "xaxis": "x",
           "y": [
            2689106566899.61
           ],
           "yaxis": "y"
          },
          {
           "alignmentgroup": "True",
           "hovertemplate": "Country=%{x}<br>date=2016<br>GDP (Trillions USD)=%{y}<extra></extra>",
           "legendgroup": "United States",
           "marker": {
            "color": "#ab63fa",
            "pattern": {
             "shape": ""
            }
           },
           "name": "United States",
           "offsetgroup": "United States",
           "orientation": "v",
           "showlegend": true,
           "textposition": "auto",
           "type": "bar",
           "x": [
            "United States"
           ],
           "xaxis": "x",
           "y": [
            18804913000000
           ],
           "yaxis": "y"
          }
         ],
         "name": "2016"
        },
        {
         "data": [
          {
           "alignmentgroup": "True",
           "hovertemplate": "Country=%{x}<br>date=2017<br>GDP (Trillions USD)=%{y}<extra></extra>",
           "legendgroup": "Australia",
           "marker": {
            "color": "#636efa",
            "pattern": {
             "shape": ""
            }
           },
           "name": "Australia",
           "offsetgroup": "Australia",
           "orientation": "v",
           "showlegend": true,
           "textposition": "auto",
           "type": "bar",
           "x": [
            "Australia"
           ],
           "xaxis": "x",
           "y": [
            1325582658156.54
           ],
           "yaxis": "y"
          },
          {
           "alignmentgroup": "True",
           "hovertemplate": "Country=%{x}<br>date=2017<br>GDP (Trillions USD)=%{y}<extra></extra>",
           "legendgroup": "Belgium",
           "marker": {
            "color": "#EF553B",
            "pattern": {
             "shape": ""
            }
           },
           "name": "Belgium",
           "offsetgroup": "Belgium",
           "orientation": "v",
           "showlegend": true,
           "textposition": "auto",
           "type": "bar",
           "x": [
            "Belgium"
           ],
           "xaxis": "x",
           "y": [
            500908767351.53
           ],
           "yaxis": "y"
          },
          {
           "alignmentgroup": "True",
           "hovertemplate": "Country=%{x}<br>date=2017<br>GDP (Trillions USD)=%{y}<extra></extra>",
           "legendgroup": "Brazil",
           "marker": {
            "color": "#00cc96",
            "pattern": {
             "shape": ""
            }
           },
           "name": "Brazil",
           "offsetgroup": "Brazil",
           "orientation": "v",
           "showlegend": true,
           "textposition": "auto",
           "type": "bar",
           "x": [
            "Brazil"
           ],
           "xaxis": "x",
           "y": [
            2063514977334.32
           ],
           "yaxis": "y"
          },
          {
           "alignmentgroup": "True",
           "hovertemplate": "Country=%{x}<br>date=2017<br>GDP (Trillions USD)=%{y}<extra></extra>",
           "legendgroup": "Canada",
           "marker": {
            "color": "#ab63fa",
            "pattern": {
             "shape": ""
            }
           },
           "name": "Canada",
           "offsetgroup": "Canada",
           "orientation": "v",
           "showlegend": true,
           "textposition": "auto",
           "type": "bar",
           "x": [
            "Canada"
           ],
           "xaxis": "x",
           "y": [
            1649265644244.09
           ],
           "yaxis": "y"
          },
          {
           "alignmentgroup": "True",
           "hovertemplate": "Country=%{x}<br>date=2017<br>GDP (Trillions USD)=%{y}<extra></extra>",
           "legendgroup": "China",
           "marker": {
            "color": "#FFA15A",
            "pattern": {
             "shape": ""
            }
           },
           "name": "China",
           "offsetgroup": "China",
           "orientation": "v",
           "showlegend": true,
           "textposition": "auto",
           "type": "bar",
           "x": [
            "China"
           ],
           "xaxis": "x",
           "y": [
            12310491333980.9
           ],
           "yaxis": "y"
          },
          {
           "alignmentgroup": "True",
           "hovertemplate": "Country=%{x}<br>date=2017<br>GDP (Trillions USD)=%{y}<extra></extra>",
           "legendgroup": "France",
           "marker": {
            "color": "#19d3f3",
            "pattern": {
             "shape": ""
            }
           },
           "name": "France",
           "offsetgroup": "France",
           "orientation": "v",
           "showlegend": true,
           "textposition": "auto",
           "type": "bar",
           "x": [
            "France"
           ],
           "xaxis": "x",
           "y": [
            2588868323334.71
           ],
           "yaxis": "y"
          },
          {
           "alignmentgroup": "True",
           "hovertemplate": "Country=%{x}<br>date=2017<br>GDP (Trillions USD)=%{y}<extra></extra>",
           "legendgroup": "Germany",
           "marker": {
            "color": "#FF6692",
            "pattern": {
             "shape": ""
            }
           },
           "name": "Germany",
           "offsetgroup": "Germany",
           "orientation": "v",
           "showlegend": true,
           "textposition": "auto",
           "type": "bar",
           "x": [
            "Germany"
           ],
           "xaxis": "x",
           "y": [
            3763092263752.95
           ],
           "yaxis": "y"
          },
          {
           "alignmentgroup": "True",
           "hovertemplate": "Country=%{x}<br>date=2017<br>GDP (Trillions USD)=%{y}<extra></extra>",
           "legendgroup": "India",
           "marker": {
            "color": "#B6E880",
            "pattern": {
             "shape": ""
            }
           },
           "name": "India",
           "offsetgroup": "India",
           "orientation": "v",
           "showlegend": true,
           "textposition": "auto",
           "type": "bar",
           "x": [
            "India"
           ],
           "xaxis": "x",
           "y": [
            2651474262755.45
           ],
           "yaxis": "y"
          },
          {
           "alignmentgroup": "True",
           "hovertemplate": "Country=%{x}<br>date=2017<br>GDP (Trillions USD)=%{y}<extra></extra>",
           "legendgroup": "Indonesia",
           "marker": {
            "color": "#FF97FF",
            "pattern": {
             "shape": ""
            }
           },
           "name": "Indonesia",
           "offsetgroup": "Indonesia",
           "orientation": "v",
           "showlegend": true,
           "textposition": "auto",
           "type": "bar",
           "x": [
            "Indonesia"
           ],
           "xaxis": "x",
           "y": [
            1015618744168.08
           ],
           "yaxis": "y"
          },
          {
           "alignmentgroup": "True",
           "hovertemplate": "Country=%{x}<br>date=2017<br>GDP (Trillions USD)=%{y}<extra></extra>",
           "legendgroup": "Italy",
           "marker": {
            "color": "#FECB52",
            "pattern": {
             "shape": ""
            }
           },
           "name": "Italy",
           "offsetgroup": "Italy",
           "orientation": "v",
           "showlegend": true,
           "textposition": "auto",
           "type": "bar",
           "x": [
            "Italy"
           ],
           "xaxis": "x",
           "y": [
            1970720904584.71
           ],
           "yaxis": "y"
          },
          {
           "alignmentgroup": "True",
           "hovertemplate": "Country=%{x}<br>date=2017<br>GDP (Trillions USD)=%{y}<extra></extra>",
           "legendgroup": "Japan",
           "marker": {
            "color": "#636efa",
            "pattern": {
             "shape": ""
            }
           },
           "name": "Japan",
           "offsetgroup": "Japan",
           "orientation": "v",
           "showlegend": true,
           "textposition": "auto",
           "type": "bar",
           "x": [
            "Japan"
           ],
           "xaxis": "x",
           "y": [
            4930837369151.42
           ],
           "yaxis": "y"
          },
          {
           "alignmentgroup": "True",
           "hovertemplate": "Country=%{x}<br>date=2017<br>GDP (Trillions USD)=%{y}<extra></extra>",
           "legendgroup": "Korea, Rep.",
           "marker": {
            "color": "#EF553B",
            "pattern": {
             "shape": ""
            }
           },
           "name": "Korea, Rep.",
           "offsetgroup": "Korea, Rep.",
           "orientation": "v",
           "showlegend": true,
           "textposition": "auto",
           "type": "bar",
           "x": [
            "Korea, Rep."
           ],
           "xaxis": "x",
           "y": [
            1623074183501.9
           ],
           "yaxis": "y"
          },
          {
           "alignmentgroup": "True",
           "hovertemplate": "Country=%{x}<br>date=2017<br>GDP (Trillions USD)=%{y}<extra></extra>",
           "legendgroup": "Mexico",
           "marker": {
            "color": "#00cc96",
            "pattern": {
             "shape": ""
            }
           },
           "name": "Mexico",
           "offsetgroup": "Mexico",
           "orientation": "v",
           "showlegend": true,
           "textposition": "auto",
           "type": "bar",
           "x": [
            "Mexico"
           ],
           "xaxis": "x",
           "y": [
            1190721475906
           ],
           "yaxis": "y"
          },
          {
           "alignmentgroup": "True",
           "hovertemplate": "Country=%{x}<br>date=2017<br>GDP (Trillions USD)=%{y}<extra></extra>",
           "legendgroup": "Netherlands",
           "marker": {
            "color": "#ab63fa",
            "pattern": {
             "shape": ""
            }
           },
           "name": "Netherlands",
           "offsetgroup": "Netherlands",
           "orientation": "v",
           "showlegend": true,
           "textposition": "auto",
           "type": "bar",
           "x": [
            "Netherlands"
           ],
           "xaxis": "x",
           "y": [
            848233537845.884
           ],
           "yaxis": "y"
          },
          {
           "alignmentgroup": "True",
           "hovertemplate": "Country=%{x}<br>date=2017<br>GDP (Trillions USD)=%{y}<extra></extra>",
           "legendgroup": "Poland",
           "marker": {
            "color": "#FFA15A",
            "pattern": {
             "shape": ""
            }
           },
           "name": "Poland",
           "offsetgroup": "Poland",
           "orientation": "v",
           "showlegend": true,
           "textposition": "auto",
           "type": "bar",
           "x": [
            "Poland"
           ],
           "xaxis": "x",
           "y": [
            528356676667.211
           ],
           "yaxis": "y"
          },
          {
           "alignmentgroup": "True",
           "hovertemplate": "Country=%{x}<br>date=2017<br>GDP (Trillions USD)=%{y}<extra></extra>",
           "legendgroup": "Russian Federation",
           "marker": {
            "color": "#19d3f3",
            "pattern": {
             "shape": ""
            }
           },
           "name": "Russian Federation",
           "offsetgroup": "Russian Federation",
           "orientation": "v",
           "showlegend": true,
           "textposition": "auto",
           "type": "bar",
           "x": [
            "Russian Federation"
           ],
           "xaxis": "x",
           "y": [
            1574199360089
           ],
           "yaxis": "y"
          },
          {
           "alignmentgroup": "True",
           "hovertemplate": "Country=%{x}<br>date=2017<br>GDP (Trillions USD)=%{y}<extra></extra>",
           "legendgroup": "Saudi Arabia",
           "marker": {
            "color": "#FF6692",
            "pattern": {
             "shape": ""
            }
           },
           "name": "Saudi Arabia",
           "offsetgroup": "Saudi Arabia",
           "orientation": "v",
           "showlegend": true,
           "textposition": "auto",
           "type": "bar",
           "x": [
            "Saudi Arabia"
           ],
           "xaxis": "x",
           "y": [
            714994666666.667
           ],
           "yaxis": "y"
          },
          {
           "alignmentgroup": "True",
           "hovertemplate": "Country=%{x}<br>date=2017<br>GDP (Trillions USD)=%{y}<extra></extra>",
           "legendgroup": "Spain",
           "marker": {
            "color": "#B6E880",
            "pattern": {
             "shape": ""
            }
           },
           "name": "Spain",
           "offsetgroup": "Spain",
           "orientation": "v",
           "showlegend": true,
           "textposition": "auto",
           "type": "bar",
           "x": [
            "Spain"
           ],
           "xaxis": "x",
           "y": [
            1321754088818.83
           ],
           "yaxis": "y"
          },
          {
           "alignmentgroup": "True",
           "hovertemplate": "Country=%{x}<br>date=2017<br>GDP (Trillions USD)=%{y}<extra></extra>",
           "legendgroup": "Sweden",
           "marker": {
            "color": "#FF97FF",
            "pattern": {
             "shape": ""
            }
           },
           "name": "Sweden",
           "offsetgroup": "Sweden",
           "orientation": "v",
           "showlegend": true,
           "textposition": "auto",
           "type": "bar",
           "x": [
            "Sweden"
           ],
           "xaxis": "x",
           "y": [
            536083940228.684
           ],
           "yaxis": "y"
          },
          {
           "alignmentgroup": "True",
           "hovertemplate": "Country=%{x}<br>date=2017<br>GDP (Trillions USD)=%{y}<extra></extra>",
           "legendgroup": "Switzerland",
           "marker": {
            "color": "#FECB52",
            "pattern": {
             "shape": ""
            }
           },
           "name": "Switzerland",
           "offsetgroup": "Switzerland",
           "orientation": "v",
           "showlegend": true,
           "textposition": "auto",
           "type": "bar",
           "x": [
            "Switzerland"
           ],
           "xaxis": "x",
           "y": [
            695200833086.499
           ],
           "yaxis": "y"
          },
          {
           "alignmentgroup": "True",
           "hovertemplate": "Country=%{x}<br>date=2017<br>GDP (Trillions USD)=%{y}<extra></extra>",
           "legendgroup": "Thailand",
           "marker": {
            "color": "#636efa",
            "pattern": {
             "shape": ""
            }
           },
           "name": "Thailand",
           "offsetgroup": "Thailand",
           "orientation": "v",
           "showlegend": true,
           "textposition": "auto",
           "type": "bar",
           "x": [
            "Thailand"
           ],
           "xaxis": "x",
           "y": [
            456356813536.764
           ],
           "yaxis": "y"
          },
          {
           "alignmentgroup": "True",
           "hovertemplate": "Country=%{x}<br>date=2017<br>GDP (Trillions USD)=%{y}<extra></extra>",
           "legendgroup": "Turkiye",
           "marker": {
            "color": "#EF553B",
            "pattern": {
             "shape": ""
            }
           },
           "name": "Turkiye",
           "offsetgroup": "Turkiye",
           "orientation": "v",
           "showlegend": true,
           "textposition": "auto",
           "type": "bar",
           "x": [
            "Turkiye"
           ],
           "xaxis": "x",
           "y": [
            858988492853.742
           ],
           "yaxis": "y"
          },
          {
           "alignmentgroup": "True",
           "hovertemplate": "Country=%{x}<br>date=2017<br>GDP (Trillions USD)=%{y}<extra></extra>",
           "legendgroup": "United Kingdom",
           "marker": {
            "color": "#00cc96",
            "pattern": {
             "shape": ""
            }
           },
           "name": "United Kingdom",
           "offsetgroup": "United Kingdom",
           "orientation": "v",
           "showlegend": true,
           "textposition": "auto",
           "type": "bar",
           "x": [
            "United Kingdom"
           ],
           "xaxis": "x",
           "y": [
            2680148052335.3
           ],
           "yaxis": "y"
          },
          {
           "alignmentgroup": "True",
           "hovertemplate": "Country=%{x}<br>date=2017<br>GDP (Trillions USD)=%{y}<extra></extra>",
           "legendgroup": "United States",
           "marker": {
            "color": "#ab63fa",
            "pattern": {
             "shape": ""
            }
           },
           "name": "United States",
           "offsetgroup": "United States",
           "orientation": "v",
           "showlegend": true,
           "textposition": "auto",
           "type": "bar",
           "x": [
            "United States"
           ],
           "xaxis": "x",
           "y": [
            19612102000000
           ],
           "yaxis": "y"
          }
         ],
         "name": "2017"
        },
        {
         "data": [
          {
           "alignmentgroup": "True",
           "hovertemplate": "Country=%{x}<br>date=2018<br>GDP (Trillions USD)=%{y}<extra></extra>",
           "legendgroup": "Australia",
           "marker": {
            "color": "#636efa",
            "pattern": {
             "shape": ""
            }
           },
           "name": "Australia",
           "offsetgroup": "Australia",
           "orientation": "v",
           "showlegend": true,
           "textposition": "auto",
           "type": "bar",
           "x": [
            "Australia"
           ],
           "xaxis": "x",
           "y": [
            1427809041019.44
           ],
           "yaxis": "y"
          },
          {
           "alignmentgroup": "True",
           "hovertemplate": "Country=%{x}<br>date=2018<br>GDP (Trillions USD)=%{y}<extra></extra>",
           "legendgroup": "Belgium",
           "marker": {
            "color": "#EF553B",
            "pattern": {
             "shape": ""
            }
           },
           "name": "Belgium",
           "offsetgroup": "Belgium",
           "orientation": "v",
           "showlegend": true,
           "textposition": "auto",
           "type": "bar",
           "x": [
            "Belgium"
           ],
           "xaxis": "x",
           "y": [
            542638913427.921
           ],
           "yaxis": "y"
          },
          {
           "alignmentgroup": "True",
           "hovertemplate": "Country=%{x}<br>date=2018<br>GDP (Trillions USD)=%{y}<extra></extra>",
           "legendgroup": "Brazil",
           "marker": {
            "color": "#00cc96",
            "pattern": {
             "shape": ""
            }
           },
           "name": "Brazil",
           "offsetgroup": "Brazil",
           "orientation": "v",
           "showlegend": true,
           "textposition": "auto",
           "type": "bar",
           "x": [
            "Brazil"
           ],
           "xaxis": "x",
           "y": [
            1916933898038.36
           ],
           "yaxis": "y"
          },
          {
           "alignmentgroup": "True",
           "hovertemplate": "Country=%{x}<br>date=2018<br>GDP (Trillions USD)=%{y}<extra></extra>",
           "legendgroup": "Canada",
           "marker": {
            "color": "#ab63fa",
            "pattern": {
             "shape": ""
            }
           },
           "name": "Canada",
           "offsetgroup": "Canada",
           "orientation": "v",
           "showlegend": true,
           "textposition": "auto",
           "type": "bar",
           "x": [
            "Canada"
           ],
           "xaxis": "x",
           "y": [
            1725329192783.02
           ],
           "yaxis": "y"
          },
          {
           "alignmentgroup": "True",
           "hovertemplate": "Country=%{x}<br>date=2018<br>GDP (Trillions USD)=%{y}<extra></extra>",
           "legendgroup": "China",
           "marker": {
            "color": "#FFA15A",
            "pattern": {
             "shape": ""
            }
           },
           "name": "China",
           "offsetgroup": "China",
           "orientation": "v",
           "showlegend": true,
           "textposition": "auto",
           "type": "bar",
           "x": [
            "China"
           ],
           "xaxis": "x",
           "y": [
            13894907857880.6
           ],
           "yaxis": "y"
          },
          {
           "alignmentgroup": "True",
           "hovertemplate": "Country=%{x}<br>date=2018<br>GDP (Trillions USD)=%{y}<extra></extra>",
           "legendgroup": "France",
           "marker": {
            "color": "#19d3f3",
            "pattern": {
             "shape": ""
            }
           },
           "name": "France",
           "offsetgroup": "France",
           "orientation": "v",
           "showlegend": true,
           "textposition": "auto",
           "type": "bar",
           "x": [
            "France"
           ],
           "xaxis": "x",
           "y": [
            2781576320884.39
           ],
           "yaxis": "y"
          },
          {
           "alignmentgroup": "True",
           "hovertemplate": "Country=%{x}<br>date=2018<br>GDP (Trillions USD)=%{y}<extra></extra>",
           "legendgroup": "Germany",
           "marker": {
            "color": "#FF6692",
            "pattern": {
             "shape": ""
            }
           },
           "name": "Germany",
           "offsetgroup": "Germany",
           "orientation": "v",
           "showlegend": true,
           "textposition": "auto",
           "type": "bar",
           "x": [
            "Germany"
           ],
           "xaxis": "x",
           "y": [
            4052008447223.53
           ],
           "yaxis": "y"
          },
          {
           "alignmentgroup": "True",
           "hovertemplate": "Country=%{x}<br>date=2018<br>GDP (Trillions USD)=%{y}<extra></extra>",
           "legendgroup": "India",
           "marker": {
            "color": "#B6E880",
            "pattern": {
             "shape": ""
            }
           },
           "name": "India",
           "offsetgroup": "India",
           "orientation": "v",
           "showlegend": true,
           "textposition": "auto",
           "type": "bar",
           "x": [
            "India"
           ],
           "xaxis": "x",
           "y": [
            2702929641648.74
           ],
           "yaxis": "y"
          },
          {
           "alignmentgroup": "True",
           "hovertemplate": "Country=%{x}<br>date=2018<br>GDP (Trillions USD)=%{y}<extra></extra>",
           "legendgroup": "Indonesia",
           "marker": {
            "color": "#FF97FF",
            "pattern": {
             "shape": ""
            }
           },
           "name": "Indonesia",
           "offsetgroup": "Indonesia",
           "orientation": "v",
           "showlegend": true,
           "textposition": "auto",
           "type": "bar",
           "x": [
            "Indonesia"
           ],
           "xaxis": "x",
           "y": [
            1042271532953.49
           ],
           "yaxis": "y"
          },
          {
           "alignmentgroup": "True",
           "hovertemplate": "Country=%{x}<br>date=2018<br>GDP (Trillions USD)=%{y}<extra></extra>",
           "legendgroup": "Italy",
           "marker": {
            "color": "#FECB52",
            "pattern": {
             "shape": ""
            }
           },
           "name": "Italy",
           "offsetgroup": "Italy",
           "orientation": "v",
           "showlegend": true,
           "textposition": "auto",
           "type": "bar",
           "x": [
            "Italy"
           ],
           "xaxis": "x",
           "y": [
            2099435266458.67
           ],
           "yaxis": "y"
          },
          {
           "alignmentgroup": "True",
           "hovertemplate": "Country=%{x}<br>date=2018<br>GDP (Trillions USD)=%{y}<extra></extra>",
           "legendgroup": "Japan",
           "marker": {
            "color": "#636efa",
            "pattern": {
             "shape": ""
            }
           },
           "name": "Japan",
           "offsetgroup": "Japan",
           "orientation": "v",
           "showlegend": true,
           "textposition": "auto",
           "type": "bar",
           "x": [
            "Japan"
           ],
           "xaxis": "x",
           "y": [
            5040880939324.86
           ],
           "yaxis": "y"
          },
          {
           "alignmentgroup": "True",
           "hovertemplate": "Country=%{x}<br>date=2018<br>GDP (Trillions USD)=%{y}<extra></extra>",
           "legendgroup": "Korea, Rep.",
           "marker": {
            "color": "#EF553B",
            "pattern": {
             "shape": ""
            }
           },
           "name": "Korea, Rep.",
           "offsetgroup": "Korea, Rep.",
           "orientation": "v",
           "showlegend": true,
           "textposition": "auto",
           "type": "bar",
           "x": [
            "Korea, Rep."
           ],
           "xaxis": "x",
           "y": [
            1725373496825.43
           ],
           "yaxis": "y"
          },
          {
           "alignmentgroup": "True",
           "hovertemplate": "Country=%{x}<br>date=2018<br>GDP (Trillions USD)=%{y}<extra></extra>",
           "legendgroup": "Mexico",
           "marker": {
            "color": "#00cc96",
            "pattern": {
             "shape": ""
            }
           },
           "name": "Mexico",
           "offsetgroup": "Mexico",
           "orientation": "v",
           "showlegend": true,
           "textposition": "auto",
           "type": "bar",
           "x": [
            "Mexico"
           ],
           "xaxis": "x",
           "y": [
            1256300182879.73
           ],
           "yaxis": "y"
          },
          {
           "alignmentgroup": "True",
           "hovertemplate": "Country=%{x}<br>date=2018<br>GDP (Trillions USD)=%{y}<extra></extra>",
           "legendgroup": "Netherlands",
           "marker": {
            "color": "#ab63fa",
            "pattern": {
             "shape": ""
            }
           },
           "name": "Netherlands",
           "offsetgroup": "Netherlands",
           "orientation": "v",
           "showlegend": true,
           "textposition": "auto",
           "type": "bar",
           "x": [
            "Netherlands"
           ],
           "xaxis": "x",
           "y": [
            929733599796.862
           ],
           "yaxis": "y"
          },
          {
           "alignmentgroup": "True",
           "hovertemplate": "Country=%{x}<br>date=2018<br>GDP (Trillions USD)=%{y}<extra></extra>",
           "legendgroup": "Poland",
           "marker": {
            "color": "#FFA15A",
            "pattern": {
             "shape": ""
            }
           },
           "name": "Poland",
           "offsetgroup": "Poland",
           "orientation": "v",
           "showlegend": true,
           "textposition": "auto",
           "type": "bar",
           "x": [
            "Poland"
           ],
           "xaxis": "x",
           "y": [
            594616687350.017
           ],
           "yaxis": "y"
          },
          {
           "alignmentgroup": "True",
           "hovertemplate": "Country=%{x}<br>date=2018<br>GDP (Trillions USD)=%{y}<extra></extra>",
           "legendgroup": "Russian Federation",
           "marker": {
            "color": "#19d3f3",
            "pattern": {
             "shape": ""
            }
           },
           "name": "Russian Federation",
           "offsetgroup": "Russian Federation",
           "orientation": "v",
           "showlegend": true,
           "textposition": "auto",
           "type": "bar",
           "x": [
            "Russian Federation"
           ],
           "xaxis": "x",
           "y": [
            1657328773461.31
           ],
           "yaxis": "y"
          },
          {
           "alignmentgroup": "True",
           "hovertemplate": "Country=%{x}<br>date=2018<br>GDP (Trillions USD)=%{y}<extra></extra>",
           "legendgroup": "Saudi Arabia",
           "marker": {
            "color": "#FF6692",
            "pattern": {
             "shape": ""
            }
           },
           "name": "Saudi Arabia",
           "offsetgroup": "Saudi Arabia",
           "orientation": "v",
           "showlegend": true,
           "textposition": "auto",
           "type": "bar",
           "x": [
            "Saudi Arabia"
           ],
           "xaxis": "x",
           "y": [
            846583733333.333
           ],
           "yaxis": "y"
          },
          {
           "alignmentgroup": "True",
           "hovertemplate": "Country=%{x}<br>date=2018<br>GDP (Trillions USD)=%{y}<extra></extra>",
           "legendgroup": "Spain",
           "marker": {
            "color": "#B6E880",
            "pattern": {
             "shape": ""
            }
           },
           "name": "Spain",
           "offsetgroup": "Spain",
           "orientation": "v",
           "showlegend": true,
           "textposition": "auto",
           "type": "bar",
           "x": [
            "Spain"
           ],
           "xaxis": "x",
           "y": [
            1431642809327.06
           ],
           "yaxis": "y"
          },
          {
           "alignmentgroup": "True",
           "hovertemplate": "Country=%{x}<br>date=2018<br>GDP (Trillions USD)=%{y}<extra></extra>",
           "legendgroup": "Sweden",
           "marker": {
            "color": "#FF97FF",
            "pattern": {
             "shape": ""
            }
           },
           "name": "Sweden",
           "offsetgroup": "Sweden",
           "orientation": "v",
           "showlegend": true,
           "textposition": "auto",
           "type": "bar",
           "x": [
            "Sweden"
           ],
           "xaxis": "x",
           "y": [
            551312498430.164
           ],
           "yaxis": "y"
          },
          {
           "alignmentgroup": "True",
           "hovertemplate": "Country=%{x}<br>date=2018<br>GDP (Trillions USD)=%{y}<extra></extra>",
           "legendgroup": "Switzerland",
           "marker": {
            "color": "#FECB52",
            "pattern": {
             "shape": ""
            }
           },
           "name": "Switzerland",
           "offsetgroup": "Switzerland",
           "orientation": "v",
           "showlegend": true,
           "textposition": "auto",
           "type": "bar",
           "x": [
            "Switzerland"
           ],
           "xaxis": "x",
           "y": [
            725568717468.001
           ],
           "yaxis": "y"
          },
          {
           "alignmentgroup": "True",
           "hovertemplate": "Country=%{x}<br>date=2018<br>GDP (Trillions USD)=%{y}<extra></extra>",
           "legendgroup": "Thailand",
           "marker": {
            "color": "#636efa",
            "pattern": {
             "shape": ""
            }
           },
           "name": "Thailand",
           "offsetgroup": "Thailand",
           "orientation": "v",
           "showlegend": true,
           "textposition": "auto",
           "type": "bar",
           "x": [
            "Thailand"
           ],
           "xaxis": "x",
           "y": [
            506754208404.485
           ],
           "yaxis": "y"
          },
          {
           "alignmentgroup": "True",
           "hovertemplate": "Country=%{x}<br>date=2018<br>GDP (Trillions USD)=%{y}<extra></extra>",
           "legendgroup": "Turkiye",
           "marker": {
            "color": "#EF553B",
            "pattern": {
             "shape": ""
            }
           },
           "name": "Turkiye",
           "offsetgroup": "Turkiye",
           "orientation": "v",
           "showlegend": true,
           "textposition": "auto",
           "type": "bar",
           "x": [
            "Turkiye"
           ],
           "xaxis": "x",
           "y": [
            778972108040.602
           ],
           "yaxis": "y"
          },
          {
           "alignmentgroup": "True",
           "hovertemplate": "Country=%{x}<br>date=2018<br>GDP (Trillions USD)=%{y}<extra></extra>",
           "legendgroup": "United Kingdom",
           "marker": {
            "color": "#00cc96",
            "pattern": {
             "shape": ""
            }
           },
           "name": "United Kingdom",
           "offsetgroup": "United Kingdom",
           "orientation": "v",
           "showlegend": true,
           "textposition": "auto",
           "type": "bar",
           "x": [
            "United Kingdom"
           ],
           "xaxis": "x",
           "y": [
            2871340347581.79
           ],
           "yaxis": "y"
          },
          {
           "alignmentgroup": "True",
           "hovertemplate": "Country=%{x}<br>date=2018<br>GDP (Trillions USD)=%{y}<extra></extra>",
           "legendgroup": "United States",
           "marker": {
            "color": "#ab63fa",
            "pattern": {
             "shape": ""
            }
           },
           "name": "United States",
           "offsetgroup": "United States",
           "orientation": "v",
           "showlegend": true,
           "textposition": "auto",
           "type": "bar",
           "x": [
            "United States"
           ],
           "xaxis": "x",
           "y": [
            20656516000000
           ],
           "yaxis": "y"
          }
         ],
         "name": "2018"
        },
        {
         "data": [
          {
           "alignmentgroup": "True",
           "hovertemplate": "Country=%{x}<br>date=2019<br>GDP (Trillions USD)=%{y}<extra></extra>",
           "legendgroup": "Australia",
           "marker": {
            "color": "#636efa",
            "pattern": {
             "shape": ""
            }
           },
           "name": "Australia",
           "offsetgroup": "Australia",
           "orientation": "v",
           "showlegend": true,
           "textposition": "auto",
           "type": "bar",
           "x": [
            "Australia"
           ],
           "xaxis": "x",
           "y": [
            1392723834562.64
           ],
           "yaxis": "y"
          },
          {
           "alignmentgroup": "True",
           "hovertemplate": "Country=%{x}<br>date=2019<br>GDP (Trillions USD)=%{y}<extra></extra>",
           "legendgroup": "Belgium",
           "marker": {
            "color": "#EF553B",
            "pattern": {
             "shape": ""
            }
           },
           "name": "Belgium",
           "offsetgroup": "Belgium",
           "orientation": "v",
           "showlegend": true,
           "textposition": "auto",
           "type": "bar",
           "x": [
            "Belgium"
           ],
           "xaxis": "x",
           "y": [
            536726344405.489
           ],
           "yaxis": "y"
          },
          {
           "alignmentgroup": "True",
           "hovertemplate": "Country=%{x}<br>date=2019<br>GDP (Trillions USD)=%{y}<extra></extra>",
           "legendgroup": "Brazil",
           "marker": {
            "color": "#00cc96",
            "pattern": {
             "shape": ""
            }
           },
           "name": "Brazil",
           "offsetgroup": "Brazil",
           "orientation": "v",
           "showlegend": true,
           "textposition": "auto",
           "type": "bar",
           "x": [
            "Brazil"
           ],
           "xaxis": "x",
           "y": [
            1873288205186.45
           ],
           "yaxis": "y"
          },
          {
           "alignmentgroup": "True",
           "hovertemplate": "Country=%{x}<br>date=2019<br>GDP (Trillions USD)=%{y}<extra></extra>",
           "legendgroup": "Canada",
           "marker": {
            "color": "#ab63fa",
            "pattern": {
             "shape": ""
            }
           },
           "name": "Canada",
           "offsetgroup": "Canada",
           "orientation": "v",
           "showlegend": true,
           "textposition": "auto",
           "type": "bar",
           "x": [
            "Canada"
           ],
           "xaxis": "x",
           "y": [
            1743725183672.52
           ],
           "yaxis": "y"
          },
          {
           "alignmentgroup": "True",
           "hovertemplate": "Country=%{x}<br>date=2019<br>GDP (Trillions USD)=%{y}<extra></extra>",
           "legendgroup": "China",
           "marker": {
            "color": "#FFA15A",
            "pattern": {
             "shape": ""
            }
           },
           "name": "China",
           "offsetgroup": "China",
           "orientation": "v",
           "showlegend": true,
           "textposition": "auto",
           "type": "bar",
           "x": [
            "China"
           ],
           "xaxis": "x",
           "y": [
            14279968506271.7
           ],
           "yaxis": "y"
          },
          {
           "alignmentgroup": "True",
           "hovertemplate": "Country=%{x}<br>date=2019<br>GDP (Trillions USD)=%{y}<extra></extra>",
           "legendgroup": "France",
           "marker": {
            "color": "#19d3f3",
            "pattern": {
             "shape": ""
            }
           },
           "name": "France",
           "offsetgroup": "France",
           "orientation": "v",
           "showlegend": true,
           "textposition": "auto",
           "type": "bar",
           "x": [
            "France"
           ],
           "xaxis": "x",
           "y": [
            2722793515171.76
           ],
           "yaxis": "y"
          },
          {
           "alignmentgroup": "True",
           "hovertemplate": "Country=%{x}<br>date=2019<br>GDP (Trillions USD)=%{y}<extra></extra>",
           "legendgroup": "Germany",
           "marker": {
            "color": "#FF6692",
            "pattern": {
             "shape": ""
            }
           },
           "name": "Germany",
           "offsetgroup": "Germany",
           "orientation": "v",
           "showlegend": true,
           "textposition": "auto",
           "type": "bar",
           "x": [
            "Germany"
           ],
           "xaxis": "x",
           "y": [
            3957208055215.68
           ],
           "yaxis": "y"
          },
          {
           "alignmentgroup": "True",
           "hovertemplate": "Country=%{x}<br>date=2019<br>GDP (Trillions USD)=%{y}<extra></extra>",
           "legendgroup": "India",
           "marker": {
            "color": "#B6E880",
            "pattern": {
             "shape": ""
            }
           },
           "name": "India",
           "offsetgroup": "India",
           "orientation": "v",
           "showlegend": true,
           "textposition": "auto",
           "type": "bar",
           "x": [
            "India"
           ],
           "xaxis": "x",
           "y": [
            2835606256558.19
           ],
           "yaxis": "y"
          },
          {
           "alignmentgroup": "True",
           "hovertemplate": "Country=%{x}<br>date=2019<br>GDP (Trillions USD)=%{y}<extra></extra>",
           "legendgroup": "Indonesia",
           "marker": {
            "color": "#FF97FF",
            "pattern": {
             "shape": ""
            }
           },
           "name": "Indonesia",
           "offsetgroup": "Indonesia",
           "orientation": "v",
           "showlegend": true,
           "textposition": "auto",
           "type": "bar",
           "x": [
            "Indonesia"
           ],
           "xaxis": "x",
           "y": [
            1119099871385.79
           ],
           "yaxis": "y"
          },
          {
           "alignmentgroup": "True",
           "hovertemplate": "Country=%{x}<br>date=2019<br>GDP (Trillions USD)=%{y}<extra></extra>",
           "legendgroup": "Italy",
           "marker": {
            "color": "#FECB52",
            "pattern": {
             "shape": ""
            }
           },
           "name": "Italy",
           "offsetgroup": "Italy",
           "orientation": "v",
           "showlegend": true,
           "textposition": "auto",
           "type": "bar",
           "x": [
            "Italy"
           ],
           "xaxis": "x",
           "y": [
            2019606796583.53
           ],
           "yaxis": "y"
          },
          {
           "alignmentgroup": "True",
           "hovertemplate": "Country=%{x}<br>date=2019<br>GDP (Trillions USD)=%{y}<extra></extra>",
           "legendgroup": "Japan",
           "marker": {
            "color": "#636efa",
            "pattern": {
             "shape": ""
            }
           },
           "name": "Japan",
           "offsetgroup": "Japan",
           "orientation": "v",
           "showlegend": true,
           "textposition": "auto",
           "type": "bar",
           "x": [
            "Japan"
           ],
           "xaxis": "x",
           "y": [
            5117993853016.51
           ],
           "yaxis": "y"
          },
          {
           "alignmentgroup": "True",
           "hovertemplate": "Country=%{x}<br>date=2019<br>GDP (Trillions USD)=%{y}<extra></extra>",
           "legendgroup": "Korea, Rep.",
           "marker": {
            "color": "#EF553B",
            "pattern": {
             "shape": ""
            }
           },
           "name": "Korea, Rep.",
           "offsetgroup": "Korea, Rep.",
           "orientation": "v",
           "showlegend": true,
           "textposition": "auto",
           "type": "bar",
           "x": [
            "Korea, Rep."
           ],
           "xaxis": "x",
           "y": [
            1651422932447.77
           ],
           "yaxis": "y"
          },
          {
           "alignmentgroup": "True",
           "hovertemplate": "Country=%{x}<br>date=2019<br>GDP (Trillions USD)=%{y}<extra></extra>",
           "legendgroup": "Mexico",
           "marker": {
            "color": "#00cc96",
            "pattern": {
             "shape": ""
            }
           },
           "name": "Mexico",
           "offsetgroup": "Mexico",
           "orientation": "v",
           "showlegend": true,
           "textposition": "auto",
           "type": "bar",
           "x": [
            "Mexico"
           ],
           "xaxis": "x",
           "y": [
            1304106203694.81
           ],
           "yaxis": "y"
          },
          {
           "alignmentgroup": "True",
           "hovertemplate": "Country=%{x}<br>date=2019<br>GDP (Trillions USD)=%{y}<extra></extra>",
           "legendgroup": "Netherlands",
           "marker": {
            "color": "#ab63fa",
            "pattern": {
             "shape": ""
            }
           },
           "name": "Netherlands",
           "offsetgroup": "Netherlands",
           "orientation": "v",
           "showlegend": true,
           "textposition": "auto",
           "type": "bar",
           "x": [
            "Netherlands"
           ],
           "xaxis": "x",
           "y": [
            928903005576.469
           ],
           "yaxis": "y"
          },
          {
           "alignmentgroup": "True",
           "hovertemplate": "Country=%{x}<br>date=2019<br>GDP (Trillions USD)=%{y}<extra></extra>",
           "legendgroup": "Poland",
           "marker": {
            "color": "#FFA15A",
            "pattern": {
             "shape": ""
            }
           },
           "name": "Poland",
           "offsetgroup": "Poland",
           "orientation": "v",
           "showlegend": true,
           "textposition": "auto",
           "type": "bar",
           "x": [
            "Poland"
           ],
           "xaxis": "x",
           "y": [
            602683770144.88
           ],
           "yaxis": "y"
          },
          {
           "alignmentgroup": "True",
           "hovertemplate": "Country=%{x}<br>date=2019<br>GDP (Trillions USD)=%{y}<extra></extra>",
           "legendgroup": "Russian Federation",
           "marker": {
            "color": "#19d3f3",
            "pattern": {
             "shape": ""
            }
           },
           "name": "Russian Federation",
           "offsetgroup": "Russian Federation",
           "orientation": "v",
           "showlegend": true,
           "textposition": "auto",
           "type": "bar",
           "x": [
            "Russian Federation"
           ],
           "xaxis": "x",
           "y": [
            1693115002708.32
           ],
           "yaxis": "y"
          },
          {
           "alignmentgroup": "True",
           "hovertemplate": "Country=%{x}<br>date=2019<br>GDP (Trillions USD)=%{y}<extra></extra>",
           "legendgroup": "Saudi Arabia",
           "marker": {
            "color": "#FF6692",
            "pattern": {
             "shape": ""
            }
           },
           "name": "Saudi Arabia",
           "offsetgroup": "Saudi Arabia",
           "orientation": "v",
           "showlegend": true,
           "textposition": "auto",
           "type": "bar",
           "x": [
            "Saudi Arabia"
           ],
           "xaxis": "x",
           "y": [
            838564800000
           ],
           "yaxis": "y"
          },
          {
           "alignmentgroup": "True",
           "hovertemplate": "Country=%{x}<br>date=2019<br>GDP (Trillions USD)=%{y}<extra></extra>",
           "legendgroup": "Spain",
           "marker": {
            "color": "#B6E880",
            "pattern": {
             "shape": ""
            }
           },
           "name": "Spain",
           "offsetgroup": "Spain",
           "orientation": "v",
           "showlegend": true,
           "textposition": "auto",
           "type": "bar",
           "x": [
            "Spain"
           ],
           "xaxis": "x",
           "y": [
            1403496387686.27
           ],
           "yaxis": "y"
          },
          {
           "alignmentgroup": "True",
           "hovertemplate": "Country=%{x}<br>date=2019<br>GDP (Trillions USD)=%{y}<extra></extra>",
           "legendgroup": "Sweden",
           "marker": {
            "color": "#FF97FF",
            "pattern": {
             "shape": ""
            }
           },
           "name": "Sweden",
           "offsetgroup": "Sweden",
           "orientation": "v",
           "showlegend": true,
           "textposition": "auto",
           "type": "bar",
           "x": [
            "Sweden"
           ],
           "xaxis": "x",
           "y": [
            532169294165.94
           ],
           "yaxis": "y"
          },
          {
           "alignmentgroup": "True",
           "hovertemplate": "Country=%{x}<br>date=2019<br>GDP (Trillions USD)=%{y}<extra></extra>",
           "legendgroup": "Switzerland",
           "marker": {
            "color": "#FECB52",
            "pattern": {
             "shape": ""
            }
           },
           "name": "Switzerland",
           "offsetgroup": "Switzerland",
           "orientation": "v",
           "showlegend": true,
           "textposition": "auto",
           "type": "bar",
           "x": [
            "Switzerland"
           ],
           "xaxis": "x",
           "y": [
            721369112726.724
           ],
           "yaxis": "y"
          },
          {
           "alignmentgroup": "True",
           "hovertemplate": "Country=%{x}<br>date=2019<br>GDP (Trillions USD)=%{y}<extra></extra>",
           "legendgroup": "Thailand",
           "marker": {
            "color": "#636efa",
            "pattern": {
             "shape": ""
            }
           },
           "name": "Thailand",
           "offsetgroup": "Thailand",
           "orientation": "v",
           "showlegend": true,
           "textposition": "auto",
           "type": "bar",
           "x": [
            "Thailand"
           ],
           "xaxis": "x",
           "y": [
            543976691793.886
           ],
           "yaxis": "y"
          },
          {
           "alignmentgroup": "True",
           "hovertemplate": "Country=%{x}<br>date=2019<br>GDP (Trillions USD)=%{y}<extra></extra>",
           "legendgroup": "Turkiye",
           "marker": {
            "color": "#EF553B",
            "pattern": {
             "shape": ""
            }
           },
           "name": "Turkiye",
           "offsetgroup": "Turkiye",
           "orientation": "v",
           "showlegend": true,
           "textposition": "auto",
           "type": "bar",
           "x": [
            "Turkiye"
           ],
           "xaxis": "x",
           "y": [
            761005915750.925
           ],
           "yaxis": "y"
          },
          {
           "alignmentgroup": "True",
           "hovertemplate": "Country=%{x}<br>date=2019<br>GDP (Trillions USD)=%{y}<extra></extra>",
           "legendgroup": "United Kingdom",
           "marker": {
            "color": "#00cc96",
            "pattern": {
             "shape": ""
            }
           },
           "name": "United Kingdom",
           "offsetgroup": "United Kingdom",
           "orientation": "v",
           "showlegend": true,
           "textposition": "auto",
           "type": "bar",
           "x": [
            "United Kingdom"
           ],
           "xaxis": "x",
           "y": [
            2851407164907.81
           ],
           "yaxis": "y"
          },
          {
           "alignmentgroup": "True",
           "hovertemplate": "Country=%{x}<br>date=2019<br>GDP (Trillions USD)=%{y}<extra></extra>",
           "legendgroup": "United States",
           "marker": {
            "color": "#ab63fa",
            "pattern": {
             "shape": ""
            }
           },
           "name": "United States",
           "offsetgroup": "United States",
           "orientation": "v",
           "showlegend": true,
           "textposition": "auto",
           "type": "bar",
           "x": [
            "United States"
           ],
           "xaxis": "x",
           "y": [
            21539982000000
           ],
           "yaxis": "y"
          }
         ],
         "name": "2019"
        },
        {
         "data": [
          {
           "alignmentgroup": "True",
           "hovertemplate": "Country=%{x}<br>date=2020<br>GDP (Trillions USD)=%{y}<extra></extra>",
           "legendgroup": "Australia",
           "marker": {
            "color": "#636efa",
            "pattern": {
             "shape": ""
            }
           },
           "name": "Australia",
           "offsetgroup": "Australia",
           "orientation": "v",
           "showlegend": true,
           "textposition": "auto",
           "type": "bar",
           "x": [
            "Australia"
           ],
           "xaxis": "x",
           "y": [
            1328414058378.38
           ],
           "yaxis": "y"
          },
          {
           "alignmentgroup": "True",
           "hovertemplate": "Country=%{x}<br>date=2020<br>GDP (Trillions USD)=%{y}<extra></extra>",
           "legendgroup": "Belgium",
           "marker": {
            "color": "#EF553B",
            "pattern": {
             "shape": ""
            }
           },
           "name": "Belgium",
           "offsetgroup": "Belgium",
           "orientation": "v",
           "showlegend": true,
           "textposition": "auto",
           "type": "bar",
           "x": [
            "Belgium"
           ],
           "xaxis": "x",
           "y": [
            529694473501.791
           ],
           "yaxis": "y"
          },
          {
           "alignmentgroup": "True",
           "hovertemplate": "Country=%{x}<br>date=2020<br>GDP (Trillions USD)=%{y}<extra></extra>",
           "legendgroup": "Brazil",
           "marker": {
            "color": "#00cc96",
            "pattern": {
             "shape": ""
            }
           },
           "name": "Brazil",
           "offsetgroup": "Brazil",
           "orientation": "v",
           "showlegend": true,
           "textposition": "auto",
           "type": "bar",
           "x": [
            "Brazil"
           ],
           "xaxis": "x",
           "y": [
            1476107231194.11
           ],
           "yaxis": "y"
          },
          {
           "alignmentgroup": "True",
           "hovertemplate": "Country=%{x}<br>date=2020<br>GDP (Trillions USD)=%{y}<extra></extra>",
           "legendgroup": "Canada",
           "marker": {
            "color": "#ab63fa",
            "pattern": {
             "shape": ""
            }
           },
           "name": "Canada",
           "offsetgroup": "Canada",
           "orientation": "v",
           "showlegend": true,
           "textposition": "auto",
           "type": "bar",
           "x": [
            "Canada"
           ],
           "xaxis": "x",
           "y": [
            1655684730000.19
           ],
           "yaxis": "y"
          },
          {
           "alignmentgroup": "True",
           "hovertemplate": "Country=%{x}<br>date=2020<br>GDP (Trillions USD)=%{y}<extra></extra>",
           "legendgroup": "China",
           "marker": {
            "color": "#FFA15A",
            "pattern": {
             "shape": ""
            }
           },
           "name": "China",
           "offsetgroup": "China",
           "orientation": "v",
           "showlegend": true,
           "textposition": "auto",
           "type": "bar",
           "x": [
            "China"
           ],
           "xaxis": "x",
           "y": [
            14687744162801
           ],
           "yaxis": "y"
          },
          {
           "alignmentgroup": "True",
           "hovertemplate": "Country=%{x}<br>date=2020<br>GDP (Trillions USD)=%{y}<extra></extra>",
           "legendgroup": "France",
           "marker": {
            "color": "#19d3f3",
            "pattern": {
             "shape": ""
            }
           },
           "name": "France",
           "offsetgroup": "France",
           "orientation": "v",
           "showlegend": true,
           "textposition": "auto",
           "type": "bar",
           "x": [
            "France"
           ],
           "xaxis": "x",
           "y": [
            2647926055110.05
           ],
           "yaxis": "y"
          },
          {
           "alignmentgroup": "True",
           "hovertemplate": "Country=%{x}<br>date=2020<br>GDP (Trillions USD)=%{y}<extra></extra>",
           "legendgroup": "Germany",
           "marker": {
            "color": "#FF6692",
            "pattern": {
             "shape": ""
            }
           },
           "name": "Germany",
           "offsetgroup": "Germany",
           "orientation": "v",
           "showlegend": true,
           "textposition": "auto",
           "type": "bar",
           "x": [
            "Germany"
           ],
           "xaxis": "x",
           "y": [
            3940142541354.1
           ],
           "yaxis": "y"
          },
          {
           "alignmentgroup": "True",
           "hovertemplate": "Country=%{x}<br>date=2020<br>GDP (Trillions USD)=%{y}<extra></extra>",
           "legendgroup": "India",
           "marker": {
            "color": "#B6E880",
            "pattern": {
             "shape": ""
            }
           },
           "name": "India",
           "offsetgroup": "India",
           "orientation": "v",
           "showlegend": true,
           "textposition": "auto",
           "type": "bar",
           "x": [
            "India"
           ],
           "xaxis": "x",
           "y": [
            2674851578587.27
           ],
           "yaxis": "y"
          },
          {
           "alignmentgroup": "True",
           "hovertemplate": "Country=%{x}<br>date=2020<br>GDP (Trillions USD)=%{y}<extra></extra>",
           "legendgroup": "Indonesia",
           "marker": {
            "color": "#FF97FF",
            "pattern": {
             "shape": ""
            }
           },
           "name": "Indonesia",
           "offsetgroup": "Indonesia",
           "orientation": "v",
           "showlegend": true,
           "textposition": "auto",
           "type": "bar",
           "x": [
            "Indonesia"
           ],
           "xaxis": "x",
           "y": [
            1059054842711.55
           ],
           "yaxis": "y"
          },
          {
           "alignmentgroup": "True",
           "hovertemplate": "Country=%{x}<br>date=2020<br>GDP (Trillions USD)=%{y}<extra></extra>",
           "legendgroup": "Italy",
           "marker": {
            "color": "#FECB52",
            "pattern": {
             "shape": ""
            }
           },
           "name": "Italy",
           "offsetgroup": "Italy",
           "orientation": "v",
           "showlegend": true,
           "textposition": "auto",
           "type": "bar",
           "x": [
            "Italy"
           ],
           "xaxis": "x",
           "y": [
            1907481094079.23
           ],
           "yaxis": "y"
          },
          {
           "alignmentgroup": "True",
           "hovertemplate": "Country=%{x}<br>date=2020<br>GDP (Trillions USD)=%{y}<extra></extra>",
           "legendgroup": "Japan",
           "marker": {
            "color": "#636efa",
            "pattern": {
             "shape": ""
            }
           },
           "name": "Japan",
           "offsetgroup": "Japan",
           "orientation": "v",
           "showlegend": true,
           "textposition": "auto",
           "type": "bar",
           "x": [
            "Japan"
           ],
           "xaxis": "x",
           "y": [
            5055587093501.59
           ],
           "yaxis": "y"
          },
          {
           "alignmentgroup": "True",
           "hovertemplate": "Country=%{x}<br>date=2020<br>GDP (Trillions USD)=%{y}<extra></extra>",
           "legendgroup": "Korea, Rep.",
           "marker": {
            "color": "#EF553B",
            "pattern": {
             "shape": ""
            }
           },
           "name": "Korea, Rep.",
           "offsetgroup": "Korea, Rep.",
           "orientation": "v",
           "showlegend": true,
           "textposition": "auto",
           "type": "bar",
           "x": [
            "Korea, Rep."
           ],
           "xaxis": "x",
           "y": [
            1644312831906.17
           ],
           "yaxis": "y"
          },
          {
           "alignmentgroup": "True",
           "hovertemplate": "Country=%{x}<br>date=2020<br>GDP (Trillions USD)=%{y}<extra></extra>",
           "legendgroup": "Mexico",
           "marker": {
            "color": "#00cc96",
            "pattern": {
             "shape": ""
            }
           },
           "name": "Mexico",
           "offsetgroup": "Mexico",
           "orientation": "v",
           "showlegend": true,
           "textposition": "auto",
           "type": "bar",
           "x": [
            "Mexico"
           ],
           "xaxis": "x",
           "y": [
            1121064767261.88
           ],
           "yaxis": "y"
          },
          {
           "alignmentgroup": "True",
           "hovertemplate": "Country=%{x}<br>date=2020<br>GDP (Trillions USD)=%{y}<extra></extra>",
           "legendgroup": "Netherlands",
           "marker": {
            "color": "#ab63fa",
            "pattern": {
             "shape": ""
            }
           },
           "name": "Netherlands",
           "offsetgroup": "Netherlands",
           "orientation": "v",
           "showlegend": true,
           "textposition": "auto",
           "type": "bar",
           "x": [
            "Netherlands"
           ],
           "xaxis": "x",
           "y": [
            932560861701.17
           ],
           "yaxis": "y"
          },
          {
           "alignmentgroup": "True",
           "hovertemplate": "Country=%{x}<br>date=2020<br>GDP (Trillions USD)=%{y}<extra></extra>",
           "legendgroup": "Poland",
           "marker": {
            "color": "#FFA15A",
            "pattern": {
             "shape": ""
            }
           },
           "name": "Poland",
           "offsetgroup": "Poland",
           "orientation": "v",
           "showlegend": true,
           "textposition": "auto",
           "type": "bar",
           "x": [
            "Poland"
           ],
           "xaxis": "x",
           "y": [
            605914237903.742
           ],
           "yaxis": "y"
          },
          {
           "alignmentgroup": "True",
           "hovertemplate": "Country=%{x}<br>date=2020<br>GDP (Trillions USD)=%{y}<extra></extra>",
           "legendgroup": "Russian Federation",
           "marker": {
            "color": "#19d3f3",
            "pattern": {
             "shape": ""
            }
           },
           "name": "Russian Federation",
           "offsetgroup": "Russian Federation",
           "orientation": "v",
           "showlegend": true,
           "textposition": "auto",
           "type": "bar",
           "x": [
            "Russian Federation"
           ],
           "xaxis": "x",
           "y": [
            1493075894362.14
           ],
           "yaxis": "y"
          },
          {
           "alignmentgroup": "True",
           "hovertemplate": "Country=%{x}<br>date=2020<br>GDP (Trillions USD)=%{y}<extra></extra>",
           "legendgroup": "Saudi Arabia",
           "marker": {
            "color": "#FF6692",
            "pattern": {
             "shape": ""
            }
           },
           "name": "Saudi Arabia",
           "offsetgroup": "Saudi Arabia",
           "orientation": "v",
           "showlegend": true,
           "textposition": "auto",
           "type": "bar",
           "x": [
            "Saudi Arabia"
           ],
           "xaxis": "x",
           "y": [
            734271200000
           ],
           "yaxis": "y"
          },
          {
           "alignmentgroup": "True",
           "hovertemplate": "Country=%{x}<br>date=2020<br>GDP (Trillions USD)=%{y}<extra></extra>",
           "legendgroup": "Spain",
           "marker": {
            "color": "#B6E880",
            "pattern": {
             "shape": ""
            }
           },
           "name": "Spain",
           "offsetgroup": "Spain",
           "orientation": "v",
           "showlegend": true,
           "textposition": "auto",
           "type": "bar",
           "x": [
            "Spain"
           ],
           "xaxis": "x",
           "y": [
            1289783836971.21
           ],
           "yaxis": "y"
          },
          {
           "alignmentgroup": "True",
           "hovertemplate": "Country=%{x}<br>date=2020<br>GDP (Trillions USD)=%{y}<extra></extra>",
           "legendgroup": "Sweden",
           "marker": {
            "color": "#FF97FF",
            "pattern": {
             "shape": ""
            }
           },
           "name": "Sweden",
           "offsetgroup": "Sweden",
           "orientation": "v",
           "showlegend": true,
           "textposition": "auto",
           "type": "bar",
           "x": [
            "Sweden"
           ],
           "xaxis": "x",
           "y": [
            545147614972.141
           ],
           "yaxis": "y"
          },
          {
           "alignmentgroup": "True",
           "hovertemplate": "Country=%{x}<br>date=2020<br>GDP (Trillions USD)=%{y}<extra></extra>",
           "legendgroup": "Switzerland",
           "marker": {
            "color": "#FECB52",
            "pattern": {
             "shape": ""
            }
           },
           "name": "Switzerland",
           "offsetgroup": "Switzerland",
           "orientation": "v",
           "showlegend": true,
           "textposition": "auto",
           "type": "bar",
           "x": [
            "Switzerland"
           ],
           "xaxis": "x",
           "y": [
            741999406005.627
           ],
           "yaxis": "y"
          },
          {
           "alignmentgroup": "True",
           "hovertemplate": "Country=%{x}<br>date=2020<br>GDP (Trillions USD)=%{y}<extra></extra>",
           "legendgroup": "Thailand",
           "marker": {
            "color": "#636efa",
            "pattern": {
             "shape": ""
            }
           },
           "name": "Thailand",
           "offsetgroup": "Thailand",
           "orientation": "v",
           "showlegend": true,
           "textposition": "auto",
           "type": "bar",
           "x": [
            "Thailand"
           ],
           "xaxis": "x",
           "y": [
            500461898480.246
           ],
           "yaxis": "y"
          },
          {
           "alignmentgroup": "True",
           "hovertemplate": "Country=%{x}<br>date=2020<br>GDP (Trillions USD)=%{y}<extra></extra>",
           "legendgroup": "Turkiye",
           "marker": {
            "color": "#EF553B",
            "pattern": {
             "shape": ""
            }
           },
           "name": "Turkiye",
           "offsetgroup": "Turkiye",
           "orientation": "v",
           "showlegend": true,
           "textposition": "auto",
           "type": "bar",
           "x": [
            "Turkiye"
           ],
           "xaxis": "x",
           "y": [
            720338490327.248
           ],
           "yaxis": "y"
          },
          {
           "alignmentgroup": "True",
           "hovertemplate": "Country=%{x}<br>date=2020<br>GDP (Trillions USD)=%{y}<extra></extra>",
           "legendgroup": "United Kingdom",
           "marker": {
            "color": "#00cc96",
            "pattern": {
             "shape": ""
            }
           },
           "name": "United Kingdom",
           "offsetgroup": "United Kingdom",
           "orientation": "v",
           "showlegend": true,
           "textposition": "auto",
           "type": "bar",
           "x": [
            "United Kingdom"
           ],
           "xaxis": "x",
           "y": [
            2696778386607.65
           ],
           "yaxis": "y"
          },
          {
           "alignmentgroup": "True",
           "hovertemplate": "Country=%{x}<br>date=2020<br>GDP (Trillions USD)=%{y}<extra></extra>",
           "legendgroup": "United States",
           "marker": {
            "color": "#ab63fa",
            "pattern": {
             "shape": ""
            }
           },
           "name": "United States",
           "offsetgroup": "United States",
           "orientation": "v",
           "showlegend": true,
           "textposition": "auto",
           "type": "bar",
           "x": [
            "United States"
           ],
           "xaxis": "x",
           "y": [
            21354105000000
           ],
           "yaxis": "y"
          }
         ],
         "name": "2020"
        },
        {
         "data": [
          {
           "alignmentgroup": "True",
           "hovertemplate": "Country=%{x}<br>date=2021<br>GDP (Trillions USD)=%{y}<extra></extra>",
           "legendgroup": "Australia",
           "marker": {
            "color": "#636efa",
            "pattern": {
             "shape": ""
            }
           },
           "name": "Australia",
           "offsetgroup": "Australia",
           "orientation": "v",
           "showlegend": true,
           "textposition": "auto",
           "type": "bar",
           "x": [
            "Australia"
           ],
           "xaxis": "x",
           "y": [
            1556735770437.26
           ],
           "yaxis": "y"
          },
          {
           "alignmentgroup": "True",
           "hovertemplate": "Country=%{x}<br>date=2021<br>GDP (Trillions USD)=%{y}<extra></extra>",
           "legendgroup": "Belgium",
           "marker": {
            "color": "#EF553B",
            "pattern": {
             "shape": ""
            }
           },
           "name": "Belgium",
           "offsetgroup": "Belgium",
           "orientation": "v",
           "showlegend": true,
           "textposition": "auto",
           "type": "bar",
           "x": [
            "Belgium"
           ],
           "xaxis": "x",
           "y": [
            598494036474.409
           ],
           "yaxis": "y"
          },
          {
           "alignmentgroup": "True",
           "hovertemplate": "Country=%{x}<br>date=2021<br>GDP (Trillions USD)=%{y}<extra></extra>",
           "legendgroup": "Brazil",
           "marker": {
            "color": "#00cc96",
            "pattern": {
             "shape": ""
            }
           },
           "name": "Brazil",
           "offsetgroup": "Brazil",
           "orientation": "v",
           "showlegend": true,
           "textposition": "auto",
           "type": "bar",
           "x": [
            "Brazil"
           ],
           "xaxis": "x",
           "y": [
            1670647399034.67
           ],
           "yaxis": "y"
          },
          {
           "alignmentgroup": "True",
           "hovertemplate": "Country=%{x}<br>date=2021<br>GDP (Trillions USD)=%{y}<extra></extra>",
           "legendgroup": "Canada",
           "marker": {
            "color": "#ab63fa",
            "pattern": {
             "shape": ""
            }
           },
           "name": "Canada",
           "offsetgroup": "Canada",
           "orientation": "v",
           "showlegend": true,
           "textposition": "auto",
           "type": "bar",
           "x": [
            "Canada"
           ],
           "xaxis": "x",
           "y": [
            2007472181464.15
           ],
           "yaxis": "y"
          },
          {
           "alignmentgroup": "True",
           "hovertemplate": "Country=%{x}<br>date=2021<br>GDP (Trillions USD)=%{y}<extra></extra>",
           "legendgroup": "China",
           "marker": {
            "color": "#FFA15A",
            "pattern": {
             "shape": ""
            }
           },
           "name": "China",
           "offsetgroup": "China",
           "orientation": "v",
           "showlegend": true,
           "textposition": "auto",
           "type": "bar",
           "x": [
            "China"
           ],
           "xaxis": "x",
           "y": [
            17820459508852.2
           ],
           "yaxis": "y"
          },
          {
           "alignmentgroup": "True",
           "hovertemplate": "Country=%{x}<br>date=2021<br>GDP (Trillions USD)=%{y}<extra></extra>",
           "legendgroup": "France",
           "marker": {
            "color": "#19d3f3",
            "pattern": {
             "shape": ""
            }
           },
           "name": "France",
           "offsetgroup": "France",
           "orientation": "v",
           "showlegend": true,
           "textposition": "auto",
           "type": "bar",
           "x": [
            "France"
           ],
           "xaxis": "x",
           "y": [
            2966433692008.09
           ],
           "yaxis": "y"
          },
          {
           "alignmentgroup": "True",
           "hovertemplate": "Country=%{x}<br>date=2021<br>GDP (Trillions USD)=%{y}<extra></extra>",
           "legendgroup": "Germany",
           "marker": {
            "color": "#FF6692",
            "pattern": {
             "shape": ""
            }
           },
           "name": "Germany",
           "offsetgroup": "Germany",
           "orientation": "v",
           "showlegend": true,
           "textposition": "auto",
           "type": "bar",
           "x": [
            "Germany"
           ],
           "xaxis": "x",
           "y": [
            4348297440387.53
           ],
           "yaxis": "y"
          },
          {
           "alignmentgroup": "True",
           "hovertemplate": "Country=%{x}<br>date=2021<br>GDP (Trillions USD)=%{y}<extra></extra>",
           "legendgroup": "India",
           "marker": {
            "color": "#B6E880",
            "pattern": {
             "shape": ""
            }
           },
           "name": "India",
           "offsetgroup": "India",
           "orientation": "v",
           "showlegend": true,
           "textposition": "auto",
           "type": "bar",
           "x": [
            "India"
           ],
           "xaxis": "x",
           "y": [
            3167270623260.47
           ],
           "yaxis": "y"
          },
          {
           "alignmentgroup": "True",
           "hovertemplate": "Country=%{x}<br>date=2021<br>GDP (Trillions USD)=%{y}<extra></extra>",
           "legendgroup": "Indonesia",
           "marker": {
            "color": "#FF97FF",
            "pattern": {
             "shape": ""
            }
           },
           "name": "Indonesia",
           "offsetgroup": "Indonesia",
           "orientation": "v",
           "showlegend": true,
           "textposition": "auto",
           "type": "bar",
           "x": [
            "Indonesia"
           ],
           "xaxis": "x",
           "y": [
            1186509691070.97
           ],
           "yaxis": "y"
          },
          {
           "alignmentgroup": "True",
           "hovertemplate": "Country=%{x}<br>date=2021<br>GDP (Trillions USD)=%{y}<extra></extra>",
           "legendgroup": "Italy",
           "marker": {
            "color": "#FECB52",
            "pattern": {
             "shape": ""
            }
           },
           "name": "Italy",
           "offsetgroup": "Italy",
           "orientation": "v",
           "showlegend": true,
           "textposition": "auto",
           "type": "bar",
           "x": [
            "Italy"
           ],
           "xaxis": "x",
           "y": [
            2179207773596.09
           ],
           "yaxis": "y"
          },
          {
           "alignmentgroup": "True",
           "hovertemplate": "Country=%{x}<br>date=2021<br>GDP (Trillions USD)=%{y}<extra></extra>",
           "legendgroup": "Japan",
           "marker": {
            "color": "#636efa",
            "pattern": {
             "shape": ""
            }
           },
           "name": "Japan",
           "offsetgroup": "Japan",
           "orientation": "v",
           "showlegend": true,
           "textposition": "auto",
           "type": "bar",
           "x": [
            "Japan"
           ],
           "xaxis": "x",
           "y": [
            5034620784584.98
           ],
           "yaxis": "y"
          },
          {
           "alignmentgroup": "True",
           "hovertemplate": "Country=%{x}<br>date=2021<br>GDP (Trillions USD)=%{y}<extra></extra>",
           "legendgroup": "Korea, Rep.",
           "marker": {
            "color": "#EF553B",
            "pattern": {
             "shape": ""
            }
           },
           "name": "Korea, Rep.",
           "offsetgroup": "Korea, Rep.",
           "orientation": "v",
           "showlegend": true,
           "textposition": "auto",
           "type": "bar",
           "x": [
            "Korea, Rep."
           ],
           "xaxis": "x",
           "y": [
            1818432106880.04
           ],
           "yaxis": "y"
          },
          {
           "alignmentgroup": "True",
           "hovertemplate": "Country=%{x}<br>date=2021<br>GDP (Trillions USD)=%{y}<extra></extra>",
           "legendgroup": "Mexico",
           "marker": {
            "color": "#00cc96",
            "pattern": {
             "shape": ""
            }
           },
           "name": "Mexico",
           "offsetgroup": "Mexico",
           "orientation": "v",
           "showlegend": true,
           "textposition": "auto",
           "type": "bar",
           "x": [
            "Mexico"
           ],
           "xaxis": "x",
           "y": [
            1316569466932.59
           ],
           "yaxis": "y"
          },
          {
           "alignmentgroup": "True",
           "hovertemplate": "Country=%{x}<br>date=2021<br>GDP (Trillions USD)=%{y}<extra></extra>",
           "legendgroup": "Netherlands",
           "marker": {
            "color": "#ab63fa",
            "pattern": {
             "shape": ""
            }
           },
           "name": "Netherlands",
           "offsetgroup": "Netherlands",
           "orientation": "v",
           "showlegend": true,
           "textposition": "auto",
           "type": "bar",
           "x": [
            "Netherlands"
           ],
           "xaxis": "x",
           "y": [
            1054472123449.6
           ],
           "yaxis": "y"
          },
          {
           "alignmentgroup": "True",
           "hovertemplate": "Country=%{x}<br>date=2021<br>GDP (Trillions USD)=%{y}<extra></extra>",
           "legendgroup": "Poland",
           "marker": {
            "color": "#FFA15A",
            "pattern": {
             "shape": ""
            }
           },
           "name": "Poland",
           "offsetgroup": "Poland",
           "orientation": "v",
           "showlegend": true,
           "textposition": "auto",
           "type": "bar",
           "x": [
            "Poland"
           ],
           "xaxis": "x",
           "y": [
            689170230665.35
           ],
           "yaxis": "y"
          },
          {
           "alignmentgroup": "True",
           "hovertemplate": "Country=%{x}<br>date=2021<br>GDP (Trillions USD)=%{y}<extra></extra>",
           "legendgroup": "Russian Federation",
           "marker": {
            "color": "#19d3f3",
            "pattern": {
             "shape": ""
            }
           },
           "name": "Russian Federation",
           "offsetgroup": "Russian Federation",
           "orientation": "v",
           "showlegend": true,
           "textposition": "auto",
           "type": "bar",
           "x": [
            "Russian Federation"
           ],
           "xaxis": "x",
           "y": [
            1843392293734.38
           ],
           "yaxis": "y"
          },
          {
           "alignmentgroup": "True",
           "hovertemplate": "Country=%{x}<br>date=2021<br>GDP (Trillions USD)=%{y}<extra></extra>",
           "legendgroup": "Saudi Arabia",
           "marker": {
            "color": "#FF6692",
            "pattern": {
             "shape": ""
            }
           },
           "name": "Saudi Arabia",
           "offsetgroup": "Saudi Arabia",
           "orientation": "v",
           "showlegend": true,
           "textposition": "auto",
           "type": "bar",
           "x": [
            "Saudi Arabia"
           ],
           "xaxis": "x",
           "y": [
            874156000000
           ],
           "yaxis": "y"
          },
          {
           "alignmentgroup": "True",
           "hovertemplate": "Country=%{x}<br>date=2021<br>GDP (Trillions USD)=%{y}<extra></extra>",
           "legendgroup": "Spain",
           "marker": {
            "color": "#B6E880",
            "pattern": {
             "shape": ""
            }
           },
           "name": "Spain",
           "offsetgroup": "Spain",
           "orientation": "v",
           "showlegend": true,
           "textposition": "auto",
           "type": "bar",
           "x": [
            "Spain"
           ],
           "xaxis": "x",
           "y": [
            1461244901852.69
           ],
           "yaxis": "y"
          },
          {
           "alignmentgroup": "True",
           "hovertemplate": "Country=%{x}<br>date=2021<br>GDP (Trillions USD)=%{y}<extra></extra>",
           "legendgroup": "Sweden",
           "marker": {
            "color": "#FF97FF",
            "pattern": {
             "shape": ""
            }
           },
           "name": "Sweden",
           "offsetgroup": "Sweden",
           "orientation": "v",
           "showlegend": true,
           "textposition": "auto",
           "type": "bar",
           "x": [
            "Sweden"
           ],
           "xaxis": "x",
           "y": [
            637186904843.636
           ],
           "yaxis": "y"
          },
          {
           "alignmentgroup": "True",
           "hovertemplate": "Country=%{x}<br>date=2021<br>GDP (Trillions USD)=%{y}<extra></extra>",
           "legendgroup": "Switzerland",
           "marker": {
            "color": "#FECB52",
            "pattern": {
             "shape": ""
            }
           },
           "name": "Switzerland",
           "offsetgroup": "Switzerland",
           "orientation": "v",
           "showlegend": true,
           "textposition": "auto",
           "type": "bar",
           "x": [
            "Switzerland"
           ],
           "xaxis": "x",
           "y": [
            813408787222.499
           ],
           "yaxis": "y"
          },
          {
           "alignmentgroup": "True",
           "hovertemplate": "Country=%{x}<br>date=2021<br>GDP (Trillions USD)=%{y}<extra></extra>",
           "legendgroup": "Thailand",
           "marker": {
            "color": "#636efa",
            "pattern": {
             "shape": ""
            }
           },
           "name": "Thailand",
           "offsetgroup": "Thailand",
           "orientation": "v",
           "showlegend": true,
           "textposition": "auto",
           "type": "bar",
           "x": [
            "Thailand"
           ],
           "xaxis": "x",
           "y": [
            506256494297.34
           ],
           "yaxis": "y"
          },
          {
           "alignmentgroup": "True",
           "hovertemplate": "Country=%{x}<br>date=2021<br>GDP (Trillions USD)=%{y}<extra></extra>",
           "legendgroup": "Turkiye",
           "marker": {
            "color": "#EF553B",
            "pattern": {
             "shape": ""
            }
           },
           "name": "Turkiye",
           "offsetgroup": "Turkiye",
           "orientation": "v",
           "showlegend": true,
           "textposition": "auto",
           "type": "bar",
           "x": [
            "Turkiye"
           ],
           "xaxis": "x",
           "y": [
            819865223976.115
           ],
           "yaxis": "y"
          },
          {
           "alignmentgroup": "True",
           "hovertemplate": "Country=%{x}<br>date=2021<br>GDP (Trillions USD)=%{y}<extra></extra>",
           "legendgroup": "United Kingdom",
           "marker": {
            "color": "#00cc96",
            "pattern": {
             "shape": ""
            }
           },
           "name": "United Kingdom",
           "offsetgroup": "United Kingdom",
           "orientation": "v",
           "showlegend": true,
           "textposition": "auto",
           "type": "bar",
           "x": [
            "United Kingdom"
           ],
           "xaxis": "x",
           "y": [
            3143323050707.26
           ],
           "yaxis": "y"
          },
          {
           "alignmentgroup": "True",
           "hovertemplate": "Country=%{x}<br>date=2021<br>GDP (Trillions USD)=%{y}<extra></extra>",
           "legendgroup": "United States",
           "marker": {
            "color": "#ab63fa",
            "pattern": {
             "shape": ""
            }
           },
           "name": "United States",
           "offsetgroup": "United States",
           "orientation": "v",
           "showlegend": true,
           "textposition": "auto",
           "type": "bar",
           "x": [
            "United States"
           ],
           "xaxis": "x",
           "y": [
            23681171000000
           ],
           "yaxis": "y"
          }
         ],
         "name": "2021"
        },
        {
         "data": [
          {
           "alignmentgroup": "True",
           "hovertemplate": "Country=%{x}<br>date=2022<br>GDP (Trillions USD)=%{y}<extra></extra>",
           "legendgroup": "Australia",
           "marker": {
            "color": "#636efa",
            "pattern": {
             "shape": ""
            }
           },
           "name": "Australia",
           "offsetgroup": "Australia",
           "orientation": "v",
           "showlegend": true,
           "textposition": "auto",
           "type": "bar",
           "x": [
            "Australia"
           ],
           "xaxis": "x",
           "y": [
            1690858246994.43
           ],
           "yaxis": "y"
          },
          {
           "alignmentgroup": "True",
           "hovertemplate": "Country=%{x}<br>date=2022<br>GDP (Trillions USD)=%{y}<extra></extra>",
           "legendgroup": "Belgium",
           "marker": {
            "color": "#EF553B",
            "pattern": {
             "shape": ""
            }
           },
           "name": "Belgium",
           "offsetgroup": "Belgium",
           "orientation": "v",
           "showlegend": true,
           "textposition": "auto",
           "type": "bar",
           "x": [
            "Belgium"
           ],
           "xaxis": "x",
           "y": [
            593438820508.173
           ],
           "yaxis": "y"
          },
          {
           "alignmentgroup": "True",
           "hovertemplate": "Country=%{x}<br>date=2022<br>GDP (Trillions USD)=%{y}<extra></extra>",
           "legendgroup": "Brazil",
           "marker": {
            "color": "#00cc96",
            "pattern": {
             "shape": ""
            }
           },
           "name": "Brazil",
           "offsetgroup": "Brazil",
           "orientation": "v",
           "showlegend": true,
           "textposition": "auto",
           "type": "bar",
           "x": [
            "Brazil"
           ],
           "xaxis": "x",
           "y": [
            1951923942083.32
           ],
           "yaxis": "y"
          },
          {
           "alignmentgroup": "True",
           "hovertemplate": "Country=%{x}<br>date=2022<br>GDP (Trillions USD)=%{y}<extra></extra>",
           "legendgroup": "Canada",
           "marker": {
            "color": "#ab63fa",
            "pattern": {
             "shape": ""
            }
           },
           "name": "Canada",
           "offsetgroup": "Canada",
           "orientation": "v",
           "showlegend": true,
           "textposition": "auto",
           "type": "bar",
           "x": [
            "Canada"
           ],
           "xaxis": "x",
           "y": [
            2161483369422.01
           ],
           "yaxis": "y"
          },
          {
           "alignmentgroup": "True",
           "hovertemplate": "Country=%{x}<br>date=2022<br>GDP (Trillions USD)=%{y}<extra></extra>",
           "legendgroup": "China",
           "marker": {
            "color": "#FFA15A",
            "pattern": {
             "shape": ""
            }
           },
           "name": "China",
           "offsetgroup": "China",
           "orientation": "v",
           "showlegend": true,
           "textposition": "auto",
           "type": "bar",
           "x": [
            "China"
           ],
           "xaxis": "x",
           "y": [
            17881782683707.3
           ],
           "yaxis": "y"
          },
          {
           "alignmentgroup": "True",
           "hovertemplate": "Country=%{x}<br>date=2022<br>GDP (Trillions USD)=%{y}<extra></extra>",
           "legendgroup": "France",
           "marker": {
            "color": "#19d3f3",
            "pattern": {
             "shape": ""
            }
           },
           "name": "France",
           "offsetgroup": "France",
           "orientation": "v",
           "showlegend": true,
           "textposition": "auto",
           "type": "bar",
           "x": [
            "France"
           ],
           "xaxis": "x",
           "y": [
            2796302210398.84
           ],
           "yaxis": "y"
          },
          {
           "alignmentgroup": "True",
           "hovertemplate": "Country=%{x}<br>date=2022<br>GDP (Trillions USD)=%{y}<extra></extra>",
           "legendgroup": "Germany",
           "marker": {
            "color": "#FF6692",
            "pattern": {
             "shape": ""
            }
           },
           "name": "Germany",
           "offsetgroup": "Germany",
           "orientation": "v",
           "showlegend": true,
           "textposition": "auto",
           "type": "bar",
           "x": [
            "Germany"
           ],
           "xaxis": "x",
           "y": [
            4163596357879.39
           ],
           "yaxis": "y"
          },
          {
           "alignmentgroup": "True",
           "hovertemplate": "Country=%{x}<br>date=2022<br>GDP (Trillions USD)=%{y}<extra></extra>",
           "legendgroup": "India",
           "marker": {
            "color": "#B6E880",
            "pattern": {
             "shape": ""
            }
           },
           "name": "India",
           "offsetgroup": "India",
           "orientation": "v",
           "showlegend": true,
           "textposition": "auto",
           "type": "bar",
           "x": [
            "India"
           ],
           "xaxis": "x",
           "y": [
            3353470496886.33
           ],
           "yaxis": "y"
          },
          {
           "alignmentgroup": "True",
           "hovertemplate": "Country=%{x}<br>date=2022<br>GDP (Trillions USD)=%{y}<extra></extra>",
           "legendgroup": "Indonesia",
           "marker": {
            "color": "#FF97FF",
            "pattern": {
             "shape": ""
            }
           },
           "name": "Indonesia",
           "offsetgroup": "Indonesia",
           "orientation": "v",
           "showlegend": true,
           "textposition": "auto",
           "type": "bar",
           "x": [
            "Indonesia"
           ],
           "xaxis": "x",
           "y": [
            1319076267291.51
           ],
           "yaxis": "y"
          },
          {
           "alignmentgroup": "True",
           "hovertemplate": "Country=%{x}<br>date=2022<br>GDP (Trillions USD)=%{y}<extra></extra>",
           "legendgroup": "Italy",
           "marker": {
            "color": "#FECB52",
            "pattern": {
             "shape": ""
            }
           },
           "name": "Italy",
           "offsetgroup": "Italy",
           "orientation": "v",
           "showlegend": true,
           "textposition": "auto",
           "type": "bar",
           "x": [
            "Italy"
           ],
           "xaxis": "x",
           "y": [
            2102995942720.44
           ],
           "yaxis": "y"
          },
          {
           "alignmentgroup": "True",
           "hovertemplate": "Country=%{x}<br>date=2022<br>GDP (Trillions USD)=%{y}<extra></extra>",
           "legendgroup": "Japan",
           "marker": {
            "color": "#636efa",
            "pattern": {
             "shape": ""
            }
           },
           "name": "Japan",
           "offsetgroup": "Japan",
           "orientation": "v",
           "showlegend": true,
           "textposition": "auto",
           "type": "bar",
           "x": [
            "Japan"
           ],
           "xaxis": "x",
           "y": [
            4256410760723.75
           ],
           "yaxis": "y"
          },
          {
           "alignmentgroup": "True",
           "hovertemplate": "Country=%{x}<br>date=2022<br>GDP (Trillions USD)=%{y}<extra></extra>",
           "legendgroup": "Korea, Rep.",
           "marker": {
            "color": "#EF553B",
            "pattern": {
             "shape": ""
            }
           },
           "name": "Korea, Rep.",
           "offsetgroup": "Korea, Rep.",
           "orientation": "v",
           "showlegend": true,
           "textposition": "auto",
           "type": "bar",
           "x": [
            "Korea, Rep."
           ],
           "xaxis": "x",
           "y": [
            1673916511799.71
           ],
           "yaxis": "y"
          },
          {
           "alignmentgroup": "True",
           "hovertemplate": "Country=%{x}<br>date=2022<br>GDP (Trillions USD)=%{y}<extra></extra>",
           "legendgroup": "Mexico",
           "marker": {
            "color": "#00cc96",
            "pattern": {
             "shape": ""
            }
           },
           "name": "Mexico",
           "offsetgroup": "Mexico",
           "orientation": "v",
           "showlegend": true,
           "textposition": "auto",
           "type": "bar",
           "x": [
            "Mexico"
           ],
           "xaxis": "x",
           "y": [
            1464312692331.58
           ],
           "yaxis": "y"
          },
          {
           "alignmentgroup": "True",
           "hovertemplate": "Country=%{x}<br>date=2022<br>GDP (Trillions USD)=%{y}<extra></extra>",
           "legendgroup": "Netherlands",
           "marker": {
            "color": "#ab63fa",
            "pattern": {
             "shape": ""
            }
           },
           "name": "Netherlands",
           "offsetgroup": "Netherlands",
           "orientation": "v",
           "showlegend": true,
           "textposition": "auto",
           "type": "bar",
           "x": [
            "Netherlands"
           ],
           "xaxis": "x",
           "y": [
            1046540797548.64
           ],
           "yaxis": "y"
          },
          {
           "alignmentgroup": "True",
           "hovertemplate": "Country=%{x}<br>date=2022<br>GDP (Trillions USD)=%{y}<extra></extra>",
           "legendgroup": "Poland",
           "marker": {
            "color": "#FFA15A",
            "pattern": {
             "shape": ""
            }
           },
           "name": "Poland",
           "offsetgroup": "Poland",
           "orientation": "v",
           "showlegend": true,
           "textposition": "auto",
           "type": "bar",
           "x": [
            "Poland"
           ],
           "xaxis": "x",
           "y": [
            695607470875.276
           ],
           "yaxis": "y"
          },
          {
           "alignmentgroup": "True",
           "hovertemplate": "Country=%{x}<br>date=2022<br>GDP (Trillions USD)=%{y}<extra></extra>",
           "legendgroup": "Russian Federation",
           "marker": {
            "color": "#19d3f3",
            "pattern": {
             "shape": ""
            }
           },
           "name": "Russian Federation",
           "offsetgroup": "Russian Federation",
           "orientation": "v",
           "showlegend": true,
           "textposition": "auto",
           "type": "bar",
           "x": [
            "Russian Federation"
           ],
           "xaxis": "x",
           "y": [
            2266029240645.34
           ],
           "yaxis": "y"
          },
          {
           "alignmentgroup": "True",
           "hovertemplate": "Country=%{x}<br>date=2022<br>GDP (Trillions USD)=%{y}<extra></extra>",
           "legendgroup": "Saudi Arabia",
           "marker": {
            "color": "#FF6692",
            "pattern": {
             "shape": ""
            }
           },
           "name": "Saudi Arabia",
           "offsetgroup": "Saudi Arabia",
           "orientation": "v",
           "showlegend": true,
           "textposition": "auto",
           "type": "bar",
           "x": [
            "Saudi Arabia"
           ],
           "xaxis": "x",
           "y": [
            1108571466666.67
           ],
           "yaxis": "y"
          },
          {
           "alignmentgroup": "True",
           "hovertemplate": "Country=%{x}<br>date=2022<br>GDP (Trillions USD)=%{y}<extra></extra>",
           "legendgroup": "Spain",
           "marker": {
            "color": "#B6E880",
            "pattern": {
             "shape": ""
            }
           },
           "name": "Spain",
           "offsetgroup": "Spain",
           "orientation": "v",
           "showlegend": true,
           "textposition": "auto",
           "type": "bar",
           "x": [
            "Spain"
           ],
           "xaxis": "x",
           "y": [
            1446498147749.03
           ],
           "yaxis": "y"
          },
          {
           "alignmentgroup": "True",
           "hovertemplate": "Country=%{x}<br>date=2022<br>GDP (Trillions USD)=%{y}<extra></extra>",
           "legendgroup": "Sweden",
           "marker": {
            "color": "#FF97FF",
            "pattern": {
             "shape": ""
            }
           },
           "name": "Sweden",
           "offsetgroup": "Sweden",
           "orientation": "v",
           "showlegend": true,
           "textposition": "auto",
           "type": "bar",
           "x": [
            "Sweden"
           ],
           "xaxis": "x",
           "y": [
            579895717343.956
           ],
           "yaxis": "y"
          },
          {
           "alignmentgroup": "True",
           "hovertemplate": "Country=%{x}<br>date=2022<br>GDP (Trillions USD)=%{y}<extra></extra>",
           "legendgroup": "Switzerland",
           "marker": {
            "color": "#FECB52",
            "pattern": {
             "shape": ""
            }
           },
           "name": "Switzerland",
           "offsetgroup": "Switzerland",
           "orientation": "v",
           "showlegend": true,
           "textposition": "auto",
           "type": "bar",
           "x": [
            "Switzerland"
           ],
           "xaxis": "x",
           "y": [
            818426550206.45
           ],
           "yaxis": "y"
          },
          {
           "alignmentgroup": "True",
           "hovertemplate": "Country=%{x}<br>date=2022<br>GDP (Trillions USD)=%{y}<extra></extra>",
           "legendgroup": "Thailand",
           "marker": {
            "color": "#636efa",
            "pattern": {
             "shape": ""
            }
           },
           "name": "Thailand",
           "offsetgroup": "Thailand",
           "orientation": "v",
           "showlegend": true,
           "textposition": "auto",
           "type": "bar",
           "x": [
            "Thailand"
           ],
           "xaxis": "x",
           "y": [
            495645210972.751
           ],
           "yaxis": "y"
          },
          {
           "alignmentgroup": "True",
           "hovertemplate": "Country=%{x}<br>date=2022<br>GDP (Trillions USD)=%{y}<extra></extra>",
           "legendgroup": "Turkiye",
           "marker": {
            "color": "#EF553B",
            "pattern": {
             "shape": ""
            }
           },
           "name": "Turkiye",
           "offsetgroup": "Turkiye",
           "orientation": "v",
           "showlegend": true,
           "textposition": "auto",
           "type": "bar",
           "x": [
            "Turkiye"
           ],
           "xaxis": "x",
           "y": [
            907118434653.505
           ],
           "yaxis": "y"
          },
          {
           "alignmentgroup": "True",
           "hovertemplate": "Country=%{x}<br>date=2022<br>GDP (Trillions USD)=%{y}<extra></extra>",
           "legendgroup": "United Kingdom",
           "marker": {
            "color": "#00cc96",
            "pattern": {
             "shape": ""
            }
           },
           "name": "United Kingdom",
           "offsetgroup": "United Kingdom",
           "orientation": "v",
           "showlegend": true,
           "textposition": "auto",
           "type": "bar",
           "x": [
            "United Kingdom"
           ],
           "xaxis": "x",
           "y": [
            3114042471144.39
           ],
           "yaxis": "y"
          },
          {
           "alignmentgroup": "True",
           "hovertemplate": "Country=%{x}<br>date=2022<br>GDP (Trillions USD)=%{y}<extra></extra>",
           "legendgroup": "United States",
           "marker": {
            "color": "#ab63fa",
            "pattern": {
             "shape": ""
            }
           },
           "name": "United States",
           "offsetgroup": "United States",
           "orientation": "v",
           "showlegend": true,
           "textposition": "auto",
           "type": "bar",
           "x": [
            "United States"
           ],
           "xaxis": "x",
           "y": [
            26006893000000
           ],
           "yaxis": "y"
          }
         ],
         "name": "2022"
        },
        {
         "data": [
          {
           "alignmentgroup": "True",
           "hovertemplate": "Country=%{x}<br>date=2023<br>GDP (Trillions USD)=%{y}<extra></extra>",
           "legendgroup": "Australia",
           "marker": {
            "color": "#636efa",
            "pattern": {
             "shape": ""
            }
           },
           "name": "Australia",
           "offsetgroup": "Australia",
           "orientation": "v",
           "showlegend": true,
           "textposition": "auto",
           "type": "bar",
           "x": [
            "Australia"
           ],
           "xaxis": "x",
           "y": [
            1728057316695.61
           ],
           "yaxis": "y"
          },
          {
           "alignmentgroup": "True",
           "hovertemplate": "Country=%{x}<br>date=2023<br>GDP (Trillions USD)=%{y}<extra></extra>",
           "legendgroup": "Belgium",
           "marker": {
            "color": "#EF553B",
            "pattern": {
             "shape": ""
            }
           },
           "name": "Belgium",
           "offsetgroup": "Belgium",
           "orientation": "v",
           "showlegend": true,
           "textposition": "auto",
           "type": "bar",
           "x": [
            "Belgium"
           ],
           "xaxis": "x",
           "y": [
            644782756682.756
           ],
           "yaxis": "y"
          },
          {
           "alignmentgroup": "True",
           "hovertemplate": "Country=%{x}<br>date=2023<br>GDP (Trillions USD)=%{y}<extra></extra>",
           "legendgroup": "Brazil",
           "marker": {
            "color": "#00cc96",
            "pattern": {
             "shape": ""
            }
           },
           "name": "Brazil",
           "offsetgroup": "Brazil",
           "orientation": "v",
           "showlegend": true,
           "textposition": "auto",
           "type": "bar",
           "x": [
            "Brazil"
           ],
           "xaxis": "x",
           "y": [
            2173665655937.27
           ],
           "yaxis": "y"
          },
          {
           "alignmentgroup": "True",
           "hovertemplate": "Country=%{x}<br>date=2023<br>GDP (Trillions USD)=%{y}<extra></extra>",
           "legendgroup": "Canada",
           "marker": {
            "color": "#ab63fa",
            "pattern": {
             "shape": ""
            }
           },
           "name": "Canada",
           "offsetgroup": "Canada",
           "orientation": "v",
           "showlegend": true,
           "textposition": "auto",
           "type": "bar",
           "x": [
            "Canada"
           ],
           "xaxis": "x",
           "y": [
            2142470914401.36
           ],
           "yaxis": "y"
          },
          {
           "alignmentgroup": "True",
           "hovertemplate": "Country=%{x}<br>date=2023<br>GDP (Trillions USD)=%{y}<extra></extra>",
           "legendgroup": "China",
           "marker": {
            "color": "#FFA15A",
            "pattern": {
             "shape": ""
            }
           },
           "name": "China",
           "offsetgroup": "China",
           "orientation": "v",
           "showlegend": true,
           "textposition": "auto",
           "type": "bar",
           "x": [
            "China"
           ],
           "xaxis": "x",
           "y": [
            17794783039552
           ],
           "yaxis": "y"
          },
          {
           "alignmentgroup": "True",
           "hovertemplate": "Country=%{x}<br>date=2023<br>GDP (Trillions USD)=%{y}<extra></extra>",
           "legendgroup": "France",
           "marker": {
            "color": "#19d3f3",
            "pattern": {
             "shape": ""
            }
           },
           "name": "France",
           "offsetgroup": "France",
           "orientation": "v",
           "showlegend": true,
           "textposition": "auto",
           "type": "bar",
           "x": [
            "France"
           ],
           "xaxis": "x",
           "y": [
            3051831611384.76
           ],
           "yaxis": "y"
          },
          {
           "alignmentgroup": "True",
           "hovertemplate": "Country=%{x}<br>date=2023<br>GDP (Trillions USD)=%{y}<extra></extra>",
           "legendgroup": "Germany",
           "marker": {
            "color": "#FF6692",
            "pattern": {
             "shape": ""
            }
           },
           "name": "Germany",
           "offsetgroup": "Germany",
           "orientation": "v",
           "showlegend": true,
           "textposition": "auto",
           "type": "bar",
           "x": [
            "Germany"
           ],
           "xaxis": "x",
           "y": [
            4525703903627.53
           ],
           "yaxis": "y"
          },
          {
           "alignmentgroup": "True",
           "hovertemplate": "Country=%{x}<br>date=2023<br>GDP (Trillions USD)=%{y}<extra></extra>",
           "legendgroup": "India",
           "marker": {
            "color": "#B6E880",
            "pattern": {
             "shape": ""
            }
           },
           "name": "India",
           "offsetgroup": "India",
           "orientation": "v",
           "showlegend": true,
           "textposition": "auto",
           "type": "bar",
           "x": [
            "India"
           ],
           "xaxis": "x",
           "y": [
            3567551674623.01
           ],
           "yaxis": "y"
          },
          {
           "alignmentgroup": "True",
           "hovertemplate": "Country=%{x}<br>date=2023<br>GDP (Trillions USD)=%{y}<extra></extra>",
           "legendgroup": "Indonesia",
           "marker": {
            "color": "#FF97FF",
            "pattern": {
             "shape": ""
            }
           },
           "name": "Indonesia",
           "offsetgroup": "Indonesia",
           "orientation": "v",
           "showlegend": true,
           "textposition": "auto",
           "type": "bar",
           "x": [
            "Indonesia"
           ],
           "xaxis": "x",
           "y": [
            1371171152331.16
           ],
           "yaxis": "y"
          },
          {
           "alignmentgroup": "True",
           "hovertemplate": "Country=%{x}<br>date=2023<br>GDP (Trillions USD)=%{y}<extra></extra>",
           "legendgroup": "Italy",
           "marker": {
            "color": "#FECB52",
            "pattern": {
             "shape": ""
            }
           },
           "name": "Italy",
           "offsetgroup": "Italy",
           "orientation": "v",
           "showlegend": true,
           "textposition": "auto",
           "type": "bar",
           "x": [
            "Italy"
           ],
           "xaxis": "x",
           "y": [
            2300941152991.81
           ],
           "yaxis": "y"
          },
          {
           "alignmentgroup": "True",
           "hovertemplate": "Country=%{x}<br>date=2023<br>GDP (Trillions USD)=%{y}<extra></extra>",
           "legendgroup": "Japan",
           "marker": {
            "color": "#636efa",
            "pattern": {
             "shape": ""
            }
           },
           "name": "Japan",
           "offsetgroup": "Japan",
           "orientation": "v",
           "showlegend": true,
           "textposition": "auto",
           "type": "bar",
           "x": [
            "Japan"
           ],
           "xaxis": "x",
           "y": [
            4204494802431.55
           ],
           "yaxis": "y"
          },
          {
           "alignmentgroup": "True",
           "hovertemplate": "Country=%{x}<br>date=2023<br>GDP (Trillions USD)=%{y}<extra></extra>",
           "legendgroup": "Korea, Rep.",
           "marker": {
            "color": "#EF553B",
            "pattern": {
             "shape": ""
            }
           },
           "name": "Korea, Rep.",
           "offsetgroup": "Korea, Rep.",
           "orientation": "v",
           "showlegend": true,
           "textposition": "auto",
           "type": "bar",
           "x": [
            "Korea, Rep."
           ],
           "xaxis": "x",
           "y": [
            1712792854202.37
           ],
           "yaxis": "y"
          },
          {
           "alignmentgroup": "True",
           "hovertemplate": "Country=%{x}<br>date=2023<br>GDP (Trillions USD)=%{y}<extra></extra>",
           "legendgroup": "Mexico",
           "marker": {
            "color": "#00cc96",
            "pattern": {
             "shape": ""
            }
           },
           "name": "Mexico",
           "offsetgroup": "Mexico",
           "orientation": "v",
           "showlegend": true,
           "textposition": "auto",
           "type": "bar",
           "x": [
            "Mexico"
           ],
           "xaxis": "x",
           "y": [
            1789114434843.46
           ],
           "yaxis": "y"
          },
          {
           "alignmentgroup": "True",
           "hovertemplate": "Country=%{x}<br>date=2023<br>GDP (Trillions USD)=%{y}<extra></extra>",
           "legendgroup": "Netherlands",
           "marker": {
            "color": "#ab63fa",
            "pattern": {
             "shape": ""
            }
           },
           "name": "Netherlands",
           "offsetgroup": "Netherlands",
           "orientation": "v",
           "showlegend": true,
           "textposition": "auto",
           "type": "bar",
           "x": [
            "Netherlands"
           ],
           "xaxis": "x",
           "y": [
            1154361305398.06
           ],
           "yaxis": "y"
          },
          {
           "alignmentgroup": "True",
           "hovertemplate": "Country=%{x}<br>date=2023<br>GDP (Trillions USD)=%{y}<extra></extra>",
           "legendgroup": "Poland",
           "marker": {
            "color": "#FFA15A",
            "pattern": {
             "shape": ""
            }
           },
           "name": "Poland",
           "offsetgroup": "Poland",
           "orientation": "v",
           "showlegend": true,
           "textposition": "auto",
           "type": "bar",
           "x": [
            "Poland"
           ],
           "xaxis": "x",
           "y": [
            809200697797.088
           ],
           "yaxis": "y"
          },
          {
           "alignmentgroup": "True",
           "hovertemplate": "Country=%{x}<br>date=2023<br>GDP (Trillions USD)=%{y}<extra></extra>",
           "legendgroup": "Russian Federation",
           "marker": {
            "color": "#19d3f3",
            "pattern": {
             "shape": ""
            }
           },
           "name": "Russian Federation",
           "offsetgroup": "Russian Federation",
           "orientation": "v",
           "showlegend": true,
           "textposition": "auto",
           "type": "bar",
           "x": [
            "Russian Federation"
           ],
           "xaxis": "x",
           "y": [
            2021421476035.42
           ],
           "yaxis": "y"
          },
          {
           "alignmentgroup": "True",
           "hovertemplate": "Country=%{x}<br>date=2023<br>GDP (Trillions USD)=%{y}<extra></extra>",
           "legendgroup": "Saudi Arabia",
           "marker": {
            "color": "#FF6692",
            "pattern": {
             "shape": ""
            }
           },
           "name": "Saudi Arabia",
           "offsetgroup": "Saudi Arabia",
           "orientation": "v",
           "showlegend": true,
           "textposition": "auto",
           "type": "bar",
           "x": [
            "Saudi Arabia"
           ],
           "xaxis": "x",
           "y": [
            1067582933333.33
           ],
           "yaxis": "y"
          },
          {
           "alignmentgroup": "True",
           "hovertemplate": "Country=%{x}<br>date=2023<br>GDP (Trillions USD)=%{y}<extra></extra>",
           "legendgroup": "Spain",
           "marker": {
            "color": "#B6E880",
            "pattern": {
             "shape": ""
            }
           },
           "name": "Spain",
           "offsetgroup": "Spain",
           "orientation": "v",
           "showlegend": true,
           "textposition": "auto",
           "type": "bar",
           "x": [
            "Spain"
           ],
           "xaxis": "x",
           "y": [
            1620090734956.89
           ],
           "yaxis": "y"
          },
          {
           "alignmentgroup": "True",
           "hovertemplate": "Country=%{x}<br>date=2023<br>GDP (Trillions USD)=%{y}<extra></extra>",
           "legendgroup": "Sweden",
           "marker": {
            "color": "#FF97FF",
            "pattern": {
             "shape": ""
            }
           },
           "name": "Sweden",
           "offsetgroup": "Sweden",
           "orientation": "v",
           "showlegend": true,
           "textposition": "auto",
           "type": "bar",
           "x": [
            "Sweden"
           ],
           "xaxis": "x",
           "y": [
            584960475767.32
           ],
           "yaxis": "y"
          },
          {
           "alignmentgroup": "True",
           "hovertemplate": "Country=%{x}<br>date=2023<br>GDP (Trillions USD)=%{y}<extra></extra>",
           "legendgroup": "Switzerland",
           "marker": {
            "color": "#FECB52",
            "pattern": {
             "shape": ""
            }
           },
           "name": "Switzerland",
           "offsetgroup": "Switzerland",
           "orientation": "v",
           "showlegend": true,
           "textposition": "auto",
           "type": "bar",
           "x": [
            "Switzerland"
           ],
           "xaxis": "x",
           "y": [
            884940402230.409
           ],
           "yaxis": "y"
          },
          {
           "alignmentgroup": "True",
           "hovertemplate": "Country=%{x}<br>date=2023<br>GDP (Trillions USD)=%{y}<extra></extra>",
           "legendgroup": "Thailand",
           "marker": {
            "color": "#636efa",
            "pattern": {
             "shape": ""
            }
           },
           "name": "Thailand",
           "offsetgroup": "Thailand",
           "orientation": "v",
           "showlegend": true,
           "textposition": "auto",
           "type": "bar",
           "x": [
            "Thailand"
           ],
           "xaxis": "x",
           "y": [
            514968699239.005
           ],
           "yaxis": "y"
          },
          {
           "alignmentgroup": "True",
           "hovertemplate": "Country=%{x}<br>date=2023<br>GDP (Trillions USD)=%{y}<extra></extra>",
           "legendgroup": "Turkiye",
           "marker": {
            "color": "#EF553B",
            "pattern": {
             "shape": ""
            }
           },
           "name": "Turkiye",
           "offsetgroup": "Turkiye",
           "orientation": "v",
           "showlegend": true,
           "textposition": "auto",
           "type": "bar",
           "x": [
            "Turkiye"
           ],
           "xaxis": "x",
           "y": [
            1118252964260.77
           ],
           "yaxis": "y"
          },
          {
           "alignmentgroup": "True",
           "hovertemplate": "Country=%{x}<br>date=2023<br>GDP (Trillions USD)=%{y}<extra></extra>",
           "legendgroup": "United Kingdom",
           "marker": {
            "color": "#00cc96",
            "pattern": {
             "shape": ""
            }
           },
           "name": "United Kingdom",
           "offsetgroup": "United Kingdom",
           "orientation": "v",
           "showlegend": true,
           "textposition": "auto",
           "type": "bar",
           "x": [
            "United Kingdom"
           ],
           "xaxis": "x",
           "y": [
            3380854520809.54
           ],
           "yaxis": "y"
          },
          {
           "alignmentgroup": "True",
           "hovertemplate": "Country=%{x}<br>date=2023<br>GDP (Trillions USD)=%{y}<extra></extra>",
           "legendgroup": "United States",
           "marker": {
            "color": "#ab63fa",
            "pattern": {
             "shape": ""
            }
           },
           "name": "United States",
           "offsetgroup": "United States",
           "orientation": "v",
           "showlegend": true,
           "textposition": "auto",
           "type": "bar",
           "x": [
            "United States"
           ],
           "xaxis": "x",
           "y": [
            27720709000000
           ],
           "yaxis": "y"
          }
         ],
         "name": "2023"
        }
       ],
       "layout": {
        "barmode": "relative",
        "legend": {
         "title": {
          "text": "Country"
         },
         "tracegroupgap": 0
        },
        "sliders": [
         {
          "active": 0,
          "currentvalue": {
           "prefix": "date="
          },
          "len": 0.9,
          "pad": {
           "b": 10,
           "t": 60
          },
          "steps": [
           {
            "args": [
             [
              "1989"
             ],
             {
              "frame": {
               "duration": 0,
               "redraw": true
              },
              "fromcurrent": true,
              "mode": "immediate",
              "transition": {
               "duration": 0,
               "easing": "linear"
              }
             }
            ],
            "label": "1989",
            "method": "animate"
           },
           {
            "args": [
             [
              "1990"
             ],
             {
              "frame": {
               "duration": 0,
               "redraw": true
              },
              "fromcurrent": true,
              "mode": "immediate",
              "transition": {
               "duration": 0,
               "easing": "linear"
              }
             }
            ],
            "label": "1990",
            "method": "animate"
           },
           {
            "args": [
             [
              "1991"
             ],
             {
              "frame": {
               "duration": 0,
               "redraw": true
              },
              "fromcurrent": true,
              "mode": "immediate",
              "transition": {
               "duration": 0,
               "easing": "linear"
              }
             }
            ],
            "label": "1991",
            "method": "animate"
           },
           {
            "args": [
             [
              "1992"
             ],
             {
              "frame": {
               "duration": 0,
               "redraw": true
              },
              "fromcurrent": true,
              "mode": "immediate",
              "transition": {
               "duration": 0,
               "easing": "linear"
              }
             }
            ],
            "label": "1992",
            "method": "animate"
           },
           {
            "args": [
             [
              "1993"
             ],
             {
              "frame": {
               "duration": 0,
               "redraw": true
              },
              "fromcurrent": true,
              "mode": "immediate",
              "transition": {
               "duration": 0,
               "easing": "linear"
              }
             }
            ],
            "label": "1993",
            "method": "animate"
           },
           {
            "args": [
             [
              "1994"
             ],
             {
              "frame": {
               "duration": 0,
               "redraw": true
              },
              "fromcurrent": true,
              "mode": "immediate",
              "transition": {
               "duration": 0,
               "easing": "linear"
              }
             }
            ],
            "label": "1994",
            "method": "animate"
           },
           {
            "args": [
             [
              "1995"
             ],
             {
              "frame": {
               "duration": 0,
               "redraw": true
              },
              "fromcurrent": true,
              "mode": "immediate",
              "transition": {
               "duration": 0,
               "easing": "linear"
              }
             }
            ],
            "label": "1995",
            "method": "animate"
           },
           {
            "args": [
             [
              "1996"
             ],
             {
              "frame": {
               "duration": 0,
               "redraw": true
              },
              "fromcurrent": true,
              "mode": "immediate",
              "transition": {
               "duration": 0,
               "easing": "linear"
              }
             }
            ],
            "label": "1996",
            "method": "animate"
           },
           {
            "args": [
             [
              "1997"
             ],
             {
              "frame": {
               "duration": 0,
               "redraw": true
              },
              "fromcurrent": true,
              "mode": "immediate",
              "transition": {
               "duration": 0,
               "easing": "linear"
              }
             }
            ],
            "label": "1997",
            "method": "animate"
           },
           {
            "args": [
             [
              "1998"
             ],
             {
              "frame": {
               "duration": 0,
               "redraw": true
              },
              "fromcurrent": true,
              "mode": "immediate",
              "transition": {
               "duration": 0,
               "easing": "linear"
              }
             }
            ],
            "label": "1998",
            "method": "animate"
           },
           {
            "args": [
             [
              "1999"
             ],
             {
              "frame": {
               "duration": 0,
               "redraw": true
              },
              "fromcurrent": true,
              "mode": "immediate",
              "transition": {
               "duration": 0,
               "easing": "linear"
              }
             }
            ],
            "label": "1999",
            "method": "animate"
           },
           {
            "args": [
             [
              "2000"
             ],
             {
              "frame": {
               "duration": 0,
               "redraw": true
              },
              "fromcurrent": true,
              "mode": "immediate",
              "transition": {
               "duration": 0,
               "easing": "linear"
              }
             }
            ],
            "label": "2000",
            "method": "animate"
           },
           {
            "args": [
             [
              "2001"
             ],
             {
              "frame": {
               "duration": 0,
               "redraw": true
              },
              "fromcurrent": true,
              "mode": "immediate",
              "transition": {
               "duration": 0,
               "easing": "linear"
              }
             }
            ],
            "label": "2001",
            "method": "animate"
           },
           {
            "args": [
             [
              "2002"
             ],
             {
              "frame": {
               "duration": 0,
               "redraw": true
              },
              "fromcurrent": true,
              "mode": "immediate",
              "transition": {
               "duration": 0,
               "easing": "linear"
              }
             }
            ],
            "label": "2002",
            "method": "animate"
           },
           {
            "args": [
             [
              "2003"
             ],
             {
              "frame": {
               "duration": 0,
               "redraw": true
              },
              "fromcurrent": true,
              "mode": "immediate",
              "transition": {
               "duration": 0,
               "easing": "linear"
              }
             }
            ],
            "label": "2003",
            "method": "animate"
           },
           {
            "args": [
             [
              "2004"
             ],
             {
              "frame": {
               "duration": 0,
               "redraw": true
              },
              "fromcurrent": true,
              "mode": "immediate",
              "transition": {
               "duration": 0,
               "easing": "linear"
              }
             }
            ],
            "label": "2004",
            "method": "animate"
           },
           {
            "args": [
             [
              "2005"
             ],
             {
              "frame": {
               "duration": 0,
               "redraw": true
              },
              "fromcurrent": true,
              "mode": "immediate",
              "transition": {
               "duration": 0,
               "easing": "linear"
              }
             }
            ],
            "label": "2005",
            "method": "animate"
           },
           {
            "args": [
             [
              "2006"
             ],
             {
              "frame": {
               "duration": 0,
               "redraw": true
              },
              "fromcurrent": true,
              "mode": "immediate",
              "transition": {
               "duration": 0,
               "easing": "linear"
              }
             }
            ],
            "label": "2006",
            "method": "animate"
           },
           {
            "args": [
             [
              "2007"
             ],
             {
              "frame": {
               "duration": 0,
               "redraw": true
              },
              "fromcurrent": true,
              "mode": "immediate",
              "transition": {
               "duration": 0,
               "easing": "linear"
              }
             }
            ],
            "label": "2007",
            "method": "animate"
           },
           {
            "args": [
             [
              "2008"
             ],
             {
              "frame": {
               "duration": 0,
               "redraw": true
              },
              "fromcurrent": true,
              "mode": "immediate",
              "transition": {
               "duration": 0,
               "easing": "linear"
              }
             }
            ],
            "label": "2008",
            "method": "animate"
           },
           {
            "args": [
             [
              "2009"
             ],
             {
              "frame": {
               "duration": 0,
               "redraw": true
              },
              "fromcurrent": true,
              "mode": "immediate",
              "transition": {
               "duration": 0,
               "easing": "linear"
              }
             }
            ],
            "label": "2009",
            "method": "animate"
           },
           {
            "args": [
             [
              "2010"
             ],
             {
              "frame": {
               "duration": 0,
               "redraw": true
              },
              "fromcurrent": true,
              "mode": "immediate",
              "transition": {
               "duration": 0,
               "easing": "linear"
              }
             }
            ],
            "label": "2010",
            "method": "animate"
           },
           {
            "args": [
             [
              "2011"
             ],
             {
              "frame": {
               "duration": 0,
               "redraw": true
              },
              "fromcurrent": true,
              "mode": "immediate",
              "transition": {
               "duration": 0,
               "easing": "linear"
              }
             }
            ],
            "label": "2011",
            "method": "animate"
           },
           {
            "args": [
             [
              "2012"
             ],
             {
              "frame": {
               "duration": 0,
               "redraw": true
              },
              "fromcurrent": true,
              "mode": "immediate",
              "transition": {
               "duration": 0,
               "easing": "linear"
              }
             }
            ],
            "label": "2012",
            "method": "animate"
           },
           {
            "args": [
             [
              "2013"
             ],
             {
              "frame": {
               "duration": 0,
               "redraw": true
              },
              "fromcurrent": true,
              "mode": "immediate",
              "transition": {
               "duration": 0,
               "easing": "linear"
              }
             }
            ],
            "label": "2013",
            "method": "animate"
           },
           {
            "args": [
             [
              "2014"
             ],
             {
              "frame": {
               "duration": 0,
               "redraw": true
              },
              "fromcurrent": true,
              "mode": "immediate",
              "transition": {
               "duration": 0,
               "easing": "linear"
              }
             }
            ],
            "label": "2014",
            "method": "animate"
           },
           {
            "args": [
             [
              "2015"
             ],
             {
              "frame": {
               "duration": 0,
               "redraw": true
              },
              "fromcurrent": true,
              "mode": "immediate",
              "transition": {
               "duration": 0,
               "easing": "linear"
              }
             }
            ],
            "label": "2015",
            "method": "animate"
           },
           {
            "args": [
             [
              "2016"
             ],
             {
              "frame": {
               "duration": 0,
               "redraw": true
              },
              "fromcurrent": true,
              "mode": "immediate",
              "transition": {
               "duration": 0,
               "easing": "linear"
              }
             }
            ],
            "label": "2016",
            "method": "animate"
           },
           {
            "args": [
             [
              "2017"
             ],
             {
              "frame": {
               "duration": 0,
               "redraw": true
              },
              "fromcurrent": true,
              "mode": "immediate",
              "transition": {
               "duration": 0,
               "easing": "linear"
              }
             }
            ],
            "label": "2017",
            "method": "animate"
           },
           {
            "args": [
             [
              "2018"
             ],
             {
              "frame": {
               "duration": 0,
               "redraw": true
              },
              "fromcurrent": true,
              "mode": "immediate",
              "transition": {
               "duration": 0,
               "easing": "linear"
              }
             }
            ],
            "label": "2018",
            "method": "animate"
           },
           {
            "args": [
             [
              "2019"
             ],
             {
              "frame": {
               "duration": 0,
               "redraw": true
              },
              "fromcurrent": true,
              "mode": "immediate",
              "transition": {
               "duration": 0,
               "easing": "linear"
              }
             }
            ],
            "label": "2019",
            "method": "animate"
           },
           {
            "args": [
             [
              "2020"
             ],
             {
              "frame": {
               "duration": 0,
               "redraw": true
              },
              "fromcurrent": true,
              "mode": "immediate",
              "transition": {
               "duration": 0,
               "easing": "linear"
              }
             }
            ],
            "label": "2020",
            "method": "animate"
           },
           {
            "args": [
             [
              "2021"
             ],
             {
              "frame": {
               "duration": 0,
               "redraw": true
              },
              "fromcurrent": true,
              "mode": "immediate",
              "transition": {
               "duration": 0,
               "easing": "linear"
              }
             }
            ],
            "label": "2021",
            "method": "animate"
           },
           {
            "args": [
             [
              "2022"
             ],
             {
              "frame": {
               "duration": 0,
               "redraw": true
              },
              "fromcurrent": true,
              "mode": "immediate",
              "transition": {
               "duration": 0,
               "easing": "linear"
              }
             }
            ],
            "label": "2022",
            "method": "animate"
           },
           {
            "args": [
             [
              "2023"
             ],
             {
              "frame": {
               "duration": 0,
               "redraw": true
              },
              "fromcurrent": true,
              "mode": "immediate",
              "transition": {
               "duration": 0,
               "easing": "linear"
              }
             }
            ],
            "label": "2023",
            "method": "animate"
           }
          ],
          "x": 0.1,
          "xanchor": "left",
          "y": 0,
          "yanchor": "top"
         }
        ],
        "template": {
         "data": {
          "bar": [
           {
            "error_x": {
             "color": "#2a3f5f"
            },
            "error_y": {
             "color": "#2a3f5f"
            },
            "marker": {
             "line": {
              "color": "white",
              "width": 0.5
             },
             "pattern": {
              "fillmode": "overlay",
              "size": 10,
              "solidity": 0.2
             }
            },
            "type": "bar"
           }
          ],
          "barpolar": [
           {
            "marker": {
             "line": {
              "color": "white",
              "width": 0.5
             },
             "pattern": {
              "fillmode": "overlay",
              "size": 10,
              "solidity": 0.2
             }
            },
            "type": "barpolar"
           }
          ],
          "carpet": [
           {
            "aaxis": {
             "endlinecolor": "#2a3f5f",
             "gridcolor": "#C8D4E3",
             "linecolor": "#C8D4E3",
             "minorgridcolor": "#C8D4E3",
             "startlinecolor": "#2a3f5f"
            },
            "baxis": {
             "endlinecolor": "#2a3f5f",
             "gridcolor": "#C8D4E3",
             "linecolor": "#C8D4E3",
             "minorgridcolor": "#C8D4E3",
             "startlinecolor": "#2a3f5f"
            },
            "type": "carpet"
           }
          ],
          "choropleth": [
           {
            "colorbar": {
             "outlinewidth": 0,
             "ticks": ""
            },
            "type": "choropleth"
           }
          ],
          "contour": [
           {
            "colorbar": {
             "outlinewidth": 0,
             "ticks": ""
            },
            "colorscale": [
             [
              0,
              "#0d0887"
             ],
             [
              0.1111111111111111,
              "#46039f"
             ],
             [
              0.2222222222222222,
              "#7201a8"
             ],
             [
              0.3333333333333333,
              "#9c179e"
             ],
             [
              0.4444444444444444,
              "#bd3786"
             ],
             [
              0.5555555555555556,
              "#d8576b"
             ],
             [
              0.6666666666666666,
              "#ed7953"
             ],
             [
              0.7777777777777778,
              "#fb9f3a"
             ],
             [
              0.8888888888888888,
              "#fdca26"
             ],
             [
              1,
              "#f0f921"
             ]
            ],
            "type": "contour"
           }
          ],
          "contourcarpet": [
           {
            "colorbar": {
             "outlinewidth": 0,
             "ticks": ""
            },
            "type": "contourcarpet"
           }
          ],
          "heatmap": [
           {
            "colorbar": {
             "outlinewidth": 0,
             "ticks": ""
            },
            "colorscale": [
             [
              0,
              "#0d0887"
             ],
             [
              0.1111111111111111,
              "#46039f"
             ],
             [
              0.2222222222222222,
              "#7201a8"
             ],
             [
              0.3333333333333333,
              "#9c179e"
             ],
             [
              0.4444444444444444,
              "#bd3786"
             ],
             [
              0.5555555555555556,
              "#d8576b"
             ],
             [
              0.6666666666666666,
              "#ed7953"
             ],
             [
              0.7777777777777778,
              "#fb9f3a"
             ],
             [
              0.8888888888888888,
              "#fdca26"
             ],
             [
              1,
              "#f0f921"
             ]
            ],
            "type": "heatmap"
           }
          ],
          "heatmapgl": [
           {
            "colorbar": {
             "outlinewidth": 0,
             "ticks": ""
            },
            "colorscale": [
             [
              0,
              "#0d0887"
             ],
             [
              0.1111111111111111,
              "#46039f"
             ],
             [
              0.2222222222222222,
              "#7201a8"
             ],
             [
              0.3333333333333333,
              "#9c179e"
             ],
             [
              0.4444444444444444,
              "#bd3786"
             ],
             [
              0.5555555555555556,
              "#d8576b"
             ],
             [
              0.6666666666666666,
              "#ed7953"
             ],
             [
              0.7777777777777778,
              "#fb9f3a"
             ],
             [
              0.8888888888888888,
              "#fdca26"
             ],
             [
              1,
              "#f0f921"
             ]
            ],
            "type": "heatmapgl"
           }
          ],
          "histogram": [
           {
            "marker": {
             "pattern": {
              "fillmode": "overlay",
              "size": 10,
              "solidity": 0.2
             }
            },
            "type": "histogram"
           }
          ],
          "histogram2d": [
           {
            "colorbar": {
             "outlinewidth": 0,
             "ticks": ""
            },
            "colorscale": [
             [
              0,
              "#0d0887"
             ],
             [
              0.1111111111111111,
              "#46039f"
             ],
             [
              0.2222222222222222,
              "#7201a8"
             ],
             [
              0.3333333333333333,
              "#9c179e"
             ],
             [
              0.4444444444444444,
              "#bd3786"
             ],
             [
              0.5555555555555556,
              "#d8576b"
             ],
             [
              0.6666666666666666,
              "#ed7953"
             ],
             [
              0.7777777777777778,
              "#fb9f3a"
             ],
             [
              0.8888888888888888,
              "#fdca26"
             ],
             [
              1,
              "#f0f921"
             ]
            ],
            "type": "histogram2d"
           }
          ],
          "histogram2dcontour": [
           {
            "colorbar": {
             "outlinewidth": 0,
             "ticks": ""
            },
            "colorscale": [
             [
              0,
              "#0d0887"
             ],
             [
              0.1111111111111111,
              "#46039f"
             ],
             [
              0.2222222222222222,
              "#7201a8"
             ],
             [
              0.3333333333333333,
              "#9c179e"
             ],
             [
              0.4444444444444444,
              "#bd3786"
             ],
             [
              0.5555555555555556,
              "#d8576b"
             ],
             [
              0.6666666666666666,
              "#ed7953"
             ],
             [
              0.7777777777777778,
              "#fb9f3a"
             ],
             [
              0.8888888888888888,
              "#fdca26"
             ],
             [
              1,
              "#f0f921"
             ]
            ],
            "type": "histogram2dcontour"
           }
          ],
          "mesh3d": [
           {
            "colorbar": {
             "outlinewidth": 0,
             "ticks": ""
            },
            "type": "mesh3d"
           }
          ],
          "parcoords": [
           {
            "line": {
             "colorbar": {
              "outlinewidth": 0,
              "ticks": ""
             }
            },
            "type": "parcoords"
           }
          ],
          "pie": [
           {
            "automargin": true,
            "type": "pie"
           }
          ],
          "scatter": [
           {
            "fillpattern": {
             "fillmode": "overlay",
             "size": 10,
             "solidity": 0.2
            },
            "type": "scatter"
           }
          ],
          "scatter3d": [
           {
            "line": {
             "colorbar": {
              "outlinewidth": 0,
              "ticks": ""
             }
            },
            "marker": {
             "colorbar": {
              "outlinewidth": 0,
              "ticks": ""
             }
            },
            "type": "scatter3d"
           }
          ],
          "scattercarpet": [
           {
            "marker": {
             "colorbar": {
              "outlinewidth": 0,
              "ticks": ""
             }
            },
            "type": "scattercarpet"
           }
          ],
          "scattergeo": [
           {
            "marker": {
             "colorbar": {
              "outlinewidth": 0,
              "ticks": ""
             }
            },
            "type": "scattergeo"
           }
          ],
          "scattergl": [
           {
            "marker": {
             "colorbar": {
              "outlinewidth": 0,
              "ticks": ""
             }
            },
            "type": "scattergl"
           }
          ],
          "scattermapbox": [
           {
            "marker": {
             "colorbar": {
              "outlinewidth": 0,
              "ticks": ""
             }
            },
            "type": "scattermapbox"
           }
          ],
          "scatterpolar": [
           {
            "marker": {
             "colorbar": {
              "outlinewidth": 0,
              "ticks": ""
             }
            },
            "type": "scatterpolar"
           }
          ],
          "scatterpolargl": [
           {
            "marker": {
             "colorbar": {
              "outlinewidth": 0,
              "ticks": ""
             }
            },
            "type": "scatterpolargl"
           }
          ],
          "scatterternary": [
           {
            "marker": {
             "colorbar": {
              "outlinewidth": 0,
              "ticks": ""
             }
            },
            "type": "scatterternary"
           }
          ],
          "surface": [
           {
            "colorbar": {
             "outlinewidth": 0,
             "ticks": ""
            },
            "colorscale": [
             [
              0,
              "#0d0887"
             ],
             [
              0.1111111111111111,
              "#46039f"
             ],
             [
              0.2222222222222222,
              "#7201a8"
             ],
             [
              0.3333333333333333,
              "#9c179e"
             ],
             [
              0.4444444444444444,
              "#bd3786"
             ],
             [
              0.5555555555555556,
              "#d8576b"
             ],
             [
              0.6666666666666666,
              "#ed7953"
             ],
             [
              0.7777777777777778,
              "#fb9f3a"
             ],
             [
              0.8888888888888888,
              "#fdca26"
             ],
             [
              1,
              "#f0f921"
             ]
            ],
            "type": "surface"
           }
          ],
          "table": [
           {
            "cells": {
             "fill": {
              "color": "#EBF0F8"
             },
             "line": {
              "color": "white"
             }
            },
            "header": {
             "fill": {
              "color": "#C8D4E3"
             },
             "line": {
              "color": "white"
             }
            },
            "type": "table"
           }
          ]
         },
         "layout": {
          "annotationdefaults": {
           "arrowcolor": "#2a3f5f",
           "arrowhead": 0,
           "arrowwidth": 1
          },
          "autotypenumbers": "strict",
          "coloraxis": {
           "colorbar": {
            "outlinewidth": 0,
            "ticks": ""
           }
          },
          "colorscale": {
           "diverging": [
            [
             0,
             "#8e0152"
            ],
            [
             0.1,
             "#c51b7d"
            ],
            [
             0.2,
             "#de77ae"
            ],
            [
             0.3,
             "#f1b6da"
            ],
            [
             0.4,
             "#fde0ef"
            ],
            [
             0.5,
             "#f7f7f7"
            ],
            [
             0.6,
             "#e6f5d0"
            ],
            [
             0.7,
             "#b8e186"
            ],
            [
             0.8,
             "#7fbc41"
            ],
            [
             0.9,
             "#4d9221"
            ],
            [
             1,
             "#276419"
            ]
           ],
           "sequential": [
            [
             0,
             "#0d0887"
            ],
            [
             0.1111111111111111,
             "#46039f"
            ],
            [
             0.2222222222222222,
             "#7201a8"
            ],
            [
             0.3333333333333333,
             "#9c179e"
            ],
            [
             0.4444444444444444,
             "#bd3786"
            ],
            [
             0.5555555555555556,
             "#d8576b"
            ],
            [
             0.6666666666666666,
             "#ed7953"
            ],
            [
             0.7777777777777778,
             "#fb9f3a"
            ],
            [
             0.8888888888888888,
             "#fdca26"
            ],
            [
             1,
             "#f0f921"
            ]
           ],
           "sequentialminus": [
            [
             0,
             "#0d0887"
            ],
            [
             0.1111111111111111,
             "#46039f"
            ],
            [
             0.2222222222222222,
             "#7201a8"
            ],
            [
             0.3333333333333333,
             "#9c179e"
            ],
            [
             0.4444444444444444,
             "#bd3786"
            ],
            [
             0.5555555555555556,
             "#d8576b"
            ],
            [
             0.6666666666666666,
             "#ed7953"
            ],
            [
             0.7777777777777778,
             "#fb9f3a"
            ],
            [
             0.8888888888888888,
             "#fdca26"
            ],
            [
             1,
             "#f0f921"
            ]
           ]
          },
          "colorway": [
           "#636efa",
           "#EF553B",
           "#00cc96",
           "#ab63fa",
           "#FFA15A",
           "#19d3f3",
           "#FF6692",
           "#B6E880",
           "#FF97FF",
           "#FECB52"
          ],
          "font": {
           "color": "#2a3f5f"
          },
          "geo": {
           "bgcolor": "white",
           "lakecolor": "white",
           "landcolor": "white",
           "showlakes": true,
           "showland": true,
           "subunitcolor": "#C8D4E3"
          },
          "hoverlabel": {
           "align": "left"
          },
          "hovermode": "closest",
          "mapbox": {
           "style": "light"
          },
          "paper_bgcolor": "white",
          "plot_bgcolor": "white",
          "polar": {
           "angularaxis": {
            "gridcolor": "#EBF0F8",
            "linecolor": "#EBF0F8",
            "ticks": ""
           },
           "bgcolor": "white",
           "radialaxis": {
            "gridcolor": "#EBF0F8",
            "linecolor": "#EBF0F8",
            "ticks": ""
           }
          },
          "scene": {
           "xaxis": {
            "backgroundcolor": "white",
            "gridcolor": "#DFE8F3",
            "gridwidth": 2,
            "linecolor": "#EBF0F8",
            "showbackground": true,
            "ticks": "",
            "zerolinecolor": "#EBF0F8"
           },
           "yaxis": {
            "backgroundcolor": "white",
            "gridcolor": "#DFE8F3",
            "gridwidth": 2,
            "linecolor": "#EBF0F8",
            "showbackground": true,
            "ticks": "",
            "zerolinecolor": "#EBF0F8"
           },
           "zaxis": {
            "backgroundcolor": "white",
            "gridcolor": "#DFE8F3",
            "gridwidth": 2,
            "linecolor": "#EBF0F8",
            "showbackground": true,
            "ticks": "",
            "zerolinecolor": "#EBF0F8"
           }
          },
          "shapedefaults": {
           "line": {
            "color": "#2a3f5f"
           }
          },
          "ternary": {
           "aaxis": {
            "gridcolor": "#DFE8F3",
            "linecolor": "#A2B1C6",
            "ticks": ""
           },
           "baxis": {
            "gridcolor": "#DFE8F3",
            "linecolor": "#A2B1C6",
            "ticks": ""
           },
           "bgcolor": "white",
           "caxis": {
            "gridcolor": "#DFE8F3",
            "linecolor": "#A2B1C6",
            "ticks": ""
           }
          },
          "title": {
           "x": 0.05
          },
          "xaxis": {
           "automargin": true,
           "gridcolor": "#EBF0F8",
           "linecolor": "#EBF0F8",
           "ticks": "",
           "title": {
            "standoff": 15
           },
           "zerolinecolor": "#EBF0F8",
           "zerolinewidth": 2
          },
          "yaxis": {
           "automargin": true,
           "gridcolor": "#EBF0F8",
           "linecolor": "#EBF0F8",
           "ticks": "",
           "title": {
            "standoff": 15
           },
           "zerolinecolor": "#EBF0F8",
           "zerolinewidth": 2
          }
         }
        },
        "title": {
         "text": "Top 5 Economies Over Time"
        },
        "updatemenus": [
         {
          "buttons": [
           {
            "args": [
             null,
             {
              "frame": {
               "duration": 500,
               "redraw": true
              },
              "fromcurrent": true,
              "mode": "immediate",
              "transition": {
               "duration": 500,
               "easing": "linear"
              }
             }
            ],
            "label": "&#9654;",
            "method": "animate"
           },
           {
            "args": [
             [
              null
             ],
             {
              "frame": {
               "duration": 0,
               "redraw": true
              },
              "fromcurrent": true,
              "mode": "immediate",
              "transition": {
               "duration": 0,
               "easing": "linear"
              }
             }
            ],
            "label": "&#9724;",
            "method": "animate"
           }
          ],
          "direction": "left",
          "pad": {
           "r": 10,
           "t": 70
          },
          "showactive": false,
          "type": "buttons",
          "x": 0.1,
          "xanchor": "right",
          "y": 0,
          "yanchor": "top"
         }
        ],
        "xaxis": {
         "anchor": "y",
         "categoryarray": [
          "Australia",
          "Belgium",
          "Brazil",
          "Canada",
          "China",
          "France",
          "Germany",
          "India",
          "Indonesia",
          "Italy",
          "Japan",
          "Korea, Rep.",
          "Mexico",
          "Netherlands",
          "Poland",
          "Russian Federation",
          "Saudi Arabia",
          "Spain",
          "Sweden",
          "Switzerland",
          "Thailand",
          "Turkiye",
          "United Kingdom",
          "United States"
         ],
         "categoryorder": "total descending",
         "domain": [
          0,
          1
         ],
         "tickangle": 45,
         "title": {
          "text": "Country"
         }
        },
        "yaxis": {
         "anchor": "x",
         "domain": [
          0,
          1
         ],
         "range": [
          0,
          30492779900000.004
         ],
         "title": {
          "text": "GDP (Trillions USD)"
         }
        }
       }
      }
     },
     "metadata": {},
     "output_type": "display_data"
    }
   ],
   "source": [
    "# df = pd.DataFrame(data)\n",
    "\n",
    "# Melt the DataFrame for Plotly compatibility\n",
    "df_melted = gdp_df.melt(id_vars=[\"date\"], var_name=\"Country\", value_name=\"GDP\")\n",
    "\n",
    "# # Sort the data dynamically by GDP within each year\n",
    "# def reorder_categories(frame):\n",
    "#     sorted_countries = frame.sort_values(by=\"GDP\", ascending=False)[\"Country\"].tolist()\n",
    "#     frame[\"Country\"] = pd.Categorical(frame[\"Country\"], categories=sorted_countries, ordered=True)\n",
    "#     return frame\n",
    "\n",
    "# df_melted = df_melted.groupby(\"Year\", group_keys=False).apply(reorder_categories)\n",
    "\n",
    "# Create the Plotly animation\n",
    "fig = px.bar(\n",
    "    df_melted,\n",
    "    x=\"Country\",\n",
    "    y=\"GDP\",\n",
    "    color=\"Country\",\n",
    "    animation_frame=\"date\",\n",
    "    title=\"Top 5 Economies Over Time\",\n",
    "    labels={\"GDP\": \"GDP (Trillions USD)\"},\n",
    "    range_y=[0, gdp_df.drop('date', axis=1).max().max() * 1.1],\n",
    ")\n",
    "\n",
    "# Update layout for dynamic sorting of x-axis\n",
    "fig.update_layout(\n",
    "    xaxis_title=\"Country\",\n",
    "    yaxis_title=\"GDP (Trillions USD)\",\n",
    "    legend_title=\"Country\",\n",
    "    template=\"plotly_white\",\n",
    "    xaxis=dict(categoryorder=\"total descending\"), # used for dynamically rearranging x axis\n",
    "    xaxis_tickangle=45,  # Tilt the x-axis labels\n",
    ")\n",
    "\n",
    "# Show the interactive animation\n",
    "fig.show()"
   ]
  },
  {
   "cell_type": "code",
   "execution_count": 9,
   "metadata": {},
   "outputs": [],
   "source": [
    "fig.write_html('us_markets_animation.html', include_plotlyjs='cdn')"
   ]
  },
  {
   "cell_type": "code",
   "execution_count": null,
   "metadata": {},
   "outputs": [],
   "source": []
  },
  {
   "cell_type": "code",
   "execution_count": null,
   "metadata": {},
   "outputs": [],
   "source": []
  }
 ],
 "metadata": {
  "kernelspec": {
   "display_name": ".venv",
   "language": "python",
   "name": "python3"
  },
  "language_info": {
   "codemirror_mode": {
    "name": "ipython",
    "version": 3
   },
   "file_extension": ".py",
   "mimetype": "text/x-python",
   "name": "python",
   "nbconvert_exporter": "python",
   "pygments_lexer": "ipython3",
   "version": "3.9.6"
  }
 },
 "nbformat": 4,
 "nbformat_minor": 2
}
